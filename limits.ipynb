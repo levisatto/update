{
 "cells": [
  {
   "cell_type": "code",
   "execution_count": 1,
   "metadata": {},
   "outputs": [],
   "source": [
    "import pandas as pd"
   ]
  },
  {
   "cell_type": "code",
   "execution_count": 2,
   "metadata": {},
   "outputs": [],
   "source": [
    "bd = pd.read_excel('filial_sep_aracaju.xlsx')"
   ]
  },
  {
   "cell_type": "code",
   "execution_count": 3,
   "metadata": {},
   "outputs": [],
   "source": [
    "lat = bd[\"lat_long\"].str.split(\", \", n = 1, expand = True)"
   ]
  },
  {
   "cell_type": "code",
   "execution_count": 4,
   "metadata": {},
   "outputs": [],
   "source": [
    "bd['lat'] = lat[0].astype(float)"
   ]
  },
  {
   "cell_type": "code",
   "execution_count": 5,
   "metadata": {},
   "outputs": [],
   "source": [
    "bd['long'] = lat[1].astype(float)"
   ]
  },
  {
   "cell_type": "code",
   "execution_count": 6,
   "metadata": {},
   "outputs": [],
   "source": [
    "bd = bd.drop(columns='lat_long')"
   ]
  },
  {
   "cell_type": "code",
   "execution_count": 7,
   "metadata": {},
   "outputs": [],
   "source": [
    "bd.to_excel('separado_por_lat_long.xlsx')"
   ]
  },
  {
   "cell_type": "code",
   "execution_count": 8,
   "metadata": {},
   "outputs": [],
   "source": [
    "locs = pd.read_excel('separado_por_lat_long.xlsx')"
   ]
  },
  {
   "cell_type": "code",
   "execution_count": 9,
   "metadata": {},
   "outputs": [],
   "source": [
    "locs = locs.drop(columns='Unnamed: 0')"
   ]
  },
  {
   "cell_type": "code",
   "execution_count": 10,
   "metadata": {},
   "outputs": [],
   "source": [
    "locs = locs.set_index('matricula')"
   ]
  },
  {
   "cell_type": "code",
   "execution_count": 15,
   "metadata": {},
   "outputs": [],
   "source": [
    "# suldoeste = -10.894001, -37.052543\n",
    "# suldeste = -10.894486, -37.049163\n",
    "# noroeste = -10.825972, -37.089402\n",
    "# nordeste = -10.835254, -37.041266\n",
    "\n",
    "# import geopandas as gpd\n",
    "# from shapely.geometry import Polygon\n",
    "\n",
    "# lat_point_list = [50.854457, 52.518172, 50.072651, 48.853033, 50.854457]\n",
    "# lon_point_list = [4.377184, 13.407759, 14.435935, 2.349553, 4.377184]\n",
    "\n",
    "# polygon_geom = Polygon(zip(lon_point_list, lat_point_list))\n",
    "# crs = {'init': 'epsg:4326'}\n",
    "# polygon = gpd.GeoDataFrame(index=[0], crs=crs, geometry=[polygon_geom])       \n",
    "# print(polygon.geometry)\n",
    "\n",
    "# polygon.to_file(filename='polygon.geojson', driver='GeoJSON')\n",
    "# polygon.to_file(filename='polygon.shp', driver=\"ESRI Shapefile\")\n",
    "# import folium\n",
    "# m = folium.Map([50.854457, 4.377184], zoom_start=5, tiles='cartodbpositron')\n",
    "# folium.GeoJson(polygon).add_to(m)\n",
    "# folium.LatLngPopup().add_to(m)"
   ]
  },
  {
   "cell_type": "code",
   "execution_count": 16,
   "metadata": {},
   "outputs": [],
   "source": [
    "# mapa = folium.Map(icon_color='red',location=[-10.835254, -37.041266],zoom_start=1)\n",
    "# folium.Marker([-10.835254, -37.041266]).add_to(mapa)\n",
    "# mapa\n",
    "\n",
    "# suldoeste = -10.894001, -37.052543\n",
    "# suldeste = -10.894486, -37.049163\n",
    "# noroeste = -10.825972, -37.089402\n",
    "# nordeste = -10.835254, -37.041266"
   ]
  },
  {
   "cell_type": "code",
   "execution_count": 17,
   "metadata": {},
   "outputs": [],
   "source": [
    "import numpy as np\n",
    "import pandas as pd\n",
    "import shapefile as shp\n",
    "import matplotlib.pyplot as plt\n",
    "import seaborn as sns"
   ]
  },
  {
   "cell_type": "code",
   "execution_count": 29,
   "metadata": {},
   "outputs": [],
   "source": [
    "sns.set(style='whitegrid', palette='pastel', color_codes=True)\n",
    "sns.mpl.rc('figure', figsize=(10,6))\n",
    "%matplotlib inline"
   ]
  },
  {
   "cell_type": "code",
   "execution_count": 30,
   "metadata": {},
   "outputs": [
    {
     "data": {
      "text/plain": [
       "52"
      ]
     },
     "execution_count": 30,
     "metadata": {},
     "output_type": "execute_result"
    }
   ],
   "source": [
    "shp_path = 'Comuna.shp'\n",
    "sf = shp.Reader(shp_path)\n",
    "len(sf.shapes())"
   ]
  },
  {
   "cell_type": "code",
   "execution_count": 31,
   "metadata": {},
   "outputs": [
    {
     "data": {
      "text/plain": [
       "Record #1: ['13', '131', '13115', 'REGIÓN METROPOLITANA DE SANTIAGO', 'SANTIAGO', 'LO BARNECHEA']"
      ]
     },
     "execution_count": 31,
     "metadata": {},
     "output_type": "execute_result"
    }
   ],
   "source": [
    "sf.records()[1]"
   ]
  },
  {
   "cell_type": "code",
   "execution_count": null,
   "metadata": {},
   "outputs": [],
   "source": []
  }
 ],
 "metadata": {
  "kernelspec": {
   "display_name": "Python 3",
   "language": "python",
   "name": "python3"
  },
  "language_info": {
   "codemirror_mode": {
    "name": "ipython",
    "version": 3
   },
   "file_extension": ".py",
   "mimetype": "text/x-python",
   "name": "python",
   "nbconvert_exporter": "python",
   "pygments_lexer": "ipython3",
   "version": "3.7.5"
  }
 },
 "nbformat": 4,
 "nbformat_minor": 4
}
