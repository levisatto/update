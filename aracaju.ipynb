{
 "cells": [
  {
   "cell_type": "code",
   "execution_count": 1,
   "metadata": {},
   "outputs": [],
   "source": [
    "import pandas as pd"
   ]
  },
  {
   "cell_type": "code",
   "execution_count": 2,
   "metadata": {},
   "outputs": [],
   "source": [
    "aracaju = pd.read_excel('aracaju_lat_long.xlsx')\n",
    "aracaju = aracaju.set_index('matricula')"
   ]
  },
  {
   "cell_type": "code",
   "execution_count": 3,
   "metadata": {},
   "outputs": [
    {
     "data": {
      "text/plain": [
       "array([ 2500, 14000], dtype=int64)"
      ]
     },
     "execution_count": 3,
     "metadata": {},
     "output_type": "execute_result"
    }
   ],
   "source": [
    "aracaju['horario'] = aracaju['horario'].astype(str).str.replace(':', '').str.replace('-','').str.replace('19000101 ', '').str.strip().astype(int)\n",
    "horarios_filial = aracaju['horario']\n",
    "horarios_filial.unique()"
   ]
  },
  {
   "cell_type": "code",
   "execution_count": 4,
   "metadata": {},
   "outputs": [
    {
     "data": {
      "text/plain": [
       "257"
      ]
     },
     "execution_count": 4,
     "metadata": {},
     "output_type": "execute_result"
    }
   ],
   "source": [
    "horario_01 = aracaju[(aracaju['horario'] == 2500)]\n",
    "len(horario_01)"
   ]
  },
  {
   "cell_type": "code",
   "execution_count": 5,
   "metadata": {},
   "outputs": [
    {
     "data": {
      "text/plain": [
       "141"
      ]
     },
     "execution_count": 5,
     "metadata": {},
     "output_type": "execute_result"
    }
   ],
   "source": [
    "horario_02 = aracaju[(aracaju['horario'] == 14000)]\n",
    "len(horario_02)"
   ]
  },
  {
   "cell_type": "code",
   "execution_count": 6,
   "metadata": {},
   "outputs": [
    {
     "data": {
      "text/plain": [
       "121"
      ]
     },
     "execution_count": 6,
     "metadata": {},
     "output_type": "execute_result"
    }
   ],
   "source": [
    "aracaju_01 = horario_01[(horario_01['cidade'] == 'Aracaju')]\n",
    "len(aracaju_01)"
   ]
  },
  {
   "cell_type": "code",
   "execution_count": 7,
   "metadata": {},
   "outputs": [
    {
     "data": {
      "text/plain": [
       "64"
      ]
     },
     "execution_count": 7,
     "metadata": {},
     "output_type": "execute_result"
    }
   ],
   "source": [
    "aracaju_02 = horario_02[(horario_02['cidade'] == 'Aracaju')]\n",
    "len(aracaju_02)"
   ]
  },
  {
   "cell_type": "code",
   "execution_count": 8,
   "metadata": {},
   "outputs": [
    {
     "data": {
      "text/plain": [
       "12"
      ]
     },
     "execution_count": 8,
     "metadata": {},
     "output_type": "execute_result"
    }
   ],
   "source": [
    "barra_01 = horario_01[(horario_01['cidade'] == 'Barra dos Coqueiros')]\n",
    "len(barra_01)"
   ]
  },
  {
   "cell_type": "code",
   "execution_count": 9,
   "metadata": {},
   "outputs": [
    {
     "data": {
      "text/plain": [
       "0"
      ]
     },
     "execution_count": 9,
     "metadata": {},
     "output_type": "execute_result"
    }
   ],
   "source": [
    "barra_02 = horario_02[(horario_02['cidade'] == 'Barra dos Coqueiros')]\n",
    "len(barra_02)"
   ]
  },
  {
   "cell_type": "code",
   "execution_count": 10,
   "metadata": {},
   "outputs": [
    {
     "data": {
      "text/plain": [
       "104"
      ]
     },
     "execution_count": 10,
     "metadata": {},
     "output_type": "execute_result"
    }
   ],
   "source": [
    "nossa_01 = horario_01[(horario_01['cidade'] == 'Nossa Senhora do Socorro')]\n",
    "len(nossa_01)"
   ]
  },
  {
   "cell_type": "code",
   "execution_count": 11,
   "metadata": {},
   "outputs": [
    {
     "data": {
      "text/plain": [
       "59"
      ]
     },
     "execution_count": 11,
     "metadata": {},
     "output_type": "execute_result"
    }
   ],
   "source": [
    "nossa_02= horario_02[(horario_02['cidade'] == 'Nossa Senhora do Socorro')]\n",
    "len(nossa_02)"
   ]
  },
  {
   "cell_type": "code",
   "execution_count": 12,
   "metadata": {},
   "outputs": [
    {
     "data": {
      "text/plain": [
       "20"
      ]
     },
     "execution_count": 12,
     "metadata": {},
     "output_type": "execute_result"
    }
   ],
   "source": [
    "sao_01 = horario_01[(horario_01['cidade'] == 'São Cristóvão')]\n",
    "len(sao_01)"
   ]
  },
  {
   "cell_type": "code",
   "execution_count": 13,
   "metadata": {},
   "outputs": [
    {
     "data": {
      "text/plain": [
       "18"
      ]
     },
     "execution_count": 13,
     "metadata": {},
     "output_type": "execute_result"
    }
   ],
   "source": [
    "sao_02 = horario_02[(horario_02['cidade'] == 'São Cristóvão')]\n",
    "len(sao_02)"
   ]
  },
  {
   "cell_type": "code",
   "execution_count": 14,
   "metadata": {},
   "outputs": [],
   "source": [
    "\n",
    "# aracaju_sep = pd.ExcelWriter('filial_sep_aracaju.xlsx', engine='xlsxwriter')\n",
    "# aracaju_01.to_excel(aracaju_sep, sheet_name='ARACAJU_01')\n",
    "# aracaju_02.to_excel(aracaju_sep, sheet_name='ARACAJU_02')\n",
    "# barra_01.to_excel(aracaju_sep, sheet_name='BARRA_01')\n",
    "# barra_02.to_excel(aracaju_sep, sheet_name='BARRA_02')\n",
    "# nossa_01.to_excel(aracaju_sep, sheet_name='NOSSA_01')\n",
    "# nossa_02.to_excel(aracaju_sep, sheet_name='NOSSA_02')\n",
    "# sao_01.to_excel(aracaju_sep, sheet_name='SAO_01')\n",
    "# sao_02.to_excel(aracaju_sep, sheet_name='SAO_02')\n",
    "\n",
    "# aracaju_sep.save()"
   ]
  },
  {
   "cell_type": "code",
   "execution_count": 15,
   "metadata": {},
   "outputs": [],
   "source": [
    "bairros = pd.read_excel('BAIRROS_ARACAJU.xlsx')\n",
    "bairros_n = pd.read_excel('BAIRROS_NOSSA_SENHORA.xlsx')\n",
    "bairros_n['TAICOCA'] = bairros_n['TAICOCA'].str.upper()\n",
    "bairros_n['PIABETA'] = bairros_n['PIABETA'].str.upper()\n",
    "bairros_n['TODOS'] = bairros_n['TODOS'].str.upper()"
   ]
  },
  {
   "cell_type": "code",
   "execution_count": 16,
   "metadata": {},
   "outputs": [],
   "source": [
    "NORTE = bairros['NORTE']\n",
    "SUL = bairros['SUL']\n",
    "OESTE = bairros['OESTE']\n",
    "CENTRO = bairros['CENTRO']\n",
    "TODOS = bairros['TODOS']\n",
    "TAICOCA =  bairros_n['TAICOCA']\n",
    "PIABETA =  bairros_n['PIABETA']\n",
    "TODOS_N=  bairros_n['TODOS']"
   ]
  },
  {
   "cell_type": "code",
   "execution_count": 17,
   "metadata": {},
   "outputs": [
    {
     "name": "stderr",
     "output_type": "stream",
     "text": [
      "C:\\Users\\user\\Anaconda3\\envs\\teste_vipi\\lib\\site-packages\\ipykernel_launcher.py:1: UserWarning: Boolean Series key will be reindexed to match DataFrame index.\n",
      "  \"\"\"Entry point for launching an IPython kernel.\n",
      "C:\\Users\\user\\Anaconda3\\envs\\teste_vipi\\lib\\site-packages\\ipykernel_launcher.py:2: UserWarning: Boolean Series key will be reindexed to match DataFrame index.\n",
      "  \n",
      "C:\\Users\\user\\Anaconda3\\envs\\teste_vipi\\lib\\site-packages\\ipykernel_launcher.py:3: UserWarning: Boolean Series key will be reindexed to match DataFrame index.\n",
      "  This is separate from the ipykernel package so we can avoid doing imports until\n",
      "C:\\Users\\user\\Anaconda3\\envs\\teste_vipi\\lib\\site-packages\\ipykernel_launcher.py:4: UserWarning: Boolean Series key will be reindexed to match DataFrame index.\n",
      "  after removing the cwd from sys.path.\n",
      "C:\\Users\\user\\Anaconda3\\envs\\teste_vipi\\lib\\site-packages\\ipykernel_launcher.py:5: UserWarning: Boolean Series key will be reindexed to match DataFrame index.\n",
      "  \"\"\"\n",
      "C:\\Users\\user\\Anaconda3\\envs\\teste_vipi\\lib\\site-packages\\ipykernel_launcher.py:6: UserWarning: Boolean Series key will be reindexed to match DataFrame index.\n",
      "  \n",
      "C:\\Users\\user\\Anaconda3\\envs\\teste_vipi\\lib\\site-packages\\ipykernel_launcher.py:7: UserWarning: Boolean Series key will be reindexed to match DataFrame index.\n",
      "  import sys\n",
      "C:\\Users\\user\\Anaconda3\\envs\\teste_vipi\\lib\\site-packages\\ipykernel_launcher.py:8: UserWarning: Boolean Series key will be reindexed to match DataFrame index.\n",
      "  \n"
     ]
    }
   ],
   "source": [
    "norte_01 = aracaju_01[aracaju['bairro'].isin(NORTE)]\n",
    "oeste_01 = aracaju_01[aracaju['bairro'].isin(OESTE)]\n",
    "centro_01 = aracaju_01[aracaju['bairro'].isin(CENTRO)]\n",
    "sul_01 = aracaju_01[aracaju['bairro'].isin(SUL)]\n",
    "desc_01 = aracaju_01[~aracaju['bairro'].isin(TODOS)]\n",
    "piabeta_01 = nossa_01[aracaju['bairro'].isin(PIABETA)]\n",
    "taicoca_01 = nossa_01[aracaju['bairro'].isin(TAICOCA)]\n",
    "desc_n_01 = nossa_01[~aracaju['bairro'].isin(TODOS_N)]"
   ]
  },
  {
   "cell_type": "code",
   "execution_count": 18,
   "metadata": {},
   "outputs": [
    {
     "name": "stderr",
     "output_type": "stream",
     "text": [
      "C:\\Users\\user\\Anaconda3\\envs\\teste_vipi\\lib\\site-packages\\ipykernel_launcher.py:1: UserWarning: Boolean Series key will be reindexed to match DataFrame index.\n",
      "  \"\"\"Entry point for launching an IPython kernel.\n",
      "C:\\Users\\user\\Anaconda3\\envs\\teste_vipi\\lib\\site-packages\\ipykernel_launcher.py:2: UserWarning: Boolean Series key will be reindexed to match DataFrame index.\n",
      "  \n",
      "C:\\Users\\user\\Anaconda3\\envs\\teste_vipi\\lib\\site-packages\\ipykernel_launcher.py:3: UserWarning: Boolean Series key will be reindexed to match DataFrame index.\n",
      "  This is separate from the ipykernel package so we can avoid doing imports until\n",
      "C:\\Users\\user\\Anaconda3\\envs\\teste_vipi\\lib\\site-packages\\ipykernel_launcher.py:4: UserWarning: Boolean Series key will be reindexed to match DataFrame index.\n",
      "  after removing the cwd from sys.path.\n",
      "C:\\Users\\user\\Anaconda3\\envs\\teste_vipi\\lib\\site-packages\\ipykernel_launcher.py:5: UserWarning: Boolean Series key will be reindexed to match DataFrame index.\n",
      "  \"\"\"\n",
      "C:\\Users\\user\\Anaconda3\\envs\\teste_vipi\\lib\\site-packages\\ipykernel_launcher.py:6: UserWarning: Boolean Series key will be reindexed to match DataFrame index.\n",
      "  \n",
      "C:\\Users\\user\\Anaconda3\\envs\\teste_vipi\\lib\\site-packages\\ipykernel_launcher.py:7: UserWarning: Boolean Series key will be reindexed to match DataFrame index.\n",
      "  import sys\n",
      "C:\\Users\\user\\Anaconda3\\envs\\teste_vipi\\lib\\site-packages\\ipykernel_launcher.py:8: UserWarning: Boolean Series key will be reindexed to match DataFrame index.\n",
      "  \n"
     ]
    }
   ],
   "source": [
    "norte_02 = aracaju_02[aracaju['bairro'].isin(NORTE)]\n",
    "oeste_02 = aracaju_02[aracaju['bairro'].isin(OESTE)]\n",
    "centro_02 = aracaju_02[aracaju['bairro'].isin(CENTRO)]\n",
    "sul_02 = aracaju_02[aracaju['bairro'].isin(SUL)]\n",
    "desc_02 = aracaju_02[~aracaju['bairro'].isin(TODOS)]\n",
    "piabeta_02 = nossa_02[aracaju['bairro'].isin(PIABETA)]\n",
    "taicoca_02 = nossa_02[aracaju['bairro'].isin(TAICOCA)]\n",
    "desc_n_02 = nossa_02[~aracaju['bairro'].isin(TODOS_N)]"
   ]
  },
  {
   "cell_type": "code",
   "execution_count": 19,
   "metadata": {},
   "outputs": [
    {
     "data": {
      "text/plain": [
       "(37, 36, 40, 8, 0)"
      ]
     },
     "execution_count": 19,
     "metadata": {},
     "output_type": "execute_result"
    }
   ],
   "source": [
    "len(norte_01),len(oeste_01),len(sul_01),len(centro_01),len(desc_01)"
   ]
  },
  {
   "cell_type": "code",
   "execution_count": 20,
   "metadata": {},
   "outputs": [
    {
     "data": {
      "text/plain": [
       "(24, 16, 13, 11, 0)"
      ]
     },
     "execution_count": 20,
     "metadata": {},
     "output_type": "execute_result"
    }
   ],
   "source": [
    "len(norte_02),len(oeste_02),len(sul_02),len(centro_02),len(desc_02)"
   ]
  },
  {
   "cell_type": "code",
   "execution_count": 21,
   "metadata": {},
   "outputs": [],
   "source": [
    "norte_01.to_excel('norte_01.xlsx')\n",
    "oeste_01.to_excel('oeste_01.xlsx')\n",
    "centro_01.to_excel('centro_01.xlsx')\n",
    "sul_01.to_excel('sul_01.xlsx')\n",
    "desc_01.to_excel('desc_01.xlsx')\n",
    "###################################\n",
    "norte_02.to_excel('norte_02.xlsx')\n",
    "oeste_02.to_excel('oeste_02.xlsx')\n",
    "centro_02.to_excel('centro_02.xlsx')\n",
    "sul_02.to_excel('sul_02.xlsx')\n",
    "desc_02.to_excel('desc_02.xlsx')"
   ]
  },
  {
   "cell_type": "code",
   "execution_count": 22,
   "metadata": {},
   "outputs": [
    {
     "data": {
      "text/plain": [
       "(11, 93, 0)"
      ]
     },
     "execution_count": 22,
     "metadata": {},
     "output_type": "execute_result"
    }
   ],
   "source": [
    "len(piabeta_01),len(taicoca_01),len(desc_n_01)"
   ]
  },
  {
   "cell_type": "code",
   "execution_count": 23,
   "metadata": {},
   "outputs": [
    {
     "data": {
      "text/plain": [
       "(1, 57, 1)"
      ]
     },
     "execution_count": 23,
     "metadata": {},
     "output_type": "execute_result"
    }
   ],
   "source": [
    "len(piabeta_02),len(taicoca_02),len(desc_n_02)"
   ]
  },
  {
   "cell_type": "code",
   "execution_count": 24,
   "metadata": {},
   "outputs": [],
   "source": [
    "piabeta_01.to_excel('piabeta_01.xlsx')\n",
    "taicoca_01.to_excel('taicoca_01.xlsx')\n",
    "desc_n_01.to_excel('desc_n_01.xlsx')\n",
    "############################################\n",
    "piabeta_02.to_excel('piabeta_02.xlsx')\n",
    "taicoca_02.to_excel('taicoca_02.xlsx')\n",
    "desc_n_02.to_excel('desc_n_02.xlsx')"
   ]
  },
  {
   "cell_type": "code",
   "execution_count": 25,
   "metadata": {},
   "outputs": [
    {
     "data": {
      "text/plain": [
       "(12, 20)"
      ]
     },
     "execution_count": 25,
     "metadata": {},
     "output_type": "execute_result"
    }
   ],
   "source": [
    "len(barra_01),len(sao_01)"
   ]
  },
  {
   "cell_type": "code",
   "execution_count": 26,
   "metadata": {},
   "outputs": [
    {
     "data": {
      "text/plain": [
       "(0, 18)"
      ]
     },
     "execution_count": 26,
     "metadata": {},
     "output_type": "execute_result"
    }
   ],
   "source": [
    "len(barra_02),len(sao_02)"
   ]
  },
  {
   "cell_type": "code",
   "execution_count": 27,
   "metadata": {},
   "outputs": [],
   "source": [
    "barra_01.to_excel('barra_01.xlsx')\n",
    "sao_01.to_excel('sao_01.xlsx')\n",
    "############################################\n",
    "barra_02.to_excel('barra_02.xlsx')\n",
    "sao_02.to_excel('sao_02.xlsx')"
   ]
  },
  {
   "cell_type": "code",
   "execution_count": 28,
   "metadata": {},
   "outputs": [
    {
     "data": {
      "text/plain": [
       "257"
      ]
     },
     "execution_count": 28,
     "metadata": {},
     "output_type": "execute_result"
    }
   ],
   "source": []
  },
  {
   "cell_type": "code",
   "execution_count": 29,
   "metadata": {},
   "outputs": [],
   "source": [
    "rota_farolandia_01 = pd.read_excel('rota_farolandia_01.xlsx')\n",
    "rota_norte_01 = pd.read_excel('rota_norte_01.xlsx')\n",
    "rota_taicoca_centro_01 = pd.read_excel('rota_taicoca_centro_01.xlsx')\n",
    "rota_fernando_collor_01 = pd.read_excel('rota_fernando_collor_01.xlsx')\n",
    "rota_taicoca_oeste_01 = pd.read_excel('rota_taicoca_oeste_01.xlsx')\n",
    "rota_joao_alves_01 = pd.read_excel('rota_joao_alves_01.xlsx')\n",
    "rota_taicoca_norte_01 = pd.read_excel('rota_taicoca_norte_01.xlsx')\n",
    "rota_oeste_01 = pd.read_excel('rota_oeste_01.xlsx')\n",
    "rota_dummont_01 = pd.read_excel('rota_dummont_01.xlsx')\n",
    "rota_cidade_nova_01 = pd.read_excel('rota_cidade_nova_01.xlsx')\n",
    "rota_forte_01 = pd.read_excel('rota_forte_01.xlsx')\n",
    "rota_sudoeste_01 = pd.read_excel('rota_sudoeste_01.xlsx')\n",
    "rota_sul_01 = pd.read_excel('rota_sul_01.xlsx')\n",
    "rota_sc_01 = pd.read_excel('rota_sc_01.xlsx')\n",
    "rota_coq_01 = pd.read_excel('rota_coq_01.xlsx')"
   ]
  },
  {
   "cell_type": "code",
   "execution_count": 55,
   "metadata": {},
   "outputs": [
    {
     "name": "stdout",
     "output_type": "stream",
     "text": [
      "257\n",
      "257\n"
     ]
    }
   ],
   "source": [
    "print(len(rota_farolandia_01)+len(rota_norte_01)+len(rota_taicoca_centro_01)+len(rota_fernando_collor_01)+len(rota_taicoca_oeste_01)+len(rota_joao_alves_01)+len(rota_taicoca_norte_01)+len(rota_oeste_01)+len(rota_dummont_01)+len(rota_cidade_nova_01)+len(rota_forte_01)+len(rota_sudoeste_01)+len(rota_sul_01)+len(rota_sc_01)+len(rota_coq_01))\n",
    "print(len(horario_01))"
   ]
  },
  {
   "cell_type": "code",
   "execution_count": 31,
   "metadata": {},
   "outputs": [],
   "source": [
    "rotas_01 = pd.concat([rota_farolandia_01,rota_norte_01,rota_taicoca_centro_01,rota_fernando_collor_01,rota_taicoca_oeste_01,rota_joao_alves_01,rota_taicoca_norte_01,\n",
    "                     rota_oeste_01,rota_dummont_01,rota_cidade_nova_01,rota_forte_01,rota_sudoeste_01,rota_sul_01,rota_sc_01,rota_coq_01], ignore_index=True, sort=True)"
   ]
  },
  {
   "cell_type": "code",
   "execution_count": 32,
   "metadata": {},
   "outputs": [],
   "source": [
    "# rotas_01['matricula'].value_counts().head(50)"
   ]
  },
  {
   "cell_type": "code",
   "execution_count": 50,
   "metadata": {},
   "outputs": [],
   "source": [
    "rota_centro_02 = pd.read_excel('rota_centro_02.xlsx')\n",
    "rota_fernando_collor_02 = pd.read_excel('rota_fernando_collor_02.xlsx')\n",
    "rota_joao_alves_02 = pd.read_excel('rota_joao_alves_02.xlsx')\n",
    "rota_marcos_freire_02 = pd.read_excel('rota_marcos_freire_02.xlsx')\n",
    "rota_oeste_02 = pd.read_excel('rota_oeste_02.xlsx')\n",
    "rota_piabeta_02 = pd.read_excel('rota_piabeta_02.xlsx')\n",
    "rota_sc_02 = pd.read_excel('rota_sc_02.xlsx')\n",
    "rota_sul_02 = pd.read_excel('rota_sul_02.xlsx')\n",
    "rota_jardim_centenario_02 = pd.read_excel('rota_jardim_centenario_02.xlsx')"
   ]
  },
  {
   "cell_type": "code",
   "execution_count": 53,
   "metadata": {},
   "outputs": [
    {
     "name": "stdout",
     "output_type": "stream",
     "text": [
      "141\n",
      "141\n"
     ]
    }
   ],
   "source": [
    "print(len(rota_centro_02)+len(rota_fernando_collor_02)+len(rota_joao_alves_02)+len(rota_marcos_freire_02)+len(rota_oeste_02)+len(rota_piabeta_02)+len(rota_sc_02)+len(rota_sul_02)+len(rota_jardim_centenario_02))\n",
    "print(len(horario_02))"
   ]
  },
  {
   "cell_type": "code",
   "execution_count": 41,
   "metadata": {},
   "outputs": [],
   "source": [
    "rotas_02 = pd.concat([rota_centro_02,rota_fernando_collor_02,rota_joao_alves_02,rota_marcos_freire_02,rota_oeste_02,\n",
    "                     rota_piabeta_02,rota_sc_02,rota_sul_02], ignore_index=True)\n",
    "rotas_02 = rotas_02.set_index('matricula')"
   ]
  },
  {
   "cell_type": "code",
   "execution_count": 42,
   "metadata": {},
   "outputs": [],
   "source": [
    "duplicados = pd.concat([rotas_02,horario_02],ignore_index=False)"
   ]
  },
  {
   "cell_type": "code",
   "execution_count": 47,
   "metadata": {},
   "outputs": [
    {
     "data": {
      "text/plain": [
       "249696    2\n",
       "175108    2\n",
       "95253     2\n",
       "158541    2\n",
       "246622    2\n",
       "216924    2\n",
       "159064    2\n",
       "246614    2\n",
       "78676     2\n",
       "249170    2\n",
       "249678    2\n",
       "236365    2\n",
       "249676    2\n",
       "159048    2\n",
       "132420    2\n",
       "249408    1\n",
       "249894    1\n",
       "158724    1\n",
       "249669    1\n",
       "132289    1\n",
       "Name: matricula, dtype: int64"
      ]
     },
     "execution_count": 47,
     "metadata": {},
     "output_type": "execute_result"
    }
   ],
   "source": [
    "duplicados.index.value_counts().tail(20)"
   ]
  },
  {
   "cell_type": "code",
   "execution_count": 48,
   "metadata": {},
   "outputs": [],
   "source": [
    "horario_02.to_excel('horario_02.xlsx')"
   ]
  },
  {
   "cell_type": "code",
   "execution_count": null,
   "metadata": {},
   "outputs": [],
   "source": []
  }
 ],
 "metadata": {
  "kernelspec": {
   "display_name": "Python 3",
   "language": "python",
   "name": "python3"
  },
  "language_info": {
   "codemirror_mode": {
    "name": "ipython",
    "version": 3
   },
   "file_extension": ".py",
   "mimetype": "text/x-python",
   "name": "python",
   "nbconvert_exporter": "python",
   "pygments_lexer": "ipython3",
   "version": "3.7.5"
  }
 },
 "nbformat": 4,
 "nbformat_minor": 4
}
