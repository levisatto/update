{
 "cells": [
  {
   "cell_type": "code",
   "execution_count": 1,
   "metadata": {},
   "outputs": [],
   "source": [
    "import pandas as pd\n",
    "from pandas import ExcelWriter\n",
    "from pandas import ExcelFile\n",
    "import datetime as dt\n",
    "import numpy as np\n",
    "now = dt.datetime.now() # current date and time\n",
    "data = now.strftime(\"%Y_%m_%d\")\n",
    "mes_ano = now.strftime('%Y_%m')"
   ]
  },
  {
   "cell_type": "code",
   "execution_count": 2,
   "metadata": {},
   "outputs": [],
   "source": [
    "# 1° PASSO\n",
    "# USUARIOS CADASTRADOS / ENTRADAS NOVAS / BAIRROS ROTAS\n",
    "# FUNÇÃO\n",
    "##################################################################################################\n",
    "entrada = pd.read_excel('MATRIZ JANEIRO 2020 DIRCEU.xlsx', sheet_name='Sheet1') # não esquecer o sheet name\n",
    "usuarios = pd.read_excel('USUARIOS_DEZEMBRO.xlsx')\n",
    "rotas_bairros = pd.read_excel('rotas_final.xlsx')\n",
    "##################################################################################################"
   ]
  },
  {
   "cell_type": "code",
   "execution_count": 3,
   "metadata": {},
   "outputs": [],
   "source": [
    "standard_header = ['matricula', 'nome','bairro','cidade', 'filial', 'horario', 'status_frequencia','lat_long','zona']"
   ]
  },
  {
   "cell_type": "code",
   "execution_count": 4,
   "metadata": {},
   "outputs": [],
   "source": [
    "usuarios.columns = standard_header"
   ]
  },
  {
   "cell_type": "code",
   "execution_count": 5,
   "metadata": {},
   "outputs": [],
   "source": [
    "# TAGS DE ENTRADA\n",
    "header_filtro = ['matricula', 'nome', 'rua', 'numero', 'complemento', 'bairro', 'cidade', 'telefone', 'filial','horario']"
   ]
  },
  {
   "cell_type": "code",
   "execution_count": 6,
   "metadata": {},
   "outputs": [],
   "source": [
    "# LIMPEZA E UNIFORMIZAÇÃO DOS BAIRROS\n",
    "entrada = entrada.reindex(columns=header_filtro)"
   ]
  },
  {
   "cell_type": "code",
   "execution_count": 7,
   "metadata": {},
   "outputs": [],
   "source": [
    "import unicodedata\n",
    "import re\n",
    "def RemoverCaracteresEspeciais(palavra):\n",
    "    nfkd = unicodedata.normalize('NFKD', palavra)\n",
    "    palavraSemAcento = u\"\".join([c for c in nfkd if not unicodedata.combining(c)])\n",
    "    return re.sub('[^a-zA-Z0-9 \\\\\\]', '', palavraSemAcento)"
   ]
  },
  {
   "cell_type": "code",
   "execution_count": 8,
   "metadata": {},
   "outputs": [],
   "source": [
    "clean_bairros = []\n",
    "for each in usuarios['bairro']:\n",
    "    caracteres_especiais = RemoverCaracteresEspeciais(each)\n",
    "    clean_bairros.append(caracteres_especiais)\n"
   ]
  },
  {
   "cell_type": "code",
   "execution_count": 9,
   "metadata": {},
   "outputs": [],
   "source": [
    "usuarios['bairro'] = clean_bairros\n",
    "usuarios['bairro'] = usuarios['bairro'].str.strip().str.upper().astype(str)"
   ]
  },
  {
   "cell_type": "code",
   "execution_count": 10,
   "metadata": {},
   "outputs": [],
   "source": [
    "entrada['rua'] = entrada['rua'].str.replace('Q ', 'QUADRA ')\n",
    "entrada['cidade'] = entrada['cidade'].str.upper().str.strip()\n",
    "entrada['filial'] = entrada['filial'].str.upper().str.strip()\n",
    "entrada['bairro'] = entrada['bairro'].astype(str)\n",
    "entrada['matricula'] = entrada['matricula'].astype(int)"
   ]
  },
  {
   "cell_type": "code",
   "execution_count": 11,
   "metadata": {},
   "outputs": [],
   "source": [
    "# 2° PASSO\n",
    "# VERIFICAR FILIAL SEMPRE\n",
    "################################################################################\n",
    "filial = 'DIRCEU'\n",
    "filtro_filial = entrada[entrada['filial'] == filial] # FILIAL\n",
    "################################################################################ \n",
    "data = '2020_01_'\n",
    "titulo_01 = data + filial +'_horario_01.xlsx'\n",
    "titulo_02 = data + filial +'_horario_02.xlsx'\n",
    "titulo_03 = data + filial +'_horario_03.xlsx'\n",
    "################################################################################"
   ]
  },
  {
   "cell_type": "code",
   "execution_count": 12,
   "metadata": {},
   "outputs": [],
   "source": [
    "# STATUS USUARIO\n",
    "usuarios_ativos = usuarios[usuarios['status_frequencia'] == 'ATIVO']\n",
    "usuarios_inativos = usuarios[usuarios['status_frequencia'] == 'INATIVO']"
   ]
  },
  {
   "cell_type": "code",
   "execution_count": 13,
   "metadata": {},
   "outputs": [],
   "source": [
    "# ENTRADA NOVA FILTRO FILIAL/ATIVO\n",
    "# ENTRADA NOVA FILTRO FILIAL/ATIVO\n",
    "matricula_usuarios_ativos = usuarios_ativos['matricula'] # USUARIO ATIVOS NO CADASTRO FIXO\n",
    "matricula_usuarios_inativos = usuarios_inativos['matricula'] # USUARIOS INATIVOS NO CADASTRO FIXO\n",
    "matricula_entradas_filial = filtro_filial['matricula'] # ENTRADAS NOVAS POPR FILIAL\n",
    "matricula_usuarios_todos = usuarios['matricula'] # TODAS AS ENTRADAS\n"
   ]
  },
  {
   "cell_type": "code",
   "execution_count": 14,
   "metadata": {},
   "outputs": [
    {
     "name": "stdout",
     "output_type": "stream",
     "text": [
      "[197471, 225411, 154804, 187500, 225380, 225385, 225401, 185634, 176415, 243125, 244980, 238689, 242011, 238699, 237730, 245165, 238799, 239670, 238662, 238722, 237688, 124924, 179712, 81782, 197631, 187465, 223309, 225331, 237670, 197654, 225714, 170020, 244892, 130877, 244757, 237726, 220796, 220895, 238759, 244135, 237768, 220808, 101914, 242238, 237725, 139888, 223319, 237778, 221037, 237860, 197690, 91158, 174152, 187858, 237621, 238979, 238003, 197647, 240349, 240271, 240313, 139995, 239830, 242156, 238742, 239936, 242202, 197591, 221117, 237694, 129437, 220580, 222751, 238668, 242033, 197529, 225338, 239820, 156158, 220793, 225340, 197658, 125571, 225658, 197646, 188315, 197640, 237847, 237673, 197861, 243190, 243152, 154877, 241901, 170095, 220899, 220797, 241986, 221070, 220892, 242269, 220628, 146841, 143558, 187512, 225347, 143684, 225597, 185700, 230145, 230139, 230143, 237581, 240315, 237646, 238852, 197525, 239645, 220854, 220955, 197532, 242105, 222703, 209855, 220813, 222715, 222836, 243731, 209648, 185638, 238713, 165764, 222805, 124899, 188257, 89733, 156219, 125737, 237679, 225612, 197579, 236676, 238716, 220805, 166523, 225476, 230138, 230148, 230173, 237627, 237514, 230175, 230169, 243288, 238959, 244921, 220818, 238691, 170035, 129505, 236671, 129658, 245014, 137544, 243281, 236638, 242152, 188560, 170769, 197821, 225339, 225384, 187852, 129517, 220830, 220560, 220820] 177\n"
     ]
    }
   ],
   "source": [
    "# ENTRADAS ATIVAS\n",
    "filtro_entradas_ativas = []\n",
    "filtro_entradas_inativos_novos = []\n",
    "for each in matricula_usuarios_ativos:\n",
    "    for num in matricula_entradas_filial:\n",
    "        if num == each:\n",
    "            filtro_entradas_ativas.append(num)\n",
    "            \n",
    "print(filtro_entradas_ativas, len(filtro_entradas_ativas))"
   ]
  },
  {
   "cell_type": "code",
   "execution_count": 15,
   "metadata": {},
   "outputs": [],
   "source": [
    "matriculas_novas_inativas = list(set(matricula_entradas_filial) - set(filtro_entradas_ativas))"
   ]
  },
  {
   "cell_type": "code",
   "execution_count": 16,
   "metadata": {},
   "outputs": [
    {
     "name": "stdout",
     "output_type": "stream",
     "text": [
      "[225325, 166663, 184317, 197598, 221020, 184278, 237660, 225438, 197585, 197853, 237804, 178288, 129631, 173424, 220970, 243732, 221069, 237569, 170957, 238709, 166448, 221006, 243744, 242004, 243730, 197536, 238764, 220921, 220972, 222689, 222710, 151369, 237757, 221141, 243126, 184381, 239807, 197784, 230183, 237620, 238952, 242092, 237762, 221122, 220566, 236658, 239979, 220960, 220811, 129726, 209762, 237198, 239824, 89305, 244745, 242121, 241818, 237831, 239862, 197831, 225318, 230144, 185745, 237822, 238925, 240359, 238850, 221063, 222760, 197597, 220823, 220740, 220894, 239839, 197461, 129131] 76\n"
     ]
    }
   ],
   "source": [
    "# ENTRADAS INATIVAS\n",
    "filtro_entradas_inativas = []\n",
    "for each in matricula_usuarios_inativos:\n",
    "    for num in matriculas_novas_inativas:\n",
    "        if num == each:\n",
    "            filtro_entradas_inativas.append(num)\n",
    "            \n",
    "print(filtro_entradas_inativas, len(filtro_entradas_inativas))"
   ]
  },
  {
   "cell_type": "code",
   "execution_count": 17,
   "metadata": {},
   "outputs": [
    {
     "name": "stdout",
     "output_type": "stream",
     "text": [
      "[209802, 197521, 225685, 238747, 220832, 166445, 222638, 225711, 222640, 251058, 251318, 242489, 166458, 222657, 151371, 220623, 242393, 129888, 129635, 250983, 237672, 238955, 248045, 230003, 237690, 140412] 26\n"
     ]
    }
   ],
   "source": [
    "# ENTRADAS NOVAS\n",
    "filtro_entradas_novas = list(set(matriculas_novas_inativas) - set(filtro_entradas_inativas))\n",
    "print(filtro_entradas_novas, len(filtro_entradas_novas))\n",
    "entradas_novas = entrada[entrada['matricula'].isin(filtro_entradas_novas)]\n",
    "titulo_novos = data + '_novas_matriculas.xlsx'\n",
    "entradas_novas.to_excel(titulo_novos)"
   ]
  },
  {
   "cell_type": "code",
   "execution_count": 18,
   "metadata": {},
   "outputs": [
    {
     "name": "stdout",
     "output_type": "stream",
     "text": [
      "177\n"
     ]
    }
   ],
   "source": [
    "entradas_ativas_filial = entrada[entrada['matricula'].isin(filtro_entradas_ativas)]\n",
    "print(len(entradas_ativas_filial))\n",
    "filtro_entradas_ativas_filial = pd.DataFrame(entradas_ativas_filial)\n",
    "filtro_entradas_ativas_filial['status_frequencia'] = 'ATIVO'\n",
    "filtro_entradas_ativas_filial = filtro_entradas_ativas_filial.set_index('matricula')"
   ]
  },
  {
   "cell_type": "code",
   "execution_count": 19,
   "metadata": {},
   "outputs": [
    {
     "name": "stdout",
     "output_type": "stream",
     "text": [
      "26\n"
     ]
    }
   ],
   "source": [
    "entradas_novas_filial = entrada[entrada['matricula'].isin(filtro_entradas_novas)]\n",
    "print(len(entradas_novas_filial))\n",
    "filtro_entradas_novas_filial = pd.DataFrame(entradas_novas_filial)\n",
    "filtro_entradas_novas_filial['status_frequencia'] = 'NOVO'\n",
    "filtro_entradas_novas_filial = filtro_entradas_novas_filial.set_index('matricula')"
   ]
  },
  {
   "cell_type": "code",
   "execution_count": 20,
   "metadata": {},
   "outputs": [
    {
     "name": "stdout",
     "output_type": "stream",
     "text": [
      "76\n"
     ]
    }
   ],
   "source": [
    "entradas_inativas_filial = entrada[entrada['matricula'].isin(filtro_entradas_inativas)]\n",
    "print(len(entradas_inativas_filial))\n",
    "filtro_entradas_inativas_filial = pd.DataFrame(entradas_inativas_filial)\n",
    "filtro_entradas_inativas_filial['status_frequencia'] = 'INATIVO'\n",
    "filtro_entradas_inativas_filial = filtro_entradas_inativas_filial.set_index('matricula')"
   ]
  },
  {
   "cell_type": "code",
   "execution_count": 21,
   "metadata": {},
   "outputs": [
    {
     "name": "stdout",
     "output_type": "stream",
     "text": [
      "Total matriculas 279\n"
     ]
    }
   ],
   "source": [
    "# DADOS DAS ENTRADAS NOVAS E ATIVAS CONCATENADAS\n",
    "novos_ativos_inativos = pd.concat([filtro_entradas_novas_filial, filtro_entradas_ativas_filial,filtro_entradas_inativas_filial])\n",
    "print('Total matriculas',len(novos_ativos_inativos))\n",
    "ver_repetidos = novos_ativos_inativos\n"
   ]
  },
  {
   "cell_type": "code",
   "execution_count": 22,
   "metadata": {},
   "outputs": [
    {
     "name": "stdout",
     "output_type": "stream",
     "text": [
      "Total matriculas 279\n"
     ]
    }
   ],
   "source": [
    "# FILTRO MATRICULAS DUPLICADAS\n",
    "duplicados_drop = novos_ativos_inativos.query('~index.duplicated()')\n",
    "duplicados = novos_ativos_inativos.duplicated()\n",
    "novos_ativos_inativos = duplicados_drop\n",
    "if filial == 'DIRCEU':\n",
    "    titulo_mat = mes_ano + '_dirceu_matriculas_mensal.xlsx'\n",
    "    novos_ativos_inativos.to_excel(titulo_mat)\n",
    "if filial == 'SÃO PEDRO':\n",
    "    titulo_mat = mes_ano + '_sao_pedro_matriculas_mensal.xlsx'\n",
    "    novos_ativos_inativos.to_excel(titulo_mat)\n",
    "\n",
    "\n",
    "print('Total matriculas',len(duplicados_drop))"
   ]
  },
  {
   "cell_type": "code",
   "execution_count": 23,
   "metadata": {},
   "outputs": [],
   "source": [
    "clean_bairros_novos = []\n",
    "for each in novos_ativos_inativos['bairro']:\n",
    "    caracteres_especiais = RemoverCaracteresEspeciais(each)\n",
    "    clean_bairros_novos.append(caracteres_especiais)\n",
    "novos_ativos_inativos['bairro'] = clean_bairros_novos\n",
    "novos_ativos_inativos['bairro'] = novos_ativos_inativos['bairro'].str.strip().str.upper()"
   ]
  },
  {
   "cell_type": "code",
   "execution_count": 24,
   "metadata": {},
   "outputs": [],
   "source": [
    "if filial == 'SÃO PEDRO':\n",
    "    novos_ativos_inativos.to_excel('novos_ativos_inativos_sao_pedro.xlsx')\n",
    "elif filial == 'DIRCEU':\n",
    "    novos_ativos_inativos.to_excel('novos_ativos_inativos_dirceu.xlsx')"
   ]
  },
  {
   "cell_type": "code",
   "execution_count": 25,
   "metadata": {},
   "outputs": [],
   "source": [
    "# novos_ativos_inativos['horario'].sort_values().unique()"
   ]
  },
  {
   "cell_type": "code",
   "execution_count": 26,
   "metadata": {},
   "outputs": [
    {
     "data": {
      "text/plain": [
       "array([231000, 234500,   2000, 232000, 230000, 224000,    500, 223000,\n",
       "            0,  54500,  13500, 233000,   3000,  61000, 225000, 231500,\n",
       "       232500,   5500, 235500, 192000, 142000, 220000,  13000,  10500,\n",
       "        12500,   4500, 183000,   3500, 221500, 213000,  15000, 193000,\n",
       "       180500, 214000], dtype=int64)"
      ]
     },
     "execution_count": 26,
     "metadata": {},
     "output_type": "execute_result"
    }
   ],
   "source": [
    "novos_ativos_inativos['horario'] = novos_ativos_inativos['horario'].astype(str).str.replace(':', '').str.replace('-','').str.replace('19000101 ', '').str.strip().astype(int)\n",
    "horarios_filial = novos_ativos_inativos['horario']\n",
    "horarios_filial.unique()"
   ]
  },
  {
   "cell_type": "code",
   "execution_count": 27,
   "metadata": {},
   "outputs": [],
   "source": [
    "# DIVISAO POR FILIAL\n",
    "norte = rotas_bairros['NORTE']\n",
    "sul = rotas_bairros['SUL']\n",
    "leste = rotas_bairros['LESTE']\n",
    "centro = rotas_bairros['CENTRO']\n",
    "sdb = rotas_bairros['SDB']\n",
    "sdc = rotas_bairros['SDC']\n",
    "todos = rotas_bairros['TODAS']"
   ]
  },
  {
   "cell_type": "code",
   "execution_count": 28,
   "metadata": {},
   "outputs": [
    {
     "name": "stdout",
     "output_type": "stream",
     "text": [
      "  99  passageiros às 23:30\n",
      "  85  passageiros às 00:30\n",
      "  52  passageiros às 01:50\n",
      "  26  coletas\n",
      "  99 passageiros foram distribuidos em rotas no primeiro horário\n",
      "  85 passageiros foram distribuidos em rotas no segundo horário\n",
      "  52 passageiros foram distribuidos em rotas no terceiro horário\n"
     ]
    }
   ],
   "source": [
    "# HORARIOS DE SAIDA\n",
    "\n",
    "if filial == 'DIRCEU':\n",
    "    dirceu_horario_01 = novos_ativos_inativos[(novos_ativos_inativos['horario'] >= 224000) & (novos_ativos_inativos['horario'] <= 233500)]\n",
    "    dirceu_horario_02 = novos_ativos_inativos[((novos_ativos_inativos['horario'] > 233500) & (novos_ativos_inativos['horario'] < 240000)|(novos_ativos_inativos['horario'] >= 0) & (novos_ativos_inativos['horario'] <= 3500) )]\n",
    "    dirceu_horario_03 = novos_ativos_inativos[(novos_ativos_inativos['horario'] > 3500) & (novos_ativos_inativos['horario'] <= 15500)]\n",
    "\n",
    "    # COLETA\n",
    "    dirceu_horario_04 = novos_ativos_inativos[(novos_ativos_inativos['horario'] > 50000) & (novos_ativos_inativos['horario'] <= 91000)] \n",
    "    print(' ', dirceu_horario_01.shape[0],' passageiros às 23:30\\n ', dirceu_horario_02.shape[0],' passageiros às 00:30\\n ', dirceu_horario_03.shape[0],' passageiros às 01:50\\n ', dirceu_horario_04.shape[0],' coletas')\n",
    "    \n",
    "    # SEPARAÇÃO POR ROTA 01\n",
    "    dirceu_horario_01_sem_rota = dirceu_horario_01[(~dirceu_horario_01['bairro'].isin(todos)) & (dirceu_horario_01['cidade'] == 'TERESINA')]\n",
    "    dirceu_horario_01_rota_norte = dirceu_horario_01[(dirceu_horario_01['bairro'].isin(norte)) & (dirceu_horario_01['cidade'] == 'TERESINA')]\n",
    "    dirceu_horario_01_rota_sul = dirceu_horario_01[(dirceu_horario_01['bairro'].isin(sul)) & (dirceu_horario_01['cidade'] == 'TERESINA')]\n",
    "    dirceu_horario_01_rota_leste = dirceu_horario_01[(dirceu_horario_01['bairro'].isin(leste)) & (dirceu_horario_01['cidade'] == 'TERESINA')]\n",
    "    dirceu_horario_01_rota_centro = dirceu_horario_01[(dirceu_horario_01['bairro'].isin(centro)) & (dirceu_horario_01['cidade'] == 'TERESINA')]\n",
    "    dirceu_horario_01_rota_sdb = dirceu_horario_01[(dirceu_horario_01['bairro'].isin(sdb)) & (dirceu_horario_01['cidade'] == 'TERESINA')]\n",
    "    dirceu_horario_01_rota_sdc = dirceu_horario_01[(dirceu_horario_01['bairro'].isin(sdc)) & (dirceu_horario_01['cidade'] == 'TERESINA')]\n",
    "    dirceu_horario_01_rota_timon = dirceu_horario_01[dirceu_horario_01['cidade'] == 'TIMON']\n",
    "    soma_rotas = (dirceu_horario_01_rota_norte.shape[0],dirceu_horario_01_rota_sul.shape[0], dirceu_horario_01_rota_leste.shape[0], \n",
    "                  dirceu_horario_01_rota_centro.shape[0], dirceu_horario_01_rota_sdb.shape[0], dirceu_horario_01_rota_sdc.shape[0], \n",
    "                  dirceu_horario_01_rota_timon.shape[0], dirceu_horario_01_sem_rota.shape[0])\n",
    "    soma_rotas = pd.Series(soma_rotas)\n",
    "    print(' ',sum(soma_rotas), 'passageiros foram distribuidos em rotas no primeiro horário')\n",
    "    dropar = [ 'complemento', 'telefone', 'filial']\n",
    "    dirceu_horario_01_sem_rota = dirceu_horario_01_sem_rota.drop(dropar , axis=1)\n",
    "    dirceu_horario_01_rota_norte = dirceu_horario_01_rota_norte.drop(dropar , axis=1)\n",
    "    dirceu_horario_01_rota_sul = dirceu_horario_01_rota_sul.drop(dropar , axis=1)\n",
    "    dirceu_horario_01_rota_leste = dirceu_horario_01_rota_leste.drop(dropar , axis=1)\n",
    "    dirceu_horario_01_rota_centro = dirceu_horario_01_rota_centro.drop(dropar , axis=1)\n",
    "    dirceu_horario_01_rota_sdb = dirceu_horario_01_rota_sdb.drop(dropar , axis=1)\n",
    "    dirceu_horario_01_rota_sdc = dirceu_horario_01_rota_sdc.drop(dropar , axis=1)\n",
    "    dirceu_horario_01_rota_timon = dirceu_horario_01_rota_timon.drop(dropar , axis=1)\n",
    "    \n",
    "\n",
    "    # ADIÇÃO DE ASSINATURA E SUBTITULOS\n",
    "    dirceu_horario_01_sem_rota['zona'] = 'DESCONHECIDA'\n",
    "    dirceu_horario_01_sem_rota['assinatura'] = np.nan\n",
    "    dirceu_horario_01_rota_norte['zona'] = 'NORTE'\n",
    "    dirceu_horario_01_rota_norte['assinatura'] = np.nan\n",
    "    dirceu_horario_01_rota_sul['zona'] = 'SUL'\n",
    "    dirceu_horario_01_rota_sul['assinatura'] = np.nan\n",
    "    dirceu_horario_01_rota_leste['zona'] = 'LESTE'\n",
    "    dirceu_horario_01_rota_leste['assinatura'] = np.nan\n",
    "    dirceu_horario_01_rota_centro['zona'] = 'CENTRO'\n",
    "    dirceu_horario_01_rota_centro['assinatura'] = np.nan\n",
    "    dirceu_horario_01_rota_sdb['zona'] = 'SDB'\n",
    "    dirceu_horario_01_rota_sdb['assinatura'] = np.nan\n",
    "    dirceu_horario_01_rota_sdc['zona'] = 'SDC'\n",
    "    dirceu_horario_01_rota_sdc['assinatura'] = np.nan\n",
    "    dirceu_horario_01_rota_timon['zona'] = 'TIMON'\n",
    "    dirceu_horario_01_rota_timon['assinatura'] = np.nan\n",
    "    \n",
    "    # ORDEM\n",
    "    ordem = ['nome', 'rua', 'numero', 'bairro', 'zona','horario','assinatura','status_frequencia']\n",
    "    dirceu_horario_01_sem_rota = dirceu_horario_01_sem_rota[ordem]\n",
    "    dirceu_horario_01_rota_sul = dirceu_horario_01_rota_sul[ordem]\n",
    "    dirceu_horario_01_rota_norte = dirceu_horario_01_rota_norte[ordem]\n",
    "    dirceu_horario_01_rota_leste = dirceu_horario_01_rota_leste[ordem]\n",
    "    dirceu_horario_01_rota_centro = dirceu_horario_01_rota_centro[ordem]\n",
    "    dirceu_horario_01_rota_sdb = dirceu_horario_01_rota_sdb[ordem]\n",
    "    dirceu_horario_01_rota_sdc = dirceu_horario_01_rota_sdc[ordem]\n",
    "    dirceu_horario_01_rota_timon = dirceu_horario_01_rota_timon[ordem]\n",
    "    #  ARQUIVO DIRCEU HORARIO 01\n",
    "    \n",
    "    dirceu_rotas_horario_01 = pd.ExcelWriter(titulo_01, engine='xlsxwriter')\n",
    "    dirceu_horario_01_rota_sul.to_excel(dirceu_rotas_horario_01, sheet_name='SUL')\n",
    "    dirceu_horario_01_rota_norte.to_excel(dirceu_rotas_horario_01, sheet_name='NORTE')\n",
    "    dirceu_horario_01_rota_leste.to_excel(dirceu_rotas_horario_01, sheet_name='LESTE')\n",
    "    dirceu_horario_01_rota_centro.to_excel(dirceu_rotas_horario_01, sheet_name='CENTRO')\n",
    "    dirceu_horario_01_rota_sdb.to_excel(dirceu_rotas_horario_01, sheet_name='SDB')\n",
    "    dirceu_horario_01_rota_sdc.to_excel(dirceu_rotas_horario_01, sheet_name='SDC')\n",
    "    dirceu_horario_01_rota_timon.to_excel(dirceu_rotas_horario_01, sheet_name='TIMON')\n",
    "    dirceu_horario_01_sem_rota.to_excel(dirceu_rotas_horario_01, sheet_name='SEM_ROTA')\n",
    "    dirceu_rotas_horario_01.save()\n",
    "    \n",
    "    # SEPARAÇÃO POR ROTA 02\n",
    "    dirceu_horario_02_sem_rota = dirceu_horario_02[(~dirceu_horario_02['bairro'].isin(todos)) & (dirceu_horario_02['cidade'] == 'TERESINA')]\n",
    "    dirceu_horario_02_rota_norte = dirceu_horario_02[(dirceu_horario_02['bairro'].isin(norte)) & (dirceu_horario_02['cidade'] == 'TERESINA')]\n",
    "    dirceu_horario_02_rota_sul = dirceu_horario_02[(dirceu_horario_02['bairro'].isin(sul)) & (dirceu_horario_02['cidade'] == 'TERESINA')]\n",
    "    dirceu_horario_02_rota_leste = dirceu_horario_02[(dirceu_horario_02['bairro'].isin(leste)) & (dirceu_horario_02['cidade'] == 'TERESINA')]\n",
    "    dirceu_horario_02_rota_centro = dirceu_horario_02[(dirceu_horario_02['bairro'].isin(centro)) & (dirceu_horario_02['cidade'] == 'TERESINA')]\n",
    "    dirceu_horario_02_rota_sdb = dirceu_horario_02[(dirceu_horario_02['bairro'].isin(sdb)) & (dirceu_horario_02['cidade'] == 'TERESINA')]\n",
    "    dirceu_horario_02_rota_sdc = dirceu_horario_02[(dirceu_horario_02['bairro'].isin(sdc)) & (dirceu_horario_02['cidade'] == 'TERESINA')]\n",
    "    dirceu_horario_02_rota_timon = dirceu_horario_02[dirceu_horario_02['cidade'] == 'TIMON']\n",
    "    \n",
    "    soma_rotas = (dirceu_horario_02_rota_norte.shape[0],dirceu_horario_02_rota_sul.shape[0], dirceu_horario_02_rota_leste.shape[0], \n",
    "                  dirceu_horario_02_rota_centro.shape[0], dirceu_horario_02_rota_sdb.shape[0], dirceu_horario_02_rota_sdc.shape[0], \n",
    "                  dirceu_horario_02_rota_timon.shape[0], dirceu_horario_02_sem_rota.shape[0])\n",
    "    soma_rotas = pd.Series(soma_rotas)\n",
    "    print(' ',sum(soma_rotas), 'passageiros foram distribuidos em rotas no segundo horário')\n",
    "    \n",
    "    dropar = [ 'complemento', 'telefone', 'filial']\n",
    "    dirceu_horario_02_sem_rota = dirceu_horario_02_sem_rota.drop(dropar , axis=1)\n",
    "    dirceu_horario_02_rota_norte = dirceu_horario_02_rota_norte.drop(dropar , axis=1)\n",
    "    dirceu_horario_02_rota_sul = dirceu_horario_02_rota_sul.drop(dropar , axis=1)\n",
    "    dirceu_horario_02_rota_leste = dirceu_horario_02_rota_leste.drop(dropar , axis=1)\n",
    "    dirceu_horario_02_rota_centro = dirceu_horario_02_rota_centro.drop(dropar , axis=1)\n",
    "    dirceu_horario_02_rota_sdb = dirceu_horario_02_rota_sdb.drop(dropar , axis=1)\n",
    "    dirceu_horario_02_rota_sdc = dirceu_horario_02_rota_sdc.drop(dropar , axis=1)\n",
    "    dirceu_horario_02_rota_timon = dirceu_horario_02_rota_timon.drop(dropar , axis=1)\n",
    "    \n",
    "    # ASSINATURA E SUBTITULO\n",
    "    dirceu_horario_02_sem_rota['zona'] = 'DESCONHECIDA'\n",
    "    dirceu_horario_02_sem_rota['assinatura'] = np.nan\n",
    "    dirceu_horario_02_rota_norte['zona'] = 'NORTE'\n",
    "    dirceu_horario_02_rota_norte['assinatura'] = np.nan\n",
    "    dirceu_horario_02_rota_sul['zona'] = 'SUL'\n",
    "    dirceu_horario_02_rota_sul['assinatura'] = np.nan\n",
    "    dirceu_horario_02_rota_leste['zona'] = 'LESTE'\n",
    "    dirceu_horario_02_rota_leste['assinatura'] = np.nan\n",
    "    dirceu_horario_02_rota_centro['zona'] = 'CENTRO'\n",
    "    dirceu_horario_02_rota_centro['assinatura'] = np.nan\n",
    "    dirceu_horario_02_rota_sdb['zona'] = 'SDB'\n",
    "    dirceu_horario_02_rota_sdb['assinatura'] = np.nan\n",
    "    dirceu_horario_02_rota_sdc['zona'] = 'SDC'\n",
    "    dirceu_horario_02_rota_sdc['assinatura'] = np.nan\n",
    "    dirceu_horario_02_rota_timon['zona'] = 'TIMON'\n",
    "    dirceu_horario_02_rota_timon['assinatura'] = np.nan\n",
    "    \n",
    "    \n",
    "    # ORDEM\n",
    "    dirceu_horario_02_sem_rota = dirceu_horario_02_sem_rota[ordem]\n",
    "    dirceu_horario_02_rota_sul = dirceu_horario_02_rota_sul[ordem]\n",
    "    dirceu_horario_02_rota_norte = dirceu_horario_02_rota_norte[ordem]\n",
    "    dirceu_horario_02_rota_leste = dirceu_horario_02_rota_leste[ordem]\n",
    "    dirceu_horario_02_rota_centro = dirceu_horario_02_rota_centro[ordem]\n",
    "    dirceu_horario_02_rota_sdb = dirceu_horario_02_rota_sdb[ordem]\n",
    "    dirceu_horario_02_rota_sdc = dirceu_horario_02_rota_sdc[ordem]\n",
    "    dirceu_horario_02_rota_timon = dirceu_horario_02_rota_timon[ordem]\n",
    "    \n",
    "    #  ARQUIVO DIRCEU HORARIO 02\n",
    "    \n",
    "    dirceu_rotas_horario_02 = pd.ExcelWriter(titulo_02, engine='xlsxwriter')\n",
    "    dirceu_horario_02_rota_sul.to_excel(dirceu_rotas_horario_02, sheet_name='SUL')\n",
    "    dirceu_horario_02_rota_norte.to_excel(dirceu_rotas_horario_02, sheet_name='NORTE')\n",
    "    dirceu_horario_02_rota_leste.to_excel(dirceu_rotas_horario_02, sheet_name='LESTE')\n",
    "    dirceu_horario_02_rota_centro.to_excel(dirceu_rotas_horario_02, sheet_name='CENTRO')\n",
    "    dirceu_horario_02_rota_sdb.to_excel(dirceu_rotas_horario_02, sheet_name='SDB')\n",
    "    dirceu_horario_02_rota_sdc.to_excel(dirceu_rotas_horario_02, sheet_name='SDC')\n",
    "    dirceu_horario_02_rota_timon.to_excel(dirceu_rotas_horario_02, sheet_name='TIMON')\n",
    "    dirceu_horario_02_sem_rota.to_excel(dirceu_rotas_horario_02, sheet_name='SEM_ROTA')\n",
    "    dirceu_rotas_horario_02.save()\n",
    "    \n",
    "    # SEPARAÇÃO POR ROTA 03\n",
    "    dirceu_horario_03_sem_rota = dirceu_horario_03[(~dirceu_horario_03['bairro'].isin(todos)) & (dirceu_horario_03['cidade'] == 'TERESINA')]\n",
    "    dirceu_horario_03_rota_norte = dirceu_horario_03[(dirceu_horario_03['bairro'].isin(norte)) & (dirceu_horario_03['cidade'] == 'TERESINA')]\n",
    "    dirceu_horario_03_rota_sul = dirceu_horario_03[(dirceu_horario_03['bairro'].isin(sul)) & (dirceu_horario_03['cidade'] == 'TERESINA')]\n",
    "    dirceu_horario_03_rota_leste = dirceu_horario_03[(dirceu_horario_03['bairro'].isin(leste)) & (dirceu_horario_03['cidade'] == 'TERESINA')]\n",
    "    dirceu_horario_03_rota_centro = dirceu_horario_03[(dirceu_horario_03['bairro'].isin(centro)) & (dirceu_horario_03['cidade'] == 'TERESINA')]\n",
    "    dirceu_horario_03_rota_sdb = dirceu_horario_03[(dirceu_horario_03['bairro'].isin(sdb)) & (dirceu_horario_03['cidade'] == 'TERESINA')]\n",
    "    dirceu_horario_03_rota_sdc = dirceu_horario_03[(dirceu_horario_03['bairro'].isin(sdc)) & (dirceu_horario_03['cidade'] == 'TERESINA')]\n",
    "    dirceu_horario_03_rota_timon = dirceu_horario_03[dirceu_horario_03['cidade'] == 'TIMON']\n",
    "    \n",
    "    soma_rotas = (dirceu_horario_03_rota_norte.shape[0],dirceu_horario_03_rota_sul.shape[0], dirceu_horario_03_rota_leste.shape[0], \n",
    "                  dirceu_horario_03_rota_centro.shape[0], dirceu_horario_03_rota_sdb.shape[0], dirceu_horario_03_rota_sdc.shape[0], \n",
    "                  dirceu_horario_03_rota_timon.shape[0], dirceu_horario_03_sem_rota.shape[0])\n",
    "    soma_rotas = pd.Series(soma_rotas)\n",
    "    print(' ',sum(soma_rotas), 'passageiros foram distribuidos em rotas no terceiro horário')\n",
    "    \n",
    "    dropar = ['complemento', 'telefone', 'filial']\n",
    "    dirceu_horario_03_sem_rota = dirceu_horario_03_sem_rota.drop(dropar , axis=1)\n",
    "    dirceu_horario_03_rota_norte = dirceu_horario_03_rota_norte.drop(dropar , axis=1)\n",
    "    dirceu_horario_03_rota_sul = dirceu_horario_03_rota_sul.drop(dropar , axis=1)\n",
    "    dirceu_horario_03_rota_leste = dirceu_horario_03_rota_leste.drop(dropar , axis=1)\n",
    "    dirceu_horario_03_rota_centro = dirceu_horario_03_rota_centro.drop(dropar , axis=1)\n",
    "    dirceu_horario_03_rota_sdb = dirceu_horario_03_rota_sdb.drop(dropar , axis=1)\n",
    "    dirceu_horario_03_rota_sdc = dirceu_horario_03_rota_sdc.drop(dropar , axis=1)\n",
    "    dirceu_horario_03_rota_timon = dirceu_horario_03_rota_timon.drop(dropar , axis=1)\n",
    "    \n",
    "    # ADIÇÃO DE ASSINATURA E SUBTITULOS\n",
    "    dirceu_horario_03_sem_rota['zona'] = 'DESCONHECIDA'\n",
    "    dirceu_horario_03_sem_rota['assinatura'] = np.nan\n",
    "    dirceu_horario_03_rota_norte['zona'] = 'NORTE'\n",
    "    dirceu_horario_03_rota_norte['assinatura'] = np.nan\n",
    "    dirceu_horario_03_rota_sul['zona'] = 'SUL'\n",
    "    dirceu_horario_03_rota_sul['assinatura'] = np.nan\n",
    "    dirceu_horario_03_rota_leste['zona'] = 'LESTE'\n",
    "    dirceu_horario_03_rota_leste['assinatura'] = np.nan\n",
    "    dirceu_horario_03_rota_centro['zona'] = 'CENTRO'\n",
    "    dirceu_horario_03_rota_centro['assinatura'] = np.nan\n",
    "    dirceu_horario_03_rota_sdb['zona'] = 'SDB'\n",
    "    dirceu_horario_03_rota_sdb['assinatura'] = np.nan\n",
    "    dirceu_horario_03_rota_sdc['zona'] = 'SDC'\n",
    "    dirceu_horario_03_rota_sdc['assinatura'] = np.nan\n",
    "    dirceu_horario_03_rota_timon['zona'] = 'TIMON'\n",
    "    dirceu_horario_03_rota_timon['assinatura'] = np.nan\n",
    "    \n",
    "    # ORDEM\n",
    "    dirceu_horario_03_sem_rota = dirceu_horario_03_sem_rota[ordem]\n",
    "    dirceu_horario_03_rota_sul = dirceu_horario_03_rota_sul[ordem]\n",
    "    dirceu_horario_03_rota_norte = dirceu_horario_03_rota_norte[ordem]\n",
    "    dirceu_horario_03_rota_leste = dirceu_horario_03_rota_leste[ordem]\n",
    "    dirceu_horario_03_rota_centro = dirceu_horario_03_rota_centro[ordem]\n",
    "    dirceu_horario_03_rota_sdb = dirceu_horario_03_rota_sdb[ordem]\n",
    "    dirceu_horario_03_rota_sdc = dirceu_horario_03_rota_sdc[ordem]\n",
    "    dirceu_horario_03_rota_timon = dirceu_horario_03_rota_timon[ordem]\n",
    "\n",
    "    #  ARQUIVO DIRCEU HORARIO 03\n",
    "    \n",
    "    dirceu_rotas_horario_03 = pd.ExcelWriter(titulo_03, engine='xlsxwriter')\n",
    "    dirceu_horario_03_rota_sul.to_excel(dirceu_rotas_horario_03, sheet_name='SUL')\n",
    "    dirceu_horario_03_rota_norte.to_excel(dirceu_rotas_horario_03, sheet_name='NORTE')\n",
    "    dirceu_horario_03_rota_leste.to_excel(dirceu_rotas_horario_03, sheet_name='LESTE')\n",
    "    dirceu_horario_03_rota_centro.to_excel(dirceu_rotas_horario_03, sheet_name='CENTRO')\n",
    "    dirceu_horario_03_rota_sdb.to_excel(dirceu_rotas_horario_03, sheet_name='SDB')\n",
    "    dirceu_horario_03_rota_sdc.to_excel(dirceu_rotas_horario_03, sheet_name='SDC')\n",
    "    dirceu_horario_03_rota_timon.to_excel(dirceu_rotas_horario_03, sheet_name='TIMON')\n",
    "    dirceu_horario_03_sem_rota.to_excel(dirceu_rotas_horario_03, sheet_name='SEM_ROTA')\n",
    "    dirceu_rotas_horario_03.save()"
   ]
  },
  {
   "cell_type": "code",
   "execution_count": 29,
   "metadata": {},
   "outputs": [],
   "source": [
    "\n",
    "if filial == 'SÃO PEDRO':\n",
    "    sao_pedro_horario_01 = novos_ativos_inativos[\n",
    "        (novos_ativos_inativos['horario'] >= 224000) & (novos_ativos_inativos['horario'] <= 235900) | (\n",
    "                    novos_ativos_inativos['horario'] >= 0) & (novos_ativos_inativos['horario'] <= 500)]\n",
    "    sao_pedro_horario_02 = novos_ativos_inativos[\n",
    "        (novos_ativos_inativos['horario'] > 500) & (novos_ativos_inativos['horario'] <= 10000)]\n",
    "    sao_pedro_horario_03 = novos_ativos_inativos[\n",
    "        (novos_ativos_inativos['horario'] > 10000) & (novos_ativos_inativos['horario'] <= 20000)]\n",
    "    \n",
    "    # COLETA\n",
    "    sao_pedro_horario_04 = novos_ativos_inativos[\n",
    "        (novos_ativos_inativos['horario'] > 50000) & (novos_ativos_inativos['horario'] <= 82500)]\n",
    "    print(' ',sao_pedro_horario_01.shape[0],' passageiros às 00:00\\n ', sao_pedro_horario_02.shape[0],' passageiros às 01:00\\n ', sao_pedro_horario_03.shape[0],' passageiros às 02:00\\n ',\n",
    "          sao_pedro_horario_04.shape[0], ' coletas'\n",
    "         ,)\n",
    "\n",
    "    # SEPARAÇÃO POR ROTA 01\n",
    "    \n",
    "    sao_pedro_horario_01_sem_rota = sao_pedro_horario_01[(~sao_pedro_horario_01['bairro'].isin(todos)) & (sao_pedro_horario_01['cidade'] == 'TERESINA')]\n",
    "    sao_pedro_horario_01_rota_norte = sao_pedro_horario_01[(sao_pedro_horario_01['bairro'].isin(norte)) & (sao_pedro_horario_01['cidade'] == 'TERESINA')]\n",
    "    sao_pedro_horario_01_rota_sul = sao_pedro_horario_01[(sao_pedro_horario_01['bairro'].isin(sul)) & (sao_pedro_horario_01['cidade'] == 'TERESINA')]\n",
    "    sao_pedro_horario_01_rota_leste = sao_pedro_horario_01[(sao_pedro_horario_01['bairro'].isin(leste)) & (sao_pedro_horario_01['cidade'] == 'TERESINA')]\n",
    "    sao_pedro_horario_01_rota_centro = sao_pedro_horario_01[(sao_pedro_horario_01['bairro'].isin(centro)) & (sao_pedro_horario_01['cidade'] == 'TERESINA')]\n",
    "    sao_pedro_horario_01_rota_sdb = sao_pedro_horario_01[(sao_pedro_horario_01['bairro'].isin(sdb)) & (sao_pedro_horario_01['cidade'] == 'TERESINA')]\n",
    "    sao_pedro_horario_01_rota_sdc = sao_pedro_horario_01[(sao_pedro_horario_01['bairro'].isin(sdc)) & (sao_pedro_horario_01['cidade'] == 'TERESINA')]\n",
    "    sao_pedro_horario_01_rota_timon = sao_pedro_horario_01[sao_pedro_horario_01['cidade'] == 'TIMON']\n",
    "    # CONFERÊNCIA\n",
    "    soma_rotas = (sao_pedro_horario_01_rota_norte.shape[0],sao_pedro_horario_01_rota_sul.shape[0], sao_pedro_horario_01_rota_leste.shape[0], \n",
    "                  sao_pedro_horario_01_rota_centro.shape[0], sao_pedro_horario_01_rota_sdb.shape[0], sao_pedro_horario_01_rota_sdc.shape[0], \n",
    "                  sao_pedro_horario_01_rota_timon.shape[0], sao_pedro_horario_01_sem_rota.shape[0])\n",
    "    soma_rotas = pd.Series(soma_rotas)\n",
    "    print(' ',sum(soma_rotas), 'passageiros foram distribuidos em rotas no primeiro horário')\n",
    "    # DROPAR\n",
    "    dropar = [ 'complemento', 'telefone', 'filial']\n",
    "    sao_pedro_horario_01_sem_rota = sao_pedro_horario_01_sem_rota.drop(dropar , axis=1)\n",
    "    sao_pedro_horario_01_rota_norte = sao_pedro_horario_01_rota_norte.drop(dropar, axis=1)\n",
    "    sao_pedro_horario_01_rota_sul = sao_pedro_horario_01_rota_sul.drop(dropar, axis=1)\n",
    "    sao_pedro_horario_01_rota_leste = sao_pedro_horario_01_rota_leste.drop(dropar, axis=1)\n",
    "    sao_pedro_horario_01_rota_centro = sao_pedro_horario_01_rota_centro.drop(dropar, axis=1)\n",
    "    sao_pedro_horario_01_rota_sdb = sao_pedro_horario_01_rota_sdb.drop(dropar, axis=1)\n",
    "    sao_pedro_horario_01_rota_sdc = sao_pedro_horario_01_rota_sdc.drop(dropar, axis=1)\n",
    "    sao_pedro_horario_01_rota_timon = sao_pedro_horario_01_rota_timon.drop(dropar, axis=1)\n",
    "\n",
    "    # ADIÇÃO DE ASSINATURA E SUBTITULOS\n",
    "    sao_pedro_horario_01_sem_rota['zona'] = 'DESCONHECIDA'\n",
    "    sao_pedro_horario_01_sem_rota['assinatura'] = np.nan\n",
    "    sao_pedro_horario_01_rota_norte['zona'] = 'NORTE'\n",
    "    sao_pedro_horario_01_rota_norte['assinatura'] = np.nan\n",
    "    sao_pedro_horario_01_rota_sul['zona'] = 'SUL'\n",
    "    sao_pedro_horario_01_rota_sul['assinatura'] = np.nan\n",
    "    sao_pedro_horario_01_rota_leste['zona'] = 'LESTE'\n",
    "    sao_pedro_horario_01_rota_leste['assinatura'] = np.nan\n",
    "    sao_pedro_horario_01_rota_centro['zona'] = 'CENTRO'\n",
    "    sao_pedro_horario_01_rota_centro['assinatura'] = np.nan\n",
    "    sao_pedro_horario_01_rota_sdb['zona'] = 'SDB'\n",
    "    sao_pedro_horario_01_rota_sdb['assinatura'] = np.nan\n",
    "    sao_pedro_horario_01_rota_sdc['zona'] = 'SDC'\n",
    "    sao_pedro_horario_01_rota_sdc['assinatura'] = np.nan\n",
    "    sao_pedro_horario_01_rota_timon['zona'] = 'TIMON'\n",
    "    sao_pedro_horario_01_rota_timon['assinatura'] = np.nan\n",
    "    \n",
    "    # ORDEM\n",
    "    ordem = ['nome', 'rua', 'numero', 'bairro', 'zona', 'horario', 'assinatura', 'status_frequencia']\n",
    "    sao_pedro_horario_01_sem_rota = sao_pedro_horario_01_sem_rota[ordem]\n",
    "    sao_pedro_horario_01_rota_sul = sao_pedro_horario_01_rota_sul[ordem]\n",
    "    sao_pedro_horario_01_rota_norte = sao_pedro_horario_01_rota_norte[ordem]\n",
    "    sao_pedro_horario_01_rota_leste = sao_pedro_horario_01_rota_leste[ordem]\n",
    "    sao_pedro_horario_01_rota_centro = sao_pedro_horario_01_rota_centro[ordem]\n",
    "    sao_pedro_horario_01_rota_sdb = sao_pedro_horario_01_rota_sdb[ordem]\n",
    "    sao_pedro_horario_01_rota_sdc = sao_pedro_horario_01_rota_sdc[ordem]\n",
    "    sao_pedro_horario_01_rota_timon = sao_pedro_horario_01_rota_timon[ordem]\n",
    "\n",
    "    #  ARQUIVO sao_pedro HORARIO 01\n",
    "    \n",
    "    sao_pedro_rotas_horario_01 = pd.ExcelWriter(titulo_01, engine='xlsxwriter')\n",
    "    sao_pedro_horario_01_rota_sul.to_excel(sao_pedro_rotas_horario_01, sheet_name='SUL')\n",
    "    sao_pedro_horario_01_rota_norte.to_excel(sao_pedro_rotas_horario_01, sheet_name='NORTE')\n",
    "    sao_pedro_horario_01_rota_leste.to_excel(sao_pedro_rotas_horario_01, sheet_name='LESTE')\n",
    "    sao_pedro_horario_01_rota_centro.to_excel(sao_pedro_rotas_horario_01, sheet_name='CENTRO')\n",
    "    sao_pedro_horario_01_rota_sdb.to_excel(sao_pedro_rotas_horario_01, sheet_name='SDB')\n",
    "    sao_pedro_horario_01_rota_sdc.to_excel(sao_pedro_rotas_horario_01, sheet_name='SDC')\n",
    "    sao_pedro_horario_01_rota_timon.to_excel(sao_pedro_rotas_horario_01, sheet_name='TIMON')\n",
    "    sao_pedro_horario_01_sem_rota.to_excel(sao_pedro_rotas_horario_01, sheet_name='SEM ROTA')\n",
    "    \n",
    "    sao_pedro_rotas_horario_01.save()\n",
    "    \n",
    "\n",
    "    # SEPARAÇÃO POR ROTA 02\n",
    "    sao_pedro_horario_02_sem_rota = sao_pedro_horario_02[(~sao_pedro_horario_02['bairro'].isin(todos)) & (sao_pedro_horario_02['cidade'] == 'TERESINA')]\n",
    "    sao_pedro_horario_02_rota_norte = sao_pedro_horario_02[(sao_pedro_horario_02['bairro'].isin(norte)) & (sao_pedro_horario_02['cidade'] == 'TERESINA')]\n",
    "    sao_pedro_horario_02_rota_sul = sao_pedro_horario_02[(sao_pedro_horario_02['bairro'].isin(sul)) & (sao_pedro_horario_02['cidade'] == 'TERESINA')]\n",
    "    sao_pedro_horario_02_rota_leste = sao_pedro_horario_02[(sao_pedro_horario_02['bairro'].isin(leste)) & (sao_pedro_horario_02['cidade'] == 'TERESINA')]\n",
    "    sao_pedro_horario_02_rota_centro = sao_pedro_horario_02[(sao_pedro_horario_02['bairro'].isin(centro)) & (sao_pedro_horario_02['cidade'] == 'TERESINA')]\n",
    "    sao_pedro_horario_02_rota_sdb = sao_pedro_horario_02[(sao_pedro_horario_02['bairro'].isin(sdb)) & (sao_pedro_horario_02['cidade'] == 'TERESINA')]\n",
    "    sao_pedro_horario_02_rota_sdc = sao_pedro_horario_02[(sao_pedro_horario_02['bairro'].isin(sdc)) & (sao_pedro_horario_02['cidade'] == 'TERESINA')]\n",
    "    sao_pedro_horario_02_rota_timon = sao_pedro_horario_02[sao_pedro_horario_02['cidade'] == 'TIMON']\n",
    "    # CONFERÊNCIA\n",
    "    soma_rotas = (sao_pedro_horario_02_rota_norte.shape[0],sao_pedro_horario_02_rota_sul.shape[0], sao_pedro_horario_02_rota_leste.shape[0], \n",
    "                  sao_pedro_horario_02_rota_centro.shape[0], sao_pedro_horario_02_rota_sdb.shape[0], sao_pedro_horario_02_rota_sdc.shape[0], \n",
    "                  sao_pedro_horario_02_rota_timon.shape[0], sao_pedro_horario_02_sem_rota.shape[0])\n",
    "    soma_rotas = pd.Series(soma_rotas)\n",
    "    print(' ',sum(soma_rotas), 'passageiros foram distribuidos em rotas no segundo horário')\n",
    "    # DROPAR COLUNAS\n",
    "    sao_pedro_horario_02_sem_rota = sao_pedro_horario_02_sem_rota.drop(dropar , axis=1)\n",
    "    sao_pedro_horario_02_rota_norte = sao_pedro_horario_02_rota_norte.drop(dropar, axis=1)\n",
    "    sao_pedro_horario_02_rota_sul = sao_pedro_horario_02_rota_sul.drop(dropar, axis=1)\n",
    "    sao_pedro_horario_02_rota_leste = sao_pedro_horario_02_rota_leste.drop(dropar, axis=1)\n",
    "    sao_pedro_horario_02_rota_centro = sao_pedro_horario_02_rota_centro.drop(dropar, axis=1)\n",
    "    sao_pedro_horario_02_rota_sdb = sao_pedro_horario_02_rota_sdb.drop(dropar, axis=1)\n",
    "    sao_pedro_horario_02_rota_sdc = sao_pedro_horario_02_rota_sdc.drop(dropar, axis=1)\n",
    "    sao_pedro_horario_02_rota_timon = sao_pedro_horario_02_rota_timon.drop(dropar, axis=1)\n",
    "\n",
    "    # ASSINATURA E SUBTITULO\n",
    "    sao_pedro_horario_02_sem_rota['zona'] = 'DESCONHECIDA'\n",
    "    sao_pedro_horario_02_sem_rota['assinatura'] = np.nan\n",
    "    sao_pedro_horario_02_rota_norte['zona'] = 'NORTE'\n",
    "    sao_pedro_horario_02_rota_norte['assinatura'] = np.nan\n",
    "    sao_pedro_horario_02_rota_sul['zona'] = 'SUL'\n",
    "    sao_pedro_horario_02_rota_sul['assinatura'] = np.nan\n",
    "    sao_pedro_horario_02_rota_leste['zona'] = 'LESTE'\n",
    "    sao_pedro_horario_02_rota_leste['assinatura'] = np.nan\n",
    "    sao_pedro_horario_02_rota_centro['zona'] = 'CENTRO'\n",
    "    sao_pedro_horario_02_rota_centro['assinatura'] = np.nan\n",
    "    sao_pedro_horario_02_rota_sdb['zona'] = 'SDB'\n",
    "    sao_pedro_horario_02_rota_sdb['assinatura'] = np.nan\n",
    "    sao_pedro_horario_02_rota_sdc['zona'] = 'SDC'\n",
    "    sao_pedro_horario_02_rota_sdc['assinatura'] = np.nan\n",
    "    sao_pedro_horario_02_rota_timon['zona'] = 'TIMON'\n",
    "    sao_pedro_horario_02_rota_timon['assinatura'] = np.nan\n",
    "    \n",
    "    # ORDEM\n",
    "    sao_pedro_horario_02_sem_rota = sao_pedro_horario_02_sem_rota[ordem]\n",
    "    sao_pedro_horario_02_rota_sul = sao_pedro_horario_02_rota_sul[ordem]\n",
    "    sao_pedro_horario_02_rota_norte = sao_pedro_horario_02_rota_norte[ordem]\n",
    "    sao_pedro_horario_02_rota_leste = sao_pedro_horario_02_rota_leste[ordem]\n",
    "    sao_pedro_horario_02_rota_centro = sao_pedro_horario_02_rota_centro[ordem]\n",
    "    sao_pedro_horario_02_rota_sdb = sao_pedro_horario_02_rota_sdb[ordem]\n",
    "    sao_pedro_horario_02_rota_sdc = sao_pedro_horario_02_rota_sdc[ordem]\n",
    "    sao_pedro_horario_02_rota_timon = sao_pedro_horario_02_rota_timon[ordem]\n",
    "    \n",
    "    #  ARQUIVO sao_pedro HORARIO 02\n",
    "    \n",
    "    sao_pedro_rotas_horario_02 = pd.ExcelWriter(titulo_02, engine='xlsxwriter')\n",
    "    sao_pedro_horario_02_rota_sul.to_excel(sao_pedro_rotas_horario_02, sheet_name='SUL')\n",
    "    sao_pedro_horario_02_rota_norte.to_excel(sao_pedro_rotas_horario_02, sheet_name='NORTE')\n",
    "    sao_pedro_horario_02_rota_leste.to_excel(sao_pedro_rotas_horario_02, sheet_name='LESTE')\n",
    "    sao_pedro_horario_02_rota_centro.to_excel(sao_pedro_rotas_horario_02, sheet_name='CENTRO')\n",
    "    sao_pedro_horario_02_rota_sdb.to_excel(sao_pedro_rotas_horario_02, sheet_name='SDB')\n",
    "    sao_pedro_horario_02_rota_sdc.to_excel(sao_pedro_rotas_horario_02, sheet_name='SDC')\n",
    "    sao_pedro_horario_02_rota_timon.to_excel(sao_pedro_rotas_horario_02, sheet_name='TIMON')\n",
    "    sao_pedro_horario_02_sem_rota.to_excel(sao_pedro_rotas_horario_02, sheet_name='SEM_ROTA')\n",
    "    sao_pedro_rotas_horario_02.save()\n",
    "    \n",
    "    # SEPARAÇÃO POR ROTA 03\n",
    "\n",
    "    sao_pedro_horario_03_sem_rota = sao_pedro_horario_03[\n",
    "        (~sao_pedro_horario_03['bairro'].isin(todos)) & (sao_pedro_horario_03['cidade'] == 'TERESINA')]\n",
    "    sao_pedro_horario_03_rota_norte = sao_pedro_horario_03[\n",
    "        (sao_pedro_horario_03['bairro'].isin(norte)) & (sao_pedro_horario_03['cidade'] == 'TERESINA')]\n",
    "    sao_pedro_horario_03_rota_sul = sao_pedro_horario_03[\n",
    "        (sao_pedro_horario_03['bairro'].isin(sul)) & (sao_pedro_horario_03['cidade'] == 'TERESINA')]\n",
    "    sao_pedro_horario_03_rota_leste = sao_pedro_horario_03[\n",
    "        (sao_pedro_horario_03['bairro'].isin(leste)) & (sao_pedro_horario_03['cidade'] == 'TERESINA')]\n",
    "    sao_pedro_horario_03_rota_centro = sao_pedro_horario_03[\n",
    "        (sao_pedro_horario_03['bairro'].isin(centro)) & (sao_pedro_horario_03['cidade'] == 'TERESINA')]\n",
    "    sao_pedro_horario_03_rota_sdb = sao_pedro_horario_03[\n",
    "        (sao_pedro_horario_03['bairro'].isin(sdb)) & (sao_pedro_horario_03['cidade'] == 'TERESINA')]\n",
    "    sao_pedro_horario_03_rota_sdc = sao_pedro_horario_03[\n",
    "        (sao_pedro_horario_03['bairro'].isin(sdc)) & (sao_pedro_horario_03['cidade'] == 'TERESINA')]\n",
    "    sao_pedro_horario_03_rota_timon = sao_pedro_horario_03[sao_pedro_horario_03['cidade'] == 'TIMON']\n",
    "    # CONFERÊNCIA\n",
    "    soma_rotas = (sao_pedro_horario_03_rota_norte.shape[0], sao_pedro_horario_03_rota_sul.shape[0],\n",
    "                  sao_pedro_horario_03_rota_leste.shape[0],\n",
    "                  sao_pedro_horario_03_rota_centro.shape[0], sao_pedro_horario_03_rota_sdb.shape[0],\n",
    "                  sao_pedro_horario_03_rota_sdc.shape[0],\n",
    "                  sao_pedro_horario_03_rota_timon.shape[0], sao_pedro_horario_03_sem_rota.shape[0])\n",
    "    soma_rotas = pd.Series(soma_rotas)\n",
    "    print(' ', sum(soma_rotas), 'passageiros foram distribuidos em rotas no terceiro horário')\n",
    "    # DROPAR\n",
    "    dropar = ['complemento', 'telefone',  'filial']\n",
    "    sao_pedro_horario_03_sem_rota = sao_pedro_horario_03_sem_rota.drop(dropar, axis=1)\n",
    "    sao_pedro_horario_03_rota_norte = sao_pedro_horario_03_rota_norte.drop(dropar, axis=1)\n",
    "    sao_pedro_horario_03_rota_sul = sao_pedro_horario_03_rota_sul.drop(dropar, axis=1)\n",
    "    sao_pedro_horario_03_rota_leste = sao_pedro_horario_03_rota_leste.drop(dropar, axis=1)\n",
    "    sao_pedro_horario_03_rota_centro = sao_pedro_horario_03_rota_centro.drop(dropar, axis=1)\n",
    "    sao_pedro_horario_03_rota_sdb = sao_pedro_horario_03_rota_sdb.drop(dropar, axis=1)\n",
    "    sao_pedro_horario_03_rota_sdc = sao_pedro_horario_03_rota_sdc.drop(dropar, axis=1)\n",
    "    sao_pedro_horario_03_rota_timon = sao_pedro_horario_03_rota_timon.drop(dropar, axis=1)\n",
    "\n",
    "    # ADIÇÃO DE ASSINATURA E SUBTITULOS\n",
    "    sao_pedro_horario_03_sem_rota['zona'] = 'DESCONHECIDA'\n",
    "    sao_pedro_horario_03_sem_rota['assinatura'] = np.nan\n",
    "    sao_pedro_horario_03_rota_norte['zona'] = 'NORTE'\n",
    "    sao_pedro_horario_03_rota_norte['assinatura'] = np.nan\n",
    "    sao_pedro_horario_03_rota_sul['zona'] = 'SUL'\n",
    "    sao_pedro_horario_03_rota_sul['assinatura'] = np.nan\n",
    "    sao_pedro_horario_03_rota_leste['zona'] = 'LESTE'\n",
    "    sao_pedro_horario_03_rota_leste['assinatura'] = np.nan\n",
    "    sao_pedro_horario_03_rota_centro['zona'] = 'CENTRO'\n",
    "    sao_pedro_horario_03_rota_centro['assinatura'] = np.nan\n",
    "    sao_pedro_horario_03_rota_sdb['zona'] = 'SDB'\n",
    "    sao_pedro_horario_03_rota_sdb['assinatura'] = np.nan\n",
    "    sao_pedro_horario_03_rota_sdc['zona'] = 'SDC'\n",
    "    sao_pedro_horario_03_rota_sdc['assinatura'] = np.nan\n",
    "    sao_pedro_horario_03_rota_timon['zona'] = 'TIMON'\n",
    "    sao_pedro_horario_03_rota_timon['assinatura'] = np.nan\n",
    "\n",
    "    # ORDEM\n",
    "    ordem = ['nome', 'rua', 'numero', 'bairro', 'zona', 'horario', 'assinatura', 'status_frequencia']\n",
    "    sao_pedro_horario_03_sem_rota = sao_pedro_horario_03_sem_rota[ordem]\n",
    "    sao_pedro_horario_03_rota_sul = sao_pedro_horario_03_rota_sul[ordem]\n",
    "    sao_pedro_horario_03_rota_norte = sao_pedro_horario_03_rota_norte[ordem]\n",
    "    sao_pedro_horario_03_rota_leste = sao_pedro_horario_03_rota_leste[ordem]\n",
    "    sao_pedro_horario_03_rota_centro = sao_pedro_horario_03_rota_centro[ordem]\n",
    "    sao_pedro_horario_03_rota_sdb = sao_pedro_horario_03_rota_sdb[ordem]\n",
    "    sao_pedro_horario_03_rota_sdc = sao_pedro_horario_03_rota_sdc[ordem]\n",
    "    sao_pedro_horario_03_rota_timon = sao_pedro_horario_03_rota_timon[ordem]\n",
    "\n",
    "    #  ARQUIVO sao_pedro HORARIO 03\n",
    "    \n",
    "    sao_pedro_rotas_horario_03 = pd.ExcelWriter(titulo_03, engine='xlsxwriter')\n",
    "    sao_pedro_horario_03_rota_sul.to_excel(sao_pedro_rotas_horario_03, sheet_name='SUL')\n",
    "    sao_pedro_horario_03_rota_norte.to_excel(sao_pedro_rotas_horario_03, sheet_name='NORTE')\n",
    "    sao_pedro_horario_03_rota_leste.to_excel(sao_pedro_rotas_horario_03, sheet_name='LESTE')\n",
    "    sao_pedro_horario_03_rota_centro.to_excel(sao_pedro_rotas_horario_03, sheet_name='CENTRO')\n",
    "    sao_pedro_horario_03_rota_sdb.to_excel(sao_pedro_rotas_horario_03, sheet_name='SDB')\n",
    "    sao_pedro_horario_03_rota_sdc.to_excel(sao_pedro_rotas_horario_03, sheet_name='SDC')\n",
    "    sao_pedro_horario_03_rota_timon.to_excel(sao_pedro_rotas_horario_03, sheet_name='TIMON')\n",
    "    sao_pedro_horario_03_sem_rota.to_excel(sao_pedro_rotas_horario_03, sheet_name='SEM ROTA')\n",
    "\n",
    "    sao_pedro_rotas_horario_03.save()\n"
   ]
  },
  {
   "cell_type": "code",
   "execution_count": 30,
   "metadata": {},
   "outputs": [],
   "source": [
    "# BUSCAR FANTASMA\n",
    "\n",
    "# dirceu_horario_03_mat_total = pd.DataFrame(dirceu_horario_03.index)\n",
    "# dirceu_horario_03_rota_sul_mat = dirceu_horario_03_rota_sul.index\n",
    "# dirceu_horario_03_rota_norte_mat = dirceu_horario_03_rota_norte.index\n",
    "# dirceu_horario_03_rota_leste_mat= dirceu_horario_03_rota_leste.index\n",
    "# dirceu_horario_03_rota_centro_mat = dirceu_horario_03_rota_centro.index\n",
    "# dirceu_horario_03_rota_sdb_mat = dirceu_horario_03_rota_sdb.index\n",
    "# dirceu_horario_03_rota_sdc_mat = dirceu_horario_03_rota_sdc.index\n",
    "# dirceu_horario_03_rota_timon_mat = dirceu_horario_03_rota_timon.index\n",
    "# dirceu_horario_03_sem_rota_mat = dirceu_horario_03_sem_rota.index\n",
    "\n",
    "# todas_mat = pd.concat([pd.DataFrame(dirceu_horario_03_rota_sul_mat), pd.DataFrame(dirceu_horario_03_rota_norte_mat),\n",
    "#                      pd.DataFrame(dirceu_horario_03_rota_leste_mat), pd.DataFrame(dirceu_horario_03_rota_centro_mat),\n",
    "#                      pd.DataFrame(dirceu_horario_03_rota_sdb_mat), pd.DataFrame(dirceu_horario_03_rota_sdc_mat),\n",
    "#                       pd.DataFrame(dirceu_horario_03_rota_timon_mat),  pd.DataFrame(dirceu_horario_03_sem_rota_mat)], ignore_index=True)\n",
    "# todas_mat = todas_mat['matricula']\n",
    "# dirceu_horario_03_mat_total = dirceu_horario_03_mat_total['matricula']\n",
    "# matricula_fantasma = list(set(dirceu_horario_03_mat_total) - set(todas_mat))\n",
    "# matricula_fantasma"
   ]
  },
  {
   "cell_type": "code",
   "execution_count": 31,
   "metadata": {},
   "outputs": [
    {
     "data": {
      "text/plain": [
       "197631    1\n",
       "238747    1\n",
       "220818    1\n",
       "220820    1\n",
       "238742    1\n",
       "220823    1\n",
       "197784    1\n",
       "225325    1\n",
       "244892    1\n",
       "220796    1\n",
       "Name: matricula, dtype: int64"
      ]
     },
     "execution_count": 31,
     "metadata": {},
     "output_type": "execute_result"
    }
   ],
   "source": [
    "# REPETIDAS\n",
    "\n",
    "matriculas = ver_repetidos.index.value_counts()\n",
    "matriculas.head(10)"
   ]
  },
  {
   "cell_type": "code",
   "execution_count": 32,
   "metadata": {},
   "outputs": [
    {
     "data": {
      "text/plain": [
       "Int64Index([230003, 242393, 238955, 225711, 242489, 237672, 225685, 248045,\n",
       "            129888, 166445,\n",
       "            ...\n",
       "            243730, 197461, 197536, 221141, 225438, 237198, 220970, 239824,\n",
       "            197585, 239862],\n",
       "           dtype='int64', name='matricula', length=279)"
      ]
     },
     "execution_count": 32,
     "metadata": {},
     "output_type": "execute_result"
    }
   ],
   "source": [
    "todas_matriculas = novos_ativos_inativos.index\n",
    "todas_matriculas"
   ]
  },
  {
   "cell_type": "code",
   "execution_count": null,
   "metadata": {},
   "outputs": [],
   "source": []
  }
 ],
 "metadata": {
  "kernelspec": {
   "display_name": "Python 3",
   "language": "python",
   "name": "python3"
  },
  "language_info": {
   "codemirror_mode": {
    "name": "ipython",
    "version": 3
   },
   "file_extension": ".py",
   "mimetype": "text/x-python",
   "name": "python",
   "nbconvert_exporter": "python",
   "pygments_lexer": "ipython3",
   "version": "3.7.5"
  }
 },
 "nbformat": 4,
 "nbformat_minor": 4
}
