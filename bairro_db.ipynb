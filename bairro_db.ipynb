{
 "cells": [
  {
   "cell_type": "code",
   "execution_count": 1,
   "metadata": {},
   "outputs": [],
   "source": [
    "import pandas as pd"
   ]
  },
  {
   "cell_type": "code",
   "execution_count": 2,
   "metadata": {},
   "outputs": [],
   "source": [
    "bd = pd.read_excel('BD USUARIOS.xlsx')\n",
    "bd = bd.set_index('matricula')"
   ]
  },
  {
   "cell_type": "code",
   "execution_count": 3,
   "metadata": {},
   "outputs": [],
   "source": [
    "bairros = bd['bairro']"
   ]
  },
  {
   "cell_type": "code",
   "execution_count": 4,
   "metadata": {},
   "outputs": [],
   "source": [
    "bairros = bairros.to_dict()"
   ]
  },
  {
   "cell_type": "code",
   "execution_count": 5,
   "metadata": {},
   "outputs": [],
   "source": [
    "sabado_dirceu = pd.read_excel('CONTIGENCIA E FRETADO12.04.2020.xlsx',sheet_name='DIRCEU')\n",
    "sabado_dirceu = sabado_dirceu.set_index('matricula')\n",
    "sabado_dirceu['bairro_bd'] = sabado_dirceu.index.map(bairros)\n",
    "sabado_dirceu['bairro_bd'] = sabado_dirceu['bairro_bd'].fillna(sabado_dirceu['bairro'])\n",
    "sabado_dirceu['bairro'] = sabado_dirceu['bairro_bd']\n",
    "sabado_dirceu = sabado_dirceu.drop(columns='bairro_bd')\n"
   ]
  },
  {
   "cell_type": "code",
   "execution_count": 6,
   "metadata": {},
   "outputs": [],
   "source": [
    "# domingo_dirceu = pd.read_excel('ESCALA FINAL DE SEMANA 04 E 05 SAO PEDRO E DIRCEU.xlsx',sheet_name='DOMINGO_D')\n",
    "# domingo_dirceu = domingo_dirceu.set_index('matricula')\n",
    "# domingo_dirceu['bairro_bd'] = domingo_dirceu.index.map(bairros)\n",
    "# domingo_dirceu['bairro_bd'] = domingo_dirceu['bairro_bd'].fillna(domingo_dirceu['bairro'])\n",
    "# domingo_dirceu['bairro'] = domingo_dirceu['bairro_bd']\n",
    "# domingo_dirceu = domingo_dirceu.drop(columns='bairro_bd')\n"
   ]
  },
  {
   "cell_type": "code",
   "execution_count": 7,
   "metadata": {},
   "outputs": [],
   "source": [
    "sabado_sao_pedro = pd.read_excel('CONTIGENCIA E FRETADO12.04.2020.xlsx',sheet_name='SP')\n",
    "sabado_sao_pedro = sabado_sao_pedro.set_index('matricula')\n",
    "sabado_sao_pedro['bairro_bd'] = sabado_sao_pedro.index.map(bairros)\n",
    "sabado_sao_pedro['bairro_bd'] = sabado_sao_pedro['bairro_bd'].fillna(sabado_sao_pedro['bairro'])\n",
    "sabado_sao_pedro['bairro'] = sabado_sao_pedro['bairro_bd']\n",
    "sabado_sao_pedro = sabado_sao_pedro.drop(columns='bairro_bd')\n"
   ]
  },
  {
   "cell_type": "code",
   "execution_count": 8,
   "metadata": {},
   "outputs": [],
   "source": [
    "# domingo_sao_pedro = pd.read_excel('ESCALA FINAL DE SEMANA 04 E 05 SAO PEDRO E DIRCEU.xlsx',sheet_name='DOMINGO_SP')\n",
    "# domingo_sao_pedro = domingo_sao_pedro.set_index('matricula')\n",
    "# domingo_sao_pedro['bairro_bd'] = domingo_sao_pedro.index.map(bairros)\n",
    "# domingo_sao_pedro['bairro_bd'] = domingo_sao_pedro['bairro_bd'].fillna(domingo_sao_pedro['bairro'])\n",
    "# domingo_sao_pedro['bairro'] = domingo_sao_pedro['bairro_bd']\n",
    "# domingo_sao_pedro = domingo_sao_pedro.drop(columns='bairro_bd')"
   ]
  },
  {
   "cell_type": "code",
   "execution_count": 9,
   "metadata": {},
   "outputs": [],
   "source": [
    "fds_alma_viva = pd.ExcelWriter('ALMA_VIVA_CONT_12_04_2020.xlsx', engine='xlsxwriter')\n",
    "sabado_dirceu.to_excel(fds_alma_viva, sheet_name='DIRCEU')\n",
    "# domingo_dirceu.to_excel(fds_alma_viva, sheet_name='domingo_dirceu')\n",
    "sabado_sao_pedro.to_excel(fds_alma_viva, sheet_name='SP')\n",
    "# domingo_sao_pedro.to_excel(fds_alma_viva, sheet_name='domingo_sao_pedro')\n",
    "fds_alma_viva.save()"
   ]
  },
  {
   "cell_type": "code",
   "execution_count": null,
   "metadata": {},
   "outputs": [],
   "source": []
  }
 ],
 "metadata": {
  "kernelspec": {
   "display_name": "Python 3",
   "language": "python",
   "name": "python3"
  },
  "language_info": {
   "codemirror_mode": {
    "name": "ipython",
    "version": 3
   },
   "file_extension": ".py",
   "mimetype": "text/x-python",
   "name": "python",
   "nbconvert_exporter": "python",
   "pygments_lexer": "ipython3",
   "version": "3.7.5"
  }
 },
 "nbformat": 4,
 "nbformat_minor": 4
}
