{
 "cells": [
  {
   "cell_type": "code",
   "execution_count": 1,
   "metadata": {},
   "outputs": [],
   "source": [
    "import pandas as pd\n",
    "import os\n",
    "leitura_dirceu = '2020_04_12_DIRCEU_horario_01.xlsx'\n",
    "leitura_sao_pedro = '2020_04_12_SÃO PEDRO_horario_01.xlsx'\n",
    "titulo_01 = 'ALMA_VIVA_2020_04_12_horario_01.xlsx'"
   ]
  },
  {
   "cell_type": "code",
   "execution_count": 2,
   "metadata": {},
   "outputs": [],
   "source": [
    "sao_pedro_norte = pd.read_excel(leitura_sao_pedro, sheet_name='NORTE')\n",
    "sao_pedro_sul = pd.read_excel(leitura_sao_pedro, sheet_name='SUL')\n",
    "sao_pedro_leste = pd.read_excel(leitura_sao_pedro, sheet_name='LESTE')\n",
    "sao_pedro_sdc = pd.read_excel(leitura_sao_pedro, sheet_name='SDC')\n",
    "sao_pedro_sdb = pd.read_excel(leitura_sao_pedro, sheet_name='SDB')\n",
    "sao_pedro_centro = pd.read_excel(leitura_sao_pedro, sheet_name='CENTRO')\n",
    "sao_pedro_timon = pd.read_excel(leitura_sao_pedro, sheet_name='TIMON')"
   ]
  },
  {
   "cell_type": "code",
   "execution_count": 3,
   "metadata": {},
   "outputs": [],
   "source": [
    "dirceu_norte = pd.read_excel(leitura_dirceu, sheet_name='NORTE')\n",
    "dirceu_sul = pd.read_excel(leitura_dirceu, sheet_name='SUL')\n",
    "dirceu_leste = pd.read_excel(leitura_dirceu, sheet_name='LESTE')\n",
    "dirceu_sdc = pd.read_excel(leitura_dirceu, sheet_name='SDC')\n",
    "dirceu_sdb = pd.read_excel(leitura_dirceu, sheet_name='SDB')\n",
    "dirceu_centro = pd.read_excel(leitura_dirceu, sheet_name='CENTRO')\n",
    "dirceu_timon = pd.read_excel(leitura_dirceu, sheet_name='TIMON')"
   ]
  },
  {
   "cell_type": "code",
   "execution_count": 4,
   "metadata": {},
   "outputs": [],
   "source": [
    "sao_pedro_norte['filial'] = 'SÃO PEDRO'\n",
    "sao_pedro_leste['filial'] = 'SÃO PEDRO'\n",
    "sao_pedro_sul['filial'] = 'SÃO PEDRO'\n",
    "sao_pedro_sdc['filial'] = 'SÃO PEDRO'\n",
    "sao_pedro_sdb['filial'] = 'SÃO PEDRO'\n",
    "sao_pedro_centro['filial'] = 'SÃO PEDRO'\n",
    "sao_pedro_timon['filial'] = 'SÃO PEDRO'\n",
    "ordem = ['filial','matricula','nome','rua','numero','bairro','zona','horario','assinatura','status_frequencia']\n",
    "sao_pedro_norte = sao_pedro_norte[ordem]\n",
    "sao_pedro_leste = sao_pedro_leste[ordem]\n",
    "sao_pedro_sul = sao_pedro_sul[ordem]\n",
    "sao_pedro_sdc =sao_pedro_sdc[ordem]\n",
    "sao_pedro_sdb = sao_pedro_sdb[ordem]\n",
    "sao_pedro_centro = sao_pedro_centro[ordem]\n",
    "sao_pedro_timon = sao_pedro_timon[ordem]"
   ]
  },
  {
   "cell_type": "code",
   "execution_count": 5,
   "metadata": {},
   "outputs": [],
   "source": [
    "dirceu_norte['filial'] = 'DIRCEU'\n",
    "dirceu_leste['filial'] = 'DIRCEU'\n",
    "dirceu_sul['filial'] = 'DIRCEU'\n",
    "dirceu_sdc['filial'] = 'DIRCEU'\n",
    "dirceu_sdb['filial'] = 'DIRCEU'\n",
    "dirceu_centro['filial'] = 'DIRCEU'\n",
    "dirceu_timon['filial'] = 'DIRCEU'\n",
    "dirceu_norte = dirceu_norte[ordem]\n",
    "dirceu_leste = dirceu_leste[ordem]\n",
    "dirceu_sul = dirceu_sul[ordem]\n",
    "dirceu_sdc = dirceu_sdc[ordem]\n",
    "dirceu_sdb = dirceu_sdb[ordem]\n",
    "dirceu_centro = dirceu_centro[ordem]\n",
    "dirceu_timon = dirceu_timon[ordem]"
   ]
  },
  {
   "cell_type": "code",
   "execution_count": 6,
   "metadata": {},
   "outputs": [],
   "source": [
    "def contagem(celula):\n",
    "    conta = 0\n",
    "    for each in celula:\n",
    "        if each == 'ATIVO':\n",
    "            conta = conta + 1\n",
    "    return conta\n"
   ]
  },
  {
   "cell_type": "code",
   "execution_count": 7,
   "metadata": {},
   "outputs": [],
   "source": [
    "if contagem(dirceu_sul['status_frequencia']) + contagem(sao_pedro_sul['status_frequencia']) < 8:\n",
    "    integracao_sul_horario_01 = pd.concat([dirceu_sul, sao_pedro_sul], ignore_index=True)\n",
    "    if contagem(dirceu_sul['status_frequencia']) == 0 or contagem(sao_pedro_sul['status_frequencia']) == 0:    \n",
    "        integracao_sul_horario_01 = None  \n",
    "else:\n",
    "    integracao_sul_horario_01 = None\n",
    "\n",
    "if contagem(sao_pedro_leste['status_frequencia']) + contagem(dirceu_leste['status_frequencia']) < 8:    \n",
    "    integracao_leste_horario_01 = pd.concat([dirceu_leste, sao_pedro_leste], ignore_index=True)\n",
    "    if contagem(sao_pedro_leste['status_frequencia']) == 0 or contagem(dirceu_leste['status_frequencia']) == 0:    \n",
    "        integracao_leste_horario_01 = None  \n",
    "else:\n",
    "    integracao_leste_horario_01 = None\n",
    "\n",
    "if contagem(sao_pedro_norte['status_frequencia']) + contagem(dirceu_norte['status_frequencia']) < 8:    \n",
    "    integracao_norte_horario_01 = pd.concat([dirceu_norte, sao_pedro_norte], ignore_index=True)\n",
    "    if contagem(sao_pedro_norte['status_frequencia']) == 0 or contagem(dirceu_norte['status_frequencia']) == 0:    \n",
    "        integracao_norte_horario_01 = None  \n",
    "else:\n",
    "    integracao_norte_horario_01 = None\n",
    "\n",
    "if contagem(sao_pedro_timon['status_frequencia']) + contagem(dirceu_timon['status_frequencia']) < 8:     \n",
    "    integracao_timon_horario_01 = pd.concat([dirceu_timon, sao_pedro_timon], ignore_index=True)\n",
    "    if contagem(sao_pedro_timon['status_frequencia']) == 0 or contagem(dirceu_timon['status_frequencia']) == 0:    \n",
    "        integracao_timon_horario_01 = None  \n",
    "else:\n",
    "    integracao_timon_horario_01 = None\n",
    "    \n",
    "\n",
    "if contagem(dirceu_sdb['status_frequencia']) + contagem(dirceu_sdc['status_frequencia']) < 8:     \n",
    "    integracao_dirceu_sdc_sdb_horario_01 = pd.concat([dirceu_sdb, dirceu_sdc], ignore_index=True)\n",
    "    if contagem(dirceu_sdb['status_frequencia']) == 0 or contagem(dirceu_sdc['status_frequencia']) == 0:    \n",
    "        integracao_timon_horario_01 = None  \n",
    "else:\n",
    "    integracao_dirceu_sdc_sdb_horario_01 = None\n",
    "\n",
    "if contagem(sao_pedro_centro['status_frequencia']) + contagem(sao_pedro_sdc['status_frequencia']) + contagem(sao_pedro_sdb['status_frequencia']) < 8: \n",
    "    integracao_sao_pedro_centro_sdc_sdb_horario_01 = pd.concat([sao_pedro_centro, sao_pedro_sdc, sao_pedro_sdb], ignore_index=True)\n",
    "else:\n",
    "    integracao_sao_pedro_centro_sdc_sdb_horario_01 = None"
   ]
  },
  {
   "cell_type": "code",
   "execution_count": null,
   "metadata": {},
   "outputs": [],
   "source": []
  },
  {
   "cell_type": "code",
   "execution_count": 8,
   "metadata": {},
   "outputs": [],
   "source": [
    "rotas_horario_01 = pd.ExcelWriter(titulo_01, engine='xlsxwriter')\n",
    "if integracao_sul_horario_01 is None:\n",
    "    dirceu_sul.to_excel(rotas_horario_01, index=False,sheet_name='dirceu_sul')\n",
    "    sao_pedro_sul.to_excel(rotas_horario_01, index=False,sheet_name='sao_pedro_sul')\n",
    "    soma_sul = len(dirceu_sul) + len(dirceu_sul)\n",
    "else:\n",
    "    integracao_sul_horario_01.to_excel(rotas_horario_01,index=False, sheet_name='integracao_sul')\n",
    "    soma_sul = len(integracao_sul_horario_01)\n",
    "\n",
    "if integracao_leste_horario_01 is None:\n",
    "    sao_pedro_leste.to_excel(rotas_horario_01,index=False, sheet_name='sao_pedro_leste')\n",
    "    dirceu_leste.to_excel(rotas_horario_01,index=False, sheet_name='dirceu_leste')\n",
    "    soma_leste = len(sao_pedro_leste) + len(dirceu_leste)\n",
    "else:\n",
    "    integracao_leste_horario_01.to_excel(rotas_horario_01,index=False, sheet_name='integracao_leste')\n",
    "    soma_leste = len(integracao_leste_horario_01)\n",
    "    \n",
    "if integracao_norte_horario_01 is None:\n",
    "    sao_pedro_norte.to_excel(rotas_horario_01, index=False, sheet_name='sao_pedro_norte')\n",
    "    dirceu_norte.to_excel(rotas_horario_01, index=False, sheet_name='dirceu_norte')\n",
    "    soma_norte = len(sao_pedro_norte) + len(dirceu_norte)\n",
    "else:\n",
    "    integracao_norte_horario_01.to_excel(rotas_horario_01, index=False, sheet_name='integracao_norte')\n",
    "    soma_norte = len(integracao_norte_horario_01)\n",
    "    \n",
    "if integracao_timon_horario_01 is None:\n",
    "    sao_pedro_timon.to_excel(rotas_horario_01, index=False, sheet_name='sao_pedro_timon')\n",
    "    dirceu_timon.to_excel(rotas_horario_01, index=False, sheet_name='dirceu_timon')\n",
    "    soma_timon = len(sao_pedro_timon) + len(dirceu_timon)\n",
    "else:\n",
    "    integracao_timon_horario_01.to_excel(rotas_horario_01, index=False, sheet_name='integracao_timon')\n",
    "    soma_timon = len(integracao_timon_horario_01)\n",
    "    \n",
    "if integracao_dirceu_sdc_sdb_horario_01 is None:\n",
    "    dirceu_sdb.to_excel(rotas_horario_01, index=False, sheet_name='dirceu_sdb')\n",
    "    dirceu_sdc.to_excel(rotas_horario_01, index=False, sheet_name='dirceu_sdc')\n",
    "    soma_dirceu_sdc_sdb = len(dirceu_sdb) + len(dirceu_sdc)\n",
    "else:\n",
    "    integracao_dirceu_sdc_sdb_horario_01.to_excel(rotas_horario_01, index=False, sheet_name='integracao_dirceu_sdc_sdb')\n",
    "    soma_dirceu_sdc_sdb = len(integracao_dirceu_sdc_sdb_horario_01)\n",
    "    \n",
    "if integracao_sao_pedro_centro_sdc_sdb_horario_01 is None:\n",
    "    sao_pedro_centro.to_excel(rotas_horario_01, index=False, sheet_name='sao_pedro_centro')\n",
    "    sao_pedro_sdc.to_excel(rotas_horario_01, index=False, sheet_name='sao_pedro_sdc')\n",
    "    sao_pedro_sdb.to_excel(rotas_horario_01, index=False, sheet_name='sao_pedro_sdb')\n",
    "    soma_sao_pedro_centro_sdc_sdb = len(sao_pedro_centro) + len(sao_pedro_sdc) + len(sao_pedro_sdb)\n",
    "else:\n",
    "    integracao_sao_pedro_centro_sdc_sdb_horario_01.to_excel(rotas_horario_01, index=False, sheet_name='integracao_sp_centro_sdc_sdb')\n",
    "    soma_sao_pedro_centro_sdc_sdb = len(integracao_sao_pedro_centro_sdc_sdb_horario_01)\n",
    "dirceu_centro.to_excel(rotas_horario_01, index=False, sheet_name='dirceu_centro')\n",
    "    \n",
    "rotas_horario_01.save()"
   ]
  },
  {
   "cell_type": "code",
   "execution_count": null,
   "metadata": {},
   "outputs": [],
   "source": []
  },
  {
   "cell_type": "markdown",
   "metadata": {},
   "source": [
    "## "
   ]
  }
 ],
 "metadata": {
  "kernelspec": {
   "display_name": "Python 3",
   "language": "python",
   "name": "python3"
  },
  "language_info": {
   "codemirror_mode": {
    "name": "ipython",
    "version": 3
   },
   "file_extension": ".py",
   "mimetype": "text/x-python",
   "name": "python",
   "nbconvert_exporter": "python",
   "pygments_lexer": "ipython3",
   "version": "3.7.5"
  }
 },
 "nbformat": 4,
 "nbformat_minor": 4
}
