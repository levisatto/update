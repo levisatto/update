{
 "cells": [
  {
   "cell_type": "code",
   "execution_count": 1,
   "metadata": {},
   "outputs": [],
   "source": [
    "import pandas as pd"
   ]
  },
  {
   "cell_type": "code",
   "execution_count": 2,
   "metadata": {},
   "outputs": [],
   "source": [
    "diurno = pd.read_excel('CONTIGENCIA E FRETADO 10 e 12.04.2020.xlsx', sheet_name='contig 10')\n",
    "rotas_bairros = pd.read_excel('rotas_final.xlsx')"
   ]
  },
  {
   "cell_type": "code",
   "execution_count": 3,
   "metadata": {},
   "outputs": [],
   "source": [
    "diurno = diurno.set_index('RH')\n",
    "norte = rotas_bairros['NORTE']\n",
    "sul = rotas_bairros['SUL']\n",
    "leste = rotas_bairros['LESTE']\n",
    "centro = rotas_bairros['CENTRO']\n",
    "sdb = rotas_bairros['SDB']\n",
    "sdc = rotas_bairros['SDC']\n",
    "todos = rotas_bairros['TODAS']"
   ]
  },
  {
   "cell_type": "code",
   "execution_count": 4,
   "metadata": {},
   "outputs": [],
   "source": [
    "diurno['ENTRADA'] = diurno['ENTRADA'].astype(str).str.replace(':', '').str.replace('-','').str.replace('19000101 ', '').str.strip().astype(int)\n",
    "diurno['SAÍDA'] = diurno['SAÍDA'].astype(str).str.replace(':', '').str.replace('-','').str.replace('19000101 ', '').str.strip().astype(int)"
   ]
  },
  {
   "cell_type": "code",
   "execution_count": null,
   "metadata": {},
   "outputs": [],
   "source": []
  },
  {
   "cell_type": "code",
   "execution_count": 5,
   "metadata": {},
   "outputs": [],
   "source": [
    "diurno_sem_rota = diurno[(~diurno['Bairro'].isin(todos)) & (diurno['Cidade'] == 'Teresina')]\n",
    "diurno_rota_norte = diurno[(diurno['Bairro'].isin(norte)) & (diurno['Cidade'] == 'Teresina')]\n",
    "diurno_rota_sul = diurno[(diurno['Bairro'].isin(sul)) & (diurno['Cidade'] == 'Teresina')]\n",
    "diurno_rota_leste = diurno[(diurno['Bairro'].isin(leste)) & (diurno['Cidade'] == 'Teresina')]\n",
    "diurno_rota_centro = diurno[(diurno['Bairro'].isin(centro)) & (diurno['Cidade'] == 'Teresina')]\n",
    "diurno_rota_sdb = diurno[(diurno['Bairro'].isin(sdb)) & (diurno['Cidade'] == 'Teresina')]\n",
    "diurno_rota_sdc = diurno[(diurno['Bairro'].isin(sdc)) & (diurno['Cidade'] == 'Teresina')]\n",
    "diurno_rota_timon = diurno[diurno['Cidade'] == 'Timon']"
   ]
  },
  {
   "cell_type": "code",
   "execution_count": 6,
   "metadata": {},
   "outputs": [
    {
     "data": {
      "text/html": [
       "<div>\n",
       "<style scoped>\n",
       "    .dataframe tbody tr th:only-of-type {\n",
       "        vertical-align: middle;\n",
       "    }\n",
       "\n",
       "    .dataframe tbody tr th {\n",
       "        vertical-align: top;\n",
       "    }\n",
       "\n",
       "    .dataframe thead th {\n",
       "        text-align: right;\n",
       "    }\n",
       "</style>\n",
       "<table border=\"1\" class=\"dataframe\">\n",
       "  <thead>\n",
       "    <tr style=\"text-align: right;\">\n",
       "      <th></th>\n",
       "      <th>OPERADOR</th>\n",
       "      <th>ENTRADA</th>\n",
       "      <th>SAÍDA</th>\n",
       "      <th>operação</th>\n",
       "      <th>Site</th>\n",
       "      <th>Rua</th>\n",
       "      <th>N</th>\n",
       "      <th>Bairro</th>\n",
       "      <th>Cidade</th>\n",
       "    </tr>\n",
       "    <tr>\n",
       "      <th>RH</th>\n",
       "      <th></th>\n",
       "      <th></th>\n",
       "      <th></th>\n",
       "      <th></th>\n",
       "      <th></th>\n",
       "      <th></th>\n",
       "      <th></th>\n",
       "      <th></th>\n",
       "      <th></th>\n",
       "    </tr>\n",
       "  </thead>\n",
       "  <tbody>\n",
       "    <tr>\n",
       "      <th>81782</th>\n",
       "      <td>ANDERSON DE SOUSA MOTA</td>\n",
       "      <td>170000</td>\n",
       "      <td>231000</td>\n",
       "      <td>FRETADO</td>\n",
       "      <td>Dirceu</td>\n",
       "      <td>RUA CEARA</td>\n",
       "      <td>2266</td>\n",
       "      <td>FATIMA</td>\n",
       "      <td>Teresina</td>\n",
       "    </tr>\n",
       "    <tr>\n",
       "      <th>139995</th>\n",
       "      <td>PABLO DA SILVA CRUZ</td>\n",
       "      <td>164000</td>\n",
       "      <td>225000</td>\n",
       "      <td>FRETADO</td>\n",
       "      <td>Dirceu</td>\n",
       "      <td>RUA INDIANA</td>\n",
       "      <td>3109</td>\n",
       "      <td>VALE QUEM TEM</td>\n",
       "      <td>Teresina</td>\n",
       "    </tr>\n",
       "  </tbody>\n",
       "</table>\n",
       "</div>"
      ],
      "text/plain": [
       "                      OPERADOR  ENTRADA   SAÍDA operação    Site          Rua  \\\n",
       "RH                                                                              \n",
       "81782   ANDERSON DE SOUSA MOTA   170000  231000  FRETADO  Dirceu    RUA CEARA   \n",
       "139995     PABLO DA SILVA CRUZ   164000  225000  FRETADO  Dirceu  RUA INDIANA   \n",
       "\n",
       "           N         Bairro    Cidade  \n",
       "RH                                     \n",
       "81782   2266         FATIMA  Teresina  \n",
       "139995  3109  VALE QUEM TEM  Teresina  "
      ]
     },
     "execution_count": 6,
     "metadata": {},
     "output_type": "execute_result"
    }
   ],
   "source": [
    "diurno_rota_leste"
   ]
  },
  {
   "cell_type": "code",
   "execution_count": 7,
   "metadata": {},
   "outputs": [
    {
     "data": {
      "text/plain": [
       "(0, 10, 13, 2, 13, 5, 4, 0)"
      ]
     },
     "execution_count": 7,
     "metadata": {},
     "output_type": "execute_result"
    }
   ],
   "source": [
    "len(diurno_sem_rota),len(diurno_rota_norte),len(diurno_rota_sul),len(diurno_rota_leste),len(diurno_rota_centro),len(diurno_rota_sdb),len(diurno_rota_sdc),len(diurno_rota_timon)"
   ]
  },
  {
   "cell_type": "code",
   "execution_count": 8,
   "metadata": {},
   "outputs": [
    {
     "name": "stdout",
     "output_type": "stream",
     "text": [
      "174000    4\n",
      "164000    3\n",
      "175000    1\n",
      "143000    1\n",
      "174500    1\n",
      "170000    1\n",
      "173000    1\n",
      "190000    1\n",
      "Name: ENTRADA, dtype: int64\n",
      "4 7 1\n"
     ]
    }
   ],
   "source": [
    "print(diurno_rota_sul['ENTRADA'].value_counts())\n",
    "diurno_rota_sul_01 = diurno_rota_sul[(diurno_rota_sul['ENTRADA'] >= 150000) & (diurno_rota_sul['ENTRADA'] <= 170000)]\n",
    "diurno_rota_sul_02 = diurno_rota_sul[(diurno_rota_sul['ENTRADA'] > 170000) & (diurno_rota_sul['ENTRADA'] <= 175000)]\n",
    "diurno_rota_sul_03 = diurno_rota_sul[(diurno_rota_sul['ENTRADA'] > 175000) & (diurno_rota_sul['ENTRADA'] <= 190000)]\n",
    "print(len(diurno_rota_sul_01), len(diurno_rota_sul_02), len(diurno_rota_sul_03))\n",
    "\n",
    "diurno_rota_sul = pd.ExcelWriter('diurno_rota_sul.xlsx', engine='xlsxwriter')\n",
    "\n",
    "diurno_rota_sul_01.to_excel(diurno_rota_sul, sheet_name='diurno_rota_sul_01')\n",
    "diurno_rota_sul_02.to_excel(diurno_rota_sul, sheet_name='diurno_rota_sul_02')\n",
    "diurno_rota_sul_03.to_excel(diurno_rota_sul, sheet_name='diurno_rota_sul_03')\n",
    "\n",
    "diurno_rota_sul.save()\n"
   ]
  },
  {
   "cell_type": "code",
   "execution_count": 9,
   "metadata": {},
   "outputs": [
    {
     "name": "stdout",
     "output_type": "stream",
     "text": [
      "174000    3\n",
      "171000    2\n",
      "164000    2\n",
      "165000    1\n",
      "190000    1\n",
      "170000    1\n",
      "Name: ENTRADA, dtype: int64\n",
      "4 5 1\n"
     ]
    }
   ],
   "source": [
    "print(diurno_rota_norte['ENTRADA'].value_counts())\n",
    "diurno_rota_norte_01 = diurno_rota_norte[(diurno_rota_norte['ENTRADA'] >= 150000) & (diurno_rota_norte['ENTRADA'] <= 170000)]\n",
    "diurno_rota_norte_02 = diurno_rota_norte[(diurno_rota_norte['ENTRADA'] > 170000) & (diurno_rota_norte['ENTRADA'] <= 174500)]\n",
    "diurno_rota_norte_03 = diurno_rota_norte[(diurno_rota_norte['ENTRADA'] > 174500) & (diurno_rota_norte['ENTRADA'] <= 194500)]\n",
    "print(len(diurno_rota_norte_01),len(diurno_rota_norte_02),len(diurno_rota_norte_03))\n",
    "\n",
    "diurno_rota_norte = pd.ExcelWriter('diurno_rota_norte.xlsx', engine='xlsxwriter')\n",
    "\n",
    "diurno_rota_norte_01.to_excel(diurno_rota_norte, sheet_name='diurno_rota_norte_01')\n",
    "diurno_rota_norte_02.to_excel(diurno_rota_norte, sheet_name='diurno_rota_norte_02')\n",
    "diurno_rota_norte_03.to_excel(diurno_rota_norte, sheet_name='diurno_rota_norte_03')\n",
    "\n",
    "diurno_rota_norte.save()"
   ]
  },
  {
   "cell_type": "code",
   "execution_count": 10,
   "metadata": {},
   "outputs": [
    {
     "name": "stdout",
     "output_type": "stream",
     "text": [
      "9\n"
     ]
    }
   ],
   "source": [
    "\n",
    "diurno_rota_leste_01 = diurno_rota_leste[(diurno_rota_leste['ENTRADA'] >= 150000) & (diurno_rota_leste['ENTRADA'] <= 170000)]\n",
    "diurno_rota_centro_01 = diurno_rota_centro[(diurno_rota_centro['ENTRADA'] >= 150000) & (diurno_rota_centro['ENTRADA'] <= 170000)]\n",
    "diurno_rota_centro_leste_01 = pd.concat([diurno_rota_leste_01, diurno_rota_centro_01])\n",
    "print(len(diurno_rota_centro_leste_01))\n",
    "diurno_rota_centro_leste = pd.ExcelWriter('diurno_rota_centro_leste.xlsx', engine='xlsxwriter')\n",
    "\n",
    "diurno_rota_centro_leste_01.to_excel(diurno_rota_centro_leste, sheet_name='diurno_rota_centro_leste_01')\n",
    "\n",
    "diurno_rota_centro_leste.save()"
   ]
  },
  {
   "cell_type": "code",
   "execution_count": 11,
   "metadata": {},
   "outputs": [
    {
     "name": "stdout",
     "output_type": "stream",
     "text": [
      "164000    5\n",
      "174000    4\n",
      "165000    1\n",
      "174500    1\n",
      "170000    1\n",
      "190000    1\n",
      "Name: ENTRADA, dtype: int64\n",
      "5\n"
     ]
    }
   ],
   "source": [
    "print(diurno_rota_centro['ENTRADA'].value_counts())\n",
    "\n",
    "diurno_rota_centro_02 = diurno_rota_centro[(diurno_rota_centro['ENTRADA'] > 170000) & (diurno_rota_centro['ENTRADA'] <= 174500)]\n",
    "print(len(diurno_rota_centro_02))\n",
    "\n",
    "diurno_rota_centro = pd.ExcelWriter('diurno_rota_centro.xlsx', engine='xlsxwriter')\n",
    "\n",
    "diurno_rota_centro_02.to_excel(diurno_rota_centro_leste, sheet_name='diurno_rota_centro_02')\n",
    "\n",
    "diurno_rota_centro.save()"
   ]
  },
  {
   "cell_type": "code",
   "execution_count": 12,
   "metadata": {},
   "outputs": [
    {
     "name": "stdout",
     "output_type": "stream",
     "text": [
      "170000    1\n",
      "164000    1\n",
      "174500    1\n",
      "175000    1\n",
      "165000    1\n",
      "Name: ENTRADA, dtype: int64\n",
      "5\n"
     ]
    }
   ],
   "source": [
    "print(diurno_rota_sdb['ENTRADA'].value_counts())\n",
    "diurno_rota_sdb_01 = diurno_rota_sdb[(diurno_rota_sdb['ENTRADA'] >= 150000) & (diurno_rota_sdb['ENTRADA'] <= 175000)]\n",
    "\n"
   ]
  },
  {
   "cell_type": "code",
   "execution_count": 13,
   "metadata": {},
   "outputs": [
    {
     "name": "stdout",
     "output_type": "stream",
     "text": [
      "164000    2\n",
      "180000    1\n",
      "173000    1\n",
      "Name: ENTRADA, dtype: int64\n",
      "4\n"
     ]
    }
   ],
   "source": [
    "print(diurno_rota_sdc['ENTRADA'].value_counts())\n",
    "diurno_rota_sdc_01 = diurno_rota_sdc[(diurno_rota_sdc['ENTRADA'] >= 150000) & (diurno_rota_sdc['ENTRADA'] <= 180000)]\n",
    "\n",
    "\n"
   ]
  },
  {
   "cell_type": "code",
   "execution_count": 14,
   "metadata": {},
   "outputs": [
    {
     "name": "stdout",
     "output_type": "stream",
     "text": [
      "9\n"
     ]
    }
   ],
   "source": [
    "diurno_rota_sudeste_01 = pd.concat([diurno_rota_sdb_01, diurno_rota_sdc_01])\n",
    "print(len(diurno_rota_sudeste_01))\n",
    "diurno_rota_sudeste = pd.ExcelWriter('diurno_rota_sudeste.xlsx', engine='xlsxwriter')\n",
    "\n",
    "diurno_rota_sudeste_01.to_excel(diurno_rota_sudeste, sheet_name='diurno_rota_sudeste_01')\n",
    "\n",
    "diurno_rota_sudeste.save()"
   ]
  },
  {
   "cell_type": "code",
   "execution_count": null,
   "metadata": {},
   "outputs": [],
   "source": []
  }
 ],
 "metadata": {
  "kernelspec": {
   "display_name": "Python 3",
   "language": "python",
   "name": "python3"
  },
  "language_info": {
   "codemirror_mode": {
    "name": "ipython",
    "version": 3
   },
   "file_extension": ".py",
   "mimetype": "text/x-python",
   "name": "python",
   "nbconvert_exporter": "python",
   "pygments_lexer": "ipython3",
   "version": "3.7.5"
  }
 },
 "nbformat": 4,
 "nbformat_minor": 4
}
