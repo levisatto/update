{
 "cells": [
  {
   "cell_type": "code",
   "execution_count": 1,
   "metadata": {},
   "outputs": [],
   "source": [
    "import pandas as pd\n",
    "from datetime import date\n",
    "import random\n",
    "from decimal import Decimal\n",
    "from math import isnan"
   ]
  },
  {
   "cell_type": "code",
   "execution_count": 2,
   "metadata": {},
   "outputs": [],
   "source": [
    "motoristas = pd.read_excel('motoristas.xlsx')\n",
    "folga = pd.read_excel('folga_semanal.xlsx')\n",
    "\n",
    "df = pd.read_excel('rotas escalas1.xlsx', sheet_name='Plan1')\n",
    "veiculos = pd.read_excel('rotas escalas1.xlsx', sheet_name='Plan2')\n",
    "\n",
    "df_1 = df[['ROTAS', 'TURNO', 'VEÍCULO', 'Domingo']]\n",
    "df_2 = df[['ROTAS', 'TURNO', 'VEÍCULO', 'Segunda-feira']]\n",
    "df_3 = df[['ROTAS', 'TURNO', 'VEÍCULO', 'Terça-feira']]\n",
    "df_4 = df[['ROTAS', 'TURNO', 'VEÍCULO', 'Quarta-feira']]\n",
    "df_5 = df[['ROTAS', 'TURNO', 'VEÍCULO', 'Quinta-feira']]\n",
    "df_6 = df[['ROTAS', 'TURNO', 'VEÍCULO', 'Sexta-feira']]\n",
    "df_7 = df[['ROTAS', 'TURNO', 'VEÍCULO', 'Sábado']]\n",
    "\n",
    "motoristas = list(motoristas['MOTORISTAS'])\n",
    "\n",
    "carga = {}"
   ]
  },
  {
   "cell_type": "code",
   "execution_count": 3,
   "metadata": {},
   "outputs": [
    {
     "name": "stdout",
     "output_type": "stream",
     "text": [
      "{'Ducato 1': ['VALDECI', 'PAULO HENRIQUE', 'JEFERSON'], 'Ducato 2': ['JACKSON', 'RAULINO', 'EDVALDO', 'JEFERSON'], 'Jumpy': ['PAULO HENRIQUE', 'ADONIRAN', 'WELISON'], 'QNB 5540 ': ['JEFERSON', 'WELISON', 'PAULO HENRIQUE'], 'QNK 7462': ['JEFERSON', 'WELISON', 'VALDECI'], 'Mercedes ': ['RAULINO', 'JACKSON', 'ADONIRAN'], 'Lalita': ['LEONARDO']}\n"
     ]
    }
   ],
   "source": [
    "veiculos = veiculos.to_dict('list')\n",
    "import simplejson\n",
    "veiculos  = simplejson.loads(simplejson.dumps(veiculos, ignore_nan=True)) \n",
    "for l in veiculos.values():\n",
    "    \n",
    "    if 0 in l: l.remove(0)    \n",
    "    for l in veiculos.values():\n",
    "        if 0 in l: l.remove(0)\n",
    "\n",
    "print(veiculos)"
   ]
  },
  {
   "cell_type": "code",
   "execution_count": 4,
   "metadata": {},
   "outputs": [],
   "source": [
    "import numpy as np\n",
    "def setdiff_sorted(array1,array2,assume_unique=False):\n",
    "    ans = np.setdiff1d(array1,array2,assume_unique).tolist()\n",
    "    if assume_unique:\n",
    "        return sorted(ans)\n",
    "    return ans\n",
    "\n",
    "def common_elements(list1, list2):\n",
    "    result = []\n",
    "    for element in list1:\n",
    "        if element in list2:\n",
    "            result.append(element)\n",
    "    return result"
   ]
  },
  {
   "cell_type": "code",
   "execution_count": 5,
   "metadata": {},
   "outputs": [
    {
     "data": {
      "text/plain": [
       "{'MAICON': 0,\n",
       " 'JACKSON': 0,\n",
       " 'WANDERLAN': 0,\n",
       " 'RAULINO': 0,\n",
       " 'VALDECI': 0,\n",
       " 'FERNANDO': 0,\n",
       " 'EDVALDO': 0,\n",
       " 'WELISON': 0,\n",
       " 'JEFERSON': 0,\n",
       " 'PAULO': 0,\n",
       " 'GESSIVALDO': 0,\n",
       " 'LUIZ GONZAGA': 0,\n",
       " 'KELSON': 0,\n",
       " 'PAULO HENRIQUE': 0,\n",
       " 'ADONIRAN': 0}"
      ]
     },
     "execution_count": 5,
     "metadata": {},
     "output_type": "execute_result"
    }
   ],
   "source": [
    "for each in motoristas:\n",
    "    carga[each] = 0\n",
    "carga"
   ]
  },
  {
   "cell_type": "code",
   "execution_count": 6,
   "metadata": {},
   "outputs": [
    {
     "name": "stdout",
     "output_type": "stream",
     "text": [
      "True\n",
      "True\n",
      "True\n",
      "True\n",
      "True\n",
      "True\n",
      "False\n",
      "False\n",
      "False\n",
      "False\n",
      "False\n",
      "False\n",
      "True\n"
     ]
    }
   ],
   "source": [
    "for indice, dado in enumerate(df_1['Domingo']):\n",
    "    print(type(df_1['Domingo'][indice]) == float)"
   ]
  },
  {
   "cell_type": "code",
   "execution_count": 7,
   "metadata": {},
   "outputs": [
    {
     "data": {
      "text/plain": [
       "{'Ducato 1': ['VALDECI', 'PAULO HENRIQUE', 'JEFERSON'],\n",
       " 'Ducato 2': ['JACKSON', 'RAULINO', 'EDVALDO', 'JEFERSON'],\n",
       " 'Jumpy': ['PAULO HENRIQUE', 'ADONIRAN', 'WELISON'],\n",
       " 'QNB 5540 ': ['JEFERSON', 'WELISON', 'PAULO HENRIQUE'],\n",
       " 'QNK 7462': ['JEFERSON', 'WELISON', 'VALDECI'],\n",
       " 'Mercedes ': ['RAULINO', 'JACKSON', 'ADONIRAN'],\n",
       " 'Lalita': ['LEONARDO']}"
      ]
     },
     "execution_count": 7,
     "metadata": {},
     "output_type": "execute_result"
    }
   ],
   "source": [
    "veiculos"
   ]
  },
  {
   "cell_type": "code",
   "execution_count": 8,
   "metadata": {},
   "outputs": [],
   "source": [
    "# ESCOLHER MOTORISTA VALOR MINIMO DA CARGA"
   ]
  },
  {
   "cell_type": "code",
   "execution_count": 9,
   "metadata": {},
   "outputs": [
    {
     "name": "stderr",
     "output_type": "stream",
     "text": [
      "C:\\Users\\user\\Anaconda3\\envs\\teste_vipi\\lib\\site-packages\\ipykernel_launcher.py:18: SettingWithCopyWarning: \n",
      "A value is trying to be set on a copy of a slice from a DataFrame\n",
      "\n",
      "See the caveats in the documentation: https://pandas.pydata.org/pandas-docs/stable/user_guide/indexing.html#returning-a-view-versus-a-copy\n",
      "C:\\Users\\user\\Anaconda3\\envs\\teste_vipi\\lib\\site-packages\\pandas\\core\\indexing.py:671: SettingWithCopyWarning: \n",
      "A value is trying to be set on a copy of a slice from a DataFrame\n",
      "\n",
      "See the caveats in the documentation: https://pandas.pydata.org/pandas-docs/stable/user_guide/indexing.html#returning-a-view-versus-a-copy\n",
      "  self._setitem_with_indexer(indexer, value)\n",
      "C:\\Users\\user\\Anaconda3\\envs\\teste_vipi\\lib\\site-packages\\pandas\\core\\series.py:1024: SettingWithCopyWarning: \n",
      "A value is trying to be set on a copy of a slice from a DataFrame\n",
      "\n",
      "See the caveats in the documentation: https://pandas.pydata.org/pandas-docs/stable/user_guide/indexing.html#returning-a-view-versus-a-copy\n",
      "  self.loc[key] = value\n",
      "C:\\Users\\user\\Anaconda3\\envs\\teste_vipi\\lib\\site-packages\\IPython\\core\\interactiveshell.py:3331: SettingWithCopyWarning: \n",
      "A value is trying to be set on a copy of a slice from a DataFrame\n",
      "\n",
      "See the caveats in the documentation: https://pandas.pydata.org/pandas-docs/stable/user_guide/indexing.html#returning-a-view-versus-a-copy\n",
      "  exec(code_obj, self.user_global_ns, self.user_ns)\n"
     ]
    }
   ],
   "source": [
    "def segunda()\n",
    "    segunda_n = []\n",
    "    segunda_m = []\n",
    "    segunda_t = []\n",
    "    folga_segunda = list(folga['SEGUNDA'])\n",
    "\n",
    "    for indice, dado in enumerate(df_2['Segunda-feira']):\n",
    "\n",
    "        if type(df_2['Segunda-feira'][indice]) != str:\n",
    "\n",
    "            valor = float(df['Segunda-feira'][indice])\n",
    "            turno = df['TURNO'][indice]\n",
    "            carro = df['VEÍCULO'][indice]\n",
    "            cliente = df['ROTAS'][indice]\n",
    "            motoristas = list(veiculos[carro])\n",
    "            motoristas_segunda = setdiff_sorted(motoristas, folga_segunda)\n",
    "            if turno == 'noite':\n",
    "\n",
    "                    motora = df_2['Segunda-feira'][indice] = random.choice(setdiff_sorted(motoristas_segunda, segunda_n))\n",
    "                    segunda_n.append(motora)\n",
    "\n",
    "                    total = carga[motora]\n",
    "                    total += valor\n",
    "                    carga[motora] = total"
   ]
  },
  {
   "cell_type": "code",
   "execution_count": 10,
   "metadata": {},
   "outputs": [
    {
     "data": {
      "text/plain": [
       "{'MAICON': 0,\n",
       " 'JACKSON': 5.5,\n",
       " 'WANDERLAN': 0,\n",
       " 'RAULINO': 5.5,\n",
       " 'VALDECI': 5.5,\n",
       " 'FERNANDO': 0,\n",
       " 'EDVALDO': 0,\n",
       " 'WELISON': 5.5,\n",
       " 'JEFERSON': 5.5,\n",
       " 'PAULO': 0,\n",
       " 'GESSIVALDO': 0,\n",
       " 'LUIZ GONZAGA': 0,\n",
       " 'KELSON': 0,\n",
       " 'PAULO HENRIQUE': 0,\n",
       " 'ADONIRAN': 5.5}"
      ]
     },
     "execution_count": 10,
     "metadata": {},
     "output_type": "execute_result"
    }
   ],
   "source": [
    "carga"
   ]
  },
  {
   "cell_type": "code",
   "execution_count": 11,
   "metadata": {},
   "outputs": [
    {
     "data": {
      "text/html": [
       "<div>\n",
       "<style scoped>\n",
       "    .dataframe tbody tr th:only-of-type {\n",
       "        vertical-align: middle;\n",
       "    }\n",
       "\n",
       "    .dataframe tbody tr th {\n",
       "        vertical-align: top;\n",
       "    }\n",
       "\n",
       "    .dataframe thead th {\n",
       "        text-align: right;\n",
       "    }\n",
       "</style>\n",
       "<table border=\"1\" class=\"dataframe\">\n",
       "  <thead>\n",
       "    <tr style=\"text-align: right;\">\n",
       "      <th></th>\n",
       "      <th>ROTAS</th>\n",
       "      <th>TURNO</th>\n",
       "      <th>VEÍCULO</th>\n",
       "      <th>Segunda-feira</th>\n",
       "    </tr>\n",
       "  </thead>\n",
       "  <tbody>\n",
       "    <tr>\n",
       "      <th>0</th>\n",
       "      <td>ALMA VIVA 01</td>\n",
       "      <td>noite</td>\n",
       "      <td>Ducato 1</td>\n",
       "      <td>JEFERSON</td>\n",
       "    </tr>\n",
       "    <tr>\n",
       "      <th>1</th>\n",
       "      <td>ALMA VIVA 02</td>\n",
       "      <td>noite</td>\n",
       "      <td>Ducato 2</td>\n",
       "      <td>JACKSON</td>\n",
       "    </tr>\n",
       "    <tr>\n",
       "      <th>2</th>\n",
       "      <td>ALMA VIVA 03</td>\n",
       "      <td>noite</td>\n",
       "      <td>Jumpy</td>\n",
       "      <td>ADONIRAN</td>\n",
       "    </tr>\n",
       "    <tr>\n",
       "      <th>3</th>\n",
       "      <td>ALMA VIVA 04</td>\n",
       "      <td>noite</td>\n",
       "      <td>QNB 5540</td>\n",
       "      <td>WELISON</td>\n",
       "    </tr>\n",
       "    <tr>\n",
       "      <th>4</th>\n",
       "      <td>ALMA VIVA 05</td>\n",
       "      <td>noite</td>\n",
       "      <td>QNK 7462</td>\n",
       "      <td>VALDECI</td>\n",
       "    </tr>\n",
       "    <tr>\n",
       "      <th>5</th>\n",
       "      <td>ALMA VIVA 06</td>\n",
       "      <td>noite</td>\n",
       "      <td>Mercedes</td>\n",
       "      <td>RAULINO</td>\n",
       "    </tr>\n",
       "    <tr>\n",
       "      <th>6</th>\n",
       "      <td>CROWN TURNO MANHÃ 01</td>\n",
       "      <td>manhã</td>\n",
       "      <td>Ducato 1</td>\n",
       "      <td>5</td>\n",
       "    </tr>\n",
       "    <tr>\n",
       "      <th>7</th>\n",
       "      <td>CROWN TURNO MANHÃ 02</td>\n",
       "      <td>manhã</td>\n",
       "      <td>Ducato 2</td>\n",
       "      <td>5</td>\n",
       "    </tr>\n",
       "    <tr>\n",
       "      <th>8</th>\n",
       "      <td>CROWN ADM MANHÃ 01</td>\n",
       "      <td>manhã</td>\n",
       "      <td>Mercedes</td>\n",
       "      <td>3</td>\n",
       "    </tr>\n",
       "    <tr>\n",
       "      <th>9</th>\n",
       "      <td>CROWN TURNO TARDE 01</td>\n",
       "      <td>tarde</td>\n",
       "      <td>Ducato 1</td>\n",
       "      <td>4.5</td>\n",
       "    </tr>\n",
       "    <tr>\n",
       "      <th>10</th>\n",
       "      <td>CROWN TURNO TARDE 02</td>\n",
       "      <td>tarde</td>\n",
       "      <td>Ducato 2</td>\n",
       "      <td>4.5</td>\n",
       "    </tr>\n",
       "    <tr>\n",
       "      <th>11</th>\n",
       "      <td>CROWN ADM TARDE 01</td>\n",
       "      <td>tarde</td>\n",
       "      <td>Mercedes</td>\n",
       "      <td>3.5</td>\n",
       "    </tr>\n",
       "    <tr>\n",
       "      <th>12</th>\n",
       "      <td>MAGALU TARDE 01</td>\n",
       "      <td>tarde</td>\n",
       "      <td>Jumpy</td>\n",
       "      <td>5.5</td>\n",
       "    </tr>\n",
       "  </tbody>\n",
       "</table>\n",
       "</div>"
      ],
      "text/plain": [
       "                   ROTAS  TURNO    VEÍCULO Segunda-feira\n",
       "0           ALMA VIVA 01  noite   Ducato 1      JEFERSON\n",
       "1           ALMA VIVA 02  noite   Ducato 2       JACKSON\n",
       "2           ALMA VIVA 03  noite      Jumpy      ADONIRAN\n",
       "3           ALMA VIVA 04  noite  QNB 5540        WELISON\n",
       "4           ALMA VIVA 05  noite   QNK 7462       VALDECI\n",
       "5           ALMA VIVA 06  noite  Mercedes        RAULINO\n",
       "6   CROWN TURNO MANHÃ 01  manhã   Ducato 1             5\n",
       "7   CROWN TURNO MANHÃ 02  manhã   Ducato 2             5\n",
       "8     CROWN ADM MANHÃ 01  manhã  Mercedes              3\n",
       "9   CROWN TURNO TARDE 01  tarde   Ducato 1           4.5\n",
       "10  CROWN TURNO TARDE 02  tarde   Ducato 2           4.5\n",
       "11    CROWN ADM TARDE 01  tarde  Mercedes            3.5\n",
       "12       MAGALU TARDE 01  tarde      Jumpy           5.5"
      ]
     },
     "execution_count": 11,
     "metadata": {},
     "output_type": "execute_result"
    }
   ],
   "source": [
    "df_2"
   ]
  },
  {
   "cell_type": "code",
   "execution_count": 12,
   "metadata": {},
   "outputs": [
    {
     "name": "stderr",
     "output_type": "stream",
     "text": [
      "C:\\Users\\user\\Anaconda3\\envs\\teste_vipi\\lib\\site-packages\\ipykernel_launcher.py:18: SettingWithCopyWarning: \n",
      "A value is trying to be set on a copy of a slice from a DataFrame\n",
      "\n",
      "See the caveats in the documentation: https://pandas.pydata.org/pandas-docs/stable/user_guide/indexing.html#returning-a-view-versus-a-copy\n",
      "C:\\Users\\user\\Anaconda3\\envs\\teste_vipi\\lib\\site-packages\\pandas\\core\\indexing.py:671: SettingWithCopyWarning: \n",
      "A value is trying to be set on a copy of a slice from a DataFrame\n",
      "\n",
      "See the caveats in the documentation: https://pandas.pydata.org/pandas-docs/stable/user_guide/indexing.html#returning-a-view-versus-a-copy\n",
      "  self._setitem_with_indexer(indexer, value)\n",
      "C:\\Users\\user\\Anaconda3\\envs\\teste_vipi\\lib\\site-packages\\pandas\\core\\series.py:1024: SettingWithCopyWarning: \n",
      "A value is trying to be set on a copy of a slice from a DataFrame\n",
      "\n",
      "See the caveats in the documentation: https://pandas.pydata.org/pandas-docs/stable/user_guide/indexing.html#returning-a-view-versus-a-copy\n",
      "  self.loc[key] = value\n",
      "C:\\Users\\user\\Anaconda3\\envs\\teste_vipi\\lib\\site-packages\\IPython\\core\\interactiveshell.py:3331: SettingWithCopyWarning: \n",
      "A value is trying to be set on a copy of a slice from a DataFrame\n",
      "\n",
      "See the caveats in the documentation: https://pandas.pydata.org/pandas-docs/stable/user_guide/indexing.html#returning-a-view-versus-a-copy\n",
      "  exec(code_obj, self.user_global_ns, self.user_ns)\n"
     ]
    },
    {
     "ename": "IndexError",
     "evalue": "Cannot choose from an empty sequence",
     "output_type": "error",
     "traceback": [
      "\u001b[1;31m---------------------------------------------------------------------------\u001b[0m",
      "\u001b[1;31mIndexError\u001b[0m                                Traceback (most recent call last)",
      "\u001b[1;32m<ipython-input-12-888bc21b5eb1>\u001b[0m in \u001b[0;36m<module>\u001b[1;34m\u001b[0m\n\u001b[0;32m     16\u001b[0m         \u001b[1;32mif\u001b[0m \u001b[0mturno\u001b[0m \u001b[1;33m==\u001b[0m \u001b[1;34m'noite'\u001b[0m\u001b[1;33m:\u001b[0m\u001b[1;33m\u001b[0m\u001b[1;33m\u001b[0m\u001b[0m\n\u001b[0;32m     17\u001b[0m \u001b[1;33m\u001b[0m\u001b[0m\n\u001b[1;32m---> 18\u001b[1;33m                 \u001b[0mmotora\u001b[0m \u001b[1;33m=\u001b[0m \u001b[0mdf_3\u001b[0m\u001b[1;33m[\u001b[0m\u001b[1;34m'Terça-feira'\u001b[0m\u001b[1;33m]\u001b[0m\u001b[1;33m[\u001b[0m\u001b[0mindice\u001b[0m\u001b[1;33m]\u001b[0m \u001b[1;33m=\u001b[0m \u001b[0mrandom\u001b[0m\u001b[1;33m.\u001b[0m\u001b[0mchoice\u001b[0m\u001b[1;33m(\u001b[0m\u001b[0msetdiff_sorted\u001b[0m\u001b[1;33m(\u001b[0m\u001b[0mmotoristas_terça\u001b[0m\u001b[1;33m,\u001b[0m \u001b[0mterça_n\u001b[0m\u001b[1;33m)\u001b[0m\u001b[1;33m)\u001b[0m\u001b[1;33m\u001b[0m\u001b[1;33m\u001b[0m\u001b[0m\n\u001b[0m\u001b[0;32m     19\u001b[0m                 \u001b[0mterça_n\u001b[0m\u001b[1;33m.\u001b[0m\u001b[0mappend\u001b[0m\u001b[1;33m(\u001b[0m\u001b[0mmotora\u001b[0m\u001b[1;33m)\u001b[0m\u001b[1;33m\u001b[0m\u001b[1;33m\u001b[0m\u001b[0m\n\u001b[0;32m     20\u001b[0m \u001b[1;33m\u001b[0m\u001b[0m\n",
      "\u001b[1;32m~\\Anaconda3\\envs\\teste_vipi\\lib\\random.py\u001b[0m in \u001b[0;36mchoice\u001b[1;34m(self, seq)\u001b[0m\n\u001b[0;32m    259\u001b[0m             \u001b[0mi\u001b[0m \u001b[1;33m=\u001b[0m \u001b[0mself\u001b[0m\u001b[1;33m.\u001b[0m\u001b[0m_randbelow\u001b[0m\u001b[1;33m(\u001b[0m\u001b[0mlen\u001b[0m\u001b[1;33m(\u001b[0m\u001b[0mseq\u001b[0m\u001b[1;33m)\u001b[0m\u001b[1;33m)\u001b[0m\u001b[1;33m\u001b[0m\u001b[1;33m\u001b[0m\u001b[0m\n\u001b[0;32m    260\u001b[0m         \u001b[1;32mexcept\u001b[0m \u001b[0mValueError\u001b[0m\u001b[1;33m:\u001b[0m\u001b[1;33m\u001b[0m\u001b[1;33m\u001b[0m\u001b[0m\n\u001b[1;32m--> 261\u001b[1;33m             \u001b[1;32mraise\u001b[0m \u001b[0mIndexError\u001b[0m\u001b[1;33m(\u001b[0m\u001b[1;34m'Cannot choose from an empty sequence'\u001b[0m\u001b[1;33m)\u001b[0m \u001b[1;32mfrom\u001b[0m \u001b[1;32mNone\u001b[0m\u001b[1;33m\u001b[0m\u001b[1;33m\u001b[0m\u001b[0m\n\u001b[0m\u001b[0;32m    262\u001b[0m         \u001b[1;32mreturn\u001b[0m \u001b[0mseq\u001b[0m\u001b[1;33m[\u001b[0m\u001b[0mi\u001b[0m\u001b[1;33m]\u001b[0m\u001b[1;33m\u001b[0m\u001b[1;33m\u001b[0m\u001b[0m\n\u001b[0;32m    263\u001b[0m \u001b[1;33m\u001b[0m\u001b[0m\n",
      "\u001b[1;31mIndexError\u001b[0m: Cannot choose from an empty sequence"
     ]
    }
   ],
   "source": [
    "terça_n = []\n",
    "terça_m = []\n",
    "terça_t = []\n",
    "folga_terça = list(folga['TERÇA'])\n",
    "    \n",
    "for indice, dado in enumerate(df_3['Terça-feira']):\n",
    "\n",
    "    if type(df_3['Terça-feira'][indice]) != str:\n",
    "\n",
    "        valor = float(df_3['Terça-feira'][indice])\n",
    "        turno = df_3['TURNO'][indice]\n",
    "        carro = df_3['VEÍCULO'][indice]\n",
    "        cliente = df_3['ROTAS'][indice]\n",
    "        motoristas = list(veiculos[carro])\n",
    "        motoristas_terça = setdiff_sorted(motoristas, folga_terça)\n",
    "        if turno == 'noite':\n",
    "\n",
    "                motora = df_3['Terça-feira'][indice] = random.choice(setdiff_sorted(motoristas_terça, terça_n))\n",
    "                terça_n.append(motora)\n",
    "\n",
    "                total = carga[motora]\n",
    "                total += valor\n",
    "                carga[motora] = total"
   ]
  },
  {
   "cell_type": "code",
   "execution_count": null,
   "metadata": {},
   "outputs": [],
   "source": [
    "carga"
   ]
  },
  {
   "cell_type": "code",
   "execution_count": null,
   "metadata": {},
   "outputs": [],
   "source": [
    "df_3"
   ]
  },
  {
   "cell_type": "code",
   "execution_count": null,
   "metadata": {},
   "outputs": [],
   "source": []
  }
 ],
 "metadata": {
  "kernelspec": {
   "display_name": "Python 3",
   "language": "python",
   "name": "python3"
  },
  "language_info": {
   "codemirror_mode": {
    "name": "ipython",
    "version": 3
   },
   "file_extension": ".py",
   "mimetype": "text/x-python",
   "name": "python",
   "nbconvert_exporter": "python",
   "pygments_lexer": "ipython3",
   "version": "3.7.5"
  }
 },
 "nbformat": 4,
 "nbformat_minor": 4
}
