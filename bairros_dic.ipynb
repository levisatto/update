{
 "cells": [
  {
   "cell_type": "code",
   "execution_count": 1,
   "metadata": {},
   "outputs": [],
   "source": [
    "import pandas as pd\n",
    "import unicodedata\n",
    "import re"
   ]
  },
  {
   "cell_type": "code",
   "execution_count": 2,
   "metadata": {},
   "outputs": [
    {
     "name": "stdout",
     "output_type": "stream",
     "text": [
      "Index(['bairros', 'rotas'], dtype='object')\n"
     ]
    }
   ],
   "source": [
    "standard_header = ['bairros', 'rotas']\n",
    "zonas = pd.read_excel('zonas_bairros.xlsx', names=standard_header)\n",
    "print(zonas.columns)"
   ]
  },
  {
   "cell_type": "code",
   "execution_count": 3,
   "metadata": {},
   "outputs": [],
   "source": [
    "def RemoverCaracteresEspeciais(palavra):\n",
    "\n",
    "    # Unicode normalize transforma um caracter em seu equivalente em latin.\n",
    "    nfkd = unicodedata.normalize('NFKD', palavra)\n",
    "    palavraSemAcento = u\"\".join([c for c in nfkd if not unicodedata.combining(c)])\n",
    "    # Usa expressão regular para retornar a palavra apenas com números, letras e espaço\n",
    "    return re.sub('[^a-zA-Z0-9 \\\\\\]', '', palavraSemAcento)\n",
    "bairros_sem_caracteres_especiais = []\n",
    "for each in zonas['bairros']:\n",
    "    clean = RemoverCaracteresEspeciais(each)\n",
    "    bairros_sem_caracteres_especiais.append(clean)\n",
    "zonas['bairros'] = bairros_sem_caracteres_especiais"
   ]
  },
  {
   "cell_type": "code",
   "execution_count": 4,
   "metadata": {},
   "outputs": [
    {
     "name": "stdout",
     "output_type": "stream",
     "text": [
      "['norte' 'centro' 'leste' 'sul' 'sdb' 'sdc' 'timon']\n"
     ]
    },
    {
     "data": {
      "text/plain": [
       "redencao                          1\n",
       "agua mineral                      1\n",
       "parque brasil                     1\n",
       "santa cruz                        1\n",
       "picarreira                        1\n",
       "                                 ..\n",
       "jose francisco de almeida neto    1\n",
       "bom principio                     1\n",
       "vermelha                          1\n",
       "gurupi                            1\n",
       "planalto                          1\n",
       "Name: 0, Length: 91, dtype: int64"
      ]
     },
     "execution_count": 4,
     "metadata": {},
     "output_type": "execute_result"
    }
   ],
   "source": [
    "zonas['bairros'] = zonas['bairros'].str.lower().str.strip().str.replace('2', 'ii')\n",
    "zonas['rotas'] = zonas['rotas'].str.lower().str.strip()\n",
    "print(zonas['rotas'].unique())\n",
    "bairros_unicos = zonas['bairros'].unique()\n",
    "bairros_unicos = pd.DataFrame(bairros_unicos)\n",
    "bairros_unicos[0].value_counts().sort_values(ascending=False)\n"
   ]
  },
  {
   "cell_type": "code",
   "execution_count": 5,
   "metadata": {},
   "outputs": [],
   "source": [
    "bairro_centro = zonas['rotas'] == 'centro'\n",
    "zona_centro = zonas.loc[bairro_centro, 'bairros'].str.upper()\n",
    "zona_centro = zona_centro.str.strip()\n",
    "zona_centro = zona_centro.unique()\n",
    "\n",
    "bairro_norte = zonas['rotas'] == 'norte'\n",
    "zona_norte = zonas.loc[bairro_norte, 'bairros'].str.upper().str.strip()\n",
    "zona_norte = zona_norte.unique()\n",
    "\n",
    "bairro_leste = zonas['rotas'] == 'leste'\n",
    "zona_leste = zonas.loc[bairro_leste, 'bairros'].str.upper().str.strip()\n",
    "zona_leste = zona_leste.unique()\n",
    "\n",
    "bairro_sul = zonas['rotas'] == 'sul'\n",
    "zona_sul = zonas.loc[bairro_sul, 'bairros'].str.upper().str.strip()\n",
    "zona_sul = zona_sul.unique()\n",
    "\n",
    "bairro_sdc = zonas['rotas'] == 'sdc'\n",
    "zona_sdc = zonas.loc[bairro_sdc, 'bairros'].str.upper().str.strip()\n",
    "zona_sdc = zona_sdc.unique()\n",
    "\n",
    "bairro_sdb = zonas['rotas'] == 'sdb'\n",
    "zona_sdb = zonas.loc[bairro_sdb, 'bairros'].str.upper().str.strip()\n",
    "zona_sdb = zona_sdb.unique()\n",
    "\n",
    "bairro_timon = zonas['rotas'] == 'timon'\n",
    "zona_timon = zonas.loc[bairro_timon, 'bairros'].str.upper().str.strip()\n",
    "zona_timon = zona_timon.unique()"
   ]
  },
  {
   "cell_type": "code",
   "execution_count": 6,
   "metadata": {},
   "outputs": [
    {
     "name": "stdout",
     "output_type": "stream",
     "text": [
      "                    SDB                  SDC                       SUL  \\\n",
      "0              COMPRIDA               GURUPI                BELA VISTA   \n",
      "1        NOVO HORIZONTE         PARQUE IDEAL             SANTO ANTONIO   \n",
      "2         PARQUE JUREMA              ITARARE  NOSSA SENHORA DAS GRACAS   \n",
      "3         BOM PRINCIPIO            BEIRA RIO           LORIVAL PARENTE   \n",
      "4               ITARARE           RENASCENCA                      SACI   \n",
      "5        TANCREDO NEVES             DIRCEU I                 ESPLANADA   \n",
      "6               EXTREMA  ALTO DA RESSUREICAO           VILA IRMA DULCE   \n",
      "7         SAO SEBASTIAO             COLORADO                SANTA CRUZ   \n",
      "8   DIRCEU ARCOVERDE II      PARQUE COLORADO         PORTAL DA ALEGRIA   \n",
      "9       TODOS OS SANTOS  DIRCEU ARCOVERDE II          RAIMUNDO PORTELA   \n",
      "10            DIRCEU II                 None                   ANGELIM   \n",
      "11          PARQUE POTI                 None               MORADA NOVA   \n",
      "12              REDONDA                 None               PEDRA MIUDA   \n",
      "13              SANTANA                 None                PARQUE SUL   \n",
      "14           RENASCENCA                 None                  REDENCAO   \n",
      "15         VERDECAP III                 None                  PROMORAR   \n",
      "16             VERDECAP                 None                    AREIAS   \n",
      "17                 None                 None           PARQUE SAO JOAO   \n",
      "18                 None                 None             POLO EMPR SUL   \n",
      "19                 None                 None              PARQUE PIAUI   \n",
      "20                 None                 None                      None   \n",
      "\n",
      "            LESTE                           NORTE                    CENTRO  \\\n",
      "0       VERDE LAR           SANTA MARIA DA CODIPI                   PICARRA   \n",
      "1       CAMPESTRE                      MOCAMBINHO               CIDADE NOVA   \n",
      "2        SATELITE                        AROEIRAS              TRES ANDARES   \n",
      "3      PEDRA MOLE                       MATADOURO                  VERMELHA   \n",
      "4          SAMAPI                        MAFRENSE                  TABOLETA   \n",
      "5   VALE QUEM TEM                   NOVA BRASILIA                    CENTRO   \n",
      "6        PLANALTO                    REAL COPAGRI  NOSSA SENHORA DAS GRACAS   \n",
      "7          ININGA                      POTI VELHO             MONTE CASTELO   \n",
      "8        SAO JOAO                       PRIMAVERA                CRISTO REI   \n",
      "9          SOCOPO                     PORENQUANTO                  REDENCAO   \n",
      "10   SANTA ISABEL                    MONTE ALEGRE                   MACAUBA   \n",
      "11     PICARREIRA  JOSE FRANCISCO DE ALMEIDA NETO                 SAO PEDRO   \n",
      "12        URUGUAI                    CENTRO NORTE                      None   \n",
      "13         FATIMA                   PARQUE BRASIL                      None   \n",
      "14  NOVA TERESINA            MARQUES DE PARANAGUA                      None   \n",
      "15       AROEIRAS                     SAO JOAQUIM                      None   \n",
      "16           None                    BUENOS AIRES                      None   \n",
      "17           None                        ALVORADA                      None   \n",
      "18           None                    AGUA MINERAL                      None   \n",
      "19           None                   SAO FRANCISCO                      None   \n",
      "20           None                           NORTE                      None   \n",
      "\n",
      "    TIMON  \n",
      "0   TIMON  \n",
      "1    None  \n",
      "2    None  \n",
      "3    None  \n",
      "4    None  \n",
      "5    None  \n",
      "6    None  \n",
      "7    None  \n",
      "8    None  \n",
      "9    None  \n",
      "10   None  \n",
      "11   None  \n",
      "12   None  \n",
      "13   None  \n",
      "14   None  \n",
      "15   None  \n",
      "16   None  \n",
      "17   None  \n",
      "18   None  \n",
      "19   None  \n",
      "20   None  \n"
     ]
    }
   ],
   "source": [
    "zonas_final_nomes = ['SDB', 'SDC', 'SUL', 'LESTE', 'NORTE', 'CENTRO','TIMON']\n",
    "zonas_final = zona_sdb, zona_sdc, zona_sul, zona_leste, zona_norte, zona_centro, zona_timon\n",
    "rotas_final = pd.DataFrame(zonas_final)\n",
    "\n",
    "rotas_final = rotas_final.T\n",
    "rotas_final.columns = zonas_final_nomes\n",
    "print(rotas_final)\n",
    "\n",
    "rotas_final.to_excel('teste_rotas_final.xlsx')"
   ]
  },
  {
   "cell_type": "code",
   "execution_count": null,
   "metadata": {},
   "outputs": [],
   "source": []
  }
 ],
 "metadata": {
  "kernelspec": {
   "display_name": "Python 3",
   "language": "python",
   "name": "python3"
  },
  "language_info": {
   "codemirror_mode": {
    "name": "ipython",
    "version": 3
   },
   "file_extension": ".py",
   "mimetype": "text/x-python",
   "name": "python",
   "nbconvert_exporter": "python",
   "pygments_lexer": "ipython3",
   "version": "3.7.4"
  }
 },
 "nbformat": 4,
 "nbformat_minor": 4
}
