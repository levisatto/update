{
 "cells": [
  {
   "cell_type": "code",
   "execution_count": 1,
   "metadata": {},
   "outputs": [],
   "source": [
    "import pandas as pd\n",
    "import numpy as np\n",
    "import datetime as dt\n",
    "now = dt.datetime.now() # current date and time\n",
    "data = now.strftime(\"%Y_%m_%d\")"
   ]
  },
  {
   "cell_type": "code",
   "execution_count": 2,
   "metadata": {},
   "outputs": [],
   "source": [
    "usuarios_presença = pd.read_excel('lista de embarques.xlsx')"
   ]
  },
  {
   "cell_type": "code",
   "execution_count": 3,
   "metadata": {},
   "outputs": [
    {
     "data": {
      "text/plain": [
       "(3121, 343)"
      ]
     },
     "execution_count": 3,
     "metadata": {},
     "output_type": "execute_result"
    }
   ],
   "source": [
    "usuarios_presença = usuarios_presença.rename(columns={\"Matrícula\": \"matricula\"})\n",
    "matriculas_validas = usuarios_presença['matricula'].dropna()\n",
    "\n",
    "matriculas_validas_unicas = matriculas_validas.unique()\n",
    "len(matriculas_validas), len(matriculas_validas_unicas)"
   ]
  },
  {
   "cell_type": "code",
   "execution_count": 4,
   "metadata": {},
   "outputs": [],
   "source": [
    "usuarios_mat_val = usuarios_presença[usuarios_presença['matricula'].isin(matriculas_validas)]\n"
   ]
  },
  {
   "cell_type": "code",
   "execution_count": 5,
   "metadata": {},
   "outputs": [
    {
     "data": {
      "text/html": [
       "<div>\n",
       "<style scoped>\n",
       "    .dataframe tbody tr th:only-of-type {\n",
       "        vertical-align: middle;\n",
       "    }\n",
       "\n",
       "    .dataframe tbody tr th {\n",
       "        vertical-align: top;\n",
       "    }\n",
       "\n",
       "    .dataframe thead th {\n",
       "        text-align: right;\n",
       "    }\n",
       "</style>\n",
       "<table border=\"1\" class=\"dataframe\">\n",
       "  <thead>\n",
       "    <tr style=\"text-align: right;\">\n",
       "      <th></th>\n",
       "      <th>matricula</th>\n",
       "    </tr>\n",
       "  </thead>\n",
       "  <tbody>\n",
       "    <tr>\n",
       "      <th>237581.0</th>\n",
       "      <td>11</td>\n",
       "    </tr>\n",
       "    <tr>\n",
       "      <th>197646.0</th>\n",
       "      <td>11</td>\n",
       "    </tr>\n",
       "    <tr>\n",
       "      <th>197647.0</th>\n",
       "      <td>6</td>\n",
       "    </tr>\n",
       "    <tr>\n",
       "      <th>247694.0</th>\n",
       "      <td>10</td>\n",
       "    </tr>\n",
       "    <tr>\n",
       "      <th>243731.0</th>\n",
       "      <td>14</td>\n",
       "    </tr>\n",
       "    <tr>\n",
       "      <th>...</th>\n",
       "      <td>...</td>\n",
       "    </tr>\n",
       "    <tr>\n",
       "      <th>247791.0</th>\n",
       "      <td>9</td>\n",
       "    </tr>\n",
       "    <tr>\n",
       "      <th>247701.0</th>\n",
       "      <td>4</td>\n",
       "    </tr>\n",
       "    <tr>\n",
       "      <th>124924.0</th>\n",
       "      <td>15</td>\n",
       "    </tr>\n",
       "    <tr>\n",
       "      <th>184317.0</th>\n",
       "      <td>2</td>\n",
       "    </tr>\n",
       "    <tr>\n",
       "      <th>197631.0</th>\n",
       "      <td>11</td>\n",
       "    </tr>\n",
       "  </tbody>\n",
       "</table>\n",
       "<p>343 rows × 1 columns</p>\n",
       "</div>"
      ],
      "text/plain": [
       "          matricula\n",
       "237581.0         11\n",
       "197646.0         11\n",
       "197647.0          6\n",
       "247694.0         10\n",
       "243731.0         14\n",
       "...             ...\n",
       "247791.0          9\n",
       "247701.0          4\n",
       "124924.0         15\n",
       "184317.0          2\n",
       "197631.0         11\n",
       "\n",
       "[343 rows x 1 columns]"
      ]
     },
     "execution_count": 5,
     "metadata": {},
     "output_type": "execute_result"
    }
   ],
   "source": [
    "presença = usuarios_mat_val['matricula'].value_counts(sort=False)\n",
    "presença = pd.DataFrame(presença)\n",
    "presença"
   ]
  },
  {
   "cell_type": "code",
   "execution_count": 6,
   "metadata": {},
   "outputs": [],
   "source": [
    "presença = presença.rename(columns= {'matricula':'presença'})"
   ]
  },
  {
   "cell_type": "code",
   "execution_count": 7,
   "metadata": {},
   "outputs": [],
   "source": [
    "def label(element):\n",
    "    if element >= 3:\n",
    "        return 'ATIVO'\n",
    "    else:\n",
    "        return 'INATIVO'\n",
    "presença['status_fretado'] = presença['presença'].apply(label)"
   ]
  },
  {
   "cell_type": "code",
   "execution_count": null,
   "metadata": {},
   "outputs": [],
   "source": []
  },
  {
   "cell_type": "code",
   "execution_count": 8,
   "metadata": {},
   "outputs": [
    {
     "name": "stdout",
     "output_type": "stream",
     "text": [
      "Ativos: 284 \n",
      "Inativos: 59\n"
     ]
    },
    {
     "name": "stderr",
     "output_type": "stream",
     "text": [
      "C:\\Users\\user\\Anaconda3\\envs\\teste_vipi\\lib\\site-packages\\ipykernel_launcher.py:2: SettingWithCopyWarning: \n",
      "A value is trying to be set on a copy of a slice from a DataFrame.\n",
      "Try using .loc[row_indexer,col_indexer] = value instead\n",
      "\n",
      "See the caveats in the documentation: http://pandas.pydata.org/pandas-docs/stable/user_guide/indexing.html#returning-a-view-versus-a-copy\n",
      "  \n",
      "C:\\Users\\user\\Anaconda3\\envs\\teste_vipi\\lib\\site-packages\\ipykernel_launcher.py:4: SettingWithCopyWarning: \n",
      "A value is trying to be set on a copy of a slice from a DataFrame.\n",
      "Try using .loc[row_indexer,col_indexer] = value instead\n",
      "\n",
      "See the caveats in the documentation: http://pandas.pydata.org/pandas-docs/stable/user_guide/indexing.html#returning-a-view-versus-a-copy\n",
      "  after removing the cwd from sys.path.\n"
     ]
    }
   ],
   "source": [
    "usuarios_ativos = presença[presença['status_fretado'] == 'ATIVO']\n",
    "usuarios_ativos['matricula'] = usuarios_ativos.index.astype(int)\n",
    "usuarios_inativos = presença[presença['status_fretado'] == 'INATIVO']\n",
    "usuarios_inativos['matricula'] = usuarios_inativos.index.astype(int)\n",
    "usuarios_ativos = usuarios_ativos.reset_index(drop=True)\n",
    "usuarios_inativos = usuarios_inativos.reset_index(drop=True)\n",
    "print('Ativos:',len(usuarios_ativos), '\\nInativos:',len(usuarios_inativos))"
   ]
  },
  {
   "cell_type": "code",
   "execution_count": 9,
   "metadata": {},
   "outputs": [],
   "source": [
    "titulo1 = data + '_usuarios_ativos.xlsx'\n",
    "usuarios_ativos.to_excel(titulo1)"
   ]
  },
  {
   "cell_type": "code",
   "execution_count": 10,
   "metadata": {},
   "outputs": [],
   "source": [
    "titulo2 = data + '_usuarios_inativos.xlsx'\n",
    "usuarios_inativos.to_excel(titulo2)"
   ]
  },
  {
   "cell_type": "code",
   "execution_count": 11,
   "metadata": {},
   "outputs": [],
   "source": [
    "total = pd.concat([usuarios_ativos, usuarios_inativos], ignore_index=True)"
   ]
  },
  {
   "cell_type": "code",
   "execution_count": null,
   "metadata": {},
   "outputs": [],
   "source": []
  },
  {
   "cell_type": "code",
   "execution_count": null,
   "metadata": {},
   "outputs": [],
   "source": []
  },
  {
   "cell_type": "code",
   "execution_count": null,
   "metadata": {},
   "outputs": [],
   "source": []
  },
  {
   "cell_type": "code",
   "execution_count": 12,
   "metadata": {},
   "outputs": [
    {
     "data": {
      "text/html": [
       "<div>\n",
       "<style scoped>\n",
       "    .dataframe tbody tr th:only-of-type {\n",
       "        vertical-align: middle;\n",
       "    }\n",
       "\n",
       "    .dataframe tbody tr th {\n",
       "        vertical-align: top;\n",
       "    }\n",
       "\n",
       "    .dataframe thead th {\n",
       "        text-align: right;\n",
       "    }\n",
       "</style>\n",
       "<table border=\"1\" class=\"dataframe\">\n",
       "  <thead>\n",
       "    <tr style=\"text-align: right;\">\n",
       "      <th></th>\n",
       "      <th>Rota</th>\n",
       "      <th>Passageiro</th>\n",
       "      <th>matricula</th>\n",
       "      <th>Data</th>\n",
       "      <th>Embarque</th>\n",
       "      <th>Desembarque</th>\n",
       "      <th>Minutos Embarcado</th>\n",
       "    </tr>\n",
       "  </thead>\n",
       "  <tbody>\n",
       "    <tr>\n",
       "      <th>0</th>\n",
       "      <td>COLETA 02 IDA</td>\n",
       "      <td>EMILLY DE LIMA</td>\n",
       "      <td>220808.0</td>\n",
       "      <td>01/03/2020</td>\n",
       "      <td>22:14</td>\n",
       "      <td>23:34</td>\n",
       "      <td>81.0</td>\n",
       "    </tr>\n",
       "    <tr>\n",
       "      <th>1</th>\n",
       "      <td>COLETA 02 IDA</td>\n",
       "      <td>PEDRO CARDEC SANTOS</td>\n",
       "      <td>197585.0</td>\n",
       "      <td>01/03/2020</td>\n",
       "      <td>22:26</td>\n",
       "      <td>23:34</td>\n",
       "      <td>69.0</td>\n",
       "    </tr>\n",
       "    <tr>\n",
       "      <th>2</th>\n",
       "      <td>COLETA 02 IDA</td>\n",
       "      <td>JOAQUIM NONATO MENDES SOBRINHO</td>\n",
       "      <td>101914.0</td>\n",
       "      <td>01/03/2020</td>\n",
       "      <td>22:36</td>\n",
       "      <td>23:34</td>\n",
       "      <td>58.0</td>\n",
       "    </tr>\n",
       "    <tr>\n",
       "      <th>3</th>\n",
       "      <td>COLETA 02 IDA</td>\n",
       "      <td>MARIA EDUARDA SILVA FERREIRA</td>\n",
       "      <td>242238.0</td>\n",
       "      <td>01/03/2020</td>\n",
       "      <td>22:43</td>\n",
       "      <td>NaN</td>\n",
       "      <td>NaN</td>\n",
       "    </tr>\n",
       "    <tr>\n",
       "      <th>4</th>\n",
       "      <td>COLETA 02 IDA</td>\n",
       "      <td>THAMIRES RAYANNE DE SOUSA</td>\n",
       "      <td>139888.0</td>\n",
       "      <td>01/03/2020</td>\n",
       "      <td>23:02</td>\n",
       "      <td>23:35</td>\n",
       "      <td>32.0</td>\n",
       "    </tr>\n",
       "    <tr>\n",
       "      <th>...</th>\n",
       "      <td>...</td>\n",
       "      <td>...</td>\n",
       "      <td>...</td>\n",
       "      <td>...</td>\n",
       "      <td>...</td>\n",
       "      <td>...</td>\n",
       "      <td>...</td>\n",
       "    </tr>\n",
       "    <tr>\n",
       "      <th>3130</th>\n",
       "      <td>INTEGRAÇÃO - 1:50 02:00 - CENTRO/TIMON VOLTA</td>\n",
       "      <td>PEDRO MARCUS DE ASSIS FURTADO LIMA</td>\n",
       "      <td>222638.0</td>\n",
       "      <td>19/03/2020</td>\n",
       "      <td>NaN</td>\n",
       "      <td>NaN</td>\n",
       "      <td>NaN</td>\n",
       "    </tr>\n",
       "    <tr>\n",
       "      <th>3131</th>\n",
       "      <td>INTEGRAÇÃO - 1:50 02:00 - CENTRO/TIMON VOLTA</td>\n",
       "      <td>LARISSA ROCHA SANTOS</td>\n",
       "      <td>184022.0</td>\n",
       "      <td>19/03/2020</td>\n",
       "      <td>NaN</td>\n",
       "      <td>NaN</td>\n",
       "      <td>NaN</td>\n",
       "    </tr>\n",
       "    <tr>\n",
       "      <th>3132</th>\n",
       "      <td>SÃO PEDRO 02:00 CENTRO/SUDESTE VOLTA</td>\n",
       "      <td>ISA FABIAN DE SOUSA ARAUJO</td>\n",
       "      <td>247695.0</td>\n",
       "      <td>19/03/2020</td>\n",
       "      <td>NaN</td>\n",
       "      <td>NaN</td>\n",
       "      <td>36.0</td>\n",
       "    </tr>\n",
       "    <tr>\n",
       "      <th>3133</th>\n",
       "      <td>SÃO PEDRO 02:00 CENTRO/SUDESTE VOLTA</td>\n",
       "      <td>RENATO BRUNO DE SOUSA ARAUJO</td>\n",
       "      <td>237266.0</td>\n",
       "      <td>19/03/2020</td>\n",
       "      <td>NaN</td>\n",
       "      <td>NaN</td>\n",
       "      <td>8.0</td>\n",
       "    </tr>\n",
       "    <tr>\n",
       "      <th>3134</th>\n",
       "      <td>SÃO PEDRO 02:00 CENTRO/SUDESTE VOLTA</td>\n",
       "      <td>VALDONE VIEIRA BEZERRA</td>\n",
       "      <td>237271.0</td>\n",
       "      <td>19/03/2020</td>\n",
       "      <td>NaN</td>\n",
       "      <td>NaN</td>\n",
       "      <td>20.0</td>\n",
       "    </tr>\n",
       "  </tbody>\n",
       "</table>\n",
       "<p>3135 rows × 7 columns</p>\n",
       "</div>"
      ],
      "text/plain": [
       "                                              Rota  \\\n",
       "0                                    COLETA 02 IDA   \n",
       "1                                    COLETA 02 IDA   \n",
       "2                                    COLETA 02 IDA   \n",
       "3                                    COLETA 02 IDA   \n",
       "4                                    COLETA 02 IDA   \n",
       "...                                            ...   \n",
       "3130  INTEGRAÇÃO - 1:50 02:00 - CENTRO/TIMON VOLTA   \n",
       "3131  INTEGRAÇÃO - 1:50 02:00 - CENTRO/TIMON VOLTA   \n",
       "3132          SÃO PEDRO 02:00 CENTRO/SUDESTE VOLTA   \n",
       "3133          SÃO PEDRO 02:00 CENTRO/SUDESTE VOLTA   \n",
       "3134          SÃO PEDRO 02:00 CENTRO/SUDESTE VOLTA   \n",
       "\n",
       "                              Passageiro  matricula        Data Embarque  \\\n",
       "0                         EMILLY DE LIMA   220808.0  01/03/2020    22:14   \n",
       "1                    PEDRO CARDEC SANTOS   197585.0  01/03/2020    22:26   \n",
       "2         JOAQUIM NONATO MENDES SOBRINHO   101914.0  01/03/2020    22:36   \n",
       "3           MARIA EDUARDA SILVA FERREIRA   242238.0  01/03/2020    22:43   \n",
       "4              THAMIRES RAYANNE DE SOUSA   139888.0  01/03/2020    23:02   \n",
       "...                                  ...        ...         ...      ...   \n",
       "3130  PEDRO MARCUS DE ASSIS FURTADO LIMA   222638.0  19/03/2020      NaN   \n",
       "3131                LARISSA ROCHA SANTOS   184022.0  19/03/2020      NaN   \n",
       "3132          ISA FABIAN DE SOUSA ARAUJO   247695.0  19/03/2020      NaN   \n",
       "3133        RENATO BRUNO DE SOUSA ARAUJO   237266.0  19/03/2020      NaN   \n",
       "3134              VALDONE VIEIRA BEZERRA   237271.0  19/03/2020      NaN   \n",
       "\n",
       "     Desembarque  Minutos Embarcado  \n",
       "0          23:34               81.0  \n",
       "1          23:34               69.0  \n",
       "2          23:34               58.0  \n",
       "3            NaN                NaN  \n",
       "4          23:35               32.0  \n",
       "...          ...                ...  \n",
       "3130         NaN                NaN  \n",
       "3131         NaN                NaN  \n",
       "3132         NaN               36.0  \n",
       "3133         NaN                8.0  \n",
       "3134         NaN               20.0  \n",
       "\n",
       "[3135 rows x 7 columns]"
      ]
     },
     "execution_count": 12,
     "metadata": {},
     "output_type": "execute_result"
    }
   ],
   "source": [
    "usuarios_presença"
   ]
  },
  {
   "cell_type": "code",
   "execution_count": null,
   "metadata": {},
   "outputs": [],
   "source": []
  },
  {
   "cell_type": "code",
   "execution_count": null,
   "metadata": {},
   "outputs": [],
   "source": []
  }
 ],
 "metadata": {
  "kernelspec": {
   "display_name": "Python 3",
   "language": "python",
   "name": "python3"
  },
  "language_info": {
   "codemirror_mode": {
    "name": "ipython",
    "version": 3
   },
   "file_extension": ".py",
   "mimetype": "text/x-python",
   "name": "python",
   "nbconvert_exporter": "python",
   "pygments_lexer": "ipython3",
   "version": "3.7.5"
  }
 },
 "nbformat": 4,
 "nbformat_minor": 4
}
