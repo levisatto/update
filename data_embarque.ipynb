{
 "cells": [
  {
   "cell_type": "code",
   "execution_count": 1,
   "metadata": {},
   "outputs": [],
   "source": [
    "import pandas as pd"
   ]
  },
  {
   "cell_type": "code",
   "execution_count": 2,
   "metadata": {},
   "outputs": [],
   "source": [
    "bd = pd.read_excel('USUARIOS_DEZEMBRO.xlsx')"
   ]
  },
  {
   "cell_type": "code",
   "execution_count": 3,
   "metadata": {},
   "outputs": [],
   "source": [
    "desembarque = pd.read_excel('ListagemEmbarques-2019-12-08_2020-01-06.xlsx')"
   ]
  },
  {
   "cell_type": "code",
   "execution_count": 4,
   "metadata": {},
   "outputs": [
    {
     "data": {
      "text/html": [
       "<div>\n",
       "<style scoped>\n",
       "    .dataframe tbody tr th:only-of-type {\n",
       "        vertical-align: middle;\n",
       "    }\n",
       "\n",
       "    .dataframe tbody tr th {\n",
       "        vertical-align: top;\n",
       "    }\n",
       "\n",
       "    .dataframe thead th {\n",
       "        text-align: right;\n",
       "    }\n",
       "</style>\n",
       "<table border=\"1\" class=\"dataframe\">\n",
       "  <thead>\n",
       "    <tr style=\"text-align: right;\">\n",
       "      <th></th>\n",
       "      <th>Rota</th>\n",
       "      <th>Passageiro</th>\n",
       "      <th>Matrícula</th>\n",
       "      <th>Data</th>\n",
       "      <th>Embarque</th>\n",
       "      <th>Desembarque</th>\n",
       "      <th>Minutos Embarcado</th>\n",
       "    </tr>\n",
       "  </thead>\n",
       "  <tbody>\n",
       "    <tr>\n",
       "      <th>0</th>\n",
       "      <td>INTEGRAÇÃO - 23:30 00:00 - LESTE</td>\n",
       "      <td>AURICELIO FEITOSA DE BRITO</td>\n",
       "      <td>243157.0</td>\n",
       "      <td>08/12/2019</td>\n",
       "      <td>00:10</td>\n",
       "      <td>00:23</td>\n",
       "      <td>2340</td>\n",
       "    </tr>\n",
       "    <tr>\n",
       "      <th>1</th>\n",
       "      <td>INTEGRAÇÃO - 2330 00:00 - TIMON</td>\n",
       "      <td>GUYLBERTH LUCAS ASSUNCAO DA SILVA</td>\n",
       "      <td>240132.0</td>\n",
       "      <td>08/12/2019</td>\n",
       "      <td>00:01</td>\n",
       "      <td>00:34</td>\n",
       "      <td>3000</td>\n",
       "    </tr>\n",
       "    <tr>\n",
       "      <th>2</th>\n",
       "      <td>INTEGRAÇÃO - 2330 00:00 - TIMON</td>\n",
       "      <td>FLAVIO KENNEDY SANTOS DA SILVA</td>\n",
       "      <td>226652.0</td>\n",
       "      <td>08/12/2019</td>\n",
       "      <td>00:01</td>\n",
       "      <td>00:22</td>\n",
       "      <td>2280</td>\n",
       "    </tr>\n",
       "    <tr>\n",
       "      <th>3</th>\n",
       "      <td>INTEGRAÇÃO - 2330 00:00 - TIMON</td>\n",
       "      <td>FRANCISCO CARLOS DA SILVA NETO</td>\n",
       "      <td>247718.0</td>\n",
       "      <td>08/12/2019</td>\n",
       "      <td>00:10</td>\n",
       "      <td>00:25</td>\n",
       "      <td>2460</td>\n",
       "    </tr>\n",
       "    <tr>\n",
       "      <th>4</th>\n",
       "      <td>ROTA LIVRE - KLEITON DINO</td>\n",
       "      <td>RICHARD SILVA CAMPOS</td>\n",
       "      <td>247706.0</td>\n",
       "      <td>08/12/2019</td>\n",
       "      <td>00:09</td>\n",
       "      <td>00:26</td>\n",
       "      <td>2640</td>\n",
       "    </tr>\n",
       "  </tbody>\n",
       "</table>\n",
       "</div>"
      ],
      "text/plain": [
       "                               Rota                         Passageiro  \\\n",
       "0  INTEGRAÇÃO - 23:30 00:00 - LESTE         AURICELIO FEITOSA DE BRITO   \n",
       "1   INTEGRAÇÃO - 2330 00:00 - TIMON  GUYLBERTH LUCAS ASSUNCAO DA SILVA   \n",
       "2   INTEGRAÇÃO - 2330 00:00 - TIMON     FLAVIO KENNEDY SANTOS DA SILVA   \n",
       "3   INTEGRAÇÃO - 2330 00:00 - TIMON     FRANCISCO CARLOS DA SILVA NETO   \n",
       "4         ROTA LIVRE - KLEITON DINO               RICHARD SILVA CAMPOS   \n",
       "\n",
       "   Matrícula        Data Embarque Desembarque  Minutos Embarcado  \n",
       "0   243157.0  08/12/2019    00:10       00:23               2340  \n",
       "1   240132.0  08/12/2019    00:01       00:34               3000  \n",
       "2   226652.0  08/12/2019    00:01       00:22               2280  \n",
       "3   247718.0  08/12/2019    00:10       00:25               2460  \n",
       "4   247706.0  08/12/2019    00:09       00:26               2640  "
      ]
     },
     "execution_count": 4,
     "metadata": {},
     "output_type": "execute_result"
    }
   ],
   "source": [
    "desembarque.head()"
   ]
  },
  {
   "cell_type": "code",
   "execution_count": null,
   "metadata": {},
   "outputs": [],
   "source": []
  }
 ],
 "metadata": {
  "kernelspec": {
   "display_name": "Python 3",
   "language": "python",
   "name": "python3"
  },
  "language_info": {
   "codemirror_mode": {
    "name": "ipython",
    "version": 3
   },
   "file_extension": ".py",
   "mimetype": "text/x-python",
   "name": "python",
   "nbconvert_exporter": "python",
   "pygments_lexer": "ipython3",
   "version": "3.7.5"
  }
 },
 "nbformat": 4,
 "nbformat_minor": 4
}
