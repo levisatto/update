{
 "cells": [
  {
   "cell_type": "code",
   "execution_count": 8,
   "metadata": {},
   "outputs": [
    {
     "name": "stdout",
     "output_type": "stream",
     "text": [
      "Ken\n",
      "Levi.Satto@gmail.com\n",
      "Levi Satto\n",
      "116600\n",
      "1.06\n",
      "3\n",
      "1.06\n"
     ]
    }
   ],
   "source": [
    "class Empregado:\n",
    "    numero_empregados = 0\n",
    "    total_aumento = 1.04\n",
    "    def __init__(self, first, last, pay):\n",
    "        self.first = first\n",
    "        self.last = last\n",
    "        self.pay = pay\n",
    "        self.email = first + '.' + last + '@gmail.com'\n",
    "        # Aqui usa o nome da classe pq não existe uso personalizado\n",
    "        Empregado.numero_empregados += 1\n",
    "\n",
    "    def full_name(self):\n",
    "        return '{} {}'.format(self.first, self.last)\n",
    "        \n",
    "    def aumento(self, ):\n",
    "        \n",
    "        # usando self no total}_aumento posso personalisar\n",
    "        \n",
    "        self.pay = int(self.pay * self.total_aumento)\n",
    "        \n",
    "    @classmethod\n",
    "    def set_aumento(cls, montante):\n",
    "        cls.total_aumento = montante\n",
    "        \n",
    "    @classmethod\n",
    "    def from_string(cls, emp_str):\n",
    "        first, last, pay = emp_str.split('-')\n",
    "        return cls(first, last, pay)\n",
    "        \n",
    "        \n",
    "emp_1 = Empregado('Levi', 'Satto', 110000)\n",
    "emp_2 = Empregado('Test', 'User', 111000)\n",
    "\n",
    "Empregado.set_aumento(1.06)\n",
    "emp_1.aumento()\n",
    "\n",
    "emp_3 = Empregado.from_string('Ken-Barbie-200000')\n",
    "\n",
    "print(emp_3.first)\n",
    "\n",
    "\n",
    "# print(emp_1)\n",
    "# print(emp_2)\n",
    "\n",
    "\n",
    "print(emp_1.email) # ATRIBUTO NÃO PRECISA DE PARENTESES\n",
    "print(emp_1.full_name()) # MÉTODO NECESSITA PARENTESES\n",
    "print(emp_1.pay)\n",
    "print(emp_1.total_aumento)\n",
    "\n",
    "\n",
    "print(Empregado.numero_empregados)\n",
    "\n",
    "\n",
    "\n",
    "print(emp_2.total_aumento)\n"
   ]
  },
  {
   "cell_type": "code",
   "execution_count": null,
   "metadata": {},
   "outputs": [],
   "source": []
  }
 ],
 "metadata": {
  "kernelspec": {
   "display_name": "Python 3",
   "language": "python",
   "name": "python3"
  },
  "language_info": {
   "codemirror_mode": {
    "name": "ipython",
    "version": 3
   },
   "file_extension": ".py",
   "mimetype": "text/x-python",
   "name": "python",
   "nbconvert_exporter": "python",
   "pygments_lexer": "ipython3",
   "version": "3.7.5"
  }
 },
 "nbformat": 4,
 "nbformat_minor": 4
}
