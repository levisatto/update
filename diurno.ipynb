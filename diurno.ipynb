{
 "cells": [
  {
   "cell_type": "code",
   "execution_count": 1,
   "metadata": {},
   "outputs": [],
   "source": [
    "import pandas as pd\n",
    "# dirceu 22:50\n",
    "# são pedro 22:50"
   ]
  },
  {
   "cell_type": "code",
   "execution_count": 2,
   "metadata": {},
   "outputs": [],
   "source": [
    "diurno = pd.read_excel('Transporte Geral_Almaviva.xlsx', sheet_name='Transporte Geral')"
   ]
  },
  {
   "cell_type": "code",
   "execution_count": 3,
   "metadata": {},
   "outputs": [],
   "source": [
    "diurno = diurno.set_index('RH')"
   ]
  },
  {
   "cell_type": "code",
   "execution_count": 4,
   "metadata": {},
   "outputs": [],
   "source": [
    "diurno['ENTRADA'] = diurno['ENTRADA'].astype(str)\n",
    "diurno['SAÍDA'] = diurno['SAÍDA'].astype(str)"
   ]
  },
  {
   "cell_type": "code",
   "execution_count": 5,
   "metadata": {},
   "outputs": [],
   "source": [
    "diurno['ENTRADA'] = diurno['ENTRADA'].str.replace(':','')\n",
    "diurno['ENTRADA'] = diurno['ENTRADA'].astype(int)\n",
    "diurno['SAÍDA'] = diurno['SAÍDA'].str.replace(':','')\n",
    "diurno['SAÍDA'] = diurno['SAÍDA'].astype(int)"
   ]
  },
  {
   "cell_type": "code",
   "execution_count": 6,
   "metadata": {},
   "outputs": [
    {
     "data": {
      "text/html": [
       "<div>\n",
       "<style scoped>\n",
       "    .dataframe tbody tr th:only-of-type {\n",
       "        vertical-align: middle;\n",
       "    }\n",
       "\n",
       "    .dataframe tbody tr th {\n",
       "        vertical-align: top;\n",
       "    }\n",
       "\n",
       "    .dataframe thead th {\n",
       "        text-align: right;\n",
       "    }\n",
       "</style>\n",
       "<table border=\"1\" class=\"dataframe\">\n",
       "  <thead>\n",
       "    <tr style=\"text-align: right;\">\n",
       "      <th></th>\n",
       "      <th>Site</th>\n",
       "      <th>Nome</th>\n",
       "      <th>Bairro</th>\n",
       "      <th>Cidade</th>\n",
       "      <th>ZONA</th>\n",
       "      <th>ENTRADA</th>\n",
       "      <th>SAÍDA</th>\n",
       "    </tr>\n",
       "    <tr>\n",
       "      <th>RH</th>\n",
       "      <th></th>\n",
       "      <th></th>\n",
       "      <th></th>\n",
       "      <th></th>\n",
       "      <th></th>\n",
       "      <th></th>\n",
       "      <th></th>\n",
       "    </tr>\n",
       "  </thead>\n",
       "  <tbody>\n",
       "    <tr>\n",
       "      <th>77736</th>\n",
       "      <td>São Pedro</td>\n",
       "      <td>ELIANE DA CRUZ PENHA</td>\n",
       "      <td>PEDRA MOLE</td>\n",
       "      <td>Teresina</td>\n",
       "      <td>LESTE</td>\n",
       "      <td>70000</td>\n",
       "      <td>152000</td>\n",
       "    </tr>\n",
       "    <tr>\n",
       "      <th>77743</th>\n",
       "      <td>São Pedro</td>\n",
       "      <td>VALDEMAR DA SILVA FILHO</td>\n",
       "      <td>VALE QUEM TEM</td>\n",
       "      <td>Teresina</td>\n",
       "      <td>LESTE</td>\n",
       "      <td>90000</td>\n",
       "      <td>184800</td>\n",
       "    </tr>\n",
       "    <tr>\n",
       "      <th>77748</th>\n",
       "      <td>São Pedro</td>\n",
       "      <td>ANDRE MARCIO SOUSA BESERRA</td>\n",
       "      <td>SACI</td>\n",
       "      <td>Teresina</td>\n",
       "      <td>SUL</td>\n",
       "      <td>70000</td>\n",
       "      <td>152000</td>\n",
       "    </tr>\n",
       "    <tr>\n",
       "      <th>80904</th>\n",
       "      <td>São Pedro</td>\n",
       "      <td>ANNY CAROLINE COSTA DE OLIVEIRA</td>\n",
       "      <td>SAO PEDRO</td>\n",
       "      <td>Teresina</td>\n",
       "      <td>CENTRO</td>\n",
       "      <td>130000</td>\n",
       "      <td>212000</td>\n",
       "    </tr>\n",
       "    <tr>\n",
       "      <th>80916</th>\n",
       "      <td>São Pedro</td>\n",
       "      <td>MARLETE GOMES DA SILVA OLIVEIRA</td>\n",
       "      <td>ITARARE</td>\n",
       "      <td>Teresina</td>\n",
       "      <td>SDB</td>\n",
       "      <td>63000</td>\n",
       "      <td>125000</td>\n",
       "    </tr>\n",
       "    <tr>\n",
       "      <th>...</th>\n",
       "      <td>...</td>\n",
       "      <td>...</td>\n",
       "      <td>...</td>\n",
       "      <td>...</td>\n",
       "      <td>...</td>\n",
       "      <td>...</td>\n",
       "      <td>...</td>\n",
       "    </tr>\n",
       "    <tr>\n",
       "      <th>251434</th>\n",
       "      <td>São Pedro</td>\n",
       "      <td>NaN</td>\n",
       "      <td>SUCESSAO</td>\n",
       "      <td>Timon</td>\n",
       "      <td>TIMON</td>\n",
       "      <td>144000</td>\n",
       "      <td>210000</td>\n",
       "    </tr>\n",
       "    <tr>\n",
       "      <th>251440</th>\n",
       "      <td>São Pedro</td>\n",
       "      <td>NaN</td>\n",
       "      <td>PARQUE PIAUI</td>\n",
       "      <td>Teresina</td>\n",
       "      <td>SUL</td>\n",
       "      <td>144000</td>\n",
       "      <td>210000</td>\n",
       "    </tr>\n",
       "    <tr>\n",
       "      <th>251443</th>\n",
       "      <td>São Pedro</td>\n",
       "      <td>NaN</td>\n",
       "      <td>PORTAL DA ALEGRIA</td>\n",
       "      <td>Teresina</td>\n",
       "      <td>SUL</td>\n",
       "      <td>144000</td>\n",
       "      <td>210000</td>\n",
       "    </tr>\n",
       "    <tr>\n",
       "      <th>251446</th>\n",
       "      <td>São Pedro</td>\n",
       "      <td>NaN</td>\n",
       "      <td>TIMON</td>\n",
       "      <td>Teresina</td>\n",
       "      <td>TIMON</td>\n",
       "      <td>144000</td>\n",
       "      <td>210000</td>\n",
       "    </tr>\n",
       "    <tr>\n",
       "      <th>251480</th>\n",
       "      <td>Dirceu</td>\n",
       "      <td>NaN</td>\n",
       "      <td>MATINHA</td>\n",
       "      <td>Teresina</td>\n",
       "      <td>NORTE</td>\n",
       "      <td>150000</td>\n",
       "      <td>232000</td>\n",
       "    </tr>\n",
       "  </tbody>\n",
       "</table>\n",
       "<p>4871 rows × 7 columns</p>\n",
       "</div>"
      ],
      "text/plain": [
       "             Site                             Nome             Bairro  \\\n",
       "RH                                                                      \n",
       "77736   São Pedro             ELIANE DA CRUZ PENHA         PEDRA MOLE   \n",
       "77743   São Pedro          VALDEMAR DA SILVA FILHO      VALE QUEM TEM   \n",
       "77748   São Pedro       ANDRE MARCIO SOUSA BESERRA               SACI   \n",
       "80904   São Pedro  ANNY CAROLINE COSTA DE OLIVEIRA          SAO PEDRO   \n",
       "80916   São Pedro  MARLETE GOMES DA SILVA OLIVEIRA            ITARARE   \n",
       "...           ...                              ...                ...   \n",
       "251434  São Pedro                              NaN           SUCESSAO   \n",
       "251440  São Pedro                              NaN       PARQUE PIAUI   \n",
       "251443  São Pedro                              NaN  PORTAL DA ALEGRIA   \n",
       "251446  São Pedro                              NaN              TIMON   \n",
       "251480     Dirceu                              NaN            MATINHA   \n",
       "\n",
       "          Cidade    ZONA  ENTRADA   SAÍDA  \n",
       "RH                                         \n",
       "77736   Teresina   LESTE    70000  152000  \n",
       "77743   Teresina   LESTE    90000  184800  \n",
       "77748   Teresina    SUL     70000  152000  \n",
       "80904   Teresina  CENTRO   130000  212000  \n",
       "80916   Teresina     SDB    63000  125000  \n",
       "...          ...     ...      ...     ...  \n",
       "251434     Timon   TIMON   144000  210000  \n",
       "251440  Teresina    SUL    144000  210000  \n",
       "251443  Teresina    SUL    144000  210000  \n",
       "251446  Teresina   TIMON   144000  210000  \n",
       "251480  Teresina  NORTE    150000  232000  \n",
       "\n",
       "[4871 rows x 7 columns]"
      ]
     },
     "execution_count": 6,
     "metadata": {},
     "output_type": "execute_result"
    }
   ],
   "source": [
    "colunas = ['Site', 'Nome', 'Bairro', 'Cidade', 'ZONA', 'ENTRADA', 'SAÍDA']\n",
    "diurno = diurno[colunas]\n",
    "diurno"
   ]
  },
  {
   "cell_type": "code",
   "execution_count": 7,
   "metadata": {},
   "outputs": [],
   "source": [
    "entrada = diurno['ENTRADA'].unique()\n",
    "entrada = sorted(entrada)"
   ]
  },
  {
   "cell_type": "code",
   "execution_count": 8,
   "metadata": {},
   "outputs": [],
   "source": [
    "# entrada_220000 = diurno[diurno['ENTRADA'] == 220000]\n",
    "# len(entrada_220000)\n",
    "# entrada_220000['ZONA'].value_counts()"
   ]
  },
  {
   "cell_type": "code",
   "execution_count": 9,
   "metadata": {},
   "outputs": [
    {
     "data": {
      "text/plain": [
       "4573"
      ]
     },
     "execution_count": 9,
     "metadata": {},
     "output_type": "execute_result"
    }
   ],
   "source": [
    "len(diurno.index.unique())"
   ]
  },
  {
   "cell_type": "code",
   "execution_count": 10,
   "metadata": {},
   "outputs": [
    {
     "name": "stdout",
     "output_type": "stream",
     "text": [
      "Index(['Site', 'Nome', 'Bairro', 'Cidade', 'ZONA', 'ENTRADA', 'SAÍDA'], dtype='object')\n"
     ]
    },
    {
     "data": {
      "text/plain": [
       "(1303, 726, 721, 552, 386, 641, 64, 476)"
      ]
     },
     "execution_count": 10,
     "metadata": {},
     "output_type": "execute_result"
    }
   ],
   "source": [
    "timon = diurno[diurno['ZONA'] == 'TIMON']\n",
    "sul = diurno[diurno['ZONA'] == 'SUL ']\n",
    "norte = diurno[diurno['ZONA'] == 'NORTE ']\n",
    "leste = diurno[diurno['ZONA'] == 'LESTE']\n",
    "sdc = diurno[diurno['ZONA'] == 'SDC']\n",
    "sdb = diurno[diurno['ZONA'] == 'SDB']\n",
    "rural = diurno[diurno['ZONA'] == 'RURAL']\n",
    "centro = diurno[diurno['ZONA'] == 'CENTRO']\n",
    "print(timon.columns)\n",
    "len(sul),len(timon),len(norte),len(leste),len(sdc),len(sdb),len(rural),len(centro)"
   ]
  },
  {
   "cell_type": "code",
   "execution_count": 11,
   "metadata": {},
   "outputs": [
    {
     "data": {
      "text/plain": [
       "4869"
      ]
     },
     "execution_count": 11,
     "metadata": {},
     "output_type": "execute_result"
    }
   ],
   "source": [
    "len(sul)+len(timon)+len(norte)+len(leste)+len(sdc)+len(sdb)+len(rural)+len(centro)"
   ]
  },
  {
   "cell_type": "markdown",
   "metadata": {},
   "source": [
    "# TIMON"
   ]
  },
  {
   "cell_type": "code",
   "execution_count": 12,
   "metadata": {},
   "outputs": [
    {
     "name": "stderr",
     "output_type": "stream",
     "text": [
      "C:\\Users\\user\\Anaconda3\\envs\\teste_vipi\\lib\\site-packages\\ipykernel_launcher.py:4: SettingWithCopyWarning: \n",
      "A value is trying to be set on a copy of a slice from a DataFrame.\n",
      "Try using .loc[row_indexer,col_indexer] = value instead\n",
      "\n",
      "See the caveats in the documentation: http://pandas.pydata.org/pandas-docs/stable/user_guide/indexing.html#returning-a-view-versus-a-copy\n",
      "  after removing the cwd from sys.path.\n"
     ]
    },
    {
     "data": {
      "text/plain": [
       "(51, 48, 0)"
      ]
     },
     "execution_count": 12,
     "metadata": {},
     "output_type": "execute_result"
    }
   ],
   "source": [
    "# 6:00\n",
    "timon_4_35 = timon[(timon['ENTRADA'] > 55500) & (timon['ENTRADA'] <= 65000) | (timon['SAÍDA'] > 30000) & (timon['SAÍDA'] < 43500)]\n",
    "timon_4_35_e =  timon[(timon['ENTRADA'] > 55500) & (timon['ENTRADA'] <= 65000)]\n",
    "timon_4_35_e['FRETADO'] = 'COLETA'\n",
    "timon_4_35_s = timon[(timon['SAÍDA'] > 30000) & (timon['SAÍDA'] < 43500)]\n",
    "timon_4_35_s['FRETADO'] = 'DEVOLUÇÃO'\n",
    "timon_4_35 = pd.concat([timon_4_35_e,timon_4_35_s]).copy()\n",
    "timon_4_35 = timon_4_35.append({'Nome':'Saída: 4:35 / Chegada: 6:00'},ignore_index=True)\n",
    "dev = f'Devoluções: {len(timon_4_35_s)}'\n",
    "col = f'Coletas: {len(timon_4_35_e)}'\n",
    "timon_4_35 = timon_4_35.append({'Nome': dev},ignore_index=True)\n",
    "timon_4_35 = timon_4_35.append({'Nome': col},ignore_index=True)\n",
    "len(timon_4_35), len(timon_4_35_e), len(timon_4_35_s)"
   ]
  },
  {
   "cell_type": "code",
   "execution_count": 13,
   "metadata": {},
   "outputs": [
    {
     "name": "stderr",
     "output_type": "stream",
     "text": [
      "C:\\Users\\user\\Anaconda3\\envs\\teste_vipi\\lib\\site-packages\\ipykernel_launcher.py:5: SettingWithCopyWarning: \n",
      "A value is trying to be set on a copy of a slice from a DataFrame.\n",
      "Try using .loc[row_indexer,col_indexer] = value instead\n",
      "\n",
      "See the caveats in the documentation: http://pandas.pydata.org/pandas-docs/stable/user_guide/indexing.html#returning-a-view-versus-a-copy\n",
      "  \"\"\"\n"
     ]
    },
    {
     "data": {
      "text/plain": [
       "(174, 171, 0)"
      ]
     },
     "execution_count": 13,
     "metadata": {},
     "output_type": "execute_result"
    }
   ],
   "source": [
    "# 7:00\n",
    "timon_5_25 = timon[(timon['ENTRADA'] >= 65000) & (timon['ENTRADA'] <= 80000) | (timon['SAÍDA'] > 42500) & (timon['SAÍDA'] <= 52500)]\n",
    "timon_5_25_e = timon[(timon['ENTRADA'] >= 65000) & (timon['ENTRADA'] <= 80000)]\n",
    "timon_5_25_s = timon[(timon['SAÍDA'] > 42500) & (timon['SAÍDA'] <= 52500)]\n",
    "timon_5_25_e['FRETADO'] = 'COLETA'\n",
    "timon_5_25_s['FRETADO'] = 'DEVOLUÇÃO'\n",
    "timon_5_25 = pd.concat([timon_5_25_e,timon_5_25_s], sort=False).copy()\n",
    "timon_5_25 = timon_5_25.append({'Nome':'Saída: 5:25 / Chegada: 7:00'},ignore_index=True)\n",
    "dev = f'Devoluções: {len(timon_5_25_s)}'\n",
    "col = f'Coletas: {len(timon_5_25_e)}'\n",
    "timon_5_25 = timon_5_25.append({'Nome': dev},ignore_index=True)\n",
    "timon_5_25 = timon_5_25.append({'Nome': col},ignore_index=True)\n",
    "len(timon_5_25), len(timon_5_25_e),len(timon_5_25_s)"
   ]
  },
  {
   "cell_type": "code",
   "execution_count": 14,
   "metadata": {},
   "outputs": [
    {
     "name": "stderr",
     "output_type": "stream",
     "text": [
      "C:\\Users\\user\\Anaconda3\\envs\\teste_vipi\\lib\\site-packages\\ipykernel_launcher.py:5: SettingWithCopyWarning: \n",
      "A value is trying to be set on a copy of a slice from a DataFrame.\n",
      "Try using .loc[row_indexer,col_indexer] = value instead\n",
      "\n",
      "See the caveats in the documentation: http://pandas.pydata.org/pandas-docs/stable/user_guide/indexing.html#returning-a-view-versus-a-copy\n",
      "  \"\"\"\n",
      "C:\\Users\\user\\Anaconda3\\envs\\teste_vipi\\lib\\site-packages\\ipykernel_launcher.py:6: SettingWithCopyWarning: \n",
      "A value is trying to be set on a copy of a slice from a DataFrame.\n",
      "Try using .loc[row_indexer,col_indexer] = value instead\n",
      "\n",
      "See the caveats in the documentation: http://pandas.pydata.org/pandas-docs/stable/user_guide/indexing.html#returning-a-view-versus-a-copy\n",
      "  \n"
     ]
    },
    {
     "data": {
      "text/plain": [
       "(145, 140, 2)"
      ]
     },
     "execution_count": 14,
     "metadata": {},
     "output_type": "execute_result"
    }
   ],
   "source": [
    "# 7:50\n",
    "timon_6_10 = timon[(timon['ENTRADA'] > 80000) & (timon['ENTRADA'] < 84500) | (timon['SAÍDA'] > 52500) & (timon['SAÍDA'] <= 61500)]\n",
    "timon_6_10_e = timon[(timon['ENTRADA'] > 80000) & (timon['ENTRADA'] < 84500)]\n",
    "timon_6_10_s = timon[(timon['SAÍDA'] > 52500) & (timon['SAÍDA'] <= 61500)]\n",
    "timon_6_10_e['FRETADO'] = 'COLETA'\n",
    "timon_6_10_s['FRETADO'] = 'DEVOLUÇÃO'\n",
    "timon_6_10 = pd.concat([timon_6_10_e,timon_6_10_s], sort=False).copy()\n",
    "timon_6_10 = timon_6_10.append({'Nome':'Saída: 6:10 / Chegada: 7:45'},ignore_index=True)\n",
    "dev = f'Devoluções: {len(timon_6_10_s)}'\n",
    "col = f'Coletas: {len(timon_6_10_e)}'\n",
    "timon_6_10 = timon_6_10.append({'Nome': dev},ignore_index=True)\n",
    "timon_6_10 = timon_6_10.append({'Nome': col},ignore_index=True)\n",
    "len(timon_6_10),len(timon_6_10_e),len(timon_6_10_s)"
   ]
  },
  {
   "cell_type": "code",
   "execution_count": 15,
   "metadata": {},
   "outputs": [
    {
     "name": "stderr",
     "output_type": "stream",
     "text": [
      "C:\\Users\\user\\Anaconda3\\envs\\teste_vipi\\lib\\site-packages\\ipykernel_launcher.py:5: SettingWithCopyWarning: \n",
      "A value is trying to be set on a copy of a slice from a DataFrame.\n",
      "Try using .loc[row_indexer,col_indexer] = value instead\n",
      "\n",
      "See the caveats in the documentation: http://pandas.pydata.org/pandas-docs/stable/user_guide/indexing.html#returning-a-view-versus-a-copy\n",
      "  \"\"\"\n",
      "C:\\Users\\user\\Anaconda3\\envs\\teste_vipi\\lib\\site-packages\\ipykernel_launcher.py:6: SettingWithCopyWarning: \n",
      "A value is trying to be set on a copy of a slice from a DataFrame.\n",
      "Try using .loc[row_indexer,col_indexer] = value instead\n",
      "\n",
      "See the caveats in the documentation: http://pandas.pydata.org/pandas-docs/stable/user_guide/indexing.html#returning-a-view-versus-a-copy\n",
      "  \n"
     ]
    },
    {
     "data": {
      "text/plain": [
       "(70, 63, 4)"
      ]
     },
     "execution_count": 15,
     "metadata": {},
     "output_type": "execute_result"
    }
   ],
   "source": [
    "# 8:40\n",
    "timon_7_15 = timon[(timon['ENTRADA'] >= 84500) & (timon['ENTRADA'] <= 103000) | (timon['SAÍDA'] > 61500) & (timon['SAÍDA'] < 71500)]\n",
    "timon_7_15_e = timon[(timon['ENTRADA'] >= 84500) & (timon['ENTRADA'] <= 103000)]\n",
    "timon_7_15_s = timon[(timon['SAÍDA'] > 61500) & (timon['SAÍDA'] < 71500)]\n",
    "timon_7_15_e['FRETADO'] = 'COLETA'\n",
    "timon_7_15_s['FRETADO'] = 'DEVOLUÇÃO'\n",
    "timon_7_15 = pd.concat([timon_7_15_e,timon_7_15_s], sort=False).copy()\n",
    "timon_7_15 = timon_7_15.append({'Nome':'Saída: 7:15 / Chegada: 8:50'},ignore_index=True)\n",
    "dev = f'Devoluções: {len(timon_7_15_s)}'\n",
    "col = f'Coletas: {len(timon_7_15_e)}'\n",
    "timon_7_15 = timon_7_15.append({'Nome': dev},ignore_index=True)\n",
    "timon_7_15 = timon_7_15.append({'Nome': col},ignore_index=True)\n",
    "len(timon_7_15),len(timon_7_15_e),len(timon_7_15_s)"
   ]
  },
  {
   "cell_type": "code",
   "execution_count": 16,
   "metadata": {},
   "outputs": [
    {
     "name": "stderr",
     "output_type": "stream",
     "text": [
      "C:\\Users\\user\\Anaconda3\\envs\\teste_vipi\\lib\\site-packages\\ipykernel_launcher.py:5: SettingWithCopyWarning: \n",
      "A value is trying to be set on a copy of a slice from a DataFrame.\n",
      "Try using .loc[row_indexer,col_indexer] = value instead\n",
      "\n",
      "See the caveats in the documentation: http://pandas.pydata.org/pandas-docs/stable/user_guide/indexing.html#returning-a-view-versus-a-copy\n",
      "  \"\"\"\n",
      "C:\\Users\\user\\Anaconda3\\envs\\teste_vipi\\lib\\site-packages\\ipykernel_launcher.py:6: SettingWithCopyWarning: \n",
      "A value is trying to be set on a copy of a slice from a DataFrame.\n",
      "Try using .loc[row_indexer,col_indexer] = value instead\n",
      "\n",
      "See the caveats in the documentation: http://pandas.pydata.org/pandas-docs/stable/user_guide/indexing.html#returning-a-view-versus-a-copy\n",
      "  \n"
     ]
    },
    {
     "data": {
      "text/plain": [
       "(45, 40, 2)"
      ]
     },
     "execution_count": 16,
     "metadata": {},
     "output_type": "execute_result"
    }
   ],
   "source": [
    "# 12:50\n",
    "timon_11_20 = timon[(timon['ENTRADA'] >= 125000) & (timon['ENTRADA'] <= 141000) | (timon['SAÍDA'] > 100000) & (timon['SAÍDA'] <= 112000)]\n",
    "timon_11_20_e = timon[(timon['ENTRADA'] >= 125000) & (timon['ENTRADA'] <= 141000)]\n",
    "timon_11_20_s = timon[(timon['SAÍDA'] > 100000) & (timon['SAÍDA'] <= 112000)]\n",
    "timon_11_20_e['FRETADO'] = 'COLETA'\n",
    "timon_11_20_s['FRETADO'] = 'DEVOLUÇÃO'\n",
    "timon_11_20 = pd.concat([timon_11_20_e,timon_11_20_s], sort=False).copy()\n",
    "timon_11_20 = timon_11_20.append({'Nome':'Saída: 11:20 / Chegada: 12:50'},ignore_index=True)\n",
    "dev = f'Devoluções: {len(timon_11_20_s)}'\n",
    "col = f'Coletas: {len(timon_11_20_e)}'\n",
    "timon_11_20 = timon_11_20.append({'Nome': dev},ignore_index=True)\n",
    "timon_11_20 = timon_11_20.append({'Nome': col},ignore_index=True)\n",
    "len(timon_11_20),len(timon_11_20_e),len(timon_11_20_s)"
   ]
  },
  {
   "cell_type": "code",
   "execution_count": 17,
   "metadata": {},
   "outputs": [
    {
     "name": "stderr",
     "output_type": "stream",
     "text": [
      "C:\\Users\\user\\Anaconda3\\envs\\teste_vipi\\lib\\site-packages\\ipykernel_launcher.py:5: SettingWithCopyWarning: \n",
      "A value is trying to be set on a copy of a slice from a DataFrame.\n",
      "Try using .loc[row_indexer,col_indexer] = value instead\n",
      "\n",
      "See the caveats in the documentation: http://pandas.pydata.org/pandas-docs/stable/user_guide/indexing.html#returning-a-view-versus-a-copy\n",
      "  \"\"\"\n",
      "C:\\Users\\user\\Anaconda3\\envs\\teste_vipi\\lib\\site-packages\\ipykernel_launcher.py:6: SettingWithCopyWarning: \n",
      "A value is trying to be set on a copy of a slice from a DataFrame.\n",
      "Try using .loc[row_indexer,col_indexer] = value instead\n",
      "\n",
      "See the caveats in the documentation: http://pandas.pydata.org/pandas-docs/stable/user_guide/indexing.html#returning-a-view-versus-a-copy\n",
      "  \n"
     ]
    },
    {
     "data": {
      "text/plain": [
       "(95, 72, 20)"
      ]
     },
     "execution_count": 17,
     "metadata": {},
     "output_type": "execute_result"
    }
   ],
   "source": [
    "# 13:40\n",
    "timon_12_10 = timon[(timon['ENTRADA'] > 141000) & (timon['ENTRADA'] <= 143500) | (timon['SAÍDA'] > 112000) & (timon['SAÍDA'] <= 123000)]\n",
    "timon_12_10_e = timon[(timon['ENTRADA'] > 141000) & (timon['ENTRADA'] <= 143500)]\n",
    "timon_12_10_s = timon[(timon['SAÍDA'] > 112000) & (timon['SAÍDA'] <= 123000)]\n",
    "timon_12_10_e['FRETADO'] = 'COLETA'\n",
    "timon_12_10_s['FRETADO'] = 'DEVOLUÇÃO'\n",
    "timon_12_10 = pd.concat([timon_12_10_e,timon_12_10_s], sort=False).copy()\n",
    "timon_12_10 = timon_12_10.append({'Nome':'Saída: 12:10 / Chegada: 13:40'},ignore_index=True)\n",
    "dev = f'Devoluções: {len(timon_12_10_s)}'\n",
    "col = f'Coletas: {len(timon_12_10_e)}'\n",
    "timon_12_10 = timon_12_10.append({'Nome': dev},ignore_index=True)\n",
    "timon_12_10 = timon_12_10.append({'Nome': col},ignore_index=True)\n",
    "len(timon_12_10),len(timon_12_10_e),len(timon_12_10_s)"
   ]
  },
  {
   "cell_type": "code",
   "execution_count": 18,
   "metadata": {},
   "outputs": [
    {
     "name": "stderr",
     "output_type": "stream",
     "text": [
      "C:\\Users\\user\\Anaconda3\\envs\\teste_vipi\\lib\\site-packages\\ipykernel_launcher.py:5: SettingWithCopyWarning: \n",
      "A value is trying to be set on a copy of a slice from a DataFrame.\n",
      "Try using .loc[row_indexer,col_indexer] = value instead\n",
      "\n",
      "See the caveats in the documentation: http://pandas.pydata.org/pandas-docs/stable/user_guide/indexing.html#returning-a-view-versus-a-copy\n",
      "  \"\"\"\n",
      "C:\\Users\\user\\Anaconda3\\envs\\teste_vipi\\lib\\site-packages\\ipykernel_launcher.py:6: SettingWithCopyWarning: \n",
      "A value is trying to be set on a copy of a slice from a DataFrame.\n",
      "Try using .loc[row_indexer,col_indexer] = value instead\n",
      "\n",
      "See the caveats in the documentation: http://pandas.pydata.org/pandas-docs/stable/user_guide/indexing.html#returning-a-view-versus-a-copy\n",
      "  \n"
     ]
    },
    {
     "data": {
      "text/plain": [
       "(126, 98, 25)"
      ]
     },
     "execution_count": 18,
     "metadata": {},
     "output_type": "execute_result"
    }
   ],
   "source": [
    "# 14:30\n",
    "timon_13_00 = timon[(timon['ENTRADA'] > 143500) & (timon['ENTRADA'] < 150000) | (timon['SAÍDA'] > 123000) & (timon['SAÍDA'] <= 130000)]\n",
    "timon_13_00_e = timon[(timon['ENTRADA'] > 143500) & (timon['ENTRADA'] < 150000)]\n",
    "timon_13_00_s = timon[(timon['SAÍDA'] > 123000) & (timon['SAÍDA'] <= 130000)]\n",
    "timon_13_00_e['FRETADO'] = 'COLETA'\n",
    "timon_13_00_s['FRETADO'] = 'DEVOLUÇÃO'\n",
    "timon_13_00 = pd.concat([timon_13_00_e,timon_13_00_s], sort=False).copy()\n",
    "timon_13_00 = timon_13_00.append({'Nome':'Saída: 13:00 / Chegada: 14:30'},ignore_index=True)\n",
    "dev = f'Devoluções: {len(timon_13_00_s)}'\n",
    "col = f'Coletas: {len(timon_13_00_e)}'\n",
    "timon_13_00 = timon_13_00.append({'Nome': dev},ignore_index=True)\n",
    "timon_13_00 = timon_13_00.append({'Nome': col},ignore_index=True)\n",
    "len(timon_13_00),len(timon_13_00_e),len(timon_13_00_s)"
   ]
  },
  {
   "cell_type": "code",
   "execution_count": 19,
   "metadata": {},
   "outputs": [
    {
     "name": "stderr",
     "output_type": "stream",
     "text": [
      "C:\\Users\\user\\Anaconda3\\envs\\teste_vipi\\lib\\site-packages\\ipykernel_launcher.py:5: SettingWithCopyWarning: \n",
      "A value is trying to be set on a copy of a slice from a DataFrame.\n",
      "Try using .loc[row_indexer,col_indexer] = value instead\n",
      "\n",
      "See the caveats in the documentation: http://pandas.pydata.org/pandas-docs/stable/user_guide/indexing.html#returning-a-view-versus-a-copy\n",
      "  \"\"\"\n",
      "C:\\Users\\user\\Anaconda3\\envs\\teste_vipi\\lib\\site-packages\\ipykernel_launcher.py:6: SettingWithCopyWarning: \n",
      "A value is trying to be set on a copy of a slice from a DataFrame.\n",
      "Try using .loc[row_indexer,col_indexer] = value instead\n",
      "\n",
      "See the caveats in the documentation: http://pandas.pydata.org/pandas-docs/stable/user_guide/indexing.html#returning-a-view-versus-a-copy\n",
      "  \n"
     ]
    },
    {
     "data": {
      "text/plain": [
       "(126, 42, 26)"
      ]
     },
     "execution_count": 19,
     "metadata": {},
     "output_type": "execute_result"
    }
   ],
   "source": [
    "# 15:00\n",
    "timon_13_30 = timon[(timon['ENTRADA'] >= 150000) & (timon['ENTRADA'] <= 160000) | (timon['SAÍDA'] > 130000) & (timon['SAÍDA'] <= 133000)]\n",
    "timon_13_30_e = timon[(timon['ENTRADA'] >= 150000) & (timon['ENTRADA'] <= 160000)]\n",
    "timon_13_30_s = timon[(timon['SAÍDA'] > 130000) & (timon['SAÍDA'] <= 133000)]\n",
    "timon_13_30_e['FRETADO'] = 'COLETA'\n",
    "timon_13_30_s['FRETADO'] = 'DEVOLUÇÃO'\n",
    "timon_13_30 = pd.concat([timon_13_00_e,timon_13_00_s], sort=False).copy()\n",
    "timon_13_30 = timon_13_30.append({'Nome':'Saída: 13:30 / Chegada: 15:00'},ignore_index=True)\n",
    "dev = f'Devoluções: {len(timon_13_30_s)}'\n",
    "col = f'Coletas: {len(timon_13_30_e)}'\n",
    "timon_13_30 = timon_13_30.append({'Nome': dev},ignore_index=True)\n",
    "timon_13_30 = timon_13_30.append({'Nome': col},ignore_index=True)\n",
    "len(timon_13_30),len(timon_13_30_e),len(timon_13_30_s)"
   ]
  },
  {
   "cell_type": "code",
   "execution_count": 20,
   "metadata": {},
   "outputs": [
    {
     "name": "stderr",
     "output_type": "stream",
     "text": [
      "C:\\Users\\user\\Anaconda3\\envs\\teste_vipi\\lib\\site-packages\\ipykernel_launcher.py:5: SettingWithCopyWarning: \n",
      "A value is trying to be set on a copy of a slice from a DataFrame.\n",
      "Try using .loc[row_indexer,col_indexer] = value instead\n",
      "\n",
      "See the caveats in the documentation: http://pandas.pydata.org/pandas-docs/stable/user_guide/indexing.html#returning-a-view-versus-a-copy\n",
      "  \"\"\"\n",
      "C:\\Users\\user\\Anaconda3\\envs\\teste_vipi\\lib\\site-packages\\ipykernel_launcher.py:6: SettingWithCopyWarning: \n",
      "A value is trying to be set on a copy of a slice from a DataFrame.\n",
      "Try using .loc[row_indexer,col_indexer] = value instead\n",
      "\n",
      "See the caveats in the documentation: http://pandas.pydata.org/pandas-docs/stable/user_guide/indexing.html#returning-a-view-versus-a-copy\n",
      "  \n"
     ]
    },
    {
     "data": {
      "text/plain": [
       "(151, 13, 135)"
      ]
     },
     "execution_count": 20,
     "metadata": {},
     "output_type": "execute_result"
    }
   ],
   "source": [
    "# 15:50\n",
    "timon_14_20 = timon[(timon['ENTRADA'] > 160000) & (timon['ENTRADA'] <= 170000) | (timon['SAÍDA'] > 133000) & (timon['SAÍDA'] <= 142000)]\n",
    "timon_14_20_e = timon[(timon['ENTRADA'] > 160000) & (timon['ENTRADA'] <= 170000)]\n",
    "timon_14_20_s = timon[(timon['SAÍDA'] > 133000) & (timon['SAÍDA'] <= 142000)]\n",
    "timon_14_20_e['FRETADO'] = 'COLETA'\n",
    "timon_14_20_s['FRETADO'] = 'DEVOLUÇÃO'\n",
    "timon_14_20 = pd.concat([timon_14_20_e,timon_14_20_s], sort=False).copy()\n",
    "timon_14_20 = timon_14_20.append({'Nome':'Saída: 14:20 / Chegada: 15:50'},ignore_index=True)\n",
    "dev = f'Devoluções: {len(timon_14_20_s)}'\n",
    "col = f'Coletas: {len(timon_14_20_e)}'\n",
    "timon_14_20 = timon_14_20.append({'Nome': dev},ignore_index=True)\n",
    "timon_14_20 = timon_14_20.append({'Nome': col},ignore_index=True)\n",
    "len(timon_14_20),len(timon_14_20_e),len(timon_14_20_s)"
   ]
  },
  {
   "cell_type": "code",
   "execution_count": 21,
   "metadata": {},
   "outputs": [
    {
     "name": "stderr",
     "output_type": "stream",
     "text": [
      "C:\\Users\\user\\Anaconda3\\envs\\teste_vipi\\lib\\site-packages\\ipykernel_launcher.py:6: SettingWithCopyWarning: \n",
      "A value is trying to be set on a copy of a slice from a DataFrame.\n",
      "Try using .loc[row_indexer,col_indexer] = value instead\n",
      "\n",
      "See the caveats in the documentation: http://pandas.pydata.org/pandas-docs/stable/user_guide/indexing.html#returning-a-view-versus-a-copy\n",
      "  \n"
     ]
    },
    {
     "data": {
      "text/plain": [
       "(149, 0, 146)"
      ]
     },
     "execution_count": 21,
     "metadata": {},
     "output_type": "execute_result"
    }
   ],
   "source": [
    "# 16:40\n",
    "timon_15_10 = timon[(timon['ENTRADA'] > 170000) & (timon['ENTRADA'] <= 174000) | (timon['SAÍDA'] > 142000) & (timon['SAÍDA'] <= 151000)]\n",
    "timon_15_10_e = timon[(timon['ENTRADA'] > 170000) & (timon['ENTRADA'] <= 17400)]\n",
    "timon_15_10_s = timon[(timon['SAÍDA'] > 142000) & (timon['SAÍDA'] <= 151000)]\n",
    "timon_15_10_e['FRETADO'] = 'COLETA'\n",
    "timon_15_10_s['FRETADO'] = 'DEVOLUÇÃO'\n",
    "timon_15_10 = pd.concat([timon_15_10_e,timon_15_10_s], sort=False).copy()\n",
    "timon_15_10 = timon_15_10.append({'Site':'Saída: 15:10 / Chegada: 16:40'},ignore_index=True)\n",
    "dev = f'Devoluções: {len(timon_15_10_s)}'\n",
    "col = f'Coletas: {len(timon_15_10_e)}'\n",
    "timon_15_10 = timon_15_10.append({'Nome': dev},ignore_index=True)\n",
    "timon_15_10 = timon_15_10.append({'Nome': col},ignore_index=True)\n",
    "len(timon_15_10),len(timon_15_10_e),len(timon_15_10_s)"
   ]
  },
  {
   "cell_type": "code",
   "execution_count": 22,
   "metadata": {},
   "outputs": [
    {
     "name": "stderr",
     "output_type": "stream",
     "text": [
      "C:\\Users\\user\\Anaconda3\\envs\\teste_vipi\\lib\\site-packages\\ipykernel_launcher.py:5: SettingWithCopyWarning: \n",
      "A value is trying to be set on a copy of a slice from a DataFrame.\n",
      "Try using .loc[row_indexer,col_indexer] = value instead\n",
      "\n",
      "See the caveats in the documentation: http://pandas.pydata.org/pandas-docs/stable/user_guide/indexing.html#returning-a-view-versus-a-copy\n",
      "  \"\"\"\n",
      "C:\\Users\\user\\Anaconda3\\envs\\teste_vipi\\lib\\site-packages\\ipykernel_launcher.py:6: SettingWithCopyWarning: \n",
      "A value is trying to be set on a copy of a slice from a DataFrame.\n",
      "Try using .loc[row_indexer,col_indexer] = value instead\n",
      "\n",
      "See the caveats in the documentation: http://pandas.pydata.org/pandas-docs/stable/user_guide/indexing.html#returning-a-view-versus-a-copy\n",
      "  \n"
     ]
    },
    {
     "data": {
      "text/plain": [
       "(67, 11, 53)"
      ]
     },
     "execution_count": 22,
     "metadata": {},
     "output_type": "execute_result"
    }
   ],
   "source": [
    "# 18:00\n",
    "timon_16_30 = timon[(timon['ENTRADA'] > 174000) & (timon['ENTRADA'] <= 193000) | (timon['SAÍDA'] > 151000) & (timon['SAÍDA'] <= 163000)]\n",
    "timon_16_30_e = timon[(timon['ENTRADA'] > 174000) & (timon['ENTRADA'] <= 193000)]\n",
    "timon_16_30_s = timon[(timon['SAÍDA'] > 151000) & (timon['SAÍDA'] <= 163000)]\n",
    "timon_16_30_e['FRETADO'] = 'COLETA'\n",
    "timon_16_30_s['FRETADO'] = 'DEVOLUÇÃO'\n",
    "timon_16_30 = pd.concat([timon_16_30_e,timon_16_30_s], sort=False).copy()\n",
    "timon_16_30 = timon_16_30.append({'Nome':'Saída: 16:30 / Chegada: 18:00'},ignore_index=True)\n",
    "dev = f'Devoluções: {len(timon_16_30_s)}'\n",
    "col = f'Coletas: {len(timon_16_30_e)}'\n",
    "timon_16_30 = timon_16_30.append({'Nome': dev},ignore_index=True)\n",
    "timon_16_30 = timon_16_30.append({'Nome': col},ignore_index=True)\n",
    "len(timon_16_30),len(timon_16_30_e),len(timon_16_30_s)"
   ]
  },
  {
   "cell_type": "code",
   "execution_count": 23,
   "metadata": {},
   "outputs": [
    {
     "name": "stderr",
     "output_type": "stream",
     "text": [
      "C:\\Users\\user\\Anaconda3\\envs\\teste_vipi\\lib\\site-packages\\ipykernel_launcher.py:5: SettingWithCopyWarning: \n",
      "A value is trying to be set on a copy of a slice from a DataFrame.\n",
      "Try using .loc[row_indexer,col_indexer] = value instead\n",
      "\n",
      "See the caveats in the documentation: http://pandas.pydata.org/pandas-docs/stable/user_guide/indexing.html#returning-a-view-versus-a-copy\n",
      "  \"\"\"\n",
      "C:\\Users\\user\\Anaconda3\\envs\\teste_vipi\\lib\\site-packages\\ipykernel_launcher.py:6: SettingWithCopyWarning: \n",
      "A value is trying to be set on a copy of a slice from a DataFrame.\n",
      "Try using .loc[row_indexer,col_indexer] = value instead\n",
      "\n",
      "See the caveats in the documentation: http://pandas.pydata.org/pandas-docs/stable/user_guide/indexing.html#returning-a-view-versus-a-copy\n",
      "  \n"
     ]
    },
    {
     "data": {
      "text/plain": [
       "(26, 1, 22)"
      ]
     },
     "execution_count": 23,
     "metadata": {},
     "output_type": "execute_result"
    }
   ],
   "source": [
    "# 19:30\n",
    "timon_18_00 = timon[(timon['ENTRADA'] > 193000) & (timon['ENTRADA'] <= 210000) | (timon['SAÍDA'] > 163000) & (timon['SAÍDA'] <= 180000)]\n",
    "timon_18_00_e = timon[(timon['ENTRADA'] > 193000) & (timon['ENTRADA'] <= 210000)]\n",
    "timon_18_00_s = timon[(timon['SAÍDA'] > 163000) & (timon['SAÍDA'] <= 180000)]\n",
    "timon_18_00_e['FRETADO'] = 'COLETA'\n",
    "timon_18_00_s['FRETADO'] = 'DEVOLUÇÃO'\n",
    "timon_18_00 = pd.concat([timon_18_00_e,timon_18_00_s], sort=False).copy()\n",
    "timon_18_00 = timon_18_00.append({'Nome':'Saída: 18:00 / Chegada: 19:30'},ignore_index=True)\n",
    "dev = f'Devoluções: {len(timon_18_00_s)}'\n",
    "col = f'Coletas: {len(timon_18_00_e)}'\n",
    "timon_18_00 = timon_18_00.append({'Nome': dev},ignore_index=True)\n",
    "timon_18_00 = timon_18_00.append({'Nome': col},ignore_index=True)\n",
    "len(timon_18_00),len(timon_18_00_e),len(timon_18_00_s)"
   ]
  },
  {
   "cell_type": "code",
   "execution_count": 24,
   "metadata": {},
   "outputs": [
    {
     "name": "stderr",
     "output_type": "stream",
     "text": [
      "C:\\Users\\user\\Anaconda3\\envs\\teste_vipi\\lib\\site-packages\\ipykernel_launcher.py:6: SettingWithCopyWarning: \n",
      "A value is trying to be set on a copy of a slice from a DataFrame.\n",
      "Try using .loc[row_indexer,col_indexer] = value instead\n",
      "\n",
      "See the caveats in the documentation: http://pandas.pydata.org/pandas-docs/stable/user_guide/indexing.html#returning-a-view-versus-a-copy\n",
      "  \n"
     ]
    },
    {
     "data": {
      "text/plain": [
       "(16, 0, 13)"
      ]
     },
     "execution_count": 24,
     "metadata": {},
     "output_type": "execute_result"
    }
   ],
   "source": [
    "# 21:00\n",
    "timon_19_30 = timon[(timon['ENTRADA'] > 210000) & (timon['ENTRADA'] <= 221000) | (timon['SAÍDA'] > 180000) & (timon['SAÍDA'] <= 193000)]\n",
    "timon_19_30_e = timon[(timon['ENTRADA'] > 210000) & (timon['ENTRADA'] <= 221000)]\n",
    "timon_19_30_s = timon[(timon['SAÍDA'] > 180000) & (timon['SAÍDA'] <= 193000)]\n",
    "timon_19_30_e['FRETADO'] = 'COLETA'\n",
    "timon_19_30_s['FRETADO'] = 'DEVOLUÇÃO'\n",
    "timon_19_30 = pd.concat([timon_19_30_e,timon_19_30_s], sort=False).copy()\n",
    "timon_19_30 = timon_19_30.append({'Nome':'Saída: 19:30 / Chegada: 21:00'},ignore_index=True)\n",
    "dev = f'Devoluções: {len(timon_19_30_s)}'\n",
    "col = f'Coletas: {len(timon_19_30_e)}'\n",
    "timon_19_30 = timon_19_30.append({'Nome': dev},ignore_index=True)\n",
    "timon_19_30 = timon_19_30.append({'Nome': col},ignore_index=True)\n",
    "len(timon_19_30),len(timon_19_30_e),len(timon_19_30_s)"
   ]
  },
  {
   "cell_type": "code",
   "execution_count": 25,
   "metadata": {},
   "outputs": [
    {
     "name": "stderr",
     "output_type": "stream",
     "text": [
      "C:\\Users\\user\\Anaconda3\\envs\\teste_vipi\\lib\\site-packages\\ipykernel_launcher.py:6: SettingWithCopyWarning: \n",
      "A value is trying to be set on a copy of a slice from a DataFrame.\n",
      "Try using .loc[row_indexer,col_indexer] = value instead\n",
      "\n",
      "See the caveats in the documentation: http://pandas.pydata.org/pandas-docs/stable/user_guide/indexing.html#returning-a-view-versus-a-copy\n",
      "  \n"
     ]
    },
    {
     "data": {
      "text/plain": [
       "(179, 0, 176)"
      ]
     },
     "execution_count": 25,
     "metadata": {},
     "output_type": "execute_result"
    }
   ],
   "source": [
    "# 22:10\n",
    "timon_21_00 = timon[(timon['ENTRADA'] > 221000) & (timon['ENTRADA'] <= 235500) | (timon['SAÍDA'] > 193000) & (timon['SAÍDA'] <= 210000)]\n",
    "timon_21_00_e = timon[(timon['ENTRADA'] > 221000) & (timon['ENTRADA'] <= 235500)]\n",
    "timon_21_00_s = timon[(timon['SAÍDA'] > 193000) & (timon['SAÍDA'] <= 210000)]\n",
    "timon_21_00_e['FRETADO'] = 'COLETA'\n",
    "timon_21_00_s['FRETADO'] = 'DEVOLUÇÃO'\n",
    "timon_21_00 = pd.concat([timon_21_00_e,timon_21_00_s], sort=False).copy()\n",
    "timon_21_00 = timon_21_00.append({'Nome':'Saída: 21:00 / Chegada: 22:30'},ignore_index=True)\n",
    "dev = f'Devoluções: {len(timon_21_00_s)}'\n",
    "col = f'Coletas: {len(timon_21_00_e)}'\n",
    "timon_21_00 = timon_21_00.append({'Nome': dev},ignore_index=True)\n",
    "timon_21_00 = timon_21_00.append({'Nome': col},ignore_index=True)\n",
    "len(timon_21_00),len(timon_21_00_e),len(timon_21_00_s)"
   ]
  },
  {
   "cell_type": "code",
   "execution_count": 26,
   "metadata": {},
   "outputs": [
    {
     "name": "stderr",
     "output_type": "stream",
     "text": [
      "C:\\Users\\user\\Anaconda3\\envs\\teste_vipi\\lib\\site-packages\\ipykernel_launcher.py:6: SettingWithCopyWarning: \n",
      "A value is trying to be set on a copy of a slice from a DataFrame.\n",
      "Try using .loc[row_indexer,col_indexer] = value instead\n",
      "\n",
      "See the caveats in the documentation: http://pandas.pydata.org/pandas-docs/stable/user_guide/indexing.html#returning-a-view-versus-a-copy\n",
      "  \n"
     ]
    },
    {
     "data": {
      "text/plain": [
       "(61, 0, 58)"
      ]
     },
     "execution_count": 26,
     "metadata": {},
     "output_type": "execute_result"
    }
   ],
   "source": [
    "# 23:10\n",
    "timon_22_40 = timon[(timon['ENTRADA'] > 221000) & (timon['ENTRADA'] <= 235500) | (timon['SAÍDA'] > 210000) & (timon['SAÍDA'] <= 224000)]\n",
    "timon_22_40_e = timon[(timon['ENTRADA'] > 221000) & (timon['ENTRADA'] <= 235500)]\n",
    "timon_22_40_s = timon[(timon['SAÍDA'] > 210000) & (timon['SAÍDA'] <= 224000)]\n",
    "timon_22_40_e['FRETADO'] = 'COLETA'\n",
    "timon_22_40_s['FRETADO'] = 'DEVOLUÇÃO'\n",
    "timon_22_40 = pd.concat([timon_22_40_e,timon_22_40_s], sort=False).copy()\n",
    "timon_22_40 = timon_22_40.append({'Nome':'Saída: 22:40'},ignore_index=True)\n",
    "dev = f'Devoluções: {len(timon_22_40_s)}'\n",
    "col = f'Coletas: {len(timon_22_40_e)}'\n",
    "timon_22_40 = timon_22_40.append({'Nome': dev},ignore_index=True)\n",
    "timon_22_40 = timon_22_40.append({'Nome': col},ignore_index=True)\n",
    "len(timon_22_40),len(timon_22_40_e),len(timon_22_40_s)"
   ]
  },
  {
   "cell_type": "code",
   "execution_count": 27,
   "metadata": {},
   "outputs": [],
   "source": [
    "rota_timon = pd.ExcelWriter('timon.xlsx', engine='xlsxwriter')\n",
    "timon_4_35.to_excel(rota_timon, sheet_name='timon_4_35', index=False)\n",
    "timon_5_25.to_excel(rota_timon, sheet_name='timon_5_25', index=False)\n",
    "timon_6_10.to_excel(rota_timon, sheet_name='timon_6_10', index=False)\n",
    "timon_7_15.to_excel(rota_timon, sheet_name='timon_7_15', index=False)\n",
    "timon_11_20.to_excel(rota_timon, sheet_name='timon_11_20', index=False)\n",
    "timon_12_10.to_excel(rota_timon, sheet_name='timon_12_10', index=False)\n",
    "timon_13_00.to_excel(rota_timon, sheet_name='timon_13_00', index=False)\n",
    "timon_13_30.to_excel(rota_timon, sheet_name='timon_13_30', index=False)\n",
    "timon_14_20.to_excel(rota_timon, sheet_name='timon_14_20', index=False)\n",
    "timon_15_10.to_excel(rota_timon, sheet_name='timon_15_10', index=False)\n",
    "timon_16_30.to_excel(rota_timon, sheet_name='timon_16_30', index=False)\n",
    "timon_18_00.to_excel(rota_timon, sheet_name='timon_18_00', index=False)\n",
    "timon_19_30.to_excel(rota_timon, sheet_name='timon_19_30', index=False)\n",
    "timon_21_00.to_excel(rota_timon, sheet_name='timon_21_00', index=False)\n",
    "timon_22_40.to_excel(rota_timon, sheet_name='timon_22_40', index=False)\n",
    "\n",
    "rota_timon.save()"
   ]
  },
  {
   "cell_type": "markdown",
   "metadata": {},
   "source": [
    "# CENTRO"
   ]
  },
  {
   "cell_type": "code",
   "execution_count": 28,
   "metadata": {},
   "outputs": [
    {
     "name": "stderr",
     "output_type": "stream",
     "text": [
      "C:\\Users\\user\\Anaconda3\\envs\\teste_vipi\\lib\\site-packages\\ipykernel_launcher.py:5: SettingWithCopyWarning: \n",
      "A value is trying to be set on a copy of a slice from a DataFrame.\n",
      "Try using .loc[row_indexer,col_indexer] = value instead\n",
      "\n",
      "See the caveats in the documentation: http://pandas.pydata.org/pandas-docs/stable/user_guide/indexing.html#returning-a-view-versus-a-copy\n",
      "  \"\"\"\n",
      "C:\\Users\\user\\Anaconda3\\envs\\teste_vipi\\lib\\site-packages\\ipykernel_launcher.py:6: SettingWithCopyWarning: \n",
      "A value is trying to be set on a copy of a slice from a DataFrame.\n",
      "Try using .loc[row_indexer,col_indexer] = value instead\n",
      "\n",
      "See the caveats in the documentation: http://pandas.pydata.org/pandas-docs/stable/user_guide/indexing.html#returning-a-view-versus-a-copy\n",
      "  \n"
     ]
    },
    {
     "data": {
      "text/plain": [
       "(143, 138, 2)"
      ]
     },
     "execution_count": 28,
     "metadata": {},
     "output_type": "execute_result"
    }
   ],
   "source": [
    "# 7:20\n",
    "centro_6_00 = timon[(timon['ENTRADA'] > 72000) & (timon['ENTRADA'] <= 80000) | (timon['SAÍDA'] > 50000) & (timon['SAÍDA'] <= 60000)]\n",
    "centro_6_00_e = timon[(timon['ENTRADA'] > 72000) & (timon['ENTRADA'] <= 80000)]\n",
    "centro_6_00_s = timon[(timon['SAÍDA'] > 50000) & (timon['SAÍDA'] < 60000)]\n",
    "centro_6_00_e['FRETADO'] = 'COLETA'\n",
    "centro_6_00_s['FRETADO'] = 'DEVOLUÇÃO'\n",
    "centro_6_00 = pd.concat([centro_6_00_e,centro_6_00_s], sort=False).copy()\n",
    "centro_6_00 = centro_6_00.append({'Nome':'Saída: 6:00 / Chegada: 7:20'},ignore_index=True)\n",
    "dev = f'Devoluções: {len(centro_6_00_s)}'\n",
    "col = f'Coletas: {len(centro_6_00_e)}'\n",
    "centro_6_00 = centro_6_00.append({'Nome': dev},ignore_index=True)\n",
    "centro_6_00 = centro_6_00.append({'Nome': col},ignore_index=True)\n",
    "len(centro_6_00),len(centro_6_00_e),len(centro_6_00_s)"
   ]
  },
  {
   "cell_type": "code",
   "execution_count": 29,
   "metadata": {},
   "outputs": [
    {
     "name": "stderr",
     "output_type": "stream",
     "text": [
      "C:\\Users\\user\\Anaconda3\\envs\\teste_vipi\\lib\\site-packages\\ipykernel_launcher.py:5: SettingWithCopyWarning: \n",
      "A value is trying to be set on a copy of a slice from a DataFrame.\n",
      "Try using .loc[row_indexer,col_indexer] = value instead\n",
      "\n",
      "See the caveats in the documentation: http://pandas.pydata.org/pandas-docs/stable/user_guide/indexing.html#returning-a-view-versus-a-copy\n",
      "  \"\"\"\n",
      "C:\\Users\\user\\Anaconda3\\envs\\teste_vipi\\lib\\site-packages\\ipykernel_launcher.py:6: SettingWithCopyWarning: \n",
      "A value is trying to be set on a copy of a slice from a DataFrame.\n",
      "Try using .loc[row_indexer,col_indexer] = value instead\n",
      "\n",
      "See the caveats in the documentation: http://pandas.pydata.org/pandas-docs/stable/user_guide/indexing.html#returning-a-view-versus-a-copy\n",
      "  \n"
     ]
    },
    {
     "data": {
      "text/plain": [
       "(145, 140, 2)"
      ]
     },
     "execution_count": 29,
     "metadata": {},
     "output_type": "execute_result"
    }
   ],
   "source": [
    "# 8:00\n",
    "centro_6_40 = timon[(timon['ENTRADA'] > 80000) & (timon['ENTRADA'] <= 84000) | (timon['SAÍDA'] > 60000) & (timon['SAÍDA'] < 64000)]\n",
    "centro_6_40_e = timon[(timon['ENTRADA'] > 80000) & (timon['ENTRADA'] <= 84000)]\n",
    "centro_6_40_s = timon[(timon['SAÍDA'] > 50000) & (timon['SAÍDA'] < 60000)]\n",
    "centro_6_40_e['FRETADO'] = 'COLETA'\n",
    "centro_6_40_s['FRETADO'] = 'DEVOLUÇÃO'\n",
    "centro_6_40 = pd.concat([centro_6_40_e,centro_6_40_s], sort=False).copy()\n",
    "centro_6_40 = centro_6_40.append({'Nome':'Saída: 6:40 / Chegada: 8:00'},ignore_index=True)\n",
    "dev = f'Devoluções: {len(centro_6_40_s)}'\n",
    "col = f'Coletas: {len(centro_6_40_e)}'\n",
    "centro_6_40 = centro_6_40.append({'Nome': dev},ignore_index=True)\n",
    "centro_6_40 = centro_6_40.append({'Nome': col},ignore_index=True)\n",
    "len(centro_6_40),len(centro_6_40_e),len(centro_6_40_s)"
   ]
  },
  {
   "cell_type": "code",
   "execution_count": 30,
   "metadata": {},
   "outputs": [
    {
     "name": "stderr",
     "output_type": "stream",
     "text": [
      "C:\\Users\\user\\Anaconda3\\envs\\teste_vipi\\lib\\site-packages\\ipykernel_launcher.py:5: SettingWithCopyWarning: \n",
      "A value is trying to be set on a copy of a slice from a DataFrame.\n",
      "Try using .loc[row_indexer,col_indexer] = value instead\n",
      "\n",
      "See the caveats in the documentation: http://pandas.pydata.org/pandas-docs/stable/user_guide/indexing.html#returning-a-view-versus-a-copy\n",
      "  \"\"\"\n",
      "C:\\Users\\user\\Anaconda3\\envs\\teste_vipi\\lib\\site-packages\\ipykernel_launcher.py:6: SettingWithCopyWarning: \n",
      "A value is trying to be set on a copy of a slice from a DataFrame.\n",
      "Try using .loc[row_indexer,col_indexer] = value instead\n",
      "\n",
      "See the caveats in the documentation: http://pandas.pydata.org/pandas-docs/stable/user_guide/indexing.html#returning-a-view-versus-a-copy\n",
      "  \n"
     ]
    },
    {
     "data": {
      "text/plain": [
       "(63, 56, 4)"
      ]
     },
     "execution_count": 30,
     "metadata": {},
     "output_type": "execute_result"
    }
   ],
   "source": [
    "# 9:00\n",
    "centro_7_40 = timon[(timon['ENTRADA'] > 84000) & (timon['ENTRADA'] <= 102000) | (timon['SAÍDA'] > 64000) & (timon['SAÍDA'] < 74000)]\n",
    "centro_7_40_e = timon[(timon['ENTRADA'] > 84000) & (timon['ENTRADA'] <= 102000)]\n",
    "centro_7_40_s = timon[(timon['SAÍDA'] > 64000) & (timon['SAÍDA'] < 74000)]\n",
    "centro_7_40_e['FRETADO'] = 'COLETA'\n",
    "centro_7_40_s['FRETADO'] = 'DEVOLUÇÃO'\n",
    "centro_7_40 = pd.concat([centro_7_40_e,centro_7_40_s], sort=False).copy()\n",
    "centro_7_40 = centro_7_40.append({'Nome':'Saída: 7:40 / Chegada: 9:00'},ignore_index=True)\n",
    "dev = f'Devoluções: {len(centro_7_40_s)}'\n",
    "col = f'Coletas: {len(centro_7_40_e)}'\n",
    "centro_7_40 = centro_7_40.append({'Nome': dev},ignore_index=True)\n",
    "centro_7_40 = centro_7_40.append({'Nome': col},ignore_index=True)\n",
    "len(centro_7_40),len(centro_7_40_e),len(centro_7_40_s)"
   ]
  },
  {
   "cell_type": "code",
   "execution_count": 31,
   "metadata": {},
   "outputs": [
    {
     "name": "stderr",
     "output_type": "stream",
     "text": [
      "C:\\Users\\user\\Anaconda3\\envs\\teste_vipi\\lib\\site-packages\\ipykernel_launcher.py:5: SettingWithCopyWarning: \n",
      "A value is trying to be set on a copy of a slice from a DataFrame.\n",
      "Try using .loc[row_indexer,col_indexer] = value instead\n",
      "\n",
      "See the caveats in the documentation: http://pandas.pydata.org/pandas-docs/stable/user_guide/indexing.html#returning-a-view-versus-a-copy\n",
      "  \"\"\"\n",
      "C:\\Users\\user\\Anaconda3\\envs\\teste_vipi\\lib\\site-packages\\ipykernel_launcher.py:6: SettingWithCopyWarning: \n",
      "A value is trying to be set on a copy of a slice from a DataFrame.\n",
      "Try using .loc[row_indexer,col_indexer] = value instead\n",
      "\n",
      "See the caveats in the documentation: http://pandas.pydata.org/pandas-docs/stable/user_guide/indexing.html#returning-a-view-versus-a-copy\n",
      "  \n"
     ]
    },
    {
     "data": {
      "text/plain": [
       "(26, 19, 4)"
      ]
     },
     "execution_count": 31,
     "metadata": {},
     "output_type": "execute_result"
    }
   ],
   "source": [
    "# 10:20\n",
    "centro_9_00 = timon[(timon['ENTRADA'] > 102000) & (timon['ENTRADA'] <= 125000) | (timon['SAÍDA'] > 74000) & (timon['SAÍDA'] <= 90000)]\n",
    "centro_9_00_e = timon[(timon['ENTRADA'] > 102000) & (timon['ENTRADA'] <= 125000)]\n",
    "centro_9_00_s = timon[(timon['SAÍDA'] > 64000) & (timon['SAÍDA'] < 74000)]\n",
    "centro_9_00_e['FRETADO'] = 'COLETA'\n",
    "centro_9_00_s['FRETADO'] = 'DEVOLUÇÃO'\n",
    "centro_9_00 = pd.concat([centro_9_00_e,centro_9_00_s], sort=False).copy()\n",
    "centro_9_00 = centro_9_00.append({'Nome':'Saída: 9:00 / Chegada: 10:10'},ignore_index=True)\n",
    "dev = f'Devoluções: {len(centro_9_00_s)}'\n",
    "col = f'Coletas: {len(centro_9_00_e)}'\n",
    "centro_9_00 = centro_9_00.append({'Nome': dev},ignore_index=True)\n",
    "centro_9_00 = centro_9_00.append({'Nome': col},ignore_index=True)\n",
    "len(centro_9_00),len(centro_9_00_e),len(centro_9_00_s)"
   ]
  },
  {
   "cell_type": "code",
   "execution_count": 32,
   "metadata": {},
   "outputs": [
    {
     "name": "stderr",
     "output_type": "stream",
     "text": [
      "C:\\Users\\user\\Anaconda3\\envs\\teste_vipi\\lib\\site-packages\\ipykernel_launcher.py:5: SettingWithCopyWarning: \n",
      "A value is trying to be set on a copy of a slice from a DataFrame.\n",
      "Try using .loc[row_indexer,col_indexer] = value instead\n",
      "\n",
      "See the caveats in the documentation: http://pandas.pydata.org/pandas-docs/stable/user_guide/indexing.html#returning-a-view-versus-a-copy\n",
      "  \"\"\"\n",
      "C:\\Users\\user\\Anaconda3\\envs\\teste_vipi\\lib\\site-packages\\ipykernel_launcher.py:6: SettingWithCopyWarning: \n",
      "A value is trying to be set on a copy of a slice from a DataFrame.\n",
      "Try using .loc[row_indexer,col_indexer] = value instead\n",
      "\n",
      "See the caveats in the documentation: http://pandas.pydata.org/pandas-docs/stable/user_guide/indexing.html#returning-a-view-versus-a-copy\n",
      "  \n"
     ]
    },
    {
     "data": {
      "text/plain": [
       "(116, 111, 2)"
      ]
     },
     "execution_count": 32,
     "metadata": {},
     "output_type": "execute_result"
    }
   ],
   "source": [
    "# 12:50\n",
    "centro_11_30 = timon[(timon['ENTRADA'] > 125000) & (timon['ENTRADA'] <= 143000) | (timon['SAÍDA'] > 90000) & (timon['SAÍDA'] <= 113000)]\n",
    "centro_11_30_e = timon[(timon['ENTRADA'] > 125000) & (timon['ENTRADA'] <= 143000)]\n",
    "centro_11_30_s = timon[(timon['SAÍDA'] > 90000) & (timon['SAÍDA'] < 113000)]\n",
    "centro_11_30_e['FRETADO'] = 'COLETA'\n",
    "centro_11_30_s['FRETADO'] = 'DEVOLUÇÃO'\n",
    "centro_11_30 = pd.concat([centro_11_30_e,centro_11_30_s], sort=False).copy()\n",
    "centro_11_30 = centro_11_30.append({'Nome':'Saída: 11:30 / Chegada: 12:40'},ignore_index=True)\n",
    "dev = f'Devoluções: {len(centro_11_30_s)}'\n",
    "col = f'Coletas: {len(centro_11_30_e)}'\n",
    "centro_11_30 = centro_11_30.append({'Nome': dev},ignore_index=True)\n",
    "centro_11_30 = centro_11_30.append({'Nome': col},ignore_index=True)\n",
    "len(centro_11_30),len(centro_11_30_e),len(centro_11_30_s)"
   ]
  },
  {
   "cell_type": "code",
   "execution_count": 33,
   "metadata": {},
   "outputs": [
    {
     "name": "stderr",
     "output_type": "stream",
     "text": [
      "C:\\Users\\user\\Anaconda3\\envs\\teste_vipi\\lib\\site-packages\\ipykernel_launcher.py:5: SettingWithCopyWarning: \n",
      "A value is trying to be set on a copy of a slice from a DataFrame.\n",
      "Try using .loc[row_indexer,col_indexer] = value instead\n",
      "\n",
      "See the caveats in the documentation: http://pandas.pydata.org/pandas-docs/stable/user_guide/indexing.html#returning-a-view-versus-a-copy\n",
      "  \"\"\"\n",
      "C:\\Users\\user\\Anaconda3\\envs\\teste_vipi\\lib\\site-packages\\ipykernel_launcher.py:6: SettingWithCopyWarning: \n",
      "A value is trying to be set on a copy of a slice from a DataFrame.\n",
      "Try using .loc[row_indexer,col_indexer] = value instead\n",
      "\n",
      "See the caveats in the documentation: http://pandas.pydata.org/pandas-docs/stable/user_guide/indexing.html#returning-a-view-versus-a-copy\n",
      "  \n"
     ]
    },
    {
     "data": {
      "text/plain": [
       "(182, 134, 45)"
      ]
     },
     "execution_count": 33,
     "metadata": {},
     "output_type": "execute_result"
    }
   ],
   "source": [
    "# 14:30\n",
    "centro_13_10 = timon[(timon['ENTRADA'] > 143000) & (timon['ENTRADA'] <= 154000) | (timon['SAÍDA'] > 113000) & (timon['SAÍDA'] <= 131000)]\n",
    "centro_13_10_e = timon[(timon['ENTRADA'] > 143000) & (timon['ENTRADA'] <= 154000)]\n",
    "centro_13_10_s = timon[(timon['SAÍDA'] > 113000) & (timon['SAÍDA'] < 131000)]\n",
    "centro_13_10_e['FRETADO'] = 'COLETA'\n",
    "centro_13_10_s['FRETADO'] = 'DEVOLUÇÃO'\n",
    "centro_13_10 = pd.concat([centro_13_10_e,centro_13_10_s], sort=False).copy()\n",
    "centro_13_10 = centro_13_10.append({'Nome':'Saída: 13:10 / Chegada: 14:20'},ignore_index=True)\n",
    "dev = f'Devoluções: {len(centro_13_10_s)}'\n",
    "col = f'Coletas: {len(centro_13_10_e)}'\n",
    "centro_13_10 = centro_13_10.append({'Nome': dev},ignore_index=True)\n",
    "centro_13_10 = centro_13_10.append({'Nome': col},ignore_index=True)\n",
    "len(centro_13_10),len(centro_13_10_e),len(centro_13_10_s)"
   ]
  },
  {
   "cell_type": "code",
   "execution_count": 34,
   "metadata": {},
   "outputs": [
    {
     "name": "stderr",
     "output_type": "stream",
     "text": [
      "C:\\Users\\user\\Anaconda3\\envs\\teste_vipi\\lib\\site-packages\\ipykernel_launcher.py:5: SettingWithCopyWarning: \n",
      "A value is trying to be set on a copy of a slice from a DataFrame.\n",
      "Try using .loc[row_indexer,col_indexer] = value instead\n",
      "\n",
      "See the caveats in the documentation: http://pandas.pydata.org/pandas-docs/stable/user_guide/indexing.html#returning-a-view-versus-a-copy\n",
      "  \"\"\"\n",
      "C:\\Users\\user\\Anaconda3\\envs\\teste_vipi\\lib\\site-packages\\ipykernel_launcher.py:6: SettingWithCopyWarning: \n",
      "A value is trying to be set on a copy of a slice from a DataFrame.\n",
      "Try using .loc[row_indexer,col_indexer] = value instead\n",
      "\n",
      "See the caveats in the documentation: http://pandas.pydata.org/pandas-docs/stable/user_guide/indexing.html#returning-a-view-versus-a-copy\n",
      "  \n"
     ]
    },
    {
     "data": {
      "text/plain": [
       "(183, 19, 161)"
      ]
     },
     "execution_count": 34,
     "metadata": {},
     "output_type": "execute_result"
    }
   ],
   "source": [
    "# 15:40\n",
    "centro_14_20 = timon[(timon['ENTRADA'] > 154000) & (timon['ENTRADA'] <= 170000) | (timon['SAÍDA'] > 131000) & (timon['SAÍDA'] <= 142000)]\n",
    "centro_14_20_e = timon[(timon['ENTRADA'] > 154000) & (timon['ENTRADA'] <= 170000)]\n",
    "centro_14_20_s = timon[(timon['SAÍDA'] > 131000) & (timon['SAÍDA'] <= 142000)]\n",
    "centro_14_20_e['FRETADO'] = 'COLETA'\n",
    "centro_14_20_s['FRETADO'] = 'DEVOLUÇÃO'\n",
    "centro_14_20 = pd.concat([centro_14_20_e,centro_14_20_s], sort=False).copy()\n",
    "centro_14_20 = centro_14_20.append({'Nome':'Saída: 14:20 / Chegada: 15:40'},ignore_index=True)\n",
    "dev = f'Devoluções: {len(centro_14_20_s)}'\n",
    "col = f'Coletas: {len(centro_14_20_e)}'\n",
    "centro_14_20 = centro_14_20.append({'Nome': dev},ignore_index=True)\n",
    "centro_14_20 = centro_14_20.append({'Nome': col},ignore_index=True)\n",
    "len(centro_14_20),len(centro_14_20_e),len(centro_14_20_s)"
   ]
  },
  {
   "cell_type": "code",
   "execution_count": 35,
   "metadata": {},
   "outputs": [
    {
     "name": "stderr",
     "output_type": "stream",
     "text": [
      "C:\\Users\\user\\Anaconda3\\envs\\teste_vipi\\lib\\site-packages\\ipykernel_launcher.py:5: SettingWithCopyWarning: \n",
      "A value is trying to be set on a copy of a slice from a DataFrame.\n",
      "Try using .loc[row_indexer,col_indexer] = value instead\n",
      "\n",
      "See the caveats in the documentation: http://pandas.pydata.org/pandas-docs/stable/user_guide/indexing.html#returning-a-view-versus-a-copy\n",
      "  \"\"\"\n",
      "C:\\Users\\user\\Anaconda3\\envs\\teste_vipi\\lib\\site-packages\\ipykernel_launcher.py:6: SettingWithCopyWarning: \n",
      "A value is trying to be set on a copy of a slice from a DataFrame.\n",
      "Try using .loc[row_indexer,col_indexer] = value instead\n",
      "\n",
      "See the caveats in the documentation: http://pandas.pydata.org/pandas-docs/stable/user_guide/indexing.html#returning-a-view-versus-a-copy\n",
      "  \n"
     ]
    },
    {
     "data": {
      "text/plain": [
       "(195, 15, 177)"
      ]
     },
     "execution_count": 35,
     "metadata": {},
     "output_type": "execute_result"
    }
   ],
   "source": [
    "# 17:00\n",
    "centro_15_40 = timon[(timon['ENTRADA'] > 170000) & (timon['ENTRADA'] <= 182000) | (timon['SAÍDA'] > 142000) & (timon['SAÍDA'] <= 154000)]\n",
    "centro_15_40_e = timon[(timon['ENTRADA'] > 170000) & (timon['ENTRADA'] <= 182000)]\n",
    "centro_15_40_s = timon[(timon['SAÍDA'] > 142000) & (timon['SAÍDA'] <= 154000)]\n",
    "centro_15_40_e['FRETADO'] = 'COLETA'\n",
    "centro_15_40_s['FRETADO'] = 'DEVOLUÇÃO'\n",
    "centro_15_40 = pd.concat([centro_15_40_e,centro_15_40_s], sort=False).copy()\n",
    "centro_15_40 = centro_15_40.append({'Nome':'Saída: 15:40 / Chegada: 17:00'},ignore_index=True)\n",
    "dev = f'Devoluções: {len(centro_15_40_s)}'\n",
    "col = f'Coletas: {len(centro_15_40_e)}'\n",
    "centro_15_40 = centro_15_40.append({'Nome': dev},ignore_index=True)\n",
    "centro_15_40 = centro_15_40.append({'Nome': col},ignore_index=True)\n",
    "len(centro_15_40),len(centro_15_40_e),len(centro_15_40_s)"
   ]
  },
  {
   "cell_type": "code",
   "execution_count": 36,
   "metadata": {},
   "outputs": [
    {
     "name": "stderr",
     "output_type": "stream",
     "text": [
      "C:\\Users\\user\\Anaconda3\\envs\\teste_vipi\\lib\\site-packages\\ipykernel_launcher.py:5: SettingWithCopyWarning: \n",
      "A value is trying to be set on a copy of a slice from a DataFrame.\n",
      "Try using .loc[row_indexer,col_indexer] = value instead\n",
      "\n",
      "See the caveats in the documentation: http://pandas.pydata.org/pandas-docs/stable/user_guide/indexing.html#returning-a-view-versus-a-copy\n",
      "  \"\"\"\n",
      "C:\\Users\\user\\Anaconda3\\envs\\teste_vipi\\lib\\site-packages\\ipykernel_launcher.py:6: SettingWithCopyWarning: \n",
      "A value is trying to be set on a copy of a slice from a DataFrame.\n",
      "Try using .loc[row_indexer,col_indexer] = value instead\n",
      "\n",
      "See the caveats in the documentation: http://pandas.pydata.org/pandas-docs/stable/user_guide/indexing.html#returning-a-view-versus-a-copy\n",
      "  \n"
     ]
    },
    {
     "data": {
      "text/plain": [
       "(46, 6, 37)"
      ]
     },
     "execution_count": 36,
     "metadata": {},
     "output_type": "execute_result"
    }
   ],
   "source": [
    "# 18:20\n",
    "centro_17_00 = timon[(timon['ENTRADA'] > 182000) & (timon['ENTRADA'] <= 202000) | (timon['SAÍDA'] > 154000) & (timon['SAÍDA'] <= 170000)]\n",
    "centro_17_00_e = timon[(timon['ENTRADA'] > 182000) & (timon['ENTRADA'] <= 202000)]\n",
    "centro_17_00_s = timon[(timon['SAÍDA'] > 154000) & (timon['SAÍDA'] <= 170000)]\n",
    "centro_17_00_e['FRETADO'] = 'COLETA'\n",
    "centro_17_00_s['FRETADO'] = 'DEVOLUÇÃO'\n",
    "centro_17_00 = pd.concat([centro_17_00_e,centro_17_00_s], sort=False).copy()\n",
    "centro_17_00 = centro_17_00.append({'Nome':'Saída: 17:00 / Chegada: 18:20'},ignore_index=True)\n",
    "dev = f'Devoluções: {len(centro_17_00_s)}'\n",
    "col = f'Coletas: {len(centro_17_00_e)}'\n",
    "centro_17_00 = centro_17_00.append({'Nome': dev},ignore_index=True)\n",
    "centro_17_00 = centro_17_00.append({'Nome': col},ignore_index=True)\n",
    "len(centro_17_00),len(centro_17_00_e),len(centro_17_00_s)"
   ]
  },
  {
   "cell_type": "code",
   "execution_count": 37,
   "metadata": {},
   "outputs": [
    {
     "name": "stderr",
     "output_type": "stream",
     "text": [
      "C:\\Users\\user\\Anaconda3\\envs\\teste_vipi\\lib\\site-packages\\ipykernel_launcher.py:6: SettingWithCopyWarning: \n",
      "A value is trying to be set on a copy of a slice from a DataFrame.\n",
      "Try using .loc[row_indexer,col_indexer] = value instead\n",
      "\n",
      "See the caveats in the documentation: http://pandas.pydata.org/pandas-docs/stable/user_guide/indexing.html#returning-a-view-versus-a-copy\n",
      "  \n"
     ]
    },
    {
     "data": {
      "text/plain": [
       "(13, 0, 10)"
      ]
     },
     "execution_count": 37,
     "metadata": {},
     "output_type": "execute_result"
    }
   ],
   "source": [
    "# 20:20\n",
    "centro_19_00 = timon[(timon['ENTRADA'] > 202000) & (timon['ENTRADA'] <= 222000) | (timon['SAÍDA'] > 170000) & (timon['SAÍDA'] <= 184000)]\n",
    "centro_19_00_e = timon[(timon['ENTRADA'] > 202000) & (timon['ENTRADA'] <= 222000)]\n",
    "centro_19_00_s = timon[(timon['SAÍDA'] > 170000) & (timon['SAÍDA'] <= 184000)]\n",
    "centro_19_00_e['FRETADO'] = 'COLETA'\n",
    "centro_19_00_s['FRETADO'] = 'DEVOLUÇÃO'\n",
    "centro_19_00 = pd.concat([centro_19_00_e,centro_19_00_s], sort=False).copy()\n",
    "centro_19_00 = centro_19_00.append({'Nome':'Saída: 19:00 / Chegada: 20:20'},ignore_index=True)\n",
    "dev = f'Devoluções: {len(centro_19_00_s)}'\n",
    "col = f'Coletas: {len(centro_19_00_e)}'\n",
    "centro_19_00 = centro_19_00.append({'Nome': dev},ignore_index=True)\n",
    "centro_19_00 = centro_19_00.append({'Nome': col},ignore_index=True)\n",
    "len(centro_19_00),len(centro_19_00_e),len(centro_19_00_s)"
   ]
  },
  {
   "cell_type": "code",
   "execution_count": 38,
   "metadata": {},
   "outputs": [
    {
     "name": "stderr",
     "output_type": "stream",
     "text": [
      "C:\\Users\\user\\Anaconda3\\envs\\teste_vipi\\lib\\site-packages\\ipykernel_launcher.py:6: SettingWithCopyWarning: \n",
      "A value is trying to be set on a copy of a slice from a DataFrame.\n",
      "Try using .loc[row_indexer,col_indexer] = value instead\n",
      "\n",
      "See the caveats in the documentation: http://pandas.pydata.org/pandas-docs/stable/user_guide/indexing.html#returning-a-view-versus-a-copy\n",
      "  \n"
     ]
    },
    {
     "data": {
      "text/plain": [
       "(185, 0, 182)"
      ]
     },
     "execution_count": 38,
     "metadata": {},
     "output_type": "execute_result"
    }
   ],
   "source": [
    "# 22:20\n",
    "centro_21_00 = timon[(timon['ENTRADA'] > 222000) & (timon['ENTRADA'] <= 223000) | (timon['SAÍDA'] > 190000) & (timon['SAÍDA'] <= 210000)]\n",
    "centro_21_00_e = timon[(timon['ENTRADA'] > 222000) & (timon['ENTRADA'] <= 223000)]\n",
    "centro_21_00_s = timon[(timon['SAÍDA'] > 190000) & (timon['SAÍDA'] <= 210000)]\n",
    "centro_21_00_e['FRETADO'] = 'COLETA'\n",
    "centro_21_00_s['FRETADO'] = 'DEVOLUÇÃO'\n",
    "centro_21_00 = pd.concat([centro_21_00_e,centro_21_00_s], sort=False).copy()\n",
    "centro_21_00 = centro_21_00.append({'Nome':'Saída: 21:00 / Chegada: 22:20'},ignore_index=True)\n",
    "dev = f'Devoluções: {len(centro_21_00_s)}'\n",
    "col = f'Coletas: {len(centro_21_00_e)}'\n",
    "centro_21_00 = centro_21_00.append({'Nome': dev},ignore_index=True)\n",
    "centro_21_00 = centro_21_00.append({'Nome': col},ignore_index=True)\n",
    "len(centro_21_00),len(centro_21_00_e),len(centro_21_00_s)"
   ]
  },
  {
   "cell_type": "code",
   "execution_count": 39,
   "metadata": {},
   "outputs": [
    {
     "name": "stderr",
     "output_type": "stream",
     "text": [
      "C:\\Users\\user\\Anaconda3\\envs\\teste_vipi\\lib\\site-packages\\ipykernel_launcher.py:6: SettingWithCopyWarning: \n",
      "A value is trying to be set on a copy of a slice from a DataFrame.\n",
      "Try using .loc[row_indexer,col_indexer] = value instead\n",
      "\n",
      "See the caveats in the documentation: http://pandas.pydata.org/pandas-docs/stable/user_guide/indexing.html#returning-a-view-versus-a-copy\n",
      "  \n"
     ]
    },
    {
     "data": {
      "text/plain": [
       "(61, 0, 58)"
      ]
     },
     "execution_count": 39,
     "metadata": {},
     "output_type": "execute_result"
    }
   ],
   "source": [
    "# 22:20\n",
    "centro_22_40 = timon[(timon['SAÍDA'] > 210000) & (timon['SAÍDA'] <= 224000)]\n",
    "centro_22_40_e = timon[(timon['ENTRADA'] > 223000) & (timon['ENTRADA'] <= 235000)]\n",
    "centro_22_40_s = timon[(timon['SAÍDA'] > 210000) & (timon['SAÍDA'] <= 224000)]\n",
    "centro_22_40_e['FRETADO'] = 'COLETA'\n",
    "centro_22_40_s['FRETADO'] = 'DEVOLUÇÃO'\n",
    "centro_22_40 = pd.concat([centro_22_40_e,centro_22_40_s], sort=False).copy()\n",
    "centro_22_40 = centro_22_40.append({'Nome':'Saída: 21:00 / Chegada: 22:20'},ignore_index=True)\n",
    "dev = f'Devoluções: {len(centro_22_40_s)}'\n",
    "col = f'Coletas: {len(centro_22_40_e)}'\n",
    "centro_22_40 = centro_22_40.append({'Nome': dev},ignore_index=True)\n",
    "centro_22_40 = centro_22_40.append({'Nome': col},ignore_index=True)\n",
    "len(centro_22_40),len(centro_22_40_e),len(centro_22_40_s)"
   ]
  },
  {
   "cell_type": "code",
   "execution_count": 40,
   "metadata": {},
   "outputs": [],
   "source": [
    "rota_centro = pd.ExcelWriter('centro.xlsx', engine='xlsxwriter')\n",
    "centro_6_00.to_excel(rota_centro, sheet_name='centro_6_00', index=False)\n",
    "centro_6_40.to_excel(rota_centro, sheet_name='centro_6_40', index=False)\n",
    "centro_7_40.to_excel(rota_centro, sheet_name='centro_7_40', index=False)\n",
    "centro_9_00.to_excel(rota_centro, sheet_name='centro_9_00', index=False)\n",
    "centro_11_30.to_excel(rota_centro, sheet_name='centro_11_30', index=False)\n",
    "centro_13_10.to_excel(rota_centro, sheet_name='centro_13_10', index=False)\n",
    "centro_14_20.to_excel(rota_centro, sheet_name='centro_14_20', index=False)\n",
    "centro_15_40.to_excel(rota_centro, sheet_name='centro_15_40', index=False)\n",
    "centro_17_00.to_excel(rota_centro, sheet_name='centro_17_00', index=False)\n",
    "centro_19_00.to_excel(rota_centro, sheet_name='centro_19_00', index=False)\n",
    "centro_21_00.to_excel(rota_centro, sheet_name='centro_21_00', index=False)\n",
    "centro_22_40.to_excel(rota_centro, sheet_name='centro_22_40', index=False)\n",
    "\n",
    "\n",
    "rota_centro.save()"
   ]
  },
  {
   "cell_type": "code",
   "execution_count": null,
   "metadata": {},
   "outputs": [],
   "source": []
  },
  {
   "cell_type": "code",
   "execution_count": 41,
   "metadata": {},
   "outputs": [],
   "source": [
    "sudeste = pd.concat([sdc,sdb])"
   ]
  },
  {
   "cell_type": "markdown",
   "metadata": {},
   "source": [
    "# SUDESTE GERAL"
   ]
  },
  {
   "cell_type": "code",
   "execution_count": 42,
   "metadata": {},
   "outputs": [
    {
     "name": "stderr",
     "output_type": "stream",
     "text": [
      "C:\\Users\\user\\Anaconda3\\envs\\teste_vipi\\lib\\site-packages\\ipykernel_launcher.py:5: SettingWithCopyWarning: \n",
      "A value is trying to be set on a copy of a slice from a DataFrame.\n",
      "Try using .loc[row_indexer,col_indexer] = value instead\n",
      "\n",
      "See the caveats in the documentation: http://pandas.pydata.org/pandas-docs/stable/user_guide/indexing.html#returning-a-view-versus-a-copy\n",
      "  \"\"\"\n"
     ]
    },
    {
     "data": {
      "text/plain": [
       "(193, 190, 0)"
      ]
     },
     "execution_count": 42,
     "metadata": {},
     "output_type": "execute_result"
    }
   ],
   "source": [
    "# 6:30\n",
    "sudeste_5_00 = sudeste[(sudeste['ENTRADA'] > 63000) & (sudeste['ENTRADA'] <= 80000) | (sudeste['SAÍDA'] > 40000) & (sudeste['SAÍDA'] <= 50000)]\n",
    "sudeste_5_00_e = sudeste[(sudeste['ENTRADA'] > 63000) & (sudeste['ENTRADA'] <= 80000)]\n",
    "sudeste_5_00_s = sudeste[(sudeste['SAÍDA'] > 40000) & (sudeste['SAÍDA'] <= 50000)]\n",
    "sudeste_5_00_e['FRETADO'] = 'COLETA'\n",
    "sudeste_5_00_s['FRETADO'] = 'DEVOLUÇÃO'\n",
    "sudeste_5_00 = pd.concat([sudeste_5_00_e,sudeste_5_00_s], sort=False).copy()\n",
    "sudeste_5_00 = sudeste_5_00.append({'Nome':'Saída: 5:00 / Chegada: 6:30'},ignore_index=True)\n",
    "dev = f'Devoluções: {len(sudeste_5_00_s)}'\n",
    "col = f'Coletas: {len(sudeste_5_00_e)}'\n",
    "sudeste_5_00 = sudeste_5_00.append({'Nome': dev},ignore_index=True)\n",
    "sudeste_5_00 = sudeste_5_00.append({'Nome': col},ignore_index=True)\n",
    "len(sudeste_5_00),len(sudeste_5_00_e),len(sudeste_5_00_s)"
   ]
  },
  {
   "cell_type": "code",
   "execution_count": 43,
   "metadata": {},
   "outputs": [
    {
     "name": "stderr",
     "output_type": "stream",
     "text": [
      "C:\\Users\\user\\Anaconda3\\envs\\teste_vipi\\lib\\site-packages\\ipykernel_launcher.py:5: SettingWithCopyWarning: \n",
      "A value is trying to be set on a copy of a slice from a DataFrame.\n",
      "Try using .loc[row_indexer,col_indexer] = value instead\n",
      "\n",
      "See the caveats in the documentation: http://pandas.pydata.org/pandas-docs/stable/user_guide/indexing.html#returning-a-view-versus-a-copy\n",
      "  \"\"\"\n",
      "C:\\Users\\user\\Anaconda3\\envs\\teste_vipi\\lib\\site-packages\\ipykernel_launcher.py:6: SettingWithCopyWarning: \n",
      "A value is trying to be set on a copy of a slice from a DataFrame.\n",
      "Try using .loc[row_indexer,col_indexer] = value instead\n",
      "\n",
      "See the caveats in the documentation: http://pandas.pydata.org/pandas-docs/stable/user_guide/indexing.html#returning-a-view-versus-a-copy\n",
      "  \n"
     ]
    },
    {
     "data": {
      "text/plain": [
       "(170, 156, 11)"
      ]
     },
     "execution_count": 43,
     "metadata": {},
     "output_type": "execute_result"
    }
   ],
   "source": [
    "# 8:20\n",
    "sudeste_6_40 = sudeste[(sudeste['ENTRADA'] > 80000) & (sudeste['ENTRADA'] <= 90000) | (sudeste['SAÍDA'] > 50000) & (sudeste['SAÍDA'] <= 64000)]\n",
    "sudeste_6_40_e = sudeste[(sudeste['ENTRADA'] > 80000) & (sudeste['ENTRADA'] <= 90000)]\n",
    "sudeste_6_40_s = sudeste[(sudeste['SAÍDA'] > 50000) & (sudeste['SAÍDA'] <= 64000)]\n",
    "sudeste_6_40_e['FRETADO'] = 'COLETA'\n",
    "sudeste_6_40_s['FRETADO'] = 'DEVOLUÇÃO'\n",
    "sudeste_6_40 = pd.concat([sudeste_6_40_e,sudeste_6_40_s], sort=False).copy()\n",
    "sudeste_6_40 = sudeste_6_40.append({'Nome':'Saída: 6:40 / Chegada: 8:20'},ignore_index=True)\n",
    "dev = f'Devoluções: {len(sudeste_6_40_s)}'\n",
    "col = f'Coletas: {len(sudeste_6_40_e)}'\n",
    "sudeste_6_40 = sudeste_6_40.append({'Nome': dev},ignore_index=True)\n",
    "sudeste_6_40 = sudeste_6_40.append({'Nome': col},ignore_index=True)\n",
    "len(sudeste_6_40),len(sudeste_6_40_e),len(sudeste_6_40_s)"
   ]
  },
  {
   "cell_type": "code",
   "execution_count": 44,
   "metadata": {},
   "outputs": [
    {
     "name": "stderr",
     "output_type": "stream",
     "text": [
      "C:\\Users\\user\\Anaconda3\\envs\\teste_vipi\\lib\\site-packages\\ipykernel_launcher.py:5: SettingWithCopyWarning: \n",
      "A value is trying to be set on a copy of a slice from a DataFrame.\n",
      "Try using .loc[row_indexer,col_indexer] = value instead\n",
      "\n",
      "See the caveats in the documentation: http://pandas.pydata.org/pandas-docs/stable/user_guide/indexing.html#returning-a-view-versus-a-copy\n",
      "  \"\"\"\n",
      "C:\\Users\\user\\Anaconda3\\envs\\teste_vipi\\lib\\site-packages\\ipykernel_launcher.py:6: SettingWithCopyWarning: \n",
      "A value is trying to be set on a copy of a slice from a DataFrame.\n",
      "Try using .loc[row_indexer,col_indexer] = value instead\n",
      "\n",
      "See the caveats in the documentation: http://pandas.pydata.org/pandas-docs/stable/user_guide/indexing.html#returning-a-view-versus-a-copy\n",
      "  \n"
     ]
    },
    {
     "data": {
      "text/plain": [
       "(80, 75, 2)"
      ]
     },
     "execution_count": 44,
     "metadata": {},
     "output_type": "execute_result"
    }
   ],
   "source": [
    "# 9:00\n",
    "sudeste_7_30 = sudeste[(sudeste['ENTRADA'] > 90000) & (sudeste['ENTRADA'] <= 104000) | (sudeste['SAÍDA'] > 64000) & (sudeste['SAÍDA'] <= 73000)]\n",
    "sudeste_7_30_e = sudeste[(sudeste['ENTRADA'] > 90000) & (sudeste['ENTRADA'] <= 104000)]\n",
    "sudeste_7_30_s = sudeste[(sudeste['SAÍDA'] > 64000) & (sudeste['SAÍDA'] <= 73000)]\n",
    "sudeste_7_30_e['FRETADO'] = 'COLETA'\n",
    "sudeste_7_30_s['FRETADO'] = 'DEVOLUÇÃO'\n",
    "sudeste_7_30 = pd.concat([sudeste_7_30_e, sudeste_7_30_s], sort=False).copy()\n",
    "sudeste_7_30 = sudeste_7_30.append({'Nome':'Saída: 7:30 / Chegada: 9:00'},ignore_index=True)\n",
    "dev = f'Devoluções: {len(sudeste_7_30_s)}'\n",
    "col = f'Coletas: {len(sudeste_7_30_e)}'\n",
    "sudeste_7_30 = sudeste_7_30.append({'Nome': dev},ignore_index=True)\n",
    "sudeste_7_30 = sudeste_7_30.append({'Nome': col},ignore_index=True)\n",
    "len(sudeste_7_30),len(sudeste_7_30_e),len(sudeste_7_30_s)"
   ]
  },
  {
   "cell_type": "code",
   "execution_count": 45,
   "metadata": {},
   "outputs": [
    {
     "name": "stderr",
     "output_type": "stream",
     "text": [
      "C:\\Users\\user\\Anaconda3\\envs\\teste_vipi\\lib\\site-packages\\ipykernel_launcher.py:5: SettingWithCopyWarning: \n",
      "A value is trying to be set on a copy of a slice from a DataFrame.\n",
      "Try using .loc[row_indexer,col_indexer] = value instead\n",
      "\n",
      "See the caveats in the documentation: http://pandas.pydata.org/pandas-docs/stable/user_guide/indexing.html#returning-a-view-versus-a-copy\n",
      "  \"\"\"\n"
     ]
    },
    {
     "data": {
      "text/plain": [
       "(32, 29, 0)"
      ]
     },
     "execution_count": 45,
     "metadata": {},
     "output_type": "execute_result"
    }
   ],
   "source": [
    "# 10:40\n",
    "sudeste_9_00 = sudeste[(sudeste['ENTRADA'] > 104000) & (sudeste['ENTRADA'] <= 123000) | (sudeste['SAÍDA'] > 73000) & (sudeste['SAÍDA'] <= 90000)]\n",
    "sudeste_9_00_e = sudeste[(sudeste['ENTRADA'] > 104000) & (sudeste['ENTRADA'] <= 123000)]\n",
    "sudeste_9_00_s = sudeste[(sudeste['SAÍDA'] > 73000) & (sudeste['SAÍDA'] <= 90000)]\n",
    "sudeste_9_00_e['FRETADO'] = 'COLETA'\n",
    "sudeste_9_00_s['FRETADO'] = 'DEVOLUÇÃO'\n",
    "sudeste_9_00 = pd.concat([sudeste_9_00_e, sudeste_9_00_s], sort=False).copy()\n",
    "sudeste_9_00 = sudeste_9_00.append({'Nome':'Saída: 9:00 / Chegada: 10:40'},ignore_index=True)\n",
    "dev = f'Devoluções: {len(sudeste_9_00_s)}'\n",
    "col = f'Coletas: {len(sudeste_9_00_e)}'\n",
    "sudeste_9_00 = sudeste_9_00.append({'Nome': dev},ignore_index=True)\n",
    "sudeste_9_00 = sudeste_9_00.append({'Nome': col},ignore_index=True)\n",
    "len(sudeste_9_00),len(sudeste_9_00_e),len(sudeste_9_00_s)"
   ]
  },
  {
   "cell_type": "code",
   "execution_count": 46,
   "metadata": {},
   "outputs": [
    {
     "name": "stderr",
     "output_type": "stream",
     "text": [
      "C:\\Users\\user\\Anaconda3\\envs\\teste_vipi\\lib\\site-packages\\ipykernel_launcher.py:5: SettingWithCopyWarning: \n",
      "A value is trying to be set on a copy of a slice from a DataFrame.\n",
      "Try using .loc[row_indexer,col_indexer] = value instead\n",
      "\n",
      "See the caveats in the documentation: http://pandas.pydata.org/pandas-docs/stable/user_guide/indexing.html#returning-a-view-versus-a-copy\n",
      "  \"\"\"\n"
     ]
    },
    {
     "data": {
      "text/plain": [
       "(170, 167, 0)"
      ]
     },
     "execution_count": 46,
     "metadata": {},
     "output_type": "execute_result"
    }
   ],
   "source": [
    "# 12:20\n",
    "sudeste_10_40 = sudeste[(sudeste['ENTRADA'] > 123000) & (sudeste['ENTRADA'] <= 142000) | (sudeste['SAÍDA'] > 90000) & (sudeste['SAÍDA'] <= 104000)]\n",
    "sudeste_10_40_e = sudeste[(sudeste['ENTRADA'] > 123000) & (sudeste['ENTRADA'] <= 142000)]\n",
    "sudeste_10_40_s = sudeste[(sudeste['SAÍDA'] > 90000) & (sudeste['SAÍDA'] <= 104000)]\n",
    "sudeste_10_40_e['FRETADO'] = 'COLETA'\n",
    "sudeste_10_40_s['FRETADO'] = 'DEVOLUÇÃO'\n",
    "sudeste_10_40 = pd.concat([sudeste_10_40_e,sudeste_10_40_s], sort=False).copy()\n",
    "sudeste_10_40 = sudeste_10_40.append({'Nome':'Saída: 10:40 / Chegada: 12:20'},ignore_index=True)\n",
    "dev = f'Devoluções: {len(sudeste_10_40_s)}'\n",
    "col = f'Coletas: {len(sudeste_10_40_e)}'\n",
    "sudeste_10_40 = sudeste_10_40.append({'Nome': dev},ignore_index=True)\n",
    "sudeste_10_40 = sudeste_10_40.append({'Nome': col},ignore_index=True)\n",
    "len(sudeste_10_40),len(sudeste_10_40_e),len(sudeste_10_40_s)"
   ]
  },
  {
   "cell_type": "code",
   "execution_count": 47,
   "metadata": {},
   "outputs": [
    {
     "name": "stderr",
     "output_type": "stream",
     "text": [
      "C:\\Users\\user\\Anaconda3\\envs\\teste_vipi\\lib\\site-packages\\ipykernel_launcher.py:5: SettingWithCopyWarning: \n",
      "A value is trying to be set on a copy of a slice from a DataFrame.\n",
      "Try using .loc[row_indexer,col_indexer] = value instead\n",
      "\n",
      "See the caveats in the documentation: http://pandas.pydata.org/pandas-docs/stable/user_guide/indexing.html#returning-a-view-versus-a-copy\n",
      "  \"\"\"\n",
      "C:\\Users\\user\\Anaconda3\\envs\\teste_vipi\\lib\\site-packages\\ipykernel_launcher.py:6: SettingWithCopyWarning: \n",
      "A value is trying to be set on a copy of a slice from a DataFrame.\n",
      "Try using .loc[row_indexer,col_indexer] = value instead\n",
      "\n",
      "See the caveats in the documentation: http://pandas.pydata.org/pandas-docs/stable/user_guide/indexing.html#returning-a-view-versus-a-copy\n",
      "  \n"
     ]
    },
    {
     "data": {
      "text/plain": [
       "(183, 154, 26)"
      ]
     },
     "execution_count": 47,
     "metadata": {},
     "output_type": "execute_result"
    }
   ],
   "source": [
    "# 14:10\n",
    "sudeste_12_30 = sudeste[(sudeste['ENTRADA'] > 142000) & (sudeste['ENTRADA'] <= 153000) | (sudeste['SAÍDA'] > 104000) & (sudeste['SAÍDA'] <= 123000)]\n",
    "sudeste_12_30_e = sudeste[(sudeste['ENTRADA'] > 142000) & (sudeste['ENTRADA'] <= 153000)]\n",
    "sudeste_12_30_s = sudeste[(sudeste['SAÍDA'] > 104000) & (sudeste['SAÍDA'] <= 123000)]\n",
    "sudeste_12_30_e['FRETADO'] = 'COLETA'\n",
    "sudeste_12_30_s['FRETADO'] = 'DEVOLUÇÃO'\n",
    "sudeste_12_30 = pd.concat([sudeste_12_30_e,sudeste_12_30_s], sort=False).copy()\n",
    "sudeste_12_30 = sudeste_12_30.append({'Nome':'Saída: 12:20 / Chegada: 14:00'},ignore_index=True)\n",
    "dev = f'Devoluções: {len(sudeste_12_30_s)}'\n",
    "col = f'Coletas: {len(sudeste_12_30_e)}'\n",
    "sudeste_12_30 = sudeste_12_30.append({'Nome': dev},ignore_index=True)\n",
    "sudeste_12_30 = sudeste_12_30.append({'Nome': col},ignore_index=True)\n",
    "len(sudeste_12_30),len(sudeste_12_30_e),len(sudeste_12_30_s)"
   ]
  },
  {
   "cell_type": "code",
   "execution_count": 48,
   "metadata": {},
   "outputs": [
    {
     "name": "stderr",
     "output_type": "stream",
     "text": [
      "C:\\Users\\user\\Anaconda3\\envs\\teste_vipi\\lib\\site-packages\\ipykernel_launcher.py:5: SettingWithCopyWarning: \n",
      "A value is trying to be set on a copy of a slice from a DataFrame.\n",
      "Try using .loc[row_indexer,col_indexer] = value instead\n",
      "\n",
      "See the caveats in the documentation: http://pandas.pydata.org/pandas-docs/stable/user_guide/indexing.html#returning-a-view-versus-a-copy\n",
      "  \"\"\"\n",
      "C:\\Users\\user\\Anaconda3\\envs\\teste_vipi\\lib\\site-packages\\ipykernel_launcher.py:6: SettingWithCopyWarning: \n",
      "A value is trying to be set on a copy of a slice from a DataFrame.\n",
      "Try using .loc[row_indexer,col_indexer] = value instead\n",
      "\n",
      "See the caveats in the documentation: http://pandas.pydata.org/pandas-docs/stable/user_guide/indexing.html#returning-a-view-versus-a-copy\n",
      "  \n"
     ]
    },
    {
     "data": {
      "text/plain": [
       "(137, 73, 61)"
      ]
     },
     "execution_count": 48,
     "metadata": {},
     "output_type": "execute_result"
    }
   ],
   "source": [
    "# 15:20\n",
    "sudeste_13_40 = sudeste[(sudeste['ENTRADA'] > 153000) & (sudeste['ENTRADA'] <= 160000) | (sudeste['SAÍDA'] > 123000) & (sudeste['SAÍDA'] <= 134000)]\n",
    "sudeste_13_40_e = sudeste[(sudeste['ENTRADA'] > 153000) & (sudeste['ENTRADA'] <= 160000)]\n",
    "sudeste_13_40_s = sudeste[(sudeste['SAÍDA'] > 123000) & (sudeste['SAÍDA'] <= 134000)]\n",
    "sudeste_13_40_e['FRETADO'] = 'COLETA'\n",
    "sudeste_13_40_s['FRETADO'] = 'DEVOLUÇÃO'\n",
    "sudeste_13_40 = pd.concat([sudeste_13_40_e,sudeste_13_40_s], sort=False).copy()\n",
    "sudeste_13_40 = sudeste_13_40.append({'Nome':'Saída: 13:40 / Chegada: 15:20'},ignore_index=True)\n",
    "dev = f'Devoluções: {len(sudeste_13_40_s)}'\n",
    "col = f'Coletas: {len(sudeste_13_40_e)}'\n",
    "sudeste_13_40 = sudeste_13_40.append({'Nome': dev},ignore_index=True)\n",
    "sudeste_13_40 = sudeste_13_40.append({'Nome': col},ignore_index=True)\n",
    "len(sudeste_13_40),len(sudeste_13_40_e),len(sudeste_13_40_s)"
   ]
  },
  {
   "cell_type": "code",
   "execution_count": 49,
   "metadata": {},
   "outputs": [
    {
     "name": "stderr",
     "output_type": "stream",
     "text": [
      "C:\\Users\\user\\Anaconda3\\envs\\teste_vipi\\lib\\site-packages\\ipykernel_launcher.py:5: SettingWithCopyWarning: \n",
      "A value is trying to be set on a copy of a slice from a DataFrame.\n",
      "Try using .loc[row_indexer,col_indexer] = value instead\n",
      "\n",
      "See the caveats in the documentation: http://pandas.pydata.org/pandas-docs/stable/user_guide/indexing.html#returning-a-view-versus-a-copy\n",
      "  \"\"\"\n",
      "C:\\Users\\user\\Anaconda3\\envs\\teste_vipi\\lib\\site-packages\\ipykernel_launcher.py:6: SettingWithCopyWarning: \n",
      "A value is trying to be set on a copy of a slice from a DataFrame.\n",
      "Try using .loc[row_indexer,col_indexer] = value instead\n",
      "\n",
      "See the caveats in the documentation: http://pandas.pydata.org/pandas-docs/stable/user_guide/indexing.html#returning-a-view-versus-a-copy\n",
      "  \n"
     ]
    },
    {
     "data": {
      "text/plain": [
       "(198, 54, 141)"
      ]
     },
     "execution_count": 49,
     "metadata": {},
     "output_type": "execute_result"
    }
   ],
   "source": [
    "# 16:00\n",
    "sudeste_14_20 = sudeste[(sudeste['ENTRADA'] > 160000) & (sudeste['ENTRADA'] <= 171000) | (sudeste['SAÍDA'] > 134000) & (sudeste['SAÍDA'] <= 142000)]\n",
    "sudeste_14_20_e = sudeste[(sudeste['ENTRADA'] > 160000) & (sudeste['ENTRADA'] <= 171000)]\n",
    "sudeste_14_20_s = sudeste[(sudeste['SAÍDA'] > 134000) & (sudeste['SAÍDA'] <= 142000)]\n",
    "sudeste_14_20_e['FRETADO'] = 'COLETA'\n",
    "sudeste_14_20_s['FRETADO'] = 'DEVOLUÇÃO'\n",
    "sudeste_14_20 = pd.concat([sudeste_14_20_e,sudeste_14_20_s], sort=False).copy()\n",
    "sudeste_14_20 = sudeste_14_20.append({'Nome':'Saída: 14:20 / Chegada: 16:00'},ignore_index=True)\n",
    "dev = f'Devoluções: {len(sudeste_14_20_s)}'\n",
    "col = f'Coletas: {len(sudeste_14_20_e)}'\n",
    "sudeste_14_20 = sudeste_14_20.append({'Nome': dev},ignore_index=True)\n",
    "sudeste_14_20 = sudeste_14_20.append({'Nome': col},ignore_index=True)\n",
    "len(sudeste_14_20),len(sudeste_14_20_e),len(sudeste_14_20_s)"
   ]
  },
  {
   "cell_type": "code",
   "execution_count": 50,
   "metadata": {},
   "outputs": [
    {
     "name": "stderr",
     "output_type": "stream",
     "text": [
      "C:\\Users\\user\\Anaconda3\\envs\\teste_vipi\\lib\\site-packages\\ipykernel_launcher.py:5: SettingWithCopyWarning: \n",
      "A value is trying to be set on a copy of a slice from a DataFrame.\n",
      "Try using .loc[row_indexer,col_indexer] = value instead\n",
      "\n",
      "See the caveats in the documentation: http://pandas.pydata.org/pandas-docs/stable/user_guide/indexing.html#returning-a-view-versus-a-copy\n",
      "  \"\"\"\n",
      "C:\\Users\\user\\Anaconda3\\envs\\teste_vipi\\lib\\site-packages\\ipykernel_launcher.py:6: SettingWithCopyWarning: \n",
      "A value is trying to be set on a copy of a slice from a DataFrame.\n",
      "Try using .loc[row_indexer,col_indexer] = value instead\n",
      "\n",
      "See the caveats in the documentation: http://pandas.pydata.org/pandas-docs/stable/user_guide/indexing.html#returning-a-view-versus-a-copy\n",
      "  \n"
     ]
    },
    {
     "data": {
      "text/plain": [
       "(186, 42, 160)"
      ]
     },
     "execution_count": 50,
     "metadata": {},
     "output_type": "execute_result"
    }
   ],
   "source": [
    "# 17:10\n",
    "sudeste_15_30 = sudeste[(sudeste['ENTRADA'] > 171000) & (sudeste['ENTRADA'] <= 185000) | (sudeste['SAÍDA'] > 142000) & (sudeste['SAÍDA'] <= 153000)]\n",
    "sudeste_15_30_e = sudeste[(sudeste['ENTRADA'] > 171000) & (sudeste['ENTRADA'] <= 185000)]\n",
    "sudeste_15_30_s = sudeste[(sudeste['SAÍDA'] > 142000) & (sudeste['SAÍDA'] <= 153000)]\n",
    "sudeste_15_30_e['FRETADO'] = 'COLETA'\n",
    "sudeste_15_30_s['FRETADO'] = 'DEVOLUÇÃO'\n",
    "sudeste_15_30 = pd.concat([sudeste_15_30_e,sudeste_14_20_s], sort=False).copy()\n",
    "sudeste_15_30 = sudeste_15_30.append({'Nome':'Saída: 15:30 / Chegada: 17:10'},ignore_index=True)\n",
    "dev = f'Devoluções: {len(sudeste_15_30_s)}'\n",
    "col = f'Coletas: {len(sudeste_15_30_e)}'\n",
    "sudeste_15_30 = sudeste_15_30.append({'Nome': dev},ignore_index=True)\n",
    "sudeste_15_30 = sudeste_15_30.append({'Nome': col},ignore_index=True)\n",
    "len(sudeste_15_30),len(sudeste_15_30_e),len(sudeste_15_30_s)"
   ]
  },
  {
   "cell_type": "code",
   "execution_count": 51,
   "metadata": {},
   "outputs": [
    {
     "name": "stderr",
     "output_type": "stream",
     "text": [
      "C:\\Users\\user\\Anaconda3\\envs\\teste_vipi\\lib\\site-packages\\ipykernel_launcher.py:5: SettingWithCopyWarning: \n",
      "A value is trying to be set on a copy of a slice from a DataFrame.\n",
      "Try using .loc[row_indexer,col_indexer] = value instead\n",
      "\n",
      "See the caveats in the documentation: http://pandas.pydata.org/pandas-docs/stable/user_guide/indexing.html#returning-a-view-versus-a-copy\n",
      "  \"\"\"\n",
      "C:\\Users\\user\\Anaconda3\\envs\\teste_vipi\\lib\\site-packages\\ipykernel_launcher.py:6: SettingWithCopyWarning: \n",
      "A value is trying to be set on a copy of a slice from a DataFrame.\n",
      "Try using .loc[row_indexer,col_indexer] = value instead\n",
      "\n",
      "See the caveats in the documentation: http://pandas.pydata.org/pandas-docs/stable/user_guide/indexing.html#returning-a-view-versus-a-copy\n",
      "  \n"
     ]
    },
    {
     "data": {
      "text/plain": [
       "(110, 24, 83)"
      ]
     },
     "execution_count": 51,
     "metadata": {},
     "output_type": "execute_result"
    }
   ],
   "source": [
    "# 18:50\n",
    "sudeste_17_10 = sudeste[(sudeste['ENTRADA'] > 185000) & (sudeste['ENTRADA'] <= 205000) | (sudeste['SAÍDA'] > 153000) & (sudeste['SAÍDA'] <= 171000)]\n",
    "sudeste_17_10_e = sudeste[(sudeste['ENTRADA'] > 185000) & (sudeste['ENTRADA'] <= 205000)]\n",
    "sudeste_17_10_s = sudeste[(sudeste['SAÍDA'] > 153000) & (sudeste['SAÍDA'] <= 171000)]\n",
    "sudeste_17_10_e['FRETADO'] = 'COLETA'\n",
    "sudeste_17_10_s['FRETADO'] = 'DEVOLUÇÃO'\n",
    "sudeste_17_10 = pd.concat([sudeste_17_10_e,sudeste_17_10_s], sort=False).copy()\n",
    "sudeste_17_10 = sudeste_17_10.append({'Nome':'Saída: 17:10 / Chegada: 18:50'},ignore_index=True)\n",
    "dev = f'Devoluções: {len(sudeste_17_10_s)}'\n",
    "col = f'Coletas: {len(sudeste_17_10_e)}'\n",
    "sudeste_17_10 = sudeste_17_10.append({'Nome': dev},ignore_index=True)\n",
    "sudeste_17_10 = sudeste_17_10.append({'Nome': col},ignore_index=True)\n",
    "len(sudeste_17_10),len(sudeste_17_10_e),len(sudeste_17_10_s)"
   ]
  },
  {
   "cell_type": "code",
   "execution_count": 52,
   "metadata": {},
   "outputs": [
    {
     "name": "stderr",
     "output_type": "stream",
     "text": [
      "C:\\Users\\user\\Anaconda3\\envs\\teste_vipi\\lib\\site-packages\\ipykernel_launcher.py:6: SettingWithCopyWarning: \n",
      "A value is trying to be set on a copy of a slice from a DataFrame.\n",
      "Try using .loc[row_indexer,col_indexer] = value instead\n",
      "\n",
      "See the caveats in the documentation: http://pandas.pydata.org/pandas-docs/stable/user_guide/indexing.html#returning-a-view-versus-a-copy\n",
      "  \n"
     ]
    },
    {
     "data": {
      "text/plain": [
       "(38, 0, 35)"
      ]
     },
     "execution_count": 52,
     "metadata": {},
     "output_type": "execute_result"
    }
   ],
   "source": [
    "# 20:50\n",
    "sudeste_19_10 = sudeste[(sudeste['ENTRADA'] > 205000) & (sudeste['ENTRADA'] <= 224000) | (sudeste['SAÍDA'] > 171000) & (sudeste['SAÍDA'] <= 191000)]\n",
    "sudeste_19_10_e = sudeste[(sudeste['ENTRADA'] > 205000) & (sudeste['ENTRADA'] <= 224000)]\n",
    "sudeste_19_10_s = sudeste[(sudeste['SAÍDA'] > 171000) & (sudeste['SAÍDA'] <= 191000)]\n",
    "sudeste_19_10_e['FRETADO'] = 'COLETA'\n",
    "sudeste_19_10_s['FRETADO'] = 'DEVOLUÇÃO'\n",
    "sudeste_19_10 = pd.concat([sudeste_19_10_e,sudeste_19_10_s], sort=False).copy()\n",
    "sudeste_19_10 = sudeste_19_10.append({'Nome':'Saída: 19:10 / Chegada: 20:40'},ignore_index=True)\n",
    "dev = f'Devoluções: {len(sudeste_19_10_s)}'\n",
    "col = f'Coletas: {len(sudeste_19_10_e)}'\n",
    "sudeste_19_10 = sudeste_19_10.append({'Nome': dev},ignore_index=True)\n",
    "sudeste_19_10 = sudeste_19_10.append({'Nome': col},ignore_index=True)\n",
    "len(sudeste_19_10),len(sudeste_19_10_e),len(sudeste_19_10_s)"
   ]
  },
  {
   "cell_type": "code",
   "execution_count": 53,
   "metadata": {},
   "outputs": [
    {
     "name": "stderr",
     "output_type": "stream",
     "text": [
      "C:\\Users\\user\\Anaconda3\\envs\\teste_vipi\\lib\\site-packages\\ipykernel_launcher.py:6: SettingWithCopyWarning: \n",
      "A value is trying to be set on a copy of a slice from a DataFrame.\n",
      "Try using .loc[row_indexer,col_indexer] = value instead\n",
      "\n",
      "See the caveats in the documentation: http://pandas.pydata.org/pandas-docs/stable/user_guide/indexing.html#returning-a-view-versus-a-copy\n",
      "  \n"
     ]
    },
    {
     "data": {
      "text/plain": [
       "(162, 0, 159)"
      ]
     },
     "execution_count": 53,
     "metadata": {},
     "output_type": "execute_result"
    }
   ],
   "source": [
    "# 22:20\n",
    "sudeste_20_50 = sudeste[(sudeste['ENTRADA'] > 205000) & (sudeste['ENTRADA'] <= 224000) | (sudeste['SAÍDA'] > 191000) & (sudeste['SAÍDA'] <= 205000)]\n",
    "sudeste_20_50_e = sudeste[(sudeste['ENTRADA'] > 205000) & (sudeste['ENTRADA'] <= 224000)]\n",
    "sudeste_20_50_s = sudeste[(sudeste['SAÍDA'] > 191000) & (sudeste['SAÍDA'] <= 205000)]\n",
    "sudeste_20_50_e['FRETADO'] = 'COLETA'\n",
    "sudeste_20_50_s['FRETADO'] = 'DEVOLUÇÃO'\n",
    "sudeste_20_50 = pd.concat([sudeste_20_50_e,sudeste_20_50_s], sort=False).copy()\n",
    "sudeste_20_50 = sudeste_20_50.append({'Nome':'Saída: 20:50 / Chegada: 22:20'},ignore_index=True)\n",
    "dev = f'Devoluções: {len(sudeste_20_50_s)}'\n",
    "col = f'Coletas: {len(sudeste_20_50_e)}'\n",
    "sudeste_20_50 = sudeste_20_50.append({'Nome': dev},ignore_index=True)\n",
    "sudeste_20_50 = sudeste_20_50.append({'Nome': col},ignore_index=True)\n",
    "len(sudeste_20_50),len(sudeste_20_50_e),len(sudeste_20_50_s)"
   ]
  },
  {
   "cell_type": "code",
   "execution_count": 54,
   "metadata": {},
   "outputs": [
    {
     "name": "stderr",
     "output_type": "stream",
     "text": [
      "C:\\Users\\user\\Anaconda3\\envs\\teste_vipi\\lib\\site-packages\\ipykernel_launcher.py:6: SettingWithCopyWarning: \n",
      "A value is trying to be set on a copy of a slice from a DataFrame.\n",
      "Try using .loc[row_indexer,col_indexer] = value instead\n",
      "\n",
      "See the caveats in the documentation: http://pandas.pydata.org/pandas-docs/stable/user_guide/indexing.html#returning-a-view-versus-a-copy\n",
      "  \n"
     ]
    },
    {
     "data": {
      "text/plain": [
       "(131, 0, 128)"
      ]
     },
     "execution_count": 54,
     "metadata": {},
     "output_type": "execute_result"
    }
   ],
   "source": [
    "# apenas saída\n",
    "sudeste_21_50 = sudeste[(sudeste['ENTRADA'] > 205000) & (sudeste['ENTRADA'] <= 224000) | (sudeste['SAÍDA'] > 204000) & (sudeste['SAÍDA'] <= 215000)]\n",
    "sudeste_21_50_e = sudeste[(sudeste['ENTRADA'] > 205000) & (sudeste['ENTRADA'] <= 224000)]\n",
    "sudeste_21_50_s = sudeste[(sudeste['SAÍDA'] > 204000) & (sudeste['SAÍDA'] <= 215000)]\n",
    "sudeste_21_50_e['FRETADO'] = 'COLETA'\n",
    "sudeste_21_50_s['FRETADO'] = 'DEVOLUÇÃO'\n",
    "sudeste_21_50 = pd.concat([sudeste_21_50_e, sudeste_21_50_s], sort=False).copy()\n",
    "sudeste_21_50 = sudeste_21_50.append({'Nome':'Saída: 21:50 / Chegada: Sem rotorno'},ignore_index=True)\n",
    "dev = f'Devoluções: {len(sudeste_21_50_s)}'\n",
    "col = f'Coletas: {len(sudeste_21_50_e)}'\n",
    "sudeste_21_50 = sudeste_21_50.append({'Nome': dev},ignore_index=True)\n",
    "sudeste_21_50 = sudeste_21_50.append({'Nome': col},ignore_index=True)\n",
    "len(sudeste_21_50),len(sudeste_21_50_e),len(sudeste_21_50_s)"
   ]
  },
  {
   "cell_type": "code",
   "execution_count": 55,
   "metadata": {},
   "outputs": [
    {
     "name": "stderr",
     "output_type": "stream",
     "text": [
      "C:\\Users\\user\\Anaconda3\\envs\\teste_vipi\\lib\\site-packages\\ipykernel_launcher.py:6: SettingWithCopyWarning: \n",
      "A value is trying to be set on a copy of a slice from a DataFrame.\n",
      "Try using .loc[row_indexer,col_indexer] = value instead\n",
      "\n",
      "See the caveats in the documentation: http://pandas.pydata.org/pandas-docs/stable/user_guide/indexing.html#returning-a-view-versus-a-copy\n",
      "  \n"
     ]
    },
    {
     "data": {
      "text/plain": [
       "(94, 0, 91)"
      ]
     },
     "execution_count": 55,
     "metadata": {},
     "output_type": "execute_result"
    }
   ],
   "source": [
    "# apenas saída\n",
    "sudeste_22_40 = sudeste[(sudeste['ENTRADA'] > 215000) & (sudeste['ENTRADA'] <= 224000) | (sudeste['SAÍDA'] > 215000) & (sudeste['SAÍDA'] <= 224000)]\n",
    "sudeste_22_40_e = sudeste[(sudeste['ENTRADA'] > 215000) & (sudeste['ENTRADA'] <= 224000)]\n",
    "sudeste_22_40_s = sudeste[(sudeste['SAÍDA'] > 215000) & (sudeste['SAÍDA'] <= 224000)]\n",
    "sudeste_22_40_e['FRETADO'] = 'COLETA'\n",
    "sudeste_22_40_s['FRETADO'] = 'DEVOLUÇÃO'\n",
    "sudeste_22_40 = pd.concat([sudeste_22_40_e, sudeste_22_40_s], sort=False).copy()\n",
    "sudeste_22_40 = sudeste_22_40.append({'Nome':'Saída: 22:40 / Chegada: Sem rotorno'},ignore_index=True)\n",
    "dev = f'Devoluções: {len(sudeste_22_40_s)}'\n",
    "col = f'Coletas: {len(sudeste_22_40_e)}'\n",
    "sudeste_22_40 = sudeste_22_40.append({'Nome': dev},ignore_index=True)\n",
    "sudeste_22_40 = sudeste_22_40.append({'Nome': col},ignore_index=True)\n",
    "len(sudeste_22_40),len(sudeste_22_40_e),len(sudeste_22_40_s)"
   ]
  },
  {
   "cell_type": "code",
   "execution_count": 56,
   "metadata": {},
   "outputs": [],
   "source": [
    "rota_sudeste = pd.ExcelWriter('sudeste.xlsx', engine='xlsxwriter')\n",
    "sudeste_5_00.to_excel(rota_sudeste, sheet_name='sudeste_5_00', index=False)\n",
    "sudeste_6_40.to_excel(rota_sudeste, sheet_name='sudeste_6_40', index=False)\n",
    "sudeste_7_30.to_excel(rota_sudeste, sheet_name='sudeste_7_30', index=False)\n",
    "sudeste_9_00.to_excel(rota_sudeste, sheet_name='sudeste_9_00', index=False)\n",
    "sudeste_10_40.to_excel(rota_sudeste, sheet_name='sudeste_10_40', index=False)\n",
    "sudeste_12_30.to_excel(rota_sudeste, sheet_name='sudeste_12_30', index=False)\n",
    "sudeste_13_40.to_excel(rota_sudeste, sheet_name='sudeste_13_40', index=False)\n",
    "sudeste_14_20.to_excel(rota_sudeste, sheet_name='sudeste_14_20', index=False)\n",
    "sudeste_15_30.to_excel(rota_sudeste, sheet_name='sudeste_15_30', index=False)\n",
    "sudeste_17_10.to_excel(rota_sudeste, sheet_name='sudeste_17_10', index=False)\n",
    "sudeste_19_10.to_excel(rota_sudeste, sheet_name='sudeste_19_10', index=False)\n",
    "sudeste_20_50.to_excel(rota_sudeste, sheet_name='sudeste_20_50', index=False)\n",
    "sudeste_21_50.to_excel(rota_sudeste, sheet_name='sudeste_21_50', index=False)\n",
    "sudeste_22_40.to_excel(rota_sudeste, sheet_name='sudeste_22_40', index=False)\n",
    "rota_sudeste.save()"
   ]
  },
  {
   "cell_type": "markdown",
   "metadata": {},
   "source": [
    "# LESTE"
   ]
  },
  {
   "cell_type": "code",
   "execution_count": 57,
   "metadata": {},
   "outputs": [
    {
     "name": "stderr",
     "output_type": "stream",
     "text": [
      "C:\\Users\\user\\Anaconda3\\envs\\teste_vipi\\lib\\site-packages\\ipykernel_launcher.py:5: SettingWithCopyWarning: \n",
      "A value is trying to be set on a copy of a slice from a DataFrame.\n",
      "Try using .loc[row_indexer,col_indexer] = value instead\n",
      "\n",
      "See the caveats in the documentation: http://pandas.pydata.org/pandas-docs/stable/user_guide/indexing.html#returning-a-view-versus-a-copy\n",
      "  \"\"\"\n"
     ]
    },
    {
     "data": {
      "text/plain": [
       "(185, 182, 0)"
      ]
     },
     "execution_count": 57,
     "metadata": {},
     "output_type": "execute_result"
    }
   ],
   "source": [
    "# 6:40\n",
    "leste_4_50 = leste[(leste['ENTRADA'] > 63000) & (leste['ENTRADA'] <= 83000) | (leste['SAÍDA'] > 40000) & (leste['SAÍDA'] <= 50000)]\n",
    "leste_4_50_e = leste[(leste['ENTRADA'] > 63000) & (leste['ENTRADA'] <= 83000)]\n",
    "leste_4_50_s = leste[(leste['SAÍDA'] > 40000) & (leste['SAÍDA'] <= 50000)]\n",
    "leste_4_50_e['FRETADO'] = 'COLETA'\n",
    "leste_4_50_s['FRETADO'] = 'DEVOLUÇÃO'\n",
    "leste_4_50 = pd.concat([leste_4_50_e, leste_4_50_s], sort=False).copy()\n",
    "leste_4_50 = leste_4_50.append({'Nome':'Saída: 4:50 / Chegada: 6:40'},ignore_index=True)\n",
    "dev = f'Devoluções: {len(leste_4_50_s)}'\n",
    "col = f'Coletas: {len(leste_4_50_e)}'\n",
    "leste_4_50 = leste_4_50.append({'Nome': dev},ignore_index=True)\n",
    "leste_4_50 = leste_4_50.append({'Nome': col},ignore_index=True)\n",
    "len(leste_4_50),len(leste_4_50_e),len(leste_4_50_s)"
   ]
  },
  {
   "cell_type": "code",
   "execution_count": 58,
   "metadata": {},
   "outputs": [
    {
     "name": "stderr",
     "output_type": "stream",
     "text": [
      "C:\\Users\\user\\Anaconda3\\envs\\teste_vipi\\lib\\site-packages\\ipykernel_launcher.py:5: SettingWithCopyWarning: \n",
      "A value is trying to be set on a copy of a slice from a DataFrame.\n",
      "Try using .loc[row_indexer,col_indexer] = value instead\n",
      "\n",
      "See the caveats in the documentation: http://pandas.pydata.org/pandas-docs/stable/user_guide/indexing.html#returning-a-view-versus-a-copy\n",
      "  \"\"\"\n",
      "C:\\Users\\user\\Anaconda3\\envs\\teste_vipi\\lib\\site-packages\\ipykernel_launcher.py:6: SettingWithCopyWarning: \n",
      "A value is trying to be set on a copy of a slice from a DataFrame.\n",
      "Try using .loc[row_indexer,col_indexer] = value instead\n",
      "\n",
      "See the caveats in the documentation: http://pandas.pydata.org/pandas-docs/stable/user_guide/indexing.html#returning-a-view-versus-a-copy\n",
      "  \n"
     ]
    },
    {
     "data": {
      "text/plain": [
       "(88, 79, 6)"
      ]
     },
     "execution_count": 58,
     "metadata": {},
     "output_type": "execute_result"
    }
   ],
   "source": [
    "# 8:30\n",
    "leste_6_40 = leste[(leste['ENTRADA'] > 83000) & (leste['ENTRADA'] <= 104000) | (leste['SAÍDA'] > 45000) & (leste['SAÍDA'] <= 64000)]\n",
    "leste_6_40_e = leste[(leste['ENTRADA'] > 83000) & (leste['ENTRADA'] <= 104000)]\n",
    "leste_6_40_s = leste[(leste['SAÍDA'] > 45000) & (leste['SAÍDA'] <= 64000)]\n",
    "leste_6_40_e['FRETADO'] = 'COLETA'\n",
    "leste_6_40['FRETADO'] = 'DEVOLUÇÃO'\n",
    "leste_6_40 = pd.concat([leste_6_40_e, leste_6_40_s], sort=False).copy()\n",
    "leste_6_40 = leste_6_40.append({'Nome':'Saída: 6:40 / Chegada: 8:30'},ignore_index=True)\n",
    "dev = f'Devoluções: {len(leste_6_40_s)}'\n",
    "col = f'Coletas: {len(leste_6_40_e)}'\n",
    "leste_6_40 = leste_6_40.append({'Nome': dev},ignore_index=True)\n",
    "leste_6_40 = leste_6_40.append({'Nome': col},ignore_index=True)\n",
    "len(leste_6_40),len(leste_6_40_e),len(leste_6_40_s)"
   ]
  },
  {
   "cell_type": "code",
   "execution_count": 59,
   "metadata": {},
   "outputs": [
    {
     "name": "stderr",
     "output_type": "stream",
     "text": [
      "C:\\Users\\user\\Anaconda3\\envs\\teste_vipi\\lib\\site-packages\\ipykernel_launcher.py:5: SettingWithCopyWarning: \n",
      "A value is trying to be set on a copy of a slice from a DataFrame.\n",
      "Try using .loc[row_indexer,col_indexer] = value instead\n",
      "\n",
      "See the caveats in the documentation: http://pandas.pydata.org/pandas-docs/stable/user_guide/indexing.html#returning-a-view-versus-a-copy\n",
      "  \"\"\"\n",
      "C:\\Users\\user\\Anaconda3\\envs\\teste_vipi\\lib\\site-packages\\ipykernel_launcher.py:6: SettingWithCopyWarning: \n",
      "A value is trying to be set on a copy of a slice from a DataFrame.\n",
      "Try using .loc[row_indexer,col_indexer] = value instead\n",
      "\n",
      "See the caveats in the documentation: http://pandas.pydata.org/pandas-docs/stable/user_guide/indexing.html#returning-a-view-versus-a-copy\n",
      "  \n"
     ]
    },
    {
     "data": {
      "text/plain": [
       "(29, 21, 5)"
      ]
     },
     "execution_count": 59,
     "metadata": {},
     "output_type": "execute_result"
    }
   ],
   "source": [
    "# 10:40\n",
    "leste_8_50 = leste[(leste['ENTRADA'] > 104000) & (leste['ENTRADA'] <= 125000) | (leste['SAÍDA'] > 64000) & (leste['SAÍDA'] <= 85000)]\n",
    "leste_8_50_e = leste[(leste['ENTRADA'] > 104000) & (leste['ENTRADA'] <= 125000)]\n",
    "leste_8_50_s = leste[(leste['SAÍDA'] > 64000) & (leste['SAÍDA'] <= 85000)]\n",
    "leste_8_50_e['FRETADO'] = 'COLETA'\n",
    "leste_8_50_s['FRETADO'] = 'DEVOLUÇÃO'\n",
    "leste_8_50 = pd.concat([leste_8_50_e, leste_8_50_s], sort=False).copy()\n",
    "leste_8_50 = leste_8_50.append({'Nome':'Saída: 8:50 / Chegada: 10:40'},ignore_index=True)\n",
    "dev = f'Devoluções: {len(leste_8_50_s)}'\n",
    "col = f'Coletas: {len(leste_8_50_e)}'\n",
    "leste_8_50 = leste_8_50.append({'Nome': dev},ignore_index=True)\n",
    "leste_8_50 = leste_8_50.append({'Nome': col},ignore_index=True)\n",
    "len(leste_8_50),len(leste_8_50_e),len(leste_8_50_s)"
   ]
  },
  {
   "cell_type": "code",
   "execution_count": 60,
   "metadata": {},
   "outputs": [
    {
     "name": "stderr",
     "output_type": "stream",
     "text": [
      "C:\\Users\\user\\Anaconda3\\envs\\teste_vipi\\lib\\site-packages\\ipykernel_launcher.py:5: SettingWithCopyWarning: \n",
      "A value is trying to be set on a copy of a slice from a DataFrame.\n",
      "Try using .loc[row_indexer,col_indexer] = value instead\n",
      "\n",
      "See the caveats in the documentation: http://pandas.pydata.org/pandas-docs/stable/user_guide/indexing.html#returning-a-view-versus-a-copy\n",
      "  \"\"\"\n"
     ]
    },
    {
     "data": {
      "text/plain": [
       "(149, 146, 0)"
      ]
     },
     "execution_count": 60,
     "metadata": {},
     "output_type": "execute_result"
    }
   ],
   "source": [
    "# 12:50\n",
    "leste_11_00 = leste[(leste['ENTRADA'] > 125000) & (leste['ENTRADA'] <= 144000) | (leste['SAÍDA'] > 85000) & (leste['SAÍDA'] <= 110000)]\n",
    "leste_11_00_e = leste[(leste['ENTRADA'] > 125000) & (leste['ENTRADA'] <= 144000)]\n",
    "leste_11_00_s = leste[(leste['SAÍDA'] > 85000) & (leste['SAÍDA'] <= 110000)]\n",
    "leste_11_00_e['FRETADO'] = 'COLETA'\n",
    "leste_11_00_s['FRETADO'] = 'DEVOLUÇÃO'\n",
    "leste_11_00 = pd.concat([leste_11_00_e, leste_11_00_s], sort=False).copy()\n",
    "leste_11_00 = leste_11_00.append({'Nome':'Saída: 11:00 / Chegada: 12:50'},ignore_index=True)\n",
    "dev = f'Devoluções: {len(leste_11_00_s)}'\n",
    "col = f'Coletas: {len(leste_11_00_e)}'\n",
    "leste_11_00 = leste_11_00.append({'Nome': dev},ignore_index=True)\n",
    "leste_11_00 = leste_11_00.append({'Nome': col},ignore_index=True)\n",
    "len(leste_11_00),len(leste_11_00_e),len(leste_11_00_s)"
   ]
  },
  {
   "cell_type": "code",
   "execution_count": 61,
   "metadata": {},
   "outputs": [
    {
     "name": "stderr",
     "output_type": "stream",
     "text": [
      "C:\\Users\\user\\Anaconda3\\envs\\teste_vipi\\lib\\site-packages\\ipykernel_launcher.py:5: SettingWithCopyWarning: \n",
      "A value is trying to be set on a copy of a slice from a DataFrame.\n",
      "Try using .loc[row_indexer,col_indexer] = value instead\n",
      "\n",
      "See the caveats in the documentation: http://pandas.pydata.org/pandas-docs/stable/user_guide/indexing.html#returning-a-view-versus-a-copy\n",
      "  \"\"\"\n",
      "C:\\Users\\user\\Anaconda3\\envs\\teste_vipi\\lib\\site-packages\\ipykernel_launcher.py:6: SettingWithCopyWarning: \n",
      "A value is trying to be set on a copy of a slice from a DataFrame.\n",
      "Try using .loc[row_indexer,col_indexer] = value instead\n",
      "\n",
      "See the caveats in the documentation: http://pandas.pydata.org/pandas-docs/stable/user_guide/indexing.html#returning-a-view-versus-a-copy\n",
      "  \n"
     ]
    },
    {
     "data": {
      "text/plain": [
       "(71, 48, 20)"
      ]
     },
     "execution_count": 61,
     "metadata": {},
     "output_type": "execute_result"
    }
   ],
   "source": [
    "# 14:40\n",
    "leste_12_50 = leste[(leste['ENTRADA'] > 144000) & (leste['ENTRADA'] <= 163000) | (leste['SAÍDA'] > 110000) & (leste['SAÍDA'] <= 125000)]\n",
    "leste_12_50_e = leste[(leste['ENTRADA'] > 144000) & (leste['ENTRADA'] <= 163000)]\n",
    "leste_12_50_s = leste[(leste['SAÍDA'] > 110000) & (leste['SAÍDA'] <= 125000)]\n",
    "leste_12_50_e['FRETADO'] = 'COLETA'\n",
    "leste_12_50_s['FRETADO'] = 'DEVOLUÇÃO'\n",
    "leste_12_50 = pd.concat([leste_12_50_e, leste_12_50_s], sort=False).copy()\n",
    "leste_12_50 = leste_12_50.append({'Site':'Saída: 12:50 / Chegada: 14:40'},ignore_index=True)\n",
    "dev = f'Devoluções: {len(leste_12_50_s)}'\n",
    "col = f'Coletas: {len(leste_12_50_e)}'\n",
    "leste_12_50 = leste_12_50.append({'Nome': dev},ignore_index=True)\n",
    "leste_12_50 = leste_12_50.append({'Nome': col},ignore_index=True)\n",
    "len(leste_12_50),len(leste_12_50_e),len(leste_12_50_s)"
   ]
  },
  {
   "cell_type": "code",
   "execution_count": 62,
   "metadata": {},
   "outputs": [
    {
     "name": "stderr",
     "output_type": "stream",
     "text": [
      "C:\\Users\\user\\Anaconda3\\envs\\teste_vipi\\lib\\site-packages\\ipykernel_launcher.py:5: SettingWithCopyWarning: \n",
      "A value is trying to be set on a copy of a slice from a DataFrame.\n",
      "Try using .loc[row_indexer,col_indexer] = value instead\n",
      "\n",
      "See the caveats in the documentation: http://pandas.pydata.org/pandas-docs/stable/user_guide/indexing.html#returning-a-view-versus-a-copy\n",
      "  \"\"\"\n",
      "C:\\Users\\user\\Anaconda3\\envs\\teste_vipi\\lib\\site-packages\\ipykernel_launcher.py:6: SettingWithCopyWarning: \n",
      "A value is trying to be set on a copy of a slice from a DataFrame.\n",
      "Try using .loc[row_indexer,col_indexer] = value instead\n",
      "\n",
      "See the caveats in the documentation: http://pandas.pydata.org/pandas-docs/stable/user_guide/indexing.html#returning-a-view-versus-a-copy\n",
      "  \n"
     ]
    },
    {
     "data": {
      "text/plain": [
       "(181, 36, 142)"
      ]
     },
     "execution_count": 62,
     "metadata": {},
     "output_type": "execute_result"
    }
   ],
   "source": [
    "# 16:30\n",
    "leste_14_40 = leste[(leste['ENTRADA'] > 163000) & (leste['ENTRADA'] <= 182000) | (leste['SAÍDA'] > 125000) & (leste['SAÍDA'] <= 144000)]\n",
    "leste_14_40_e = leste[(leste['ENTRADA'] > 163000) & (leste['ENTRADA'] <= 182000)]\n",
    "leste_14_40_s = leste[(leste['SAÍDA'] > 125000) & (leste['SAÍDA'] <= 144000)]\n",
    "leste_14_40_e['FRETADO'] = 'COLETA'\n",
    "leste_14_40_s['FRETADO'] = 'DEVOLUÇÃO'\n",
    "leste_14_40 = pd.concat([leste_14_40_e, leste_14_40_s], sort=False).copy()\n",
    "leste_14_40 = leste_14_40.append({'Nome':'Saída: 14:40 / Chegada: 16:30'},ignore_index=True)\n",
    "dev = f'Devoluções: {len(leste_14_40_s)}'\n",
    "col = f'Coletas: {len(leste_14_40_e)}'\n",
    "leste_14_40 = leste_14_40.append({'Nome': dev},ignore_index=True)\n",
    "leste_14_40 = leste_14_40.append({'Nome': col},ignore_index=True)\n",
    "len(leste_14_40),len(leste_14_40_e),len(leste_14_40_s)"
   ]
  },
  {
   "cell_type": "code",
   "execution_count": 63,
   "metadata": {},
   "outputs": [
    {
     "name": "stderr",
     "output_type": "stream",
     "text": [
      "C:\\Users\\user\\Anaconda3\\envs\\teste_vipi\\lib\\site-packages\\ipykernel_launcher.py:5: SettingWithCopyWarning: \n",
      "A value is trying to be set on a copy of a slice from a DataFrame.\n",
      "Try using .loc[row_indexer,col_indexer] = value instead\n",
      "\n",
      "See the caveats in the documentation: http://pandas.pydata.org/pandas-docs/stable/user_guide/indexing.html#returning-a-view-versus-a-copy\n",
      "  \"\"\"\n",
      "C:\\Users\\user\\Anaconda3\\envs\\teste_vipi\\lib\\site-packages\\ipykernel_launcher.py:6: SettingWithCopyWarning: \n",
      "A value is trying to be set on a copy of a slice from a DataFrame.\n",
      "Try using .loc[row_indexer,col_indexer] = value instead\n",
      "\n",
      "See the caveats in the documentation: http://pandas.pydata.org/pandas-docs/stable/user_guide/indexing.html#returning-a-view-versus-a-copy\n",
      "  \n"
     ]
    },
    {
     "data": {
      "text/plain": [
       "(111, 13, 95)"
      ]
     },
     "execution_count": 63,
     "metadata": {},
     "output_type": "execute_result"
    }
   ],
   "source": [
    "# 18:20\n",
    "leste_16_30 = leste[(leste['ENTRADA'] > 182000) & (leste['ENTRADA'] <= 203000) | (leste['SAÍDA'] > 144000) & (leste['SAÍDA'] <= 163000)]\n",
    "leste_16_30_e = leste[(leste['ENTRADA'] > 182000) & (leste['ENTRADA'] <= 203000)]\n",
    "leste_16_30_s = leste[(leste['SAÍDA'] > 144000) & (leste['SAÍDA'] <= 163000)]\n",
    "leste_16_30_e['FRETADO'] = 'COLETA'\n",
    "leste_16_30_s['FRETADO'] = 'DEVOLUÇÃO'\n",
    "leste_16_30 = pd.concat([leste_16_30_e, leste_16_30_s], sort=False).copy()\n",
    "leste_16_30 = leste_16_30.append({'Nome':'Saída: 16:30 / Chegada: 18:20'},ignore_index=True)\n",
    "dev = f'Devoluções: {len(leste_16_30_s)}'\n",
    "col = f'Coletas: {len(leste_16_30_e)}'\n",
    "leste_16_30 = leste_16_30.append({'Nome': dev},ignore_index=True)\n",
    "leste_16_30 = leste_16_30.append({'Nome': col},ignore_index=True)\n",
    "len(leste_16_30),len(leste_16_30_e),len(leste_16_30_s)"
   ]
  },
  {
   "cell_type": "code",
   "execution_count": 64,
   "metadata": {},
   "outputs": [
    {
     "name": "stderr",
     "output_type": "stream",
     "text": [
      "C:\\Users\\user\\Anaconda3\\envs\\teste_vipi\\lib\\site-packages\\ipykernel_launcher.py:6: SettingWithCopyWarning: \n",
      "A value is trying to be set on a copy of a slice from a DataFrame.\n",
      "Try using .loc[row_indexer,col_indexer] = value instead\n",
      "\n",
      "See the caveats in the documentation: http://pandas.pydata.org/pandas-docs/stable/user_guide/indexing.html#returning-a-view-versus-a-copy\n",
      "  \n"
     ]
    },
    {
     "data": {
      "text/plain": [
       "(42, 0, 39)"
      ]
     },
     "execution_count": 64,
     "metadata": {},
     "output_type": "execute_result"
    }
   ],
   "source": [
    "# 20:30\n",
    "leste_18_40 = leste[(leste['ENTRADA'] > 203000) & (leste['ENTRADA'] <= 223000) | (leste['SAÍDA'] > 163000) & (leste['SAÍDA'] <= 184000)]\n",
    "leste_18_40_e = leste[(leste['ENTRADA'] > 203000) & (leste['ENTRADA'] <= 223000)]\n",
    "leste_18_40_s = leste[(leste['SAÍDA'] > 163000) & (leste['SAÍDA'] <= 184000)]\n",
    "leste_18_40_e['FRETADO'] = 'COLETA'\n",
    "leste_18_40_s['FRETADO'] = 'DEVOLUÇÃO'\n",
    "leste_18_40 = pd.concat([leste_18_40_e, leste_18_40_s], sort=False).copy()\n",
    "leste_18_40 = leste_18_40.append({'Nome':'Saída: 18:40 / Chegada: 20:30'},ignore_index=True)\n",
    "dev = f'Devoluções: {len(leste_18_40_s)}'\n",
    "col = f'Coletas: {len(leste_18_40_e)}'\n",
    "leste_18_40 = leste_18_40.append({'Nome': dev},ignore_index=True)\n",
    "leste_18_40 = leste_18_40.append({'Nome': col},ignore_index=True)\n",
    "len(leste_18_40),len(leste_18_40_e),len(leste_18_40_s)"
   ]
  },
  {
   "cell_type": "code",
   "execution_count": 65,
   "metadata": {},
   "outputs": [
    {
     "name": "stderr",
     "output_type": "stream",
     "text": [
      "C:\\Users\\user\\Anaconda3\\envs\\teste_vipi\\lib\\site-packages\\ipykernel_launcher.py:6: SettingWithCopyWarning: \n",
      "A value is trying to be set on a copy of a slice from a DataFrame.\n",
      "Try using .loc[row_indexer,col_indexer] = value instead\n",
      "\n",
      "See the caveats in the documentation: http://pandas.pydata.org/pandas-docs/stable/user_guide/indexing.html#returning-a-view-versus-a-copy\n",
      "  \n"
     ]
    },
    {
     "data": {
      "text/plain": [
       "(115, 0, 112)"
      ]
     },
     "execution_count": 65,
     "metadata": {},
     "output_type": "execute_result"
    }
   ],
   "source": [
    "# 22:30\n",
    "leste_20_40 = leste[(leste['ENTRADA'] > 223000) & (leste['ENTRADA'] <= 225000) | (leste['SAÍDA'] > 184000) & (leste['SAÍDA'] <= 204000)]\n",
    "leste_20_40_e = leste[(leste['ENTRADA'] > 223000) & (leste['ENTRADA'] <= 225000)]\n",
    "leste_20_40_s = leste[(leste['SAÍDA'] > 184000) & (leste['SAÍDA'] <= 204000)]\n",
    "leste_20_40_e['FRETADO'] = 'COLETA'\n",
    "leste_20_40_s['FRETADO'] = 'DEVOLUÇÃO'\n",
    "leste_20_40 = pd.concat([leste_20_40_e, leste_20_40_s], sort=False).copy()\n",
    "leste_20_40 = leste_20_40.append({'Nome':'Saída: 20:40 / Chegada: 22:30'},ignore_index=True)\n",
    "dev = f'Devoluções: {len(leste_20_40_s)}'\n",
    "col = f'Coletas: {len(leste_20_40_e)}'\n",
    "leste_20_40 = leste_20_40.append({'Nome': dev},ignore_index=True)\n",
    "leste_20_40 = leste_20_40.append({'Nome': col},ignore_index=True)\n",
    "len(leste_20_40),len(leste_20_40_e),len(leste_20_40_s)"
   ]
  },
  {
   "cell_type": "code",
   "execution_count": 66,
   "metadata": {},
   "outputs": [
    {
     "name": "stderr",
     "output_type": "stream",
     "text": [
      "C:\\Users\\user\\Anaconda3\\envs\\teste_vipi\\lib\\site-packages\\ipykernel_launcher.py:6: SettingWithCopyWarning: \n",
      "A value is trying to be set on a copy of a slice from a DataFrame.\n",
      "Try using .loc[row_indexer,col_indexer] = value instead\n",
      "\n",
      "See the caveats in the documentation: http://pandas.pydata.org/pandas-docs/stable/user_guide/indexing.html#returning-a-view-versus-a-copy\n",
      "  \n"
     ]
    },
    {
     "data": {
      "text/plain": [
       "(80, 0, 77)"
      ]
     },
     "execution_count": 66,
     "metadata": {},
     "output_type": "execute_result"
    }
   ],
   "source": [
    "# só saída\n",
    "leste_22_40 = leste[(leste['ENTRADA'] > 223000) & (leste['ENTRADA'] <= 225000) | (leste['SAÍDA'] > 204000) & (leste['SAÍDA'] <= 224000)]\n",
    "leste_22_40_e = leste[(leste['ENTRADA'] > 223000) & (leste['ENTRADA'] <= 225000)]\n",
    "leste_22_40_s = leste[(leste['SAÍDA'] > 204000) & (leste['SAÍDA'] <= 224000)]\n",
    "leste_22_40_e['FRETADO'] = 'COLETA'\n",
    "leste_22_40_s['FRETADO'] = 'DEVOLUÇÃO'\n",
    "leste_22_40 = pd.concat([leste_22_40_e, leste_22_40_s], sort=False).copy()\n",
    "leste_22_40 = leste_22_40.append({'Nome':'Saída: 22:40 / Chegada: Sem retorno'},ignore_index=True)\n",
    "dev = f'Devoluções: {len(leste_22_40_s)}'\n",
    "col = f'Coletas: {len(leste_22_40_e)}'\n",
    "leste_22_40 = leste_22_40.append({'Nome': dev},ignore_index=True)\n",
    "leste_22_40 = leste_22_40.append({'Nome': col},ignore_index=True)\n",
    "len(leste_22_40),len(leste_22_40_e),len(leste_22_40_s)"
   ]
  },
  {
   "cell_type": "code",
   "execution_count": 67,
   "metadata": {},
   "outputs": [],
   "source": [
    "rota_leste = pd.ExcelWriter('leste.xlsx', engine='xlsxwriter')\n",
    "leste_4_50.to_excel(rota_leste, sheet_name='leste_4_50', index=False)\n",
    "leste_6_40.to_excel(rota_leste, sheet_name='leste_6_40', index=False)\n",
    "leste_8_50.to_excel(rota_leste, sheet_name='leste_8_50', index=False)\n",
    "leste_11_00.to_excel(rota_leste, sheet_name='leste_11_00', index=False)\n",
    "leste_12_50.to_excel(rota_leste, sheet_name='leste_12_50', index=False)\n",
    "leste_14_40.to_excel(rota_leste, sheet_name='leste_14_40', index=False)\n",
    "leste_16_30.to_excel(rota_leste, sheet_name='leste_16_30', index=False)\n",
    "leste_18_40.to_excel(rota_leste, sheet_name='leste_18_40', index=False)\n",
    "leste_20_40.to_excel(rota_leste, sheet_name='leste_20_40', index=False)\n",
    "leste_22_40.to_excel(rota_leste, sheet_name='leste_22_40', index=False)\n",
    "\n",
    "rota_leste.save()"
   ]
  },
  {
   "cell_type": "markdown",
   "metadata": {},
   "source": [
    "# NORTE"
   ]
  },
  {
   "cell_type": "code",
   "execution_count": 68,
   "metadata": {},
   "outputs": [
    {
     "name": "stderr",
     "output_type": "stream",
     "text": [
      "C:\\Users\\user\\Anaconda3\\envs\\teste_vipi\\lib\\site-packages\\ipykernel_launcher.py:5: SettingWithCopyWarning: \n",
      "A value is trying to be set on a copy of a slice from a DataFrame.\n",
      "Try using .loc[row_indexer,col_indexer] = value instead\n",
      "\n",
      "See the caveats in the documentation: http://pandas.pydata.org/pandas-docs/stable/user_guide/indexing.html#returning-a-view-versus-a-copy\n",
      "  \"\"\"\n"
     ]
    },
    {
     "data": {
      "text/plain": [
       "(136, 133, 0)"
      ]
     },
     "execution_count": 68,
     "metadata": {},
     "output_type": "execute_result"
    }
   ],
   "source": [
    "# 6:20\n",
    "norte_4_30 = norte[(norte['ENTRADA'] > 62000) & (norte['ENTRADA'] <= 75000) | (norte['SAÍDA'] > 40000) & (norte['SAÍDA'] <= 43000)]\n",
    "norte_4_30_e = norte[(norte['ENTRADA'] > 62000) & (norte['ENTRADA'] <= 75000)]\n",
    "norte_4_30_s = norte[(norte['SAÍDA'] > 40000) & (norte['SAÍDA'] <= 43000)]\n",
    "norte_4_30_e['FRETADO'] = 'COLETA'\n",
    "norte_4_30_s['FRETADO'] = 'DEVOLUÇÃO'\n",
    "norte_4_30 = pd.concat([norte_4_30_e, norte_4_30_s], sort=False).copy()\n",
    "norte_4_30 = norte_4_30.append({'Site':'Nome: 4:30 / Chegada: 6:20'},ignore_index=True)\n",
    "dev = f'Devoluções: {len(norte_4_30_s)}'\n",
    "col = f'Coletas: {len(norte_4_30_e)}'\n",
    "norte_4_30 = norte_4_30.append({'Nome': dev},ignore_index=True)\n",
    "norte_4_30 = norte_4_30.append({'Nome': col},ignore_index=True)\n",
    "len(norte_4_30),len(norte_4_30_e),len(norte_4_30_s)"
   ]
  },
  {
   "cell_type": "code",
   "execution_count": 69,
   "metadata": {},
   "outputs": [
    {
     "name": "stderr",
     "output_type": "stream",
     "text": [
      "C:\\Users\\user\\Anaconda3\\envs\\teste_vipi\\lib\\site-packages\\ipykernel_launcher.py:5: SettingWithCopyWarning: \n",
      "A value is trying to be set on a copy of a slice from a DataFrame.\n",
      "Try using .loc[row_indexer,col_indexer] = value instead\n",
      "\n",
      "See the caveats in the documentation: http://pandas.pydata.org/pandas-docs/stable/user_guide/indexing.html#returning-a-view-versus-a-copy\n",
      "  \"\"\"\n",
      "C:\\Users\\user\\Anaconda3\\envs\\teste_vipi\\lib\\site-packages\\ipykernel_launcher.py:6: SettingWithCopyWarning: \n",
      "A value is trying to be set on a copy of a slice from a DataFrame.\n",
      "Try using .loc[row_indexer,col_indexer] = value instead\n",
      "\n",
      "See the caveats in the documentation: http://pandas.pydata.org/pandas-docs/stable/user_guide/indexing.html#returning-a-view-versus-a-copy\n",
      "  \n"
     ]
    },
    {
     "data": {
      "text/plain": [
       "(189, 180, 6)"
      ]
     },
     "execution_count": 69,
     "metadata": {},
     "output_type": "execute_result"
    }
   ],
   "source": [
    "# 7:50\n",
    "norte_6_00 = norte[(norte['ENTRADA'] > 75000) & (norte['ENTRADA'] <= 85000) | (norte['SAÍDA'] > 44000) & (norte['SAÍDA'] <= 60000)]\n",
    "norte_6_00_e = norte[(norte['ENTRADA'] > 75000) & (norte['ENTRADA'] <= 85000)]\n",
    "norte_6_00_s = norte[(norte['SAÍDA'] > 44000) & (norte['SAÍDA'] <= 60000)]\n",
    "norte_6_00_e['FRETADO'] = 'COLETA'\n",
    "norte_6_00_s['FRETADO'] = 'DEVOLUÇÃO'\n",
    "norte_6_00 = pd.concat([norte_6_00_e, norte_6_00_s], sort=False).copy()\n",
    "norte_6_00 = norte_6_00.append({'Nome':'Saída: 6:00 / Chegada: 7:50'},ignore_index=True)\n",
    "dev = f'Devoluções: {len(norte_6_00_s)}'\n",
    "col = f'Coletas: {len(norte_6_00_e)}'\n",
    "norte_6_00 = norte_6_00.append({'Nome': dev},ignore_index=True)\n",
    "norte_6_00 = norte_6_00.append({'Nome': col},ignore_index=True)\n",
    "len(norte_6_00),len(norte_6_00_e),len(norte_6_00_s)"
   ]
  },
  {
   "cell_type": "code",
   "execution_count": 70,
   "metadata": {},
   "outputs": [
    {
     "name": "stderr",
     "output_type": "stream",
     "text": [
      "C:\\Users\\user\\Anaconda3\\envs\\teste_vipi\\lib\\site-packages\\ipykernel_launcher.py:5: SettingWithCopyWarning: \n",
      "A value is trying to be set on a copy of a slice from a DataFrame.\n",
      "Try using .loc[row_indexer,col_indexer] = value instead\n",
      "\n",
      "See the caveats in the documentation: http://pandas.pydata.org/pandas-docs/stable/user_guide/indexing.html#returning-a-view-versus-a-copy\n",
      "  \"\"\"\n",
      "C:\\Users\\user\\Anaconda3\\envs\\teste_vipi\\lib\\site-packages\\ipykernel_launcher.py:6: SettingWithCopyWarning: \n",
      "A value is trying to be set on a copy of a slice from a DataFrame.\n",
      "Try using .loc[row_indexer,col_indexer] = value instead\n",
      "\n",
      "See the caveats in the documentation: http://pandas.pydata.org/pandas-docs/stable/user_guide/indexing.html#returning-a-view-versus-a-copy\n",
      "  \n"
     ]
    },
    {
     "data": {
      "text/plain": [
       "(80, 69, 8)"
      ]
     },
     "execution_count": 70,
     "metadata": {},
     "output_type": "execute_result"
    }
   ],
   "source": [
    "# 8:50\n",
    "norte_7_00 = norte[(norte['ENTRADA'] > 85000) & (norte['ENTRADA'] <= 105000) | (norte['SAÍDA'] > 60000) & (norte['SAÍDA'] <= 74000)]\n",
    "norte_7_00_e = norte[(norte['ENTRADA'] > 85000) & (norte['ENTRADA'] <= 105000)]\n",
    "norte_7_00_s = norte[(norte['SAÍDA'] > 60000) & (norte['SAÍDA'] <= 74000)]\n",
    "norte_7_00_e['FRETADO'] = 'COLETA'\n",
    "norte_7_00_s['FRETADO'] = 'DEVOLUÇÃO'\n",
    "norte_7_00 = pd.concat([norte_7_00_e, norte_7_00_s], sort=False).copy()\n",
    "norte_7_00 = norte_7_00.append({'Nome':'Saída: 7:00 / Chegada: 8:50'},ignore_index=True)\n",
    "dev = f'Devoluções: {len(norte_7_00_s)}'\n",
    "col = f'Coletas: {len(norte_7_00_e)}'\n",
    "norte_7_00 = norte_7_00.append({'Nome': dev},ignore_index=True)\n",
    "norte_7_00 = norte_7_00.append({'Nome': col},ignore_index=True)\n",
    "len(norte_7_00),len(norte_7_00_e),len(norte_7_00_s)"
   ]
  },
  {
   "cell_type": "code",
   "execution_count": 71,
   "metadata": {},
   "outputs": [
    {
     "name": "stderr",
     "output_type": "stream",
     "text": [
      "C:\\Users\\user\\Anaconda3\\envs\\teste_vipi\\lib\\site-packages\\ipykernel_launcher.py:5: SettingWithCopyWarning: \n",
      "A value is trying to be set on a copy of a slice from a DataFrame.\n",
      "Try using .loc[row_indexer,col_indexer] = value instead\n",
      "\n",
      "See the caveats in the documentation: http://pandas.pydata.org/pandas-docs/stable/user_guide/indexing.html#returning-a-view-versus-a-copy\n",
      "  \"\"\"\n"
     ]
    },
    {
     "data": {
      "text/plain": [
       "(41, 38, 0)"
      ]
     },
     "execution_count": 71,
     "metadata": {},
     "output_type": "execute_result"
    }
   ],
   "source": [
    "# 11:50\n",
    "norte_10_00 = norte[(norte['ENTRADA'] > 115000) & (norte['ENTRADA'] <= 134000) | (norte['SAÍDA'] > 70000) & (norte['SAÍDA'] <= 100000)]\n",
    "norte_10_00_e = norte[(norte['ENTRADA'] > 115000) & (norte['ENTRADA'] <= 134000)]\n",
    "norte_10_00_s = norte[(norte['SAÍDA'] > 70000) & (norte['SAÍDA'] <= 100000)]\n",
    "norte_10_00_e['FRETADO'] = 'COLETA'\n",
    "norte_10_00_s['FRETADO'] = 'DEVOLUÇÃO'\n",
    "norte_10_00 = pd.concat([norte_10_00_e, norte_10_00_s], sort=False).copy()\n",
    "norte_10_00 = norte_10_00.append({'Nome':'Saída: 11:00 / Chegada: 12:50'},ignore_index=True)\n",
    "dev = f'Devoluções: {len(norte_10_00_s)}'\n",
    "col = f'Coletas: {len(norte_10_00_e)}'\n",
    "norte_10_00 = norte_10_00.append({'Nome': dev},ignore_index=True)\n",
    "norte_10_00 = norte_10_00.append({'Nome': col},ignore_index=True)\n",
    "len(norte_10_00),len(norte_10_00_e),len(norte_10_00_s)"
   ]
  },
  {
   "cell_type": "code",
   "execution_count": 72,
   "metadata": {},
   "outputs": [
    {
     "name": "stderr",
     "output_type": "stream",
     "text": [
      "C:\\Users\\user\\Anaconda3\\envs\\teste_vipi\\lib\\site-packages\\ipykernel_launcher.py:5: SettingWithCopyWarning: \n",
      "A value is trying to be set on a copy of a slice from a DataFrame.\n",
      "Try using .loc[row_indexer,col_indexer] = value instead\n",
      "\n",
      "See the caveats in the documentation: http://pandas.pydata.org/pandas-docs/stable/user_guide/indexing.html#returning-a-view-versus-a-copy\n",
      "  \"\"\"\n",
      "C:\\Users\\user\\Anaconda3\\envs\\teste_vipi\\lib\\site-packages\\ipykernel_launcher.py:6: SettingWithCopyWarning: \n",
      "A value is trying to be set on a copy of a slice from a DataFrame.\n",
      "Try using .loc[row_indexer,col_indexer] = value instead\n",
      "\n",
      "See the caveats in the documentation: http://pandas.pydata.org/pandas-docs/stable/user_guide/indexing.html#returning-a-view-versus-a-copy\n",
      "  \n"
     ]
    },
    {
     "data": {
      "text/plain": [
       "(189, 185, 1)"
      ]
     },
     "execution_count": 72,
     "metadata": {},
     "output_type": "execute_result"
    }
   ],
   "source": [
    "# 13:40\n",
    "norte_11_50 = norte[(norte['ENTRADA'] > 134000) & (norte['ENTRADA'] <= 152000) | (norte['SAÍDA'] > 100000) & (norte['SAÍDA'] <= 115000)]\n",
    "norte_11_50_e = norte[(norte['ENTRADA'] > 134000) & (norte['ENTRADA'] <= 152000)]\n",
    "norte_11_50_s = norte[(norte['SAÍDA'] > 100000) & (norte['SAÍDA'] <= 115000)]\n",
    "norte_11_50_e['FRETADO'] = 'COLETA'\n",
    "norte_11_50_s['FRETADO'] = 'DEVOLUÇÃO'\n",
    "norte_11_50 = pd.concat([norte_11_50_e, norte_11_50_s], sort=False).copy()\n",
    "norte_11_50 = norte_11_50.append({'Nome':'Saída: 11:50 / Chegada: 13:40'},ignore_index=True)\n",
    "dev = f'Devoluções: {len(norte_11_50_s)}'\n",
    "col = f'Coletas: {len(norte_11_50_e)}'\n",
    "norte_11_50 = norte_11_50.append({'Nome': dev},ignore_index=True)\n",
    "norte_11_50 = norte_11_50.append({'Nome': col},ignore_index=True)\n",
    "len(norte_11_50),len(norte_11_50_e),len(norte_11_50_s)"
   ]
  },
  {
   "cell_type": "code",
   "execution_count": 73,
   "metadata": {},
   "outputs": [
    {
     "name": "stderr",
     "output_type": "stream",
     "text": [
      "C:\\Users\\user\\Anaconda3\\envs\\teste_vipi\\lib\\site-packages\\ipykernel_launcher.py:5: SettingWithCopyWarning: \n",
      "A value is trying to be set on a copy of a slice from a DataFrame.\n",
      "Try using .loc[row_indexer,col_indexer] = value instead\n",
      "\n",
      "See the caveats in the documentation: http://pandas.pydata.org/pandas-docs/stable/user_guide/indexing.html#returning-a-view-versus-a-copy\n",
      "  \"\"\"\n",
      "C:\\Users\\user\\Anaconda3\\envs\\teste_vipi\\lib\\site-packages\\ipykernel_launcher.py:6: SettingWithCopyWarning: \n",
      "A value is trying to be set on a copy of a slice from a DataFrame.\n",
      "Try using .loc[row_indexer,col_indexer] = value instead\n",
      "\n",
      "See the caveats in the documentation: http://pandas.pydata.org/pandas-docs/stable/user_guide/indexing.html#returning-a-view-versus-a-copy\n",
      "  \n"
     ]
    },
    {
     "data": {
      "text/plain": [
       "(156, 20, 133)"
      ]
     },
     "execution_count": 73,
     "metadata": {},
     "output_type": "execute_result"
    }
   ],
   "source": [
    "# 16:00\n",
    "norte_14_10 = norte[(norte['ENTRADA'] > 160000) & (norte['ENTRADA'] <= 165000) | (norte['SAÍDA'] > 115000) & (norte['SAÍDA'] <= 141000)]\n",
    "norte_14_10_e = norte[(norte['ENTRADA'] > 160000) & (norte['ENTRADA'] <= 165000)]\n",
    "norte_14_10_s = norte[(norte['SAÍDA'] > 115000) & (norte['SAÍDA'] <= 141000)]\n",
    "norte_14_10_e['FRETADO'] = 'COLETA'\n",
    "norte_14_10_s['FRETADO'] = 'DEVOLUÇÃO'\n",
    "norte_14_10 = pd.concat([norte_14_10_e, norte_14_10_s], sort=False).copy()\n",
    "norte_14_10 = norte_14_10.append({'Nome':'Saída: 14:10 / Chegada: 16:00'},ignore_index=True)\n",
    "dev = f'Devoluções: {len(norte_14_10_s)}'\n",
    "col = f'Coletas: {len(norte_14_10_e)}'\n",
    "norte_14_10 = norte_14_10.append({'Nome': dev},ignore_index=True)\n",
    "norte_14_10 = norte_14_10.append({'Nome': col},ignore_index=True)\n",
    "len(norte_14_10),len(norte_14_10_e),len(norte_14_10_s)"
   ]
  },
  {
   "cell_type": "code",
   "execution_count": 74,
   "metadata": {},
   "outputs": [
    {
     "name": "stderr",
     "output_type": "stream",
     "text": [
      "C:\\Users\\user\\Anaconda3\\envs\\teste_vipi\\lib\\site-packages\\ipykernel_launcher.py:5: SettingWithCopyWarning: \n",
      "A value is trying to be set on a copy of a slice from a DataFrame.\n",
      "Try using .loc[row_indexer,col_indexer] = value instead\n",
      "\n",
      "See the caveats in the documentation: http://pandas.pydata.org/pandas-docs/stable/user_guide/indexing.html#returning-a-view-versus-a-copy\n",
      "  \"\"\"\n",
      "C:\\Users\\user\\Anaconda3\\envs\\teste_vipi\\lib\\site-packages\\ipykernel_launcher.py:6: SettingWithCopyWarning: \n",
      "A value is trying to be set on a copy of a slice from a DataFrame.\n",
      "Try using .loc[row_indexer,col_indexer] = value instead\n",
      "\n",
      "See the caveats in the documentation: http://pandas.pydata.org/pandas-docs/stable/user_guide/indexing.html#returning-a-view-versus-a-copy\n",
      "  \n"
     ]
    },
    {
     "data": {
      "text/plain": [
       "(193, 28, 162)"
      ]
     },
     "execution_count": 74,
     "metadata": {},
     "output_type": "execute_result"
    }
   ],
   "source": [
    "# 16:50\n",
    "norte_15_00 = norte[(norte['ENTRADA'] > 165000) & (norte['ENTRADA'] <= 184000) | (norte['SAÍDA'] > 141000) & (norte['SAÍDA'] <= 150000)]\n",
    "norte_15_00_e = norte[(norte['ENTRADA'] > 165000) & (norte['ENTRADA'] <= 184000)]\n",
    "norte_15_00_s = norte[(norte['SAÍDA'] > 141000) & (norte['SAÍDA'] <= 150000)]\n",
    "norte_15_00_e['FRETADO'] = 'COLETA'\n",
    "norte_15_00_s['FRETADO'] = 'DEVOLUÇÃO'\n",
    "norte_15_00 = pd.concat([norte_15_00_e, norte_15_00_s], sort=False).copy()\n",
    "norte_15_00 = norte_15_00.append({'Nome':'Saída: 15:00 / Chegada: 16:50'},ignore_index=True)\n",
    "dev = f'Devoluções: {len(norte_15_00_s)}'\n",
    "col = f'Coletas: {len(norte_15_00_e)}'\n",
    "norte_15_00 = norte_15_00.append({'Nome': dev},ignore_index=True)\n",
    "norte_15_00 = norte_15_00.append({'Nome': col},ignore_index=True)\n",
    "len(norte_15_00),len(norte_15_00_e),len(norte_15_00_s)"
   ]
  },
  {
   "cell_type": "code",
   "execution_count": 75,
   "metadata": {},
   "outputs": [
    {
     "name": "stderr",
     "output_type": "stream",
     "text": [
      "C:\\Users\\user\\Anaconda3\\envs\\teste_vipi\\lib\\site-packages\\ipykernel_launcher.py:5: SettingWithCopyWarning: \n",
      "A value is trying to be set on a copy of a slice from a DataFrame.\n",
      "Try using .loc[row_indexer,col_indexer] = value instead\n",
      "\n",
      "See the caveats in the documentation: http://pandas.pydata.org/pandas-docs/stable/user_guide/indexing.html#returning-a-view-versus-a-copy\n",
      "  \"\"\"\n",
      "C:\\Users\\user\\Anaconda3\\envs\\teste_vipi\\lib\\site-packages\\ipykernel_launcher.py:6: SettingWithCopyWarning: \n",
      "A value is trying to be set on a copy of a slice from a DataFrame.\n",
      "Try using .loc[row_indexer,col_indexer] = value instead\n",
      "\n",
      "See the caveats in the documentation: http://pandas.pydata.org/pandas-docs/stable/user_guide/indexing.html#returning-a-view-versus-a-copy\n",
      "  \n"
     ]
    },
    {
     "data": {
      "text/plain": [
       "(102, 12, 87)"
      ]
     },
     "execution_count": 75,
     "metadata": {},
     "output_type": "execute_result"
    }
   ],
   "source": [
    "# 18:40\n",
    "norte_16_50 = norte[(norte['ENTRADA'] > 184000) & (norte['ENTRADA'] <= 211000) | (norte['SAÍDA'] > 150000) & (norte['SAÍDA'] <= 165000)]\n",
    "norte_16_50_e = norte[(norte['ENTRADA'] > 184000) & (norte['ENTRADA'] <= 211000)]\n",
    "norte_16_50_s = norte[(norte['SAÍDA'] > 150000) & (norte['SAÍDA'] <= 165000)]\n",
    "norte_16_50_e['FRETADO'] = 'COLETA'\n",
    "norte_16_50_s['FRETADO'] = 'DEVOLUÇÃO'\n",
    "norte_16_50 = pd.concat([norte_16_50_e, norte_16_50_s], sort=False).copy()\n",
    "norte_16_50 = norte_16_50.append({'Nome':'Saída: 16:50 / Chegada: 18:40'},ignore_index=True)\n",
    "dev = f'Devoluções: {len(norte_16_50_s)}'\n",
    "col = f'Coletas: {len(norte_16_50_e)}'\n",
    "norte_16_50 = norte_16_50.append({'Nome': dev},ignore_index=True)\n",
    "norte_16_50 = norte_16_50.append({'Nome': col},ignore_index=True)\n",
    "len(norte_16_50),len(norte_16_50_e),len(norte_16_50_s)"
   ]
  },
  {
   "cell_type": "code",
   "execution_count": 76,
   "metadata": {},
   "outputs": [
    {
     "name": "stderr",
     "output_type": "stream",
     "text": [
      "C:\\Users\\user\\Anaconda3\\envs\\teste_vipi\\lib\\site-packages\\ipykernel_launcher.py:6: SettingWithCopyWarning: \n",
      "A value is trying to be set on a copy of a slice from a DataFrame.\n",
      "Try using .loc[row_indexer,col_indexer] = value instead\n",
      "\n",
      "See the caveats in the documentation: http://pandas.pydata.org/pandas-docs/stable/user_guide/indexing.html#returning-a-view-versus-a-copy\n",
      "  \n"
     ]
    },
    {
     "data": {
      "text/plain": [
       "(44, 0, 41)"
      ]
     },
     "execution_count": 76,
     "metadata": {},
     "output_type": "execute_result"
    }
   ],
   "source": [
    "# 21:10\n",
    "norte_19_20 = norte[(norte['ENTRADA'] > 211000) & (norte['ENTRADA'] <= 230000) | (norte['SAÍDA'] > 165000) & (norte['SAÍDA'] <= 192000)]\n",
    "norte_19_20_e = norte[(norte['ENTRADA'] > 211000) & (norte['ENTRADA'] <= 230000)]\n",
    "norte_19_20_s = norte[(norte['SAÍDA'] > 165000) & (norte['SAÍDA'] <= 192000)]\n",
    "norte_19_20_e['FRETADO'] = 'COLETA'\n",
    "norte_19_20_s['FRETADO'] = 'DEVOLUÇÃO'\n",
    "norte_19_20 = pd.concat([norte_19_20_e, norte_19_20_s], sort=False).copy()\n",
    "norte_19_20 = norte_19_20.append({'Nome':'Saída: 19:20 / Chegada: 21:10'},ignore_index=True)\n",
    "dev = f'Devoluções: {len(norte_19_20_s)}'\n",
    "col = f'Coletas: {len(norte_19_20_e)}'\n",
    "norte_19_20 = norte_19_20.append({'Nome': dev},ignore_index=True)\n",
    "norte_19_20 = norte_19_20.append({'Nome': col},ignore_index=True)\n",
    "len(norte_19_20),len(norte_19_20_e),len(norte_19_20_s)"
   ]
  },
  {
   "cell_type": "code",
   "execution_count": 77,
   "metadata": {},
   "outputs": [
    {
     "name": "stderr",
     "output_type": "stream",
     "text": [
      "C:\\Users\\user\\Anaconda3\\envs\\teste_vipi\\lib\\site-packages\\ipykernel_launcher.py:6: SettingWithCopyWarning: \n",
      "A value is trying to be set on a copy of a slice from a DataFrame.\n",
      "Try using .loc[row_indexer,col_indexer] = value instead\n",
      "\n",
      "See the caveats in the documentation: http://pandas.pydata.org/pandas-docs/stable/user_guide/indexing.html#returning-a-view-versus-a-copy\n",
      "  \n"
     ]
    },
    {
     "data": {
      "text/plain": [
       "(172, 0, 169)"
      ]
     },
     "execution_count": 77,
     "metadata": {},
     "output_type": "execute_result"
    }
   ],
   "source": [
    "# 22:50\n",
    "norte_21_10 = norte[(norte['ENTRADA'] > 222000) & (norte['ENTRADA'] <= 222000) | (norte['SAÍDA'] > 192000) & (norte['SAÍDA'] <= 211000)]\n",
    "norte_21_10_e = norte[(norte['ENTRADA'] > 222000) & (norte['ENTRADA'] <= 222000)]\n",
    "norte_21_10_s = norte[(norte['SAÍDA'] > 192000) & (norte['SAÍDA'] <= 211000)]\n",
    "norte_21_10_e['FRETADO'] = 'COLETA'\n",
    "norte_21_10_s['FRETADO'] = 'DEVOLUÇÃO'\n",
    "norte_21_10 = pd.concat([norte_21_10_e, norte_21_10_s], sort=False).copy()\n",
    "norte_21_10 = norte_21_10.append({'Nome':'Saída: 21:10 / Chegada: 22:50'},ignore_index=True)\n",
    "dev = f'Devoluções: {len(norte_21_10_s)}'\n",
    "col = f'Coletas: {len(norte_21_10_e)}'\n",
    "norte_21_10 = norte_21_10.append({'Nome': dev},ignore_index=True)\n",
    "norte_21_10 = norte_21_10.append({'Nome': col},ignore_index=True)\n",
    "len(norte_21_10),len(norte_21_10_e),len(norte_21_10_s)"
   ]
  },
  {
   "cell_type": "code",
   "execution_count": 78,
   "metadata": {},
   "outputs": [
    {
     "name": "stderr",
     "output_type": "stream",
     "text": [
      "C:\\Users\\user\\Anaconda3\\envs\\teste_vipi\\lib\\site-packages\\ipykernel_launcher.py:6: SettingWithCopyWarning: \n",
      "A value is trying to be set on a copy of a slice from a DataFrame.\n",
      "Try using .loc[row_indexer,col_indexer] = value instead\n",
      "\n",
      "See the caveats in the documentation: http://pandas.pydata.org/pandas-docs/stable/user_guide/indexing.html#returning-a-view-versus-a-copy\n",
      "  \n"
     ]
    },
    {
     "data": {
      "text/plain": [
       "(82, 0, 79)"
      ]
     },
     "execution_count": 78,
     "metadata": {},
     "output_type": "execute_result"
    }
   ],
   "source": [
    "# \n",
    "norte_22_40 = norte[(norte['ENTRADA'] > 222000) & (norte['ENTRADA'] <= 222000) | (norte['SAÍDA'] > 212000) & (norte['SAÍDA'] <= 234000)]\n",
    "norte_22_40_e = norte[(norte['ENTRADA'] > 222000) & (norte['ENTRADA'] <= 222000)]\n",
    "norte_22_40_s = norte[(norte['SAÍDA'] > 212000) & (norte['SAÍDA'] <= 234000)]\n",
    "norte_22_40_e['FRETADO'] = 'COLETA'\n",
    "norte_22_40_s['FRETADO'] = 'DEVOLUÇÃO'\n",
    "norte_22_40 = pd.concat([norte_22_40_e, norte_22_40_s], sort=False).copy()\n",
    "norte_22_40 = norte_22_40.append({'Nome':'Saída: 22:40 / Chegada: Sem retorno'},ignore_index=True)\n",
    "dev = f'Devoluções: {len(norte_22_40_s)}'\n",
    "col = f'Coletas: {len(norte_22_40_e)}'\n",
    "norte_22_40 = norte_22_40.append({'Nome': dev},ignore_index=True)\n",
    "norte_22_40 = norte_22_40.append({'Nome': col},ignore_index=True)\n",
    "len(norte_22_40),len(norte_22_40_e),len(norte_22_40_s)"
   ]
  },
  {
   "cell_type": "code",
   "execution_count": 79,
   "metadata": {},
   "outputs": [],
   "source": [
    "rota_norte = pd.ExcelWriter('norte.xlsx', engine='xlsxwriter')\n",
    "norte_4_30.to_excel(rota_norte, sheet_name='norte_4_30', index=False)\n",
    "norte_6_00.to_excel(rota_norte, sheet_name='norte_6_00', index=False)\n",
    "norte_7_00.to_excel(rota_norte, sheet_name='norte_7_00', index=False)\n",
    "norte_10_00.to_excel(rota_norte, sheet_name='norte_10_00', index=False)\n",
    "norte_11_50.to_excel(rota_norte, sheet_name='norte_11_50', index=False)\n",
    "norte_14_10.to_excel(rota_norte, sheet_name='norte_14_10', index=False)\n",
    "norte_15_00.to_excel(rota_norte, sheet_name='norte_15_00', index=False)\n",
    "norte_16_50.to_excel(rota_norte, sheet_name='norte_16_50', index=False)\n",
    "norte_19_20.to_excel(rota_norte, sheet_name='norte_19_20', index=False)\n",
    "norte_21_10.to_excel(rota_norte, sheet_name='norte_21_10', index=False)\n",
    "norte_22_40.to_excel(rota_norte, sheet_name='norte_22_40', index=False)\n",
    "\n",
    "rota_norte.save()"
   ]
  },
  {
   "cell_type": "markdown",
   "metadata": {},
   "source": [
    "# SUL_A"
   ]
  },
  {
   "cell_type": "code",
   "execution_count": 80,
   "metadata": {},
   "outputs": [
    {
     "data": {
      "text/plain": [
       "array(['SACI', 'SANTA CRUZ', 'ANGELIM', 'RAIMUNDO PORTELA',\n",
       "       'LORIVAL PARENTE', 'NOSSA SENHORA DAS GRACAS', 'URBANO',\n",
       "       'BELA VISTA', 'ESPLANADA', 'SANTO ANTONIO', 'VILA IRMA DULCE',\n",
       "       'PROMORAR', 'MORADA NOVA', 'PARQUE PIAUI', 'PORTO ALEGRE ',\n",
       "       'PARQUE SUL', 'PORTAL DA ALEGRIA', 'AREIAS', 'SANTA LUZIA',\n",
       "       'ANGELIM SUL', 'DISTRITO INDUSTRIAL', 'POLO EMPR SUL',\n",
       "       'SAO RAIMUNDO', 'BRASILAR', 'PARQUE SAO JOAO', 'PARQUE JULIANA'],\n",
       "      dtype=object)"
      ]
     },
     "execution_count": 80,
     "metadata": {},
     "output_type": "execute_result"
    }
   ],
   "source": [
    "sul['Bairro'].unique()"
   ]
  },
  {
   "cell_type": "code",
   "execution_count": 81,
   "metadata": {},
   "outputs": [],
   "source": [
    "bairros_sul_a = ['SACI', 'BELA VISTA', 'PARQUE PIAUI', 'PROMORAR', 'LORIVAL PARENTE', 'SANTO ANTONIO', 'DISTRITO INDUSTRIAL',\n",
    "                'RAIMUNDO PORTELA','MORADA NOVA', 'PARQUE SAO JOAO']"
   ]
  },
  {
   "cell_type": "code",
   "execution_count": 82,
   "metadata": {},
   "outputs": [],
   "source": [
    "sul_a = sul[sul['Bairro'].isin(bairros_sul_a)]"
   ]
  },
  {
   "cell_type": "code",
   "execution_count": 83,
   "metadata": {},
   "outputs": [],
   "source": [
    "sul_b = sul[~sul['Bairro'].isin(bairros_sul_a)]"
   ]
  },
  {
   "cell_type": "code",
   "execution_count": 84,
   "metadata": {},
   "outputs": [
    {
     "name": "stderr",
     "output_type": "stream",
     "text": [
      "C:\\Users\\user\\Anaconda3\\envs\\teste_vipi\\lib\\site-packages\\ipykernel_launcher.py:5: SettingWithCopyWarning: \n",
      "A value is trying to be set on a copy of a slice from a DataFrame.\n",
      "Try using .loc[row_indexer,col_indexer] = value instead\n",
      "\n",
      "See the caveats in the documentation: http://pandas.pydata.org/pandas-docs/stable/user_guide/indexing.html#returning-a-view-versus-a-copy\n",
      "  \"\"\"\n"
     ]
    },
    {
     "data": {
      "text/plain": [
       "(148, 145, 0)"
      ]
     },
     "execution_count": 84,
     "metadata": {},
     "output_type": "execute_result"
    }
   ],
   "source": [
    "# 6:10\n",
    "sul_a_4_40 = sul_a[(sul_a['ENTRADA'] > 61000) & (sul_a['ENTRADA'] <= 80000) | (sul_a['SAÍDA'] > 40000) & (sul_a['SAÍDA'] <= 44000)]\n",
    "sul_a_4_40_e = sul_a[(sul_a['ENTRADA'] > 61000) & (sul_a['ENTRADA'] <= 80000)]\n",
    "sul_a_4_40_s = sul_a[(sul_a['SAÍDA'] > 40000) & (sul_a['SAÍDA'] <= 44000)]\n",
    "sul_a_4_40_e['FRETADO'] = 'COLETA'\n",
    "sul_a_4_40_s['FRETADO'] = 'DEVOLUÇÃO'\n",
    "sul_a_4_40 = pd.concat([sul_a_4_40_e, sul_a_4_40_s], sort=False).copy()\n",
    "sul_a_4_40 = sul_a_4_40.append({'Nome':'Saída: 4:40 / Chegada: 6:10'},ignore_index=True)\n",
    "dev = f'Devoluções: {len(sul_a_4_40_s)}'\n",
    "col = f'Coletas: {len(sul_a_4_40_e)}'\n",
    "sul_a_4_40 = sul_a_4_40.append({'Nome': dev},ignore_index=True)\n",
    "sul_a_4_40 = sul_a_4_40.append({'Nome': col},ignore_index=True)\n",
    "len(sul_a_4_40),len(sul_a_4_40_e),len(sul_a_4_40_s)"
   ]
  },
  {
   "cell_type": "code",
   "execution_count": 85,
   "metadata": {},
   "outputs": [
    {
     "name": "stderr",
     "output_type": "stream",
     "text": [
      "C:\\Users\\user\\Anaconda3\\envs\\teste_vipi\\lib\\site-packages\\ipykernel_launcher.py:5: SettingWithCopyWarning: \n",
      "A value is trying to be set on a copy of a slice from a DataFrame.\n",
      "Try using .loc[row_indexer,col_indexer] = value instead\n",
      "\n",
      "See the caveats in the documentation: http://pandas.pydata.org/pandas-docs/stable/user_guide/indexing.html#returning-a-view-versus-a-copy\n",
      "  \"\"\"\n",
      "C:\\Users\\user\\Anaconda3\\envs\\teste_vipi\\lib\\site-packages\\ipykernel_launcher.py:6: SettingWithCopyWarning: \n",
      "A value is trying to be set on a copy of a slice from a DataFrame.\n",
      "Try using .loc[row_indexer,col_indexer] = value instead\n",
      "\n",
      "See the caveats in the documentation: http://pandas.pydata.org/pandas-docs/stable/user_guide/indexing.html#returning-a-view-versus-a-copy\n",
      "  \n"
     ]
    },
    {
     "data": {
      "text/plain": [
       "(163, 153, 7)"
      ]
     },
     "execution_count": 85,
     "metadata": {},
     "output_type": "execute_result"
    }
   ],
   "source": [
    "# 8:00\n",
    "sul_a_6_20 = sul_a[(sul_a['ENTRADA'] > 80000) & (sul_a['ENTRADA'] <= 94000) | (sul_a['SAÍDA'] > 44000) & (sul_a['SAÍDA'] <= 62000)]\n",
    "sul_a_6_20_e = sul_a[(sul_a['ENTRADA'] > 80000) & (sul_a['ENTRADA'] <= 94000)]\n",
    "sul_a_6_20_s = sul_a[(sul_a['SAÍDA'] > 44000) & (sul_a['SAÍDA'] <= 62000)]\n",
    "sul_a_6_20_e['FRETADO'] = 'COLETA'\n",
    "sul_a_6_20_s['FRETADO'] = 'DEVOLUÇÃO'\n",
    "sul_a_6_20 = pd.concat([sul_a_6_20_e, sul_a_6_20_s], sort=False).copy()\n",
    "sul_a_6_20 = sul_a_6_20.append({'Site':'Saída: 6:20 / Chegada: 8:00'},ignore_index=True)\n",
    "dev = f'Devoluções: {len(sul_a_6_20_s)}'\n",
    "col = f'Coletas: {len(sul_a_6_20_e)}'\n",
    "sul_a_6_20 = sul_a_6_20.append({'Site': dev},ignore_index=True)\n",
    "sul_a_6_20 = sul_a_6_20.append({'Site': col},ignore_index=True)\n",
    "len(sul_a_6_20),len(sul_a_6_20_e),len(sul_a_6_20_s)"
   ]
  },
  {
   "cell_type": "code",
   "execution_count": 86,
   "metadata": {},
   "outputs": [
    {
     "name": "stderr",
     "output_type": "stream",
     "text": [
      "C:\\Users\\user\\Anaconda3\\envs\\teste_vipi\\lib\\site-packages\\ipykernel_launcher.py:5: SettingWithCopyWarning: \n",
      "A value is trying to be set on a copy of a slice from a DataFrame.\n",
      "Try using .loc[row_indexer,col_indexer] = value instead\n",
      "\n",
      "See the caveats in the documentation: http://pandas.pydata.org/pandas-docs/stable/user_guide/indexing.html#returning-a-view-versus-a-copy\n",
      "  \"\"\"\n"
     ]
    },
    {
     "data": {
      "text/plain": [
       "(38, 35, 0)"
      ]
     },
     "execution_count": 86,
     "metadata": {},
     "output_type": "execute_result"
    }
   ],
   "source": [
    "# 9:40\n",
    "sul_a_8_00 = sul_a[(sul_a['ENTRADA'] > 94000) & (sul_a['ENTRADA'] <= 120000) | (sul_a['SAÍDA'] > 62000) & (sul_a['SAÍDA'] <= 80000)]\n",
    "sul_a_8_00_e = sul_a[(sul_a['ENTRADA'] > 94000) & (sul_a['ENTRADA'] <= 120000)]\n",
    "sul_a_8_00_s = sul_a[(sul_a['SAÍDA'] > 62000) & (sul_a['SAÍDA'] <= 80000)]\n",
    "sul_a_8_00_e['FRETADO'] = 'COLETA'\n",
    "sul_a_8_00_s['FRETADO'] = 'DEVOLUÇÃO'\n",
    "sul_a_8_00 = pd.concat([sul_a_8_00_e, sul_a_8_00_s], sort=False).copy()\n",
    "sul_a_8_00 = sul_a_8_00.append({'Nome':'Saída: 8:00 / Chegada: 9:40'},ignore_index=True)\n",
    "dev = f'Devoluções: {len(sul_a_8_00_s)}'\n",
    "col = f'Coletas: {len(sul_a_8_00_e)}'\n",
    "sul_a_8_00 = sul_a_8_00.append({'Nome': dev},ignore_index=True)\n",
    "sul_a_8_00 = sul_a_8_00.append({'Nome': col},ignore_index=True)\n",
    "len(sul_a_8_00),len(sul_a_8_00_e),len(sul_a_8_00_s)"
   ]
  },
  {
   "cell_type": "code",
   "execution_count": 87,
   "metadata": {},
   "outputs": [
    {
     "name": "stderr",
     "output_type": "stream",
     "text": [
      "C:\\Users\\user\\Anaconda3\\envs\\teste_vipi\\lib\\site-packages\\ipykernel_launcher.py:5: SettingWithCopyWarning: \n",
      "A value is trying to be set on a copy of a slice from a DataFrame.\n",
      "Try using .loc[row_indexer,col_indexer] = value instead\n",
      "\n",
      "See the caveats in the documentation: http://pandas.pydata.org/pandas-docs/stable/user_guide/indexing.html#returning-a-view-versus-a-copy\n",
      "  \"\"\"\n"
     ]
    },
    {
     "data": {
      "text/plain": [
       "(48, 45, 0)"
      ]
     },
     "execution_count": 87,
     "metadata": {},
     "output_type": "execute_result"
    }
   ],
   "source": [
    "# 12:00\n",
    "sul_a_10_20 = sul_a[(sul_a['ENTRADA'] > 120000) & (sul_a['ENTRADA'] <= 134000) | (sul_a['SAÍDA'] > 80000) & (sul_a['SAÍDA'] <= 102000)]\n",
    "sul_a_10_20_e = sul_a[(sul_a['ENTRADA'] > 120000) & (sul_a['ENTRADA'] <= 134000)]\n",
    "sul_a_10_20_s = sul_a[(sul_a['SAÍDA'] > 80000) & (sul_a['SAÍDA'] <= 102000)]\n",
    "sul_a_10_20_e['FRETADO'] = 'COLETA'\n",
    "sul_a_10_20_s['FRETADO'] = 'DEVOLUÇÃO'\n",
    "sul_a_10_20 = pd.concat([sul_a_10_20_e, sul_a_10_20_s], sort=False).copy()\n",
    "sul_a_10_20 = sul_a_10_20.append({'Nome':'Saída: 10:20 / Chegada: 12:00'},ignore_index=True)\n",
    "dev = f'Devoluções: {len(sul_a_10_20_s)}'\n",
    "col = f'Coletas: {len(sul_a_10_20_e)}'\n",
    "sul_a_10_20 = sul_a_10_20.append({'Nome': dev},ignore_index=True)\n",
    "sul_a_10_20 = sul_a_10_20.append({'Nome': col},ignore_index=True)\n",
    "len(sul_a_10_20),len(sul_a_10_20_e),len(sul_a_10_20_s)"
   ]
  },
  {
   "cell_type": "code",
   "execution_count": 88,
   "metadata": {},
   "outputs": [
    {
     "name": "stderr",
     "output_type": "stream",
     "text": [
      "C:\\Users\\user\\Anaconda3\\envs\\teste_vipi\\lib\\site-packages\\ipykernel_launcher.py:5: SettingWithCopyWarning: \n",
      "A value is trying to be set on a copy of a slice from a DataFrame.\n",
      "Try using .loc[row_indexer,col_indexer] = value instead\n",
      "\n",
      "See the caveats in the documentation: http://pandas.pydata.org/pandas-docs/stable/user_guide/indexing.html#returning-a-view-versus-a-copy\n",
      "  \"\"\"\n",
      "C:\\Users\\user\\Anaconda3\\envs\\teste_vipi\\lib\\site-packages\\ipykernel_launcher.py:6: SettingWithCopyWarning: \n",
      "A value is trying to be set on a copy of a slice from a DataFrame.\n",
      "Try using .loc[row_indexer,col_indexer] = value instead\n",
      "\n",
      "See the caveats in the documentation: http://pandas.pydata.org/pandas-docs/stable/user_guide/indexing.html#returning-a-view-versus-a-copy\n",
      "  \n"
     ]
    },
    {
     "data": {
      "text/plain": [
       "(200, 183, 14)"
      ]
     },
     "execution_count": 88,
     "metadata": {},
     "output_type": "execute_result"
    }
   ],
   "source": [
    "# 14:00\n",
    "sul_a_12_00 = sul_a[(sul_a['ENTRADA'] > 134000) & (sul_a['ENTRADA'] <= 144000) | (sul_a['SAÍDA'] > 102000) & (sul_a['SAÍDA'] <= 122000)]\n",
    "sul_a_12_00_e = sul_a[(sul_a['ENTRADA'] > 134000) & (sul_a['ENTRADA'] <= 144000)]\n",
    "sul_a_12_00_s = sul_a[(sul_a['SAÍDA'] > 102000) & (sul_a['SAÍDA'] <= 122000)]\n",
    "sul_a_12_00_e['FRETADO'] = 'COLETA'\n",
    "sul_a_12_00_s['FRETADO'] = 'DEVOLUÇÃO'\n",
    "sul_a_12_00 = pd.concat([sul_a_12_00_e, sul_a_12_00_s], sort=False).copy()\n",
    "sul_a_12_00 = sul_a_12_00.append({'Nome':'Saída: 12:00 / Chegada: 13:40'},ignore_index=True)\n",
    "dev = f'Devoluções: {len(sul_a_12_00_s)}'\n",
    "col = f'Coletas: {len(sul_a_12_00_e)}'\n",
    "sul_a_12_00 = sul_a_12_00.append({'Nome': dev},ignore_index=True)\n",
    "sul_a_12_00 = sul_a_12_00.append({'Nome': col},ignore_index=True)\n",
    "len(sul_a_12_00),len(sul_a_12_00_e),len(sul_a_12_00_s)"
   ]
  },
  {
   "cell_type": "code",
   "execution_count": 89,
   "metadata": {},
   "outputs": [
    {
     "name": "stderr",
     "output_type": "stream",
     "text": [
      "C:\\Users\\user\\Anaconda3\\envs\\teste_vipi\\lib\\site-packages\\ipykernel_launcher.py:5: SettingWithCopyWarning: \n",
      "A value is trying to be set on a copy of a slice from a DataFrame.\n",
      "Try using .loc[row_indexer,col_indexer] = value instead\n",
      "\n",
      "See the caveats in the documentation: http://pandas.pydata.org/pandas-docs/stable/user_guide/indexing.html#returning-a-view-versus-a-copy\n",
      "  \"\"\"\n",
      "C:\\Users\\user\\Anaconda3\\envs\\teste_vipi\\lib\\site-packages\\ipykernel_launcher.py:6: SettingWithCopyWarning: \n",
      "A value is trying to be set on a copy of a slice from a DataFrame.\n",
      "Try using .loc[row_indexer,col_indexer] = value instead\n",
      "\n",
      "See the caveats in the documentation: http://pandas.pydata.org/pandas-docs/stable/user_guide/indexing.html#returning-a-view-versus-a-copy\n",
      "  \n"
     ]
    },
    {
     "data": {
      "text/plain": [
       "(96, 78, 15)"
      ]
     },
     "execution_count": 89,
     "metadata": {},
     "output_type": "execute_result"
    }
   ],
   "source": [
    "# 14:40\n",
    "sul_a_13_00 = sul_a[(sul_a['ENTRADA'] > 144000) & (sul_a['ENTRADA'] <= 162000) | (sul_a['SAÍDA'] > 122000) & (sul_a['SAÍDA'] <= 130000)]\n",
    "sul_a_13_00_e = sul_a[(sul_a['ENTRADA'] > 144000) & (sul_a['ENTRADA'] <= 162000)]\n",
    "sul_a_13_00_s = sul_a[(sul_a['SAÍDA'] > 122000) & (sul_a['SAÍDA'] <= 130000)]\n",
    "sul_a_13_00_e['FRETADO'] = 'COLETA'\n",
    "sul_a_13_00_s['FRETADO'] = 'DEVOLUÇÃO'\n",
    "sul_a_13_00 = pd.concat([sul_a_13_00_e, sul_a_13_00_s], sort=False).copy()\n",
    "sul_a_13_00 = sul_a_13_00.append({'Nome':'Saída: 12:00 / Chegada: 13:40'},ignore_index=True)\n",
    "dev = f'Devoluções: {len(sul_a_13_00_s)}'\n",
    "col = f'Coletas: {len(sul_a_13_00_e)}'\n",
    "sul_a_13_00 = sul_a_13_00.append({'Nome': dev},ignore_index=True)\n",
    "sul_a_13_00 = sul_a_13_00.append({'Nome': col},ignore_index=True)\n",
    "len(sul_a_13_00),len(sul_a_13_00_e),len(sul_a_13_00_s)"
   ]
  },
  {
   "cell_type": "code",
   "execution_count": 90,
   "metadata": {},
   "outputs": [
    {
     "name": "stderr",
     "output_type": "stream",
     "text": [
      "C:\\Users\\user\\Anaconda3\\envs\\teste_vipi\\lib\\site-packages\\ipykernel_launcher.py:5: SettingWithCopyWarning: \n",
      "A value is trying to be set on a copy of a slice from a DataFrame.\n",
      "Try using .loc[row_indexer,col_indexer] = value instead\n",
      "\n",
      "See the caveats in the documentation: http://pandas.pydata.org/pandas-docs/stable/user_guide/indexing.html#returning-a-view-versus-a-copy\n",
      "  \"\"\"\n",
      "C:\\Users\\user\\Anaconda3\\envs\\teste_vipi\\lib\\site-packages\\ipykernel_launcher.py:6: SettingWithCopyWarning: \n",
      "A value is trying to be set on a copy of a slice from a DataFrame.\n",
      "Try using .loc[row_indexer,col_indexer] = value instead\n",
      "\n",
      "See the caveats in the documentation: http://pandas.pydata.org/pandas-docs/stable/user_guide/indexing.html#returning-a-view-versus-a-copy\n",
      "  \n"
     ]
    },
    {
     "data": {
      "text/plain": [
       "(216, 32, 181)"
      ]
     },
     "execution_count": 90,
     "metadata": {},
     "output_type": "execute_result"
    }
   ],
   "source": [
    "# 16:20\n",
    "sul_a_14_40 = sul_a[(sul_a['ENTRADA'] > 162000) & (sul_a['ENTRADA'] <= 180000) | (sul_a['SAÍDA'] > 130000) & (sul_a['SAÍDA'] <= 144000)]\n",
    "sul_a_14_40_e = sul_a[(sul_a['ENTRADA'] > 162000) & (sul_a['ENTRADA'] <= 180000)]\n",
    "sul_a_14_40_s = sul_a[(sul_a['SAÍDA'] > 130000) & (sul_a['SAÍDA'] <= 144000)]\n",
    "sul_a_14_40_e['FRETADO'] = 'COLETA'\n",
    "sul_a_14_40_s['FRETADO'] = 'DEVOLUÇÃO'\n",
    "sul_a_14_40 = pd.concat([sul_a_14_40_e, sul_a_14_40_s], sort=False).copy()\n",
    "sul_a_14_40 = sul_a_14_40.append({'Nome':'Saída: 14:40 / Chegada: 16:20'},ignore_index=True)\n",
    "dev = f'Devoluções: {len(sul_a_14_40_s)}'\n",
    "col = f'Coletas: {len(sul_a_14_40_e)}'\n",
    "sul_a_14_40 = sul_a_14_40.append({'Nome': dev},ignore_index=True)\n",
    "sul_a_14_40 = sul_a_14_40.append({'Nome': col},ignore_index=True)\n",
    "len(sul_a_14_40),len(sul_a_14_40_e),len(sul_a_14_40_s)"
   ]
  },
  {
   "cell_type": "code",
   "execution_count": 91,
   "metadata": {},
   "outputs": [
    {
     "name": "stderr",
     "output_type": "stream",
     "text": [
      "C:\\Users\\user\\Anaconda3\\envs\\teste_vipi\\lib\\site-packages\\ipykernel_launcher.py:5: SettingWithCopyWarning: \n",
      "A value is trying to be set on a copy of a slice from a DataFrame.\n",
      "Try using .loc[row_indexer,col_indexer] = value instead\n",
      "\n",
      "See the caveats in the documentation: http://pandas.pydata.org/pandas-docs/stable/user_guide/indexing.html#returning-a-view-versus-a-copy\n",
      "  \"\"\"\n",
      "C:\\Users\\user\\Anaconda3\\envs\\teste_vipi\\lib\\site-packages\\ipykernel_launcher.py:6: SettingWithCopyWarning: \n",
      "A value is trying to be set on a copy of a slice from a DataFrame.\n",
      "Try using .loc[row_indexer,col_indexer] = value instead\n",
      "\n",
      "See the caveats in the documentation: http://pandas.pydata.org/pandas-docs/stable/user_guide/indexing.html#returning-a-view-versus-a-copy\n",
      "  \n"
     ]
    },
    {
     "data": {
      "text/plain": [
       "(118, 18, 97)"
      ]
     },
     "execution_count": 91,
     "metadata": {},
     "output_type": "execute_result"
    }
   ],
   "source": [
    "# 18:00\n",
    "sul_a_16_20 = sul_a[(sul_a['ENTRADA'] > 180000) & (sul_a['ENTRADA'] <= 200000) | (sul_a['SAÍDA'] > 144000) & (sul_a['SAÍDA'] <= 162000)]\n",
    "sul_a_16_20_e = sul_a[(sul_a['ENTRADA'] > 180000) & (sul_a['ENTRADA'] <= 200000)]\n",
    "sul_a_16_20_s = sul_a[(sul_a['SAÍDA'] > 144000) & (sul_a['SAÍDA'] <= 162000)]\n",
    "sul_a_16_20_e['FRETADO'] = 'COLETA'\n",
    "sul_a_16_20_s['FRETADO'] = 'DEVOLUÇÃO'\n",
    "sul_a_16_20 = pd.concat([sul_a_16_20_e, sul_a_16_20_s], sort=False).copy()\n",
    "sul_a_16_20 = sul_a_16_20.append({'Nome':'Saída: 16:20 / Chegada: 18:00'},ignore_index=True)\n",
    "dev = f'Devoluções: {len(sul_a_16_20_s)}'\n",
    "col = f'Coletas: {len(sul_a_16_20_e)}'\n",
    "sul_a_16_20 = sul_a_16_20.append({'Nome': dev},ignore_index=True)\n",
    "sul_a_16_20 = sul_a_16_20.append({'Nome': col},ignore_index=True)\n",
    "len(sul_a_16_20),len(sul_a_16_20_e),len(sul_a_16_20_s)"
   ]
  },
  {
   "cell_type": "code",
   "execution_count": 92,
   "metadata": {},
   "outputs": [
    {
     "name": "stderr",
     "output_type": "stream",
     "text": [
      "C:\\Users\\user\\Anaconda3\\envs\\teste_vipi\\lib\\site-packages\\ipykernel_launcher.py:5: SettingWithCopyWarning: \n",
      "A value is trying to be set on a copy of a slice from a DataFrame.\n",
      "Try using .loc[row_indexer,col_indexer] = value instead\n",
      "\n",
      "See the caveats in the documentation: http://pandas.pydata.org/pandas-docs/stable/user_guide/indexing.html#returning-a-view-versus-a-copy\n",
      "  \"\"\"\n",
      "C:\\Users\\user\\Anaconda3\\envs\\teste_vipi\\lib\\site-packages\\ipykernel_launcher.py:6: SettingWithCopyWarning: \n",
      "A value is trying to be set on a copy of a slice from a DataFrame.\n",
      "Try using .loc[row_indexer,col_indexer] = value instead\n",
      "\n",
      "See the caveats in the documentation: http://pandas.pydata.org/pandas-docs/stable/user_guide/indexing.html#returning-a-view-versus-a-copy\n",
      "  \n"
     ]
    },
    {
     "data": {
      "text/plain": [
       "(40, 3, 34)"
      ]
     },
     "execution_count": 92,
     "metadata": {},
     "output_type": "execute_result"
    }
   ],
   "source": [
    "# 20:00\n",
    "sul_a_18_20 = sul_a[(sul_a['ENTRADA'] > 200000) & (sul_a['ENTRADA'] <= 212000) | (sul_a['SAÍDA'] > 162000) & (sul_a['SAÍDA'] <= 182000)]\n",
    "sul_a_18_20_e = sul_a[(sul_a['ENTRADA'] > 200000) & (sul_a['ENTRADA'] <= 212000)]\n",
    "sul_a_18_20_s = sul_a[(sul_a['SAÍDA'] > 162000) & (sul_a['SAÍDA'] <= 182000)]\n",
    "sul_a_18_20_e['FRETADO'] = 'COLETA'\n",
    "sul_a_18_20_s['FRETADO'] = 'DEVOLUÇÃO'\n",
    "sul_a_18_20 = pd.concat([sul_a_18_20_e, sul_a_18_20_s], sort=False).copy()\n",
    "sul_a_18_20 = sul_a_18_20.append({'Nome':'Saída: 18:20 / Chegada: 20:00'},ignore_index=True)\n",
    "dev = f'Devoluções: {len(sul_a_18_20_s)}'\n",
    "col = f'Coletas: {len(sul_a_18_20_e)}'\n",
    "sul_a_18_20 = sul_a_18_20.append({'Nome': dev},ignore_index=True)\n",
    "sul_a_18_20 = sul_a_18_20.append({'Nome': col},ignore_index=True)\n",
    "len(sul_a_18_20),len(sul_a_18_20_e),len(sul_a_18_20_s)"
   ]
  },
  {
   "cell_type": "code",
   "execution_count": 93,
   "metadata": {},
   "outputs": [
    {
     "name": "stderr",
     "output_type": "stream",
     "text": [
      "C:\\Users\\user\\Anaconda3\\envs\\teste_vipi\\lib\\site-packages\\ipykernel_launcher.py:5: SettingWithCopyWarning: \n",
      "A value is trying to be set on a copy of a slice from a DataFrame.\n",
      "Try using .loc[row_indexer,col_indexer] = value instead\n",
      "\n",
      "See the caveats in the documentation: http://pandas.pydata.org/pandas-docs/stable/user_guide/indexing.html#returning-a-view-versus-a-copy\n",
      "  \"\"\"\n",
      "C:\\Users\\user\\Anaconda3\\envs\\teste_vipi\\lib\\site-packages\\ipykernel_launcher.py:6: SettingWithCopyWarning: \n",
      "A value is trying to be set on a copy of a slice from a DataFrame.\n",
      "Try using .loc[row_indexer,col_indexer] = value instead\n",
      "\n",
      "See the caveats in the documentation: http://pandas.pydata.org/pandas-docs/stable/user_guide/indexing.html#returning-a-view-versus-a-copy\n",
      "  \n"
     ]
    },
    {
     "data": {
      "text/plain": [
       "(77, 1, 73)"
      ]
     },
     "execution_count": 93,
     "metadata": {},
     "output_type": "execute_result"
    }
   ],
   "source": [
    "# 22:10\n",
    "sul_a_20_30 = sul_a[(sul_a['ENTRADA'] > 212000) & (sul_a['ENTRADA'] <= 225000) | (sul_a['SAÍDA'] > 182000) & (sul_a['SAÍDA'] <= 203000)]\n",
    "sul_a_20_30_e = sul_a[(sul_a['ENTRADA'] > 212000) & (sul_a['ENTRADA'] <= 225000)]\n",
    "sul_a_20_30_s = sul_a[(sul_a['SAÍDA'] > 182000) & (sul_a['SAÍDA'] <= 203000)]\n",
    "sul_a_20_30_e['FRETADO'] = 'COLETA'\n",
    "sul_a_20_30_s['FRETADO'] = 'DEVOLUÇÃO'\n",
    "sul_a_20_30 = pd.concat([sul_a_20_30_e, sul_a_20_30_s], sort=False).copy()\n",
    "sul_a_20_30 = sul_a_20_30.append({'Nome':'Saída: 20:30 / Chegada: 22:10'},ignore_index=True)\n",
    "dev = f'Devoluções: {len(sul_a_20_30_s)}'\n",
    "col = f'Coletas: {len(sul_a_20_30_e)}'\n",
    "sul_a_20_30 = sul_a_20_30.append({'Nome': dev},ignore_index=True)\n",
    "sul_a_20_30 = sul_a_20_30.append({'Nome': col},ignore_index=True)\n",
    "len(sul_a_20_30),len(sul_a_20_30_e),len(sul_a_20_30_s)"
   ]
  },
  {
   "cell_type": "code",
   "execution_count": 94,
   "metadata": {},
   "outputs": [
    {
     "name": "stderr",
     "output_type": "stream",
     "text": [
      "C:\\Users\\user\\Anaconda3\\envs\\teste_vipi\\lib\\site-packages\\ipykernel_launcher.py:6: SettingWithCopyWarning: \n",
      "A value is trying to be set on a copy of a slice from a DataFrame.\n",
      "Try using .loc[row_indexer,col_indexer] = value instead\n",
      "\n",
      "See the caveats in the documentation: http://pandas.pydata.org/pandas-docs/stable/user_guide/indexing.html#returning-a-view-versus-a-copy\n",
      "  \n"
     ]
    },
    {
     "data": {
      "text/plain": [
       "(172, 0, 169)"
      ]
     },
     "execution_count": 94,
     "metadata": {},
     "output_type": "execute_result"
    }
   ],
   "source": [
    "# 23:00\n",
    "sul_a_21_20 = sul_a[(sul_a['ENTRADA'] > 225000) & (sul_a['ENTRADA'] <= 225000) | (sul_a['SAÍDA'] > 203000) & (sul_a['SAÍDA'] <= 212000)]\n",
    "sul_a_21_20_e = sul_a[(sul_a['ENTRADA'] > 225000) & (sul_a['ENTRADA'] <= 225000)]\n",
    "sul_a_21_20_s = sul_a[(sul_a['SAÍDA'] > 203000) & (sul_a['SAÍDA'] <= 212000)]\n",
    "sul_a_21_20_e['FRETADO'] = 'COLETA'\n",
    "sul_a_21_20_s['FRETADO'] = 'DEVOLUÇÃO'\n",
    "sul_a_21_20 = pd.concat([sul_a_21_20_e, sul_a_21_20_s], sort=False).copy()\n",
    "sul_a_21_20 = sul_a_21_20.append({'Nome':'Saída: 21:20 / Chegada: 23:00'},ignore_index=True)\n",
    "dev = f'Devoluções: {len(sul_a_21_20_s)}'\n",
    "col = f'Coletas: {len(sul_a_21_20_e)}'\n",
    "sul_a_21_20 = sul_a_21_20.append({'Nome': dev},ignore_index=True)\n",
    "sul_a_21_20 = sul_a_21_20.append({'Nome': col},ignore_index=True)\n",
    "len(sul_a_21_20),len(sul_a_21_20_e),len(sul_a_21_20_s)"
   ]
  },
  {
   "cell_type": "code",
   "execution_count": 95,
   "metadata": {},
   "outputs": [
    {
     "name": "stderr",
     "output_type": "stream",
     "text": [
      "C:\\Users\\user\\Anaconda3\\envs\\teste_vipi\\lib\\site-packages\\ipykernel_launcher.py:6: SettingWithCopyWarning: \n",
      "A value is trying to be set on a copy of a slice from a DataFrame.\n",
      "Try using .loc[row_indexer,col_indexer] = value instead\n",
      "\n",
      "See the caveats in the documentation: http://pandas.pydata.org/pandas-docs/stable/user_guide/indexing.html#returning-a-view-versus-a-copy\n",
      "  \n"
     ]
    },
    {
     "data": {
      "text/plain": [
       "(56, 0, 53)"
      ]
     },
     "execution_count": 95,
     "metadata": {},
     "output_type": "execute_result"
    }
   ],
   "source": [
    "# 23:00\n",
    "sul_a_22_40 = sul_a[(sul_a['ENTRADA'] > 225000) & (sul_a['ENTRADA'] <= 225000) | (sul_a['SAÍDA'] > 212000) & (sul_a['SAÍDA'] <= 224000)]\n",
    "sul_a_22_40_e = sul_a[(sul_a['ENTRADA'] > 225000) & (sul_a['ENTRADA'] <= 225000)]\n",
    "sul_a_22_40_s = sul_a[(sul_a['SAÍDA'] > 212000) & (sul_a['SAÍDA'] <= 224000)]\n",
    "sul_a_22_40_e['FRETADO'] = 'COLETA'\n",
    "sul_a_22_40_s['FRETADO'] = 'DEVOLUÇÃO'\n",
    "sul_a_22_40 = pd.concat([sul_a_22_40_e, sul_a_22_40_s], sort=False).copy()\n",
    "sul_a_22_40 = sul_a_22_40.append({'Nome':'Saída: 22:40 / Chegada: Sem retorno'},ignore_index=True)\n",
    "dev = f'Devoluções: {len(sul_a_22_40_s)}'\n",
    "col = f'Coletas: {len(sul_a_22_40_e)}'\n",
    "sul_a_22_40 = sul_a_22_40.append({'Nome': dev},ignore_index=True)\n",
    "sul_a_22_40 = sul_a_22_40.append({'Nome': col},ignore_index=True)\n",
    "len(sul_a_22_40),len(sul_a_22_40_e),len(sul_a_22_40_s)"
   ]
  },
  {
   "cell_type": "code",
   "execution_count": 96,
   "metadata": {},
   "outputs": [],
   "source": [
    "rota_sul_a = pd.ExcelWriter('sul_a.xlsx', engine='xlsxwriter')\n",
    "sul_a_4_40.to_excel(rota_sul_a, sheet_name='sul_a_4_40', index=False)\n",
    "sul_a_6_20.to_excel(rota_sul_a, sheet_name='sul_a_6_20', index=False)\n",
    "sul_a_8_00.to_excel(rota_sul_a, sheet_name='sul_a_8_00', index=False)\n",
    "sul_a_10_20.to_excel(rota_sul_a, sheet_name='sul_a_10_20', index=False)\n",
    "sul_a_12_00.to_excel(rota_sul_a, sheet_name='sul_a_12_00', index=False)\n",
    "sul_a_13_00.to_excel(rota_sul_a, sheet_name='sul_a_13_00', index=False)\n",
    "sul_a_14_40.to_excel(rota_sul_a, sheet_name='sul_a_14_40', index=False)\n",
    "sul_a_16_20.to_excel(rota_sul_a, sheet_name='sul_a_16_20', index=False)\n",
    "sul_a_18_20.to_excel(rota_sul_a, sheet_name='sul_a_18_20', index=False)\n",
    "sul_a_20_30.to_excel(rota_sul_a, sheet_name='sul_a_20_30', index=False)\n",
    "sul_a_21_20.to_excel(rota_sul_a, sheet_name='sul_a_21_20', index=False)\n",
    "sul_a_22_40.to_excel(rota_sul_a, sheet_name='sul_a_22_40', index=False)\n",
    "\n",
    "rota_sul_a.save()"
   ]
  },
  {
   "cell_type": "markdown",
   "metadata": {},
   "source": [
    "# SUL B"
   ]
  },
  {
   "cell_type": "code",
   "execution_count": 97,
   "metadata": {},
   "outputs": [
    {
     "name": "stderr",
     "output_type": "stream",
     "text": [
      "C:\\Users\\user\\Anaconda3\\envs\\teste_vipi\\lib\\site-packages\\ipykernel_launcher.py:5: SettingWithCopyWarning: \n",
      "A value is trying to be set on a copy of a slice from a DataFrame.\n",
      "Try using .loc[row_indexer,col_indexer] = value instead\n",
      "\n",
      "See the caveats in the documentation: http://pandas.pydata.org/pandas-docs/stable/user_guide/indexing.html#returning-a-view-versus-a-copy\n",
      "  \"\"\"\n"
     ]
    },
    {
     "data": {
      "text/plain": [
       "(154, 151, 0)"
      ]
     },
     "execution_count": 97,
     "metadata": {},
     "output_type": "execute_result"
    }
   ],
   "source": [
    "# 6:10\n",
    "sul_b_4_30 = sul_b[(sul_b['ENTRADA'] > 61000) & (sul_b['ENTRADA'] <= 80000) | (sul_b['SAÍDA'] > 40000) & (sul_b['SAÍDA'] <= 43000)]\n",
    "sul_b_4_30_e = sul_b[(sul_b['ENTRADA'] > 61000) & (sul_b['ENTRADA'] <= 80000)]\n",
    "sul_b_4_30_s = sul_b[(sul_b['SAÍDA'] > 40000) & (sul_b['SAÍDA'] <= 43000)]\n",
    "sul_b_4_30_e['FRETADO'] = 'COLETA'\n",
    "sul_b_4_30_s['FRETADO'] = 'DEVOLUÇÃO'\n",
    "sul_b_4_30 = pd.concat([sul_b_4_30_e, sul_b_4_30_s], sort=False).copy()\n",
    "sul_b_4_30 = sul_b_4_30.append({'Nome':'Saída: 4:30 / Chegada: 6:10'},ignore_index=True)\n",
    "dev = f'Devoluções: {len(sul_b_4_30_s)}'\n",
    "col = f'Coletas: {len(sul_b_4_30_e)}'\n",
    "sul_b_4_30 = sul_b_4_30.append({'Nome': dev},ignore_index=True)\n",
    "sul_b_4_30 = sul_b_4_30.append({'Nome': col},ignore_index=True)\n",
    "len(sul_b_4_30),len(sul_b_4_30_e),len(sul_b_4_30_s)"
   ]
  },
  {
   "cell_type": "code",
   "execution_count": 98,
   "metadata": {},
   "outputs": [
    {
     "name": "stderr",
     "output_type": "stream",
     "text": [
      "C:\\Users\\user\\Anaconda3\\envs\\teste_vipi\\lib\\site-packages\\ipykernel_launcher.py:5: SettingWithCopyWarning: \n",
      "A value is trying to be set on a copy of a slice from a DataFrame.\n",
      "Try using .loc[row_indexer,col_indexer] = value instead\n",
      "\n",
      "See the caveats in the documentation: http://pandas.pydata.org/pandas-docs/stable/user_guide/indexing.html#returning-a-view-versus-a-copy\n",
      "  \"\"\"\n",
      "C:\\Users\\user\\Anaconda3\\envs\\teste_vipi\\lib\\site-packages\\ipykernel_launcher.py:6: SettingWithCopyWarning: \n",
      "A value is trying to be set on a copy of a slice from a DataFrame.\n",
      "Try using .loc[row_indexer,col_indexer] = value instead\n",
      "\n",
      "See the caveats in the documentation: http://pandas.pydata.org/pandas-docs/stable/user_guide/indexing.html#returning-a-view-versus-a-copy\n",
      "  \n"
     ]
    },
    {
     "data": {
      "text/plain": [
       "(158, 143, 12)"
      ]
     },
     "execution_count": 98,
     "metadata": {},
     "output_type": "execute_result"
    }
   ],
   "source": [
    "# 7:50\n",
    "sul_b_6_10 = sul_b[(sul_b['ENTRADA'] > 80000) & (sul_b['ENTRADA'] <= 94000) | (sul_b['SAÍDA'] > 43000) & (sul_b['SAÍDA'] <= 61000)]\n",
    "sul_b_6_10_e = sul_b[(sul_b['ENTRADA'] > 80000) & (sul_b['ENTRADA'] <= 94000)]\n",
    "sul_b_6_10_s = sul_b[(sul_b['SAÍDA'] > 43000) & (sul_b['SAÍDA'] <= 61000)]\n",
    "sul_b_6_10_e['FRETADO'] = 'COLETA'\n",
    "sul_b_6_10_s['FRETADO'] = 'DEVOLUÇÃO'\n",
    "sul_b_6_10 = pd.concat([sul_b_6_10_e, sul_b_6_10_s], sort=False).copy()\n",
    "sul_b_6_10 = sul_b_6_10.append({'Nome':'Saída: 6:10 / Chegada: 7:50'},ignore_index=True)\n",
    "dev = f'Devoluções: {len(sul_b_6_10_s)}'\n",
    "col = f'Coletas: {len(sul_b_6_10_e)}'\n",
    "sul_b_6_10 = sul_b_6_10.append({'Nome': dev},ignore_index=True)\n",
    "sul_b_6_10 = sul_b_6_10.append({'Nome': col},ignore_index=True)\n",
    "len(sul_b_6_10),len(sul_b_6_10_e),len(sul_b_6_10_s)"
   ]
  },
  {
   "cell_type": "code",
   "execution_count": 99,
   "metadata": {},
   "outputs": [
    {
     "name": "stderr",
     "output_type": "stream",
     "text": [
      "C:\\Users\\user\\Anaconda3\\envs\\teste_vipi\\lib\\site-packages\\ipykernel_launcher.py:5: SettingWithCopyWarning: \n",
      "A value is trying to be set on a copy of a slice from a DataFrame.\n",
      "Try using .loc[row_indexer,col_indexer] = value instead\n",
      "\n",
      "See the caveats in the documentation: http://pandas.pydata.org/pandas-docs/stable/user_guide/indexing.html#returning-a-view-versus-a-copy\n",
      "  \"\"\"\n",
      "C:\\Users\\user\\Anaconda3\\envs\\teste_vipi\\lib\\site-packages\\ipykernel_launcher.py:6: SettingWithCopyWarning: \n",
      "A value is trying to be set on a copy of a slice from a DataFrame.\n",
      "Try using .loc[row_indexer,col_indexer] = value instead\n",
      "\n",
      "See the caveats in the documentation: http://pandas.pydata.org/pandas-docs/stable/user_guide/indexing.html#returning-a-view-versus-a-copy\n",
      "  \n"
     ]
    },
    {
     "data": {
      "text/plain": [
       "(20, 16, 1)"
      ]
     },
     "execution_count": 99,
     "metadata": {},
     "output_type": "execute_result"
    }
   ],
   "source": [
    "# 9:30\n",
    "sul_b_7_50 = sul_b[(sul_b['ENTRADA'] > 93000) & (sul_b['ENTRADA'] <= 112000) | (sul_b['SAÍDA'] > 61000) & (sul_b['SAÍDA'] <= 75000)]\n",
    "sul_b_7_50_e = sul_b[(sul_b['ENTRADA'] > 93000) & (sul_b['ENTRADA'] <= 112000)]\n",
    "sul_b_7_50_s = sul_b[(sul_b['SAÍDA'] > 61000) & (sul_b['SAÍDA'] <= 75000)]\n",
    "sul_b_7_50_e['FRETADO'] = 'COLETA'\n",
    "sul_b_7_50_s['FRETADO'] = 'DEVOLUÇÃO'\n",
    "sul_b_7_50 = pd.concat([sul_b_7_50_e, sul_b_7_50_s], sort=False).copy()\n",
    "sul_b_7_50 = sul_b_7_50.append({'Nome':'Saída: 7:50 / Chegada: 9:30'},ignore_index=True)\n",
    "dev = f'Devoluções: {len(sul_b_7_50_s)}'\n",
    "col = f'Coletas: {len(sul_b_7_50_e)}'\n",
    "sul_b_7_50 = sul_b_7_50.append({'Nome': dev},ignore_index=True)\n",
    "sul_b_7_50 = sul_b_7_50.append({'Nome': col},ignore_index=True)\n",
    "len(sul_b_7_50),len(sul_b_7_50_e),len(sul_b_7_50_s)"
   ]
  },
  {
   "cell_type": "code",
   "execution_count": 100,
   "metadata": {},
   "outputs": [
    {
     "name": "stderr",
     "output_type": "stream",
     "text": [
      "C:\\Users\\user\\Anaconda3\\envs\\teste_vipi\\lib\\site-packages\\ipykernel_launcher.py:5: SettingWithCopyWarning: \n",
      "A value is trying to be set on a copy of a slice from a DataFrame.\n",
      "Try using .loc[row_indexer,col_indexer] = value instead\n",
      "\n",
      "See the caveats in the documentation: http://pandas.pydata.org/pandas-docs/stable/user_guide/indexing.html#returning-a-view-versus-a-copy\n",
      "  \"\"\"\n"
     ]
    },
    {
     "data": {
      "text/plain": [
       "(24, 21, 0)"
      ]
     },
     "execution_count": 100,
     "metadata": {},
     "output_type": "execute_result"
    }
   ],
   "source": [
    "# 11:20\n",
    "sul_b_9_30 = sul_b[(sul_b['ENTRADA'] > 111000) & (sul_b['ENTRADA'] <= 125000) | (sul_b['SAÍDA'] > 75000) & (sul_b['SAÍDA'] <= 93000)]\n",
    "sul_b_9_30_e = sul_b[(sul_b['ENTRADA'] > 111000) & (sul_b['ENTRADA'] <= 125000)]\n",
    "sul_b_9_30_s = sul_b[(sul_b['SAÍDA'] > 75000) & (sul_b['SAÍDA'] <= 93000)]\n",
    "sul_b_9_30_e['FRETADO'] = 'COLETA'\n",
    "sul_b_9_30_s['FRETADO'] = 'DEVOLUÇÃO'\n",
    "sul_b_9_30 = pd.concat([sul_b_9_30_e, sul_b_9_30_s], sort=False).copy()\n",
    "sul_b_9_30 = sul_b_9_30.append({'Nome':'Saída: 9:30 / Chegada: 11:20'},ignore_index=True)\n",
    "dev = f'Devoluções: {len(sul_b_9_30_s)}'\n",
    "col = f'Coletas: {len(sul_b_9_30_e)}'\n",
    "sul_b_9_30 = sul_b_9_30.append({'Nome': dev},ignore_index=True)\n",
    "sul_b_9_30 = sul_b_9_30.append({'Nome': col},ignore_index=True)\n",
    "len(sul_b_9_30),len(sul_b_9_30_e),len(sul_b_9_30_s)"
   ]
  },
  {
   "cell_type": "code",
   "execution_count": 101,
   "metadata": {},
   "outputs": [
    {
     "name": "stderr",
     "output_type": "stream",
     "text": [
      "C:\\Users\\user\\Anaconda3\\envs\\teste_vipi\\lib\\site-packages\\ipykernel_launcher.py:5: SettingWithCopyWarning: \n",
      "A value is trying to be set on a copy of a slice from a DataFrame.\n",
      "Try using .loc[row_indexer,col_indexer] = value instead\n",
      "\n",
      "See the caveats in the documentation: http://pandas.pydata.org/pandas-docs/stable/user_guide/indexing.html#returning-a-view-versus-a-copy\n",
      "  \"\"\"\n",
      "C:\\Users\\user\\Anaconda3\\envs\\teste_vipi\\lib\\site-packages\\ipykernel_launcher.py:6: SettingWithCopyWarning: \n",
      "A value is trying to be set on a copy of a slice from a DataFrame.\n",
      "Try using .loc[row_indexer,col_indexer] = value instead\n",
      "\n",
      "See the caveats in the documentation: http://pandas.pydata.org/pandas-docs/stable/user_guide/indexing.html#returning-a-view-versus-a-copy\n",
      "  \n"
     ]
    },
    {
     "data": {
      "text/plain": [
       "(174, 170, 1)"
      ]
     },
     "execution_count": 101,
     "metadata": {},
     "output_type": "execute_result"
    }
   ],
   "source": [
    "# 13:00\n",
    "sul_b_11_20 = sul_b[(sul_b['ENTRADA'] > 130000) & (sul_b['ENTRADA'] <= 144000) | (sul_b['SAÍDA'] > 93000) & (sul_b['SAÍDA'] <= 112000)]\n",
    "sul_b_11_20_e = sul_b[(sul_b['ENTRADA'] > 130000) & (sul_b['ENTRADA'] <= 144000)]\n",
    "sul_b_11_20_s = sul_b[(sul_b['SAÍDA'] > 93000) & (sul_b['SAÍDA'] <= 112000)]\n",
    "sul_b_11_20_e['FRETADO'] = 'COLETA'\n",
    "sul_b_11_20_s['FRETADO'] = 'DEVOLUÇÃO'\n",
    "sul_b_11_20 = pd.concat([sul_b_11_20_e, sul_b_11_20_s], sort=False).copy()\n",
    "sul_b_11_20 = sul_b_11_20.append({'Site':'Saída: 11:20 / Chegada: 13:00'},ignore_index=True)\n",
    "dev = f'Devoluções: {len(sul_b_11_20_s)}'\n",
    "col = f'Coletas: {len(sul_b_11_20_e)}'\n",
    "sul_b_11_20 = sul_b_11_20.append({'Nome': dev},ignore_index=True)\n",
    "sul_b_11_20 = sul_b_11_20.append({'Nome': col},ignore_index=True)\n",
    "len(sul_b_11_20),len(sul_b_11_20_e),len(sul_b_11_20_s)"
   ]
  },
  {
   "cell_type": "code",
   "execution_count": 102,
   "metadata": {},
   "outputs": [
    {
     "name": "stderr",
     "output_type": "stream",
     "text": [
      "C:\\Users\\user\\Anaconda3\\envs\\teste_vipi\\lib\\site-packages\\ipykernel_launcher.py:5: SettingWithCopyWarning: \n",
      "A value is trying to be set on a copy of a slice from a DataFrame.\n",
      "Try using .loc[row_indexer,col_indexer] = value instead\n",
      "\n",
      "See the caveats in the documentation: http://pandas.pydata.org/pandas-docs/stable/user_guide/indexing.html#returning-a-view-versus-a-copy\n",
      "  \"\"\"\n",
      "C:\\Users\\user\\Anaconda3\\envs\\teste_vipi\\lib\\site-packages\\ipykernel_launcher.py:6: SettingWithCopyWarning: \n",
      "A value is trying to be set on a copy of a slice from a DataFrame.\n",
      "Try using .loc[row_indexer,col_indexer] = value instead\n",
      "\n",
      "See the caveats in the documentation: http://pandas.pydata.org/pandas-docs/stable/user_guide/indexing.html#returning-a-view-versus-a-copy\n",
      "  \n"
     ]
    },
    {
     "data": {
      "text/plain": [
       "(70, 45, 22)"
      ]
     },
     "execution_count": 102,
     "metadata": {},
     "output_type": "execute_result"
    }
   ],
   "source": [
    "# 14:40\n",
    "sul_b_13_00 = sul_b[(sul_b['ENTRADA'] > 144000) & (sul_b['ENTRADA'] <= 162000) | (sul_b['SAÍDA'] > 112000) & (sul_b['SAÍDA'] <= 130000)]\n",
    "sul_b_13_00_e = sul_b[(sul_b['ENTRADA'] > 144000) & (sul_b['ENTRADA'] <= 162000)]\n",
    "sul_b_13_00_s = sul_b[(sul_b['SAÍDA'] > 112000) & (sul_b['SAÍDA'] <= 130000)]\n",
    "sul_b_13_00_e['FRETADO'] = 'COLETA'\n",
    "sul_b_13_00_s['FRETADO'] = 'DEVOLUÇÃO'\n",
    "sul_b_13_00 = pd.concat([sul_b_13_00_e, sul_b_13_00_s], sort=False).copy()\n",
    "sul_b_13_00 = sul_b_13_00.append({'Nome':'Saída: 13:00 / Chegada: 14:40'},ignore_index=True)\n",
    "dev = f'Devoluções: {len(sul_b_13_00_s)}'\n",
    "col = f'Coletas: {len(sul_b_13_00_e)}'\n",
    "sul_b_13_00 = sul_b_13_00.append({'Nome': dev},ignore_index=True)\n",
    "sul_b_13_00 = sul_b_13_00.append({'Nome': col},ignore_index=True)\n",
    "len(sul_b_13_00),len(sul_b_13_00_e),len(sul_b_13_00_s)"
   ]
  },
  {
   "cell_type": "code",
   "execution_count": 103,
   "metadata": {},
   "outputs": [
    {
     "name": "stderr",
     "output_type": "stream",
     "text": [
      "C:\\Users\\user\\Anaconda3\\envs\\teste_vipi\\lib\\site-packages\\ipykernel_launcher.py:5: SettingWithCopyWarning: \n",
      "A value is trying to be set on a copy of a slice from a DataFrame.\n",
      "Try using .loc[row_indexer,col_indexer] = value instead\n",
      "\n",
      "See the caveats in the documentation: http://pandas.pydata.org/pandas-docs/stable/user_guide/indexing.html#returning-a-view-versus-a-copy\n",
      "  \"\"\"\n",
      "C:\\Users\\user\\Anaconda3\\envs\\teste_vipi\\lib\\site-packages\\ipykernel_launcher.py:6: SettingWithCopyWarning: \n",
      "A value is trying to be set on a copy of a slice from a DataFrame.\n",
      "Try using .loc[row_indexer,col_indexer] = value instead\n",
      "\n",
      "See the caveats in the documentation: http://pandas.pydata.org/pandas-docs/stable/user_guide/indexing.html#returning-a-view-versus-a-copy\n",
      "  \n"
     ]
    },
    {
     "data": {
      "text/plain": [
       "(204, 11, 190)"
      ]
     },
     "execution_count": 103,
     "metadata": {},
     "output_type": "execute_result"
    }
   ],
   "source": [
    "# 16:20\n",
    "sul_b_14_40 = sul_b[(sul_b['ENTRADA'] > 162000) & (sul_b['ENTRADA'] <= 180000) | (sul_b['SAÍDA'] > 130000) & (sul_b['SAÍDA'] <= 144000)]\n",
    "sul_b_14_40_e = sul_b[(sul_b['ENTRADA'] > 162000) & (sul_b['ENTRADA'] <= 180000)]\n",
    "sul_b_14_40_s = sul_b[(sul_b['SAÍDA'] > 130000) & (sul_b['SAÍDA'] <= 144000)]\n",
    "sul_b_14_40_e['FRETADO'] = 'COLETA'\n",
    "sul_b_14_40_s['FRETADO'] = 'DEVOLUÇÃO'\n",
    "sul_b_14_40 = pd.concat([sul_b_14_40_e, sul_b_14_40_s], sort=False).copy()\n",
    "sul_b_14_40 = sul_b_14_40.append({'Nome':'Saída: 14:40 / Chegada: 16:20'},ignore_index=True)\n",
    "dev = f'Devoluções: {len(sul_b_14_40_s)}'\n",
    "col = f'Coletas: {len(sul_b_14_40_e)}'\n",
    "sul_b_14_40 = sul_b_14_40.append({'Nome': dev},ignore_index=True)\n",
    "sul_b_14_40 = sul_b_14_40.append({'Nome': col},ignore_index=True)\n",
    "len(sul_b_14_40),len(sul_b_14_40_e),len(sul_b_14_40_s)"
   ]
  },
  {
   "cell_type": "code",
   "execution_count": 104,
   "metadata": {},
   "outputs": [
    {
     "name": "stderr",
     "output_type": "stream",
     "text": [
      "C:\\Users\\user\\Anaconda3\\envs\\teste_vipi\\lib\\site-packages\\ipykernel_launcher.py:5: SettingWithCopyWarning: \n",
      "A value is trying to be set on a copy of a slice from a DataFrame.\n",
      "Try using .loc[row_indexer,col_indexer] = value instead\n",
      "\n",
      "See the caveats in the documentation: http://pandas.pydata.org/pandas-docs/stable/user_guide/indexing.html#returning-a-view-versus-a-copy\n",
      "  \"\"\"\n",
      "C:\\Users\\user\\Anaconda3\\envs\\teste_vipi\\lib\\site-packages\\ipykernel_launcher.py:6: SettingWithCopyWarning: \n",
      "A value is trying to be set on a copy of a slice from a DataFrame.\n",
      "Try using .loc[row_indexer,col_indexer] = value instead\n",
      "\n",
      "See the caveats in the documentation: http://pandas.pydata.org/pandas-docs/stable/user_guide/indexing.html#returning-a-view-versus-a-copy\n",
      "  \n"
     ]
    },
    {
     "data": {
      "text/plain": [
       "(91, 3, 85)"
      ]
     },
     "execution_count": 104,
     "metadata": {},
     "output_type": "execute_result"
    }
   ],
   "source": [
    "# 18:00\n",
    "sul_b_16_20 = sul_b[(sul_b['ENTRADA'] > 180000) & (sul_b['ENTRADA'] <= 194000) | (sul_b['SAÍDA'] > 144000) & (sul_b['SAÍDA'] <= 162000)]\n",
    "sul_b_16_20_e = sul_b[(sul_b['ENTRADA'] > 180000) & (sul_b['ENTRADA'] <= 194000)]\n",
    "sul_b_16_20_s = sul_b[(sul_b['SAÍDA'] > 144000) & (sul_b['SAÍDA'] <= 162000)]\n",
    "sul_b_16_20_e['FRETADO'] = 'COLETA'\n",
    "sul_b_16_20_s['FRETADO'] = 'DEVOLUÇÃO'\n",
    "sul_b_16_20 = pd.concat([sul_b_16_20_e, sul_b_16_20_s], sort=False).copy()\n",
    "sul_b_16_20 = sul_b_16_20.append({'Nome':'Saída: 16:20 / Chegada: 18:00'},ignore_index=True)\n",
    "dev = f'Devoluções: {len(sul_b_16_20_s)}'\n",
    "col = f'Coletas: {len(sul_b_16_20_e)}'\n",
    "sul_b_16_20 = sul_b_16_20.append({'Nome': dev},ignore_index=True)\n",
    "sul_b_16_20 = sul_b_16_20.append({'Nome': col},ignore_index=True)\n",
    "len(sul_b_16_20),len(sul_b_16_20_e),len(sul_b_16_20_s)"
   ]
  },
  {
   "cell_type": "code",
   "execution_count": 105,
   "metadata": {},
   "outputs": [
    {
     "name": "stderr",
     "output_type": "stream",
     "text": [
      "C:\\Users\\user\\Anaconda3\\envs\\teste_vipi\\lib\\site-packages\\ipykernel_launcher.py:6: SettingWithCopyWarning: \n",
      "A value is trying to be set on a copy of a slice from a DataFrame.\n",
      "Try using .loc[row_indexer,col_indexer] = value instead\n",
      "\n",
      "See the caveats in the documentation: http://pandas.pydata.org/pandas-docs/stable/user_guide/indexing.html#returning-a-view-versus-a-copy\n",
      "  \n"
     ]
    },
    {
     "data": {
      "text/plain": [
       "(21, 0, 18)"
      ]
     },
     "execution_count": 105,
     "metadata": {},
     "output_type": "execute_result"
    }
   ],
   "source": [
    "# 19:40\n",
    "sul_b_18_00 = sul_b[(sul_b['ENTRADA'] > 194000) & (sul_b['ENTRADA'] <= 212000) | (sul_b['SAÍDA'] > 162000) & (sul_b['SAÍDA'] <= 180000)]\n",
    "sul_b_18_00_e = sul_b[(sul_b['ENTRADA'] > 194000) & (sul_b['ENTRADA'] <= 212000)]\n",
    "sul_b_18_00_s = sul_b[(sul_b['SAÍDA'] > 162000) & (sul_b['SAÍDA'] <= 180000)]\n",
    "sul_b_18_00_e['FRETADO'] = 'COLETA'\n",
    "sul_b_18_00_s['FRETADO'] = 'DEVOLUÇÃO'\n",
    "sul_b_18_00 = pd.concat([sul_b_18_00_e, sul_b_18_00_s], sort=False).copy()\n",
    "sul_b_18_00 = sul_b_18_00.append({'Nome':'Saída: 18:00 / Chegada: 19:40'},ignore_index=True)\n",
    "dev = f'Devoluções: {len(sul_b_18_00_s)}'\n",
    "col = f'Coletas: {len(sul_b_18_00_e)}'\n",
    "sul_b_18_00 = sul_b_18_00.append({'Nome': dev},ignore_index=True)\n",
    "sul_b_18_00 = sul_b_18_00.append({'Nome': col},ignore_index=True)\n",
    "len(sul_b_18_00),len(sul_b_18_00_e),len(sul_b_18_00_s)"
   ]
  },
  {
   "cell_type": "code",
   "execution_count": 106,
   "metadata": {},
   "outputs": [
    {
     "name": "stderr",
     "output_type": "stream",
     "text": [
      "C:\\Users\\user\\Anaconda3\\envs\\teste_vipi\\lib\\site-packages\\ipykernel_launcher.py:6: SettingWithCopyWarning: \n",
      "A value is trying to be set on a copy of a slice from a DataFrame.\n",
      "Try using .loc[row_indexer,col_indexer] = value instead\n",
      "\n",
      "See the caveats in the documentation: http://pandas.pydata.org/pandas-docs/stable/user_guide/indexing.html#returning-a-view-versus-a-copy\n",
      "  \n"
     ]
    },
    {
     "data": {
      "text/plain": [
       "(40, 0, 37)"
      ]
     },
     "execution_count": 106,
     "metadata": {},
     "output_type": "execute_result"
    }
   ],
   "source": [
    "# 21:20\n",
    "sul_b_19_40 = sul_b[(sul_b['ENTRADA'] > 212000) & (sul_b['ENTRADA'] <= 230000) | (sul_b['SAÍDA'] > 180000) & (sul_b['SAÍDA'] <= 194000)]\n",
    "sul_b_19_40_e = sul_b[(sul_b['ENTRADA'] > 212000) & (sul_b['ENTRADA'] <= 230000)]\n",
    "sul_b_19_40_s = sul_b[(sul_b['SAÍDA'] > 180000) & (sul_b['SAÍDA'] <= 194000)]\n",
    "sul_b_19_40_e['FRETADO'] = 'COLETA'\n",
    "sul_b_19_40_s['FRETADO'] = 'DEVOLUÇÃO'\n",
    "sul_b_19_40 = pd.concat([sul_b_19_40_e, sul_b_19_40_s], sort=False).copy()\n",
    "sul_b_19_40 = sul_b_19_40.append({'Nome':'Saída: 19:40 / Chegada: 21:20'},ignore_index=True)\n",
    "dev = f'Devoluções: {len(sul_b_19_40_s)}'\n",
    "col = f'Coletas: {len(sul_b_19_40_e)}'\n",
    "sul_b_19_40 = sul_b_19_40.append({'Nome': dev},ignore_index=True)\n",
    "sul_b_19_40 = sul_b_19_40.append({'Nome': col},ignore_index=True)\n",
    "len(sul_b_19_40),len(sul_b_19_40_e),len(sul_b_19_40_s)"
   ]
  },
  {
   "cell_type": "code",
   "execution_count": 107,
   "metadata": {},
   "outputs": [
    {
     "name": "stderr",
     "output_type": "stream",
     "text": [
      "C:\\Users\\user\\Anaconda3\\envs\\teste_vipi\\lib\\site-packages\\ipykernel_launcher.py:6: SettingWithCopyWarning: \n",
      "A value is trying to be set on a copy of a slice from a DataFrame.\n",
      "Try using .loc[row_indexer,col_indexer] = value instead\n",
      "\n",
      "See the caveats in the documentation: http://pandas.pydata.org/pandas-docs/stable/user_guide/indexing.html#returning-a-view-versus-a-copy\n",
      "  \n"
     ]
    },
    {
     "data": {
      "text/plain": [
       "(181, 0, 178)"
      ]
     },
     "execution_count": 107,
     "metadata": {},
     "output_type": "execute_result"
    }
   ],
   "source": [
    "# 23:00\n",
    "sul_b_21_20 = sul_b[(sul_b['ENTRADA'] > 230000) & (sul_b['ENTRADA'] <= 234000) | (sul_b['SAÍDA'] > 194000) & (sul_b['SAÍDA'] <= 212000)]\n",
    "sul_b_21_20_e = sul_b[(sul_b['ENTRADA'] > 230000) & (sul_b['ENTRADA'] <= 234000)]\n",
    "sul_b_21_20_s = sul_b[(sul_b['SAÍDA'] > 194000) & (sul_b['SAÍDA'] <= 212000)]\n",
    "sul_b_21_20_e['FRETADO'] = 'COLETA'\n",
    "sul_b_21_20_s['FRETADO'] = 'DEVOLUÇÃO'\n",
    "sul_b_21_20 = pd.concat([sul_b_21_20_e, sul_b_21_20_s], sort=False).copy()\n",
    "sul_b_21_20 = sul_b_21_20.append({'Site':'Saída: 21:20 / Chegada: '},ignore_index=True)\n",
    "dev = f'Devoluções: {len(sul_b_21_20_s)}'\n",
    "col = f'Coletas: {len(sul_b_21_20_e)}'\n",
    "sul_b_21_20 = sul_b_21_20.append({'Site': dev},ignore_index=True)\n",
    "sul_b_21_20 = sul_b_21_20.append({'Site': col},ignore_index=True)\n",
    "len(sul_b_21_20),len(sul_b_21_20_e),len(sul_b_21_20_s)"
   ]
  },
  {
   "cell_type": "code",
   "execution_count": 108,
   "metadata": {},
   "outputs": [
    {
     "name": "stderr",
     "output_type": "stream",
     "text": [
      "C:\\Users\\user\\Anaconda3\\envs\\teste_vipi\\lib\\site-packages\\ipykernel_launcher.py:6: SettingWithCopyWarning: \n",
      "A value is trying to be set on a copy of a slice from a DataFrame.\n",
      "Try using .loc[row_indexer,col_indexer] = value instead\n",
      "\n",
      "See the caveats in the documentation: http://pandas.pydata.org/pandas-docs/stable/user_guide/indexing.html#returning-a-view-versus-a-copy\n",
      "  \n"
     ]
    },
    {
     "data": {
      "text/plain": [
       "(29, 0, 29)"
      ]
     },
     "execution_count": 108,
     "metadata": {},
     "output_type": "execute_result"
    }
   ],
   "source": [
    "# sem volta\n",
    "sul_b_22_40 = sul_b[(sul_b['ENTRADA'] > 230000) & (sul_b['ENTRADA'] <= 234000) | (sul_b['SAÍDA'] > 212000) & (sul_b['SAÍDA'] <= 224000)]\n",
    "sul_b_22_40_e = sul_b[(sul_b['ENTRADA'] > 230000) & (sul_b['ENTRADA'] <= 234000)]\n",
    "sul_b_22_40_s = sul_b[(sul_b['SAÍDA'] > 212000) & (sul_b['SAÍDA'] <= 224000)]\n",
    "sul_b_22_40_e['FRETADO'] = 'COLETA'\n",
    "sul_b_22_40_s['FRETADO'] = 'DEVOLUÇÃO'\n",
    "sul_b_22_40 = pd.concat([sul_b_22_40_e, sul_b_22_40_s], sort=False).copy()\n",
    "sul_b_22_40 = sul_b_22_40.append({'Nome':'Saída: 22:40 / Chegada: '},ignore_index=True)\n",
    "dev = f'Devoluções: {len(sul_b_22_40_s)}'\n",
    "col = f'Coletas: {len(sul_b_22_40_e)}'\n",
    "sul_b_22_40 = sul_b_22_40.append({'Nome': dev},ignore_index=True)\n",
    "sul_b_22_40 = sul_b_22_40.append({'Nome': col},ignore_index=True)\n",
    "len(sul_b_22_40),len(sul_b_22_40_e),len(sul_b_22_40)"
   ]
  },
  {
   "cell_type": "code",
   "execution_count": 109,
   "metadata": {},
   "outputs": [],
   "source": [
    "rota_sul_b = pd.ExcelWriter('sul_b.xlsx', engine='xlsxwriter')\n",
    "\n",
    "sul_b_4_30.to_excel(rota_sul_b, sheet_name='sul_b_4_30', index=False)\n",
    "sul_b_6_10.to_excel(rota_sul_b, sheet_name='sul_b_6_10', index=False)\n",
    "sul_b_7_50.to_excel(rota_sul_b, sheet_name='sul_b_7_50', index=False)\n",
    "sul_b_9_30.to_excel(rota_sul_b, sheet_name='sul_b_9_30', index=False)\n",
    "sul_b_11_20.to_excel(rota_sul_b, sheet_name='sul_b_11_20', index=False)\n",
    "sul_b_13_00.to_excel(rota_sul_b, sheet_name='sul_b_13_00', index=False)\n",
    "sul_b_14_40.to_excel(rota_sul_b, sheet_name='sul_b_14_40', index=False)\n",
    "sul_b_16_20.to_excel(rota_sul_b, sheet_name='sul_b_16_20', index=False)\n",
    "sul_b_18_00.to_excel(rota_sul_b, sheet_name='sul_b_18_00', index=False)\n",
    "sul_b_19_40.to_excel(rota_sul_b, sheet_name='sul_b_19_40', index=False)\n",
    "sul_b_21_20.to_excel(rota_sul_b, sheet_name='sul_b_21_20', index=False)\n",
    "sul_b_22_40.to_excel(rota_sul_b, sheet_name='sul_b_22_40', index=False)\n",
    "\n",
    "rota_sul_b.save()"
   ]
  },
  {
   "cell_type": "code",
   "execution_count": null,
   "metadata": {},
   "outputs": [],
   "source": []
  }
 ],
 "metadata": {
  "kernelspec": {
   "display_name": "Python 3",
   "language": "python",
   "name": "python3"
  },
  "language_info": {
   "codemirror_mode": {
    "name": "ipython",
    "version": 3
   },
   "file_extension": ".py",
   "mimetype": "text/x-python",
   "name": "python",
   "nbconvert_exporter": "python",
   "pygments_lexer": "ipython3",
   "version": "3.7.5"
  }
 },
 "nbformat": 4,
 "nbformat_minor": 4
}
